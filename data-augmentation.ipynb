{
 "cells": [
  {
   "cell_type": "markdown",
   "id": "ba1ddbf1",
   "metadata": {
    "papermill": {
     "duration": 0.007578,
     "end_time": "2025-02-04T11:04:01.919719",
     "exception": false,
     "start_time": "2025-02-04T11:04:01.912141",
     "status": "completed"
    },
    "tags": []
   },
   "source": [
    "# Libraries"
   ]
  },
  {
   "cell_type": "code",
   "execution_count": 1,
   "id": "44b6292e",
   "metadata": {
    "execution": {
     "iopub.execute_input": "2025-02-04T11:04:01.931961Z",
     "iopub.status.busy": "2025-02-04T11:04:01.931704Z",
     "iopub.status.idle": "2025-02-04T11:04:09.480704Z",
     "shell.execute_reply": "2025-02-04T11:04:09.479732Z"
    },
    "papermill": {
     "duration": 7.557368,
     "end_time": "2025-02-04T11:04:09.482915",
     "exception": false,
     "start_time": "2025-02-04T11:04:01.925547",
     "status": "completed"
    },
    "tags": []
   },
   "outputs": [],
   "source": [
    "! pip install transformers timm albumentations --quiet\n",
    "! pip install ipywidgets --quiet"
   ]
  },
  {
   "cell_type": "code",
   "execution_count": 2,
   "id": "a148cf31",
   "metadata": {
    "execution": {
     "iopub.execute_input": "2025-02-04T11:04:09.496335Z",
     "iopub.status.busy": "2025-02-04T11:04:09.496089Z",
     "iopub.status.idle": "2025-02-04T11:04:32.142183Z",
     "shell.execute_reply": "2025-02-04T11:04:32.141453Z"
    },
    "papermill": {
     "duration": 22.654522,
     "end_time": "2025-02-04T11:04:32.143837",
     "exception": false,
     "start_time": "2025-02-04T11:04:09.489315",
     "status": "completed"
    },
    "tags": []
   },
   "outputs": [],
   "source": [
    "# Standard Libraries\n",
    "import os\n",
    "import random\n",
    "from collections import Counter\n",
    "\n",
    "# Numerical and Data Handling Libraries\n",
    "import numpy as np\n",
    "import pandas as pd\n",
    "\n",
    "# Image Processing Libraries\n",
    "import cv2\n",
    "from PIL import Image\n",
    "\n",
    "# Plotting and Visualization\n",
    "import matplotlib.pyplot as plt\n",
    "\n",
    "# PyTorch and Torchvision\n",
    "import torch\n",
    "from torch.utils.data import Dataset, DataLoader\n",
    "from torch.optim import AdamW\n",
    "from torchvision import transforms\n",
    "from torchvision.datasets import ImageFolder\n",
    "\n",
    "# Transformers for Vision Models\n",
    "from transformers import ViTConfig, ViTForImageClassification, ViTImageProcessor\n",
    "\n",
    "# Utility Libraries\n",
    "from tqdm import tqdm\n",
    "from sklearn.metrics import accuracy_score\n",
    "\n",
    "# jupyter nbextension enable --py widgetsnbextension\n",
    "from google.colab import output\n",
    "output.enable_custom_widget_manager()\n",
    "\n",
    "import shutil"
   ]
  },
  {
   "cell_type": "markdown",
   "id": "f3defa67",
   "metadata": {
    "papermill": {
     "duration": 0.005584,
     "end_time": "2025-02-04T11:04:32.155687",
     "exception": false,
     "start_time": "2025-02-04T11:04:32.150103",
     "status": "completed"
    },
    "tags": []
   },
   "source": [
    "# Preprocessing & Augmentation"
   ]
  },
  {
   "cell_type": "markdown",
   "id": "e3627995",
   "metadata": {
    "papermill": {
     "duration": 0.005376,
     "end_time": "2025-02-04T11:04:32.166971",
     "exception": false,
     "start_time": "2025-02-04T11:04:32.161595",
     "status": "completed"
    },
    "tags": []
   },
   "source": [
    "## Split the Dataset by 80 / 20"
   ]
  },
  {
   "cell_type": "code",
   "execution_count": 3,
   "id": "4e254a2a",
   "metadata": {
    "execution": {
     "iopub.execute_input": "2025-02-04T11:04:32.179327Z",
     "iopub.status.busy": "2025-02-04T11:04:32.178867Z",
     "iopub.status.idle": "2025-02-04T11:04:39.086887Z",
     "shell.execute_reply": "2025-02-04T11:04:39.086014Z"
    },
    "papermill": {
     "duration": 6.91547,
     "end_time": "2025-02-04T11:04:39.088161",
     "exception": false,
     "start_time": "2025-02-04T11:04:32.172691",
     "status": "completed"
    },
    "tags": []
   },
   "outputs": [
    {
     "name": "stdout",
     "output_type": "stream",
     "text": [
      "Dataset reorganization complete. New train and validation sets are saved in /kaggle/working/New_Split_Dataset.\n"
     ]
    }
   ],
   "source": [
    "import os\n",
    "import shutil\n",
    "from sklearn.model_selection import train_test_split\n",
    "\n",
    "# Path to the dataset\n",
    "base_dir = '/kaggle/input/bdma-07-competition/BDMA7_project_files'\n",
    "train_dir = os.path.join(base_dir, 'train_images')\n",
    "val_dir = os.path.join(base_dir, 'val_images')\n",
    "output_base_dir = '/kaggle/working/New_Split_Dataset'  # Kaggle working directory for output\n",
    "new_train_dir = os.path.join(output_base_dir, 'train_images')\n",
    "new_val_dir = os.path.join(output_base_dir, 'val_images')\n",
    "\n",
    "# Create new directories for reorganized data\n",
    "os.makedirs(new_train_dir, exist_ok=True)\n",
    "os.makedirs(new_val_dir, exist_ok=True)\n",
    "\n",
    "# Reorganize each class\n",
    "for class_name in os.listdir(train_dir):\n",
    "    class_train_path = os.path.join(train_dir, class_name)\n",
    "    class_val_path = os.path.join(val_dir, class_name)\n",
    "    \n",
    "    # Combine train and validation images for splitting\n",
    "    all_images = []\n",
    "    if os.path.isdir(class_train_path):\n",
    "        all_images.extend([os.path.join(class_train_path, img) for img in os.listdir(class_train_path)])\n",
    "    if os.path.isdir(class_val_path):\n",
    "        all_images.extend([os.path.join(class_val_path, img) for img in os.listdir(class_val_path)])\n",
    "    \n",
    "    # Split into 80% train, 20% validation\n",
    "    train_images, val_images = train_test_split(all_images, test_size=0.2, random_state=42)\n",
    "    \n",
    "    # Create class directories in new_train_dir and new_val_dir\n",
    "    new_class_train_path = os.path.join(new_train_dir, class_name)\n",
    "    new_class_val_path = os.path.join(new_val_dir, class_name)\n",
    "    os.makedirs(new_class_train_path, exist_ok=True)\n",
    "    os.makedirs(new_class_val_path, exist_ok=True)\n",
    "    \n",
    "    # Move images to respective directories\n",
    "    for img_path in train_images:\n",
    "        shutil.copy(img_path, new_class_train_path)\n",
    "    for img_path in val_images:\n",
    "        shutil.copy(img_path, new_class_val_path)\n",
    "\n",
    "print(f\"Dataset reorganization complete. New train and validation sets are saved in {output_base_dir}.\")"
   ]
  },
  {
   "cell_type": "markdown",
   "id": "bb67b99c",
   "metadata": {
    "papermill": {
     "duration": 0.005692,
     "end_time": "2025-02-04T11:04:39.099945",
     "exception": false,
     "start_time": "2025-02-04T11:04:39.094253",
     "status": "completed"
    },
    "tags": []
   },
   "source": [
    "## Remove Backgroun"
   ]
  },
  {
   "cell_type": "code",
   "execution_count": 4,
   "id": "8abe7580",
   "metadata": {
    "execution": {
     "iopub.execute_input": "2025-02-04T11:04:39.112231Z",
     "iopub.status.busy": "2025-02-04T11:04:39.111990Z",
     "iopub.status.idle": "2025-02-04T11:04:39.115760Z",
     "shell.execute_reply": "2025-02-04T11:04:39.115068Z"
    },
    "papermill": {
     "duration": 0.011218,
     "end_time": "2025-02-04T11:04:39.116934",
     "exception": false,
     "start_time": "2025-02-04T11:04:39.105716",
     "status": "completed"
    },
    "tags": []
   },
   "outputs": [],
   "source": [
    "# import os\n",
    "# import torch\n",
    "# import torchvision.transforms as T\n",
    "# from PIL import Image\n",
    "# from torchvision.models.segmentation import deeplabv3_resnet101, DeepLabV3_ResNet101_Weights\n",
    "# import numpy as np\n",
    "\n",
    "# # Paths\n",
    "# train_dir = \"/kaggle/working/New_Split_Dataset/train_images\"\n",
    "# augmented_train_dir = \"/kaggle/working/Augmented_Processed_Dataset/train_images\"\n",
    "# output_train_dir = \"/kaggle/working/Augmented_Processed_RemovedBackground_Dataset/train_images\"\n",
    "# val_dir = \"/kaggle/working/New_Split_Dataset/val_images\"\n",
    "# output_val_dir = \"/kaggle/working/Augmented_Processed_RemovedBackground_Dataset/val_images\"\n",
    "# test_dir = \"/kaggle/input/bdma-07-competition/BDMA7_project_files/test_images\"\n",
    "# output_test_dir = \"/kaggle/working/Augmented_Processed_RemovedBackground_Dataset/test_images\"\n",
    "\n",
    "# # Create output directories\n",
    "# os.makedirs(output_train_dir, exist_ok=True)\n",
    "# os.makedirs(output_val_dir, exist_ok=True)\n",
    "# os.makedirs(output_test_dir, exist_ok=True)\n",
    "\n",
    "# # Load pretrained DeepLabV3+ model\n",
    "# device = torch.device(\"cuda\" if torch.cuda.is_available() else \"cpu\")\n",
    "# weights = DeepLabV3_ResNet101_Weights.DEFAULT\n",
    "# model = deeplabv3_resnet101(weights=weights).to(device)\n",
    "# model.eval()\n",
    "\n",
    "# # Image preprocessing\n",
    "# def preprocess_image(image_path):\n",
    "#     \"\"\"Preprocess the input image for the DeepLabV3+ model.\"\"\"\n",
    "#     image = Image.open(image_path).convert(\"RGB\")\n",
    "#     transform = T.Compose([\n",
    "#         T.Resize((512, 512)),\n",
    "#         T.ToTensor(),\n",
    "#         T.Normalize(mean=weights.transforms().mean, std=weights.transforms().std),\n",
    "#     ])\n",
    "#     return transform(image).unsqueeze(0), image\n",
    "\n",
    "# # Post-processing: apply the segmentation mask to the original image\n",
    "# def apply_mask(image, mask):\n",
    "#     \"\"\"Apply the segmentation mask to the original image to remove the background.\"\"\"\n",
    "#     mask = mask.cpu().numpy()\n",
    "#     mask = (mask > 0.5).astype(np.uint8)  # Binarize the mask\n",
    "#     mask = Image.fromarray(mask * 255).resize(image.size, Image.BILINEAR)\n",
    "#     mask = np.array(mask) / 255\n",
    "#     image_np = np.array(image)\n",
    "#     result = (image_np * np.expand_dims(mask, axis=-1)).astype(np.uint8)\n",
    "#     return Image.fromarray(result)\n",
    "\n",
    "# # Process images and remove background\n",
    "# def process_directory(input_dirs, output_dir):\n",
    "#     \"\"\"Process all images in multiple directories and save results.\"\"\"\n",
    "#     for input_dir in input_dirs:\n",
    "#         print(f\"Removing background from images in: {input_dir}\")\n",
    "#         for root, _, files in os.walk(input_dir):\n",
    "#             for filename in files:\n",
    "#                 file_path = os.path.join(root, filename)\n",
    "\n",
    "#                 # Process only image files\n",
    "#                 if filename.endswith(('.png', '.jpg', '.jpeg')):\n",
    "#                     # Recreate subdirectory structure in output\n",
    "#                     relative_path = os.path.relpath(root, input_dir)\n",
    "#                     sub_output_path = os.path.join(output_dir, relative_path)\n",
    "#                     os.makedirs(sub_output_path, exist_ok=True)\n",
    "\n",
    "#                     try:\n",
    "#                         # Preprocess the image\n",
    "#                         input_tensor, original_image = preprocess_image(file_path)\n",
    "#                         input_tensor = input_tensor.to(device)\n",
    "\n",
    "#                         # Inference\n",
    "#                         with torch.no_grad():\n",
    "#                             output = model(input_tensor)['out']\n",
    "#                         mask = torch.argmax(output.squeeze(), dim=0)\n",
    "\n",
    "#                         # Apply the mask\n",
    "#                         result_image = apply_mask(original_image, mask)\n",
    "\n",
    "#                         # Save the result\n",
    "#                         result_path = os.path.join(sub_output_path, filename)\n",
    "#                         result_image.save(result_path)\n",
    "\n",
    "#                     except Exception as e:\n",
    "#                         print(f\"Error processing {file_path}: {e}\")\n",
    "\n",
    "# # Process training set\n",
    "# process_directory([train_dir, augmented_train_dir], output_train_dir)\n",
    "\n",
    "# # Process validation set\n",
    "# process_directory([val_dir], output_val_dir)\n",
    "\n",
    "# # Process test set\n",
    "# process_directory([test_dir], output_test_dir)\n",
    "\n",
    "# print(f\"All images processed and saved in {output_train_dir}, {output_val_dir}, and {output_test_dir}.\")"
   ]
  },
  {
   "cell_type": "markdown",
   "id": "65df8ab8",
   "metadata": {
    "papermill": {
     "duration": 0.005473,
     "end_time": "2025-02-04T11:04:39.128332",
     "exception": false,
     "start_time": "2025-02-04T11:04:39.122859",
     "status": "completed"
    },
    "tags": []
   },
   "source": [
    "## Crop Image"
   ]
  },
  {
   "cell_type": "code",
   "execution_count": 5,
   "id": "83795b0e",
   "metadata": {
    "execution": {
     "iopub.execute_input": "2025-02-04T11:04:39.140499Z",
     "iopub.status.busy": "2025-02-04T11:04:39.140304Z",
     "iopub.status.idle": "2025-02-04T11:07:07.640386Z",
     "shell.execute_reply": "2025-02-04T11:07:07.639605Z"
    },
    "papermill": {
     "duration": 148.507905,
     "end_time": "2025-02-04T11:07:07.641754",
     "exception": false,
     "start_time": "2025-02-04T11:04:39.133849",
     "status": "completed"
    },
    "tags": []
   },
   "outputs": [
    {
     "name": "stderr",
     "output_type": "stream",
     "text": [
      "Downloading: \"https://download.pytorch.org/models/fasterrcnn_resnet50_fpn_coco-258fb6c6.pth\" to /root/.cache/torch/hub/checkpoints/fasterrcnn_resnet50_fpn_coco-258fb6c6.pth\n",
      "100%|██████████| 160M/160M [00:01<00:00, 157MB/s]\n",
      "Processing images in /kaggle/working/Augmented_Processed_CropImage_Dataset/train_images/Painted_Bunting:   5%|▌         | 5/92 [00:01<00:19,  4.50it/s]"
     ]
    },
    {
     "name": "stdout",
     "output_type": "stream",
     "text": [
      "Skipping Painted_Bunting_0050_16670_augmented.jpg due to loading error.\n",
      "Skipping Painted_Bunting_0002_16887_augmented.jpg due to loading error.\n",
      "Skipping Painted_Bunting_0066_15241_augmented.jpg due to loading error.\n",
      "Skipping Painted_Bunting_0036_16563_augmented.jpg due to loading error.\n",
      "Skipping Painted_Bunting_0100_16735_augmented.jpg due to loading error.\n",
      "Skipping Painted_Bunting_0008_16416_augmented.jpg due to loading error.\n",
      "Skipping Painted_Bunting_0094_16467_augmented.jpg due to loading error.\n"
     ]
    },
    {
     "name": "stderr",
     "output_type": "stream",
     "text": [
      "Processing images in /kaggle/working/Augmented_Processed_CropImage_Dataset/train_images/Painted_Bunting:  11%|█         | 10/92 [00:01<00:08,  9.71it/s]"
     ]
    },
    {
     "name": "stdout",
     "output_type": "stream",
     "text": [
      "Skipping Painted_Bunting_0004_16641_augmented.jpg due to loading error.\n",
      "Skipping Painted_Bunting_0013_15294_augmented.jpg due to loading error.\n",
      "Skipping Painted_Bunting_0091_15198_augmented.jpg due to loading error.\n",
      "Skipping Painted_Bunting_0006_15249_augmented.jpg due to loading error.\n"
     ]
    },
    {
     "name": "stderr",
     "output_type": "stream",
     "text": [
      "Processing images in /kaggle/working/Augmented_Processed_CropImage_Dataset/train_images/Painted_Bunting:  21%|██        | 19/92 [00:01<00:04, 16.65it/s]"
     ]
    },
    {
     "name": "stdout",
     "output_type": "stream",
     "text": [
      "Skipping Painted_Bunting_0027_16536_augmented.jpg due to loading error.\n",
      "Skipping Painted_Bunting_0034_15207_augmented.jpg due to loading error.\n",
      "Skipping Painted_Bunting_0080_16534_augmented.jpg due to loading error.\n"
     ]
    },
    {
     "name": "stderr",
     "output_type": "stream",
     "text": [
      "Processing images in /kaggle/working/Augmented_Processed_CropImage_Dataset/train_images/Painted_Bunting:  24%|██▍       | 22/92 [00:01<00:03, 18.67it/s]"
     ]
    },
    {
     "name": "stdout",
     "output_type": "stream",
     "text": [
      "Skipping Painted_Bunting_0083_16587_augmented.jpg due to loading error.\n",
      "Skipping Painted_Bunting_0016_15200_augmented.jpg due to loading error.\n"
     ]
    },
    {
     "name": "stderr",
     "output_type": "stream",
     "text": [
      "Processing images in /kaggle/working/Augmented_Processed_CropImage_Dataset/train_images/Painted_Bunting:  30%|███       | 28/92 [00:02<00:03, 18.78it/s]"
     ]
    },
    {
     "name": "stdout",
     "output_type": "stream",
     "text": [
      "Skipping Painted_Bunting_0019_15231_augmented.jpg due to loading error.\n",
      "Skipping Painted_Bunting_0055_15208_augmented.jpg due to loading error.\n"
     ]
    },
    {
     "name": "stderr",
     "output_type": "stream",
     "text": [
      "Processing images in /kaggle/working/Augmented_Processed_CropImage_Dataset/train_images/Painted_Bunting:  42%|████▏     | 39/92 [00:03<00:03, 16.08it/s]"
     ]
    },
    {
     "name": "stdout",
     "output_type": "stream",
     "text": [
      "Skipping Painted_Bunting_0058_16719_augmented.jpg due to loading error.\n",
      "Skipping Painted_Bunting_0078_16565_augmented.jpg due to loading error.\n",
      "Skipping Painted_Bunting_0029_16530_augmented.jpg due to loading error.\n",
      "Skipping Painted_Bunting_0079_15197_augmented.jpg due to loading error.\n"
     ]
    },
    {
     "name": "stderr",
     "output_type": "stream",
     "text": [
      "Processing images in /kaggle/working/Augmented_Processed_CropImage_Dataset/train_images/Painted_Bunting:  49%|████▉     | 45/92 [00:03<00:02, 16.64it/s]"
     ]
    },
    {
     "name": "stdout",
     "output_type": "stream",
     "text": [
      "Skipping Painted_Bunting_0039_15235_augmented.jpg due to loading error.\n",
      "Skipping Painted_Bunting_0081_15230_augmented.jpg due to loading error.\n",
      "Skipping Painted_Bunting_0054_16711_augmented.jpg due to loading error.\n",
      "Skipping Painted_Bunting_0032_16605_augmented.jpg due to loading error.\n",
      "Skipping Painted_Bunting_0102_16642_augmented.jpg due to loading error.\n"
     ]
    },
    {
     "name": "stderr",
     "output_type": "stream",
     "text": [
      "Processing images in /kaggle/working/Augmented_Processed_CropImage_Dataset/train_images/Painted_Bunting:  57%|█████▋    | 52/92 [00:03<00:02, 17.81it/s]"
     ]
    },
    {
     "name": "stdout",
     "output_type": "stream",
     "text": [
      "Skipping Painted_Bunting_0028_15205_augmented.jpg due to loading error.\n",
      "Skipping Painted_Bunting_0073_16737_augmented.jpg due to loading error.\n"
     ]
    },
    {
     "name": "stderr",
     "output_type": "stream",
     "text": [
      "Processing images in /kaggle/working/Augmented_Processed_CropImage_Dataset/train_images/Painted_Bunting:  68%|██████▊   | 63/92 [00:04<00:01, 16.01it/s]"
     ]
    },
    {
     "name": "stdout",
     "output_type": "stream",
     "text": [
      "Skipping Painted_Bunting_0098_15226_augmented.jpg due to loading error.\n",
      "Skipping Painted_Bunting_0011_16690_augmented.jpg due to loading error.\n",
      "Skipping Painted_Bunting_0084_16531_augmented.jpg due to loading error.\n"
     ]
    },
    {
     "name": "stderr",
     "output_type": "stream",
     "text": [
      "Processing images in /kaggle/working/Augmented_Processed_CropImage_Dataset/train_images/Painted_Bunting:  75%|███████▌  | 69/92 [00:05<00:01, 15.19it/s]"
     ]
    },
    {
     "name": "stdout",
     "output_type": "stream",
     "text": [
      "Skipping Painted_Bunting_0060_15224_augmented.jpg due to loading error.\n",
      "Skipping Painted_Bunting_0005_15202_augmented.jpg due to loading error.\n",
      "Skipping Painted_Bunting_0071_15209_augmented.jpg due to loading error.\n"
     ]
    },
    {
     "name": "stderr",
     "output_type": "stream",
     "text": [
      "Processing images in /kaggle/working/Augmented_Processed_CropImage_Dataset/train_images/Painted_Bunting:  79%|███████▉  | 73/92 [00:05<00:01, 16.42it/s]"
     ]
    },
    {
     "name": "stdout",
     "output_type": "stream",
     "text": [
      "Skipping Painted_Bunting_0009_16674_augmented.jpg due to loading error.\n",
      "Skipping Painted_Bunting_0093_15212_augmented.jpg due to loading error.\n",
      "Skipping Painted_Bunting_0056_16599_augmented.jpg due to loading error.\n",
      "Skipping Painted_Bunting_0087_15232_augmented.jpg due to loading error.\n",
      "Skipping Painted_Bunting_0086_16540_augmented.jpg due to loading error.\n"
     ]
    },
    {
     "name": "stderr",
     "output_type": "stream",
     "text": [
      "Processing images in /kaggle/working/Augmented_Processed_CropImage_Dataset/train_images/Painted_Bunting:  89%|████████▉ | 82/92 [00:05<00:00, 23.03it/s]"
     ]
    },
    {
     "name": "stdout",
     "output_type": "stream",
     "text": [
      "Skipping Painted_Bunting_0085_15282_augmented.jpg due to loading error.\n",
      "Skipping Painted_Bunting_0099_16525_augmented.jpg due to loading error.\n"
     ]
    },
    {
     "name": "stderr",
     "output_type": "stream",
     "text": [
      "Processing images in /kaggle/working/Augmented_Processed_CropImage_Dataset/train_images/Painted_Bunting:  92%|█████████▏| 85/92 [00:05<00:00, 19.77it/s]"
     ]
    },
    {
     "name": "stdout",
     "output_type": "stream",
     "text": [
      "Skipping Painted_Bunting_0072_16697_augmented.jpg due to loading error.\n",
      "Skipping Painted_Bunting_0070_16515_augmented.jpg due to loading error.\n"
     ]
    },
    {
     "name": "stderr",
     "output_type": "stream",
     "text": [
      "Processing images in /kaggle/working/Augmented_Processed_CropImage_Dataset/train_images/Painted_Bunting: 100%|██████████| 92/92 [00:06<00:00, 14.69it/s]\n"
     ]
    },
    {
     "name": "stdout",
     "output_type": "stream",
     "text": [
      "Skipping Painted_Bunting_0096_15233_augmented.jpg due to loading error.\n",
      "Skipping Painted_Bunting_0069_16462_augmented.jpg due to loading error.\n"
     ]
    },
    {
     "name": "stderr",
     "output_type": "stream",
     "text": [
      "Processing images in /kaggle/working/Augmented_Processed_CropImage_Dataset/train_images/Fish_Crow:   3%|▎         | 3/96 [00:00<00:03, 29.57it/s]"
     ]
    },
    {
     "name": "stdout",
     "output_type": "stream",
     "text": [
      "Skipping Fish_Crow_0033_25915_augmented.jpg due to loading error.\n",
      "Skipping Fish_Crow_0072_25945_augmented.jpg due to loading error.\n"
     ]
    },
    {
     "name": "stderr",
     "output_type": "stream",
     "text": [
      "Processing images in /kaggle/working/Augmented_Processed_CropImage_Dataset/train_images/Fish_Crow:  10%|█         | 10/96 [00:00<00:04, 19.64it/s]"
     ]
    },
    {
     "name": "stdout",
     "output_type": "stream",
     "text": [
      "Skipping Fish_Crow_0085_25919_augmented.jpg due to loading error.\n",
      "Skipping Fish_Crow_0034_25891_augmented.jpg due to loading error.\n",
      "Skipping Fish_Crow_0067_26124_augmented.jpg due to loading error.\n",
      "Skipping Fish_Crow_0044_25964_augmented.jpg due to loading error.\n"
     ]
    },
    {
     "name": "stderr",
     "output_type": "stream",
     "text": [
      "Processing images in /kaggle/working/Augmented_Processed_CropImage_Dataset/train_images/Fish_Crow:  14%|█▎        | 13/96 [00:00<00:03, 21.39it/s]"
     ]
    },
    {
     "name": "stdout",
     "output_type": "stream",
     "text": [
      "Skipping Fish_Crow_0047_26070_augmented.jpg due to loading error.\n",
      "Skipping Fish_Crow_0032_26014_augmented.jpg due to loading error.\n"
     ]
    },
    {
     "name": "stderr",
     "output_type": "stream",
     "text": [
      "Processing images in /kaggle/working/Augmented_Processed_CropImage_Dataset/train_images/Fish_Crow:  23%|██▎       | 22/96 [00:01<00:03, 21.87it/s]"
     ]
    },
    {
     "name": "stdout",
     "output_type": "stream",
     "text": [
      "Skipping Fish_Crow_0083_25949_augmented.jpg due to loading error.\n",
      "Skipping Fish_Crow_0011_25866_augmented.jpg due to loading error.\n",
      "Skipping Fish_Crow_0081_25908_augmented.jpg due to loading error.\n",
      "Skipping Fish_Crow_0080_25861_augmented.jpg due to loading error.\n",
      "Skipping Fish_Crow_0024_26064_augmented.jpg due to loading error.\n"
     ]
    },
    {
     "name": "stderr",
     "output_type": "stream",
     "text": [
      "Processing images in /kaggle/working/Augmented_Processed_CropImage_Dataset/train_images/Fish_Crow:  29%|██▉       | 28/96 [00:01<00:02, 24.16it/s]"
     ]
    },
    {
     "name": "stdout",
     "output_type": "stream",
     "text": [
      "Skipping Fish_Crow_0036_25911_augmented.jpg due to loading error.\n",
      "Skipping Fish_Crow_0071_25155_augmented.jpg due to loading error.\n",
      "Skipping Fish_Crow_0031_25909_augmented.jpg due to loading error.\n"
     ]
    },
    {
     "name": "stderr",
     "output_type": "stream",
     "text": [
      "Processing images in /kaggle/working/Augmented_Processed_CropImage_Dataset/train_images/Fish_Crow:  32%|███▏      | 31/96 [00:01<00:03, 19.48it/s]"
     ]
    },
    {
     "name": "stdout",
     "output_type": "stream",
     "text": [
      "Skipping Fish_Crow_0002_26072_augmented.jpg due to loading error.\n"
     ]
    },
    {
     "name": "stderr",
     "output_type": "stream",
     "text": [
      "Processing images in /kaggle/working/Augmented_Processed_CropImage_Dataset/train_images/Fish_Crow:  35%|███▌      | 34/96 [00:01<00:03, 16.97it/s]"
     ]
    },
    {
     "name": "stdout",
     "output_type": "stream",
     "text": [
      "Skipping Fish_Crow_0059_25864_augmented.jpg due to loading error.\n"
     ]
    },
    {
     "name": "stderr",
     "output_type": "stream",
     "text": [
      "Processing images in /kaggle/working/Augmented_Processed_CropImage_Dataset/train_images/Fish_Crow:  40%|███▉      | 38/96 [00:02<00:03, 14.63it/s]"
     ]
    },
    {
     "name": "stdout",
     "output_type": "stream",
     "text": [
      "Skipping Fish_Crow_0038_26000_augmented.jpg due to loading error.\n"
     ]
    },
    {
     "name": "stderr",
     "output_type": "stream",
     "text": [
      "Processing images in /kaggle/working/Augmented_Processed_CropImage_Dataset/train_images/Fish_Crow:  44%|████▍     | 42/96 [00:02<00:03, 16.07it/s]"
     ]
    },
    {
     "name": "stdout",
     "output_type": "stream",
     "text": [
      "Skipping Fish_Crow_0013_25939_augmented.jpg due to loading error.\n",
      "Skipping Fish_Crow_0020_26027_augmented.jpg due to loading error.\n",
      "Skipping Fish_Crow_0058_25999_augmented.jpg due to loading error.\n",
      "Skipping Fish_Crow_0061_25884_augmented.jpg due to loading error.\n"
     ]
    },
    {
     "name": "stderr",
     "output_type": "stream",
     "text": [
      "Processing images in /kaggle/working/Augmented_Processed_CropImage_Dataset/train_images/Fish_Crow:  51%|█████     | 49/96 [00:02<00:03, 15.46it/s]"
     ]
    },
    {
     "name": "stdout",
     "output_type": "stream",
     "text": [
      "Skipping Fish_Crow_0016_25854_augmented.jpg due to loading error.\n"
     ]
    },
    {
     "name": "stderr",
     "output_type": "stream",
     "text": [
      "Processing images in /kaggle/working/Augmented_Processed_CropImage_Dataset/train_images/Fish_Crow:  57%|█████▋    | 55/96 [00:03<00:02, 15.06it/s]"
     ]
    },
    {
     "name": "stdout",
     "output_type": "stream",
     "text": [
      "Skipping Fish_Crow_0078_26144_augmented.jpg due to loading error.\n",
      "Skipping Fish_Crow_0007_26023_augmented.jpg due to loading error.\n",
      "Skipping Fish_Crow_0041_25887_augmented.jpg due to loading error.\n",
      "Skipping Fish_Crow_0060_26016_augmented.jpg due to loading error.\n",
      "Skipping Fish_Crow_0069_26008_augmented.jpg due to loading error.\n"
     ]
    },
    {
     "name": "stderr",
     "output_type": "stream",
     "text": [
      "Processing images in /kaggle/working/Augmented_Processed_CropImage_Dataset/train_images/Fish_Crow:  65%|██████▍   | 62/96 [00:03<00:01, 22.51it/s]"
     ]
    },
    {
     "name": "stdout",
     "output_type": "stream",
     "text": [
      "Skipping Fish_Crow_0042_26148_augmented.jpg due to loading error.\n",
      "Skipping Fish_Crow_0051_25934_augmented.jpg due to loading error.\n"
     ]
    },
    {
     "name": "stderr",
     "output_type": "stream",
     "text": [
      "Processing images in /kaggle/working/Augmented_Processed_CropImage_Dataset/train_images/Fish_Crow:  68%|██████▊   | 65/96 [00:03<00:01, 23.39it/s]"
     ]
    },
    {
     "name": "stdout",
     "output_type": "stream",
     "text": [
      "Skipping Fish_Crow_0014_26041_augmented.jpg due to loading error.\n",
      "Skipping Fish_Crow_0068_25859_augmented.jpg due to loading error.\n",
      "Skipping Fish_Crow_0049_26040_augmented.jpg due to loading error.\n"
     ]
    },
    {
     "name": "stderr",
     "output_type": "stream",
     "text": [
      "Processing images in /kaggle/working/Augmented_Processed_CropImage_Dataset/train_images/Fish_Crow:  74%|███████▍  | 71/96 [00:03<00:01, 17.17it/s]"
     ]
    },
    {
     "name": "stdout",
     "output_type": "stream",
     "text": [
      "Skipping Fish_Crow_0040_25158_augmented.jpg due to loading error.\n",
      "Skipping Fish_Crow_0017_26127_augmented.jpg due to loading error.\n",
      "Skipping Fish_Crow_0063_26094_augmented.jpg due to loading error.\n",
      "Skipping Fish_Crow_0079_26030_augmented.jpg due to loading error.\n"
     ]
    },
    {
     "name": "stderr",
     "output_type": "stream",
     "text": [
      "Processing images in /kaggle/working/Augmented_Processed_CropImage_Dataset/train_images/Fish_Crow:  81%|████████▏ | 78/96 [00:04<00:00, 22.82it/s]"
     ]
    },
    {
     "name": "stdout",
     "output_type": "stream",
     "text": [
      "Skipping Fish_Crow_0010_25836_augmented.jpg due to loading error.\n",
      "Skipping Fish_Crow_0055_26077_augmented.jpg due to loading error.\n"
     ]
    },
    {
     "name": "stderr",
     "output_type": "stream",
     "text": [
      "Processing images in /kaggle/working/Augmented_Processed_CropImage_Dataset/train_images/Fish_Crow:  84%|████████▍ | 81/96 [00:04<00:00, 18.43it/s]"
     ]
    },
    {
     "name": "stdout",
     "output_type": "stream",
     "text": [
      "Skipping Fish_Crow_0073_25977_augmented.jpg due to loading error.\n",
      "Skipping Fish_Crow_0037_26071_augmented.jpg due to loading error.\n",
      "Skipping Fish_Crow_0028_25968_augmented.jpg due to loading error.\n"
     ]
    },
    {
     "name": "stderr",
     "output_type": "stream",
     "text": [
      "Processing images in /kaggle/working/Augmented_Processed_CropImage_Dataset/train_images/Fish_Crow:  92%|█████████▏| 88/96 [00:04<00:00, 20.28it/s]"
     ]
    },
    {
     "name": "stdout",
     "output_type": "stream",
     "text": [
      "Skipping Fish_Crow_0022_26062_augmented.jpg due to loading error.\n",
      "Skipping Fish_Crow_0053_26067_augmented.jpg due to loading error.\n",
      "Skipping Fish_Crow_0001_26031_augmented.jpg due to loading error.\n"
     ]
    },
    {
     "name": "stderr",
     "output_type": "stream",
     "text": [
      "Processing images in /kaggle/working/Augmented_Processed_CropImage_Dataset/train_images/Fish_Crow:  97%|█████████▋| 93/96 [00:05<00:00, 18.14it/s]"
     ]
    },
    {
     "name": "stdout",
     "output_type": "stream",
     "text": [
      "Skipping Fish_Crow_0035_26081_augmented.jpg due to loading error.\n",
      "Skipping Fish_Crow_0018_25879_augmented.jpg due to loading error.\n"
     ]
    },
    {
     "name": "stderr",
     "output_type": "stream",
     "text": [
      "Processing images in /kaggle/working/Augmented_Processed_CropImage_Dataset/train_images/Fish_Crow: 100%|██████████| 96/96 [00:05<00:00, 17.97it/s]\n"
     ]
    },
    {
     "name": "stdout",
     "output_type": "stream",
     "text": [
      "No bird found in Fish_Crow_0061_25884.jpg, skipping.\n"
     ]
    },
    {
     "name": "stderr",
     "output_type": "stream",
     "text": [
      "Processing images in /kaggle/working/Augmented_Processed_CropImage_Dataset/train_images/Red_winged_Blackbird:   0%|          | 0/96 [00:00<?, ?it/s]"
     ]
    },
    {
     "name": "stdout",
     "output_type": "stream",
     "text": [
      "Skipping Red_Winged_Blackbird_0028_4709_augmented.jpg due to loading error.\n",
      "Skipping Red_Winged_Blackbird_0020_4050_augmented.jpg due to loading error.\n"
     ]
    },
    {
     "name": "stderr",
     "output_type": "stream",
     "text": [
      "Processing images in /kaggle/working/Augmented_Processed_CropImage_Dataset/train_images/Red_winged_Blackbird:   7%|▋         | 7/96 [00:00<00:03, 23.07it/s]"
     ]
    },
    {
     "name": "stdout",
     "output_type": "stream",
     "text": [
      "Skipping Red_Winged_Blackbird_0042_3635_augmented.jpg due to loading error.\n",
      "Skipping Red_Winged_Blackbird_0058_4141_augmented.jpg due to loading error.\n"
     ]
    },
    {
     "name": "stderr",
     "output_type": "stream",
     "text": [
      "Processing images in /kaggle/working/Augmented_Processed_CropImage_Dataset/train_images/Red_winged_Blackbird:  10%|█         | 10/96 [00:00<00:03, 24.69it/s]"
     ]
    },
    {
     "name": "stdout",
     "output_type": "stream",
     "text": [
      "Skipping Red_Winged_Blackbird_0044_5621_augmented.jpg due to loading error.\n",
      "Skipping Red_Winged_Blackbird_0029_4804_augmented.jpg due to loading error.\n",
      "Skipping Red_Winged_Blackbird_0013_5762_augmented.jpg due to loading error.\n"
     ]
    },
    {
     "name": "stderr",
     "output_type": "stream",
     "text": [
      "Processing images in /kaggle/working/Augmented_Processed_CropImage_Dataset/train_images/Red_winged_Blackbird:  19%|█▉        | 18/96 [00:00<00:04, 16.98it/s]"
     ]
    },
    {
     "name": "stdout",
     "output_type": "stream",
     "text": [
      "Skipping Red_Winged_Blackbird_0022_4483_augmented.jpg due to loading error.\n",
      "Skipping Red_Winged_Blackbird_0011_5845_augmented.jpg due to loading error.\n"
     ]
    },
    {
     "name": "stderr",
     "output_type": "stream",
     "text": [
      "Processing images in /kaggle/working/Augmented_Processed_CropImage_Dataset/train_images/Red_winged_Blackbird:  23%|██▎       | 22/96 [00:01<00:04, 16.96it/s]"
     ]
    },
    {
     "name": "stdout",
     "output_type": "stream",
     "text": [
      "Skipping Red_Winged_Blackbird_0064_4936_augmented.jpg due to loading error.\n",
      "Skipping Red_Winged_Blackbird_0053_4072_augmented.jpg due to loading error.\n"
     ]
    },
    {
     "name": "stderr",
     "output_type": "stream",
     "text": [
      "Processing images in /kaggle/working/Augmented_Processed_CropImage_Dataset/train_images/Red_winged_Blackbird:  29%|██▉       | 28/96 [00:01<00:04, 15.39it/s]"
     ]
    },
    {
     "name": "stdout",
     "output_type": "stream",
     "text": [
      "Skipping Red_Winged_Blackbird_0071_3988_augmented.jpg due to loading error.\n",
      "Skipping Red_Winged_Blackbird_0027_4123_augmented.jpg due to loading error.\n",
      "Skipping Red_Winged_Blackbird_0066_5070_augmented.jpg due to loading error.\n"
     ]
    },
    {
     "name": "stderr",
     "output_type": "stream",
     "text": [
      "Processing images in /kaggle/working/Augmented_Processed_CropImage_Dataset/train_images/Red_winged_Blackbird:  35%|███▌      | 34/96 [00:02<00:04, 14.09it/s]"
     ]
    },
    {
     "name": "stdout",
     "output_type": "stream",
     "text": [
      "Skipping Red_Winged_Blackbird_0006_6005_augmented.jpg due to loading error.\n"
     ]
    },
    {
     "name": "stderr",
     "output_type": "stream",
     "text": [
      "Processing images in /kaggle/working/Augmented_Processed_CropImage_Dataset/train_images/Red_winged_Blackbird:  40%|███▉      | 38/96 [00:02<00:03, 16.15it/s]"
     ]
    },
    {
     "name": "stdout",
     "output_type": "stream",
     "text": [
      "Skipping Red_Winged_Blackbird_0109_4454_augmented.jpg due to loading error.\n",
      "Skipping Red_Winged_Blackbird_0079_4527_augmented.jpg due to loading error.\n",
      "Skipping Red_Winged_Blackbird_0046_4242_augmented.jpg due to loading error.\n",
      "Skipping Red_Winged_Blackbird_0052_5575_augmented.jpg due to loading error.\n"
     ]
    },
    {
     "name": "stderr",
     "output_type": "stream",
     "text": [
      "Processing images in /kaggle/working/Augmented_Processed_CropImage_Dataset/train_images/Red_winged_Blackbird:  51%|█████     | 49/96 [00:03<00:03, 12.59it/s]"
     ]
    },
    {
     "name": "stdout",
     "output_type": "stream",
     "text": [
      "Skipping Red_Winged_Blackbird_0001_3695_augmented.jpg due to loading error.\n",
      "Skipping Red_Winged_Blackbird_0049_5598_augmented.jpg due to loading error.\n"
     ]
    },
    {
     "name": "stderr",
     "output_type": "stream",
     "text": [
      "Processing images in /kaggle/working/Augmented_Processed_CropImage_Dataset/train_images/Red_winged_Blackbird:  58%|█████▊    | 56/96 [00:03<00:02, 17.70it/s]"
     ]
    },
    {
     "name": "stdout",
     "output_type": "stream",
     "text": [
      "Skipping Red_Winged_Blackbird_0039_4285_augmented.jpg due to loading error.\n",
      "Skipping Red_Winged_Blackbird_0014_3761_augmented.jpg due to loading error.\n",
      "Skipping Red_Winged_Blackbird_0104_3918_augmented.jpg due to loading error.\n"
     ]
    },
    {
     "name": "stderr",
     "output_type": "stream",
     "text": [
      "Processing images in /kaggle/working/Augmented_Processed_CropImage_Dataset/train_images/Red_winged_Blackbird:  64%|██████▎   | 61/96 [00:03<00:01, 19.95it/s]"
     ]
    },
    {
     "name": "stdout",
     "output_type": "stream",
     "text": [
      "Skipping Red_Winged_Blackbird_0085_5846_augmented.jpg due to loading error.\n",
      "Skipping Red_Winged_Blackbird_0021_3767_augmented.jpg due to loading error.\n",
      "Skipping Red_Winged_Blackbird_0055_4345_augmented.jpg due to loading error.\n",
      "Skipping Red_Winged_Blackbird_0093_5948_augmented.jpg due to loading error.\n",
      "Skipping Red_Winged_Blackbird_0081_6081_augmented.jpg due to loading error.\n"
     ]
    },
    {
     "name": "stderr",
     "output_type": "stream",
     "text": [
      "Processing images in /kaggle/working/Augmented_Processed_CropImage_Dataset/train_images/Red_winged_Blackbird:  72%|███████▏  | 69/96 [00:04<00:01, 15.00it/s]"
     ]
    },
    {
     "name": "stdout",
     "output_type": "stream",
     "text": [
      "Skipping Red_Winged_Blackbird_0074_4146_augmented.jpg due to loading error.\n",
      "Skipping Red_Winged_Blackbird_0088_4007_augmented.jpg due to loading error.\n"
     ]
    },
    {
     "name": "stderr",
     "output_type": "stream",
     "text": [
      "Processing images in /kaggle/working/Augmented_Processed_CropImage_Dataset/train_images/Red_winged_Blackbird:  80%|████████  | 77/96 [00:04<00:00, 24.69it/s]"
     ]
    },
    {
     "name": "stdout",
     "output_type": "stream",
     "text": [
      "Skipping Red_Winged_Blackbird_0065_4026_augmented.jpg due to loading error.\n",
      "Skipping Red_Winged_Blackbird_0045_4526_augmented.jpg due to loading error.\n",
      "Skipping Red_Winged_Blackbird_0010_6386_augmented.jpg due to loading error.\n",
      "Skipping Red_Winged_Blackbird_0017_4116_augmented.jpg due to loading error.\n",
      "Skipping Red_Winged_Blackbird_0054_4625_augmented.jpg due to loading error.\n",
      "Skipping Red_Winged_Blackbird_0096_5019_augmented.jpg due to loading error.\n"
     ]
    },
    {
     "name": "stderr",
     "output_type": "stream",
     "text": [
      "Processing images in /kaggle/working/Augmented_Processed_CropImage_Dataset/train_images/Red_winged_Blackbird:  90%|████████▉ | 86/96 [00:05<00:00, 22.71it/s]"
     ]
    },
    {
     "name": "stdout",
     "output_type": "stream",
     "text": [
      "Skipping Red_Winged_Blackbird_0007_3706_augmented.jpg due to loading error.\n",
      "Skipping Red_Winged_Blackbird_0091_4096_augmented.jpg due to loading error.\n",
      "Skipping Red_Winged_Blackbird_0012_6015_augmented.jpg due to loading error.\n",
      "Skipping Red_Winged_Blackbird_0005_5636_augmented.jpg due to loading error.\n"
     ]
    },
    {
     "name": "stderr",
     "output_type": "stream",
     "text": [
      "Processing images in /kaggle/working/Augmented_Processed_CropImage_Dataset/train_images/Red_winged_Blackbird:  98%|█████████▊| 94/96 [00:05<00:00, 30.55it/s]"
     ]
    },
    {
     "name": "stdout",
     "output_type": "stream",
     "text": [
      "Skipping Red_Winged_Blackbird_0105_4842_augmented.jpg due to loading error.\n",
      "Skipping Red_Winged_Blackbird_0047_3802_augmented.jpg due to loading error.\n",
      "Skipping Red_Winged_Blackbird_0024_4180_augmented.jpg due to loading error.\n",
      "Skipping Red_Winged_Blackbird_0009_5841_augmented.jpg due to loading error.\n",
      "Skipping Red_Winged_Blackbird_0078_5372_augmented.jpg due to loading error.\n",
      "Skipping Red_Winged_Blackbird_0023_5257_augmented.jpg due to loading error.\n"
     ]
    },
    {
     "name": "stderr",
     "output_type": "stream",
     "text": [
      "Processing images in /kaggle/working/Augmented_Processed_CropImage_Dataset/train_images/Red_winged_Blackbird: 100%|██████████| 96/96 [00:05<00:00, 17.94it/s]\n"
     ]
    },
    {
     "name": "stdout",
     "output_type": "stream",
     "text": [
      "Skipping Red_Winged_Blackbird_0089_4188_augmented.jpg due to loading error.\n"
     ]
    },
    {
     "name": "stderr",
     "output_type": "stream",
     "text": [
      "Processing images in /kaggle/working/Augmented_Processed_CropImage_Dataset/train_images/Eastern_Towhee:   5%|▌         | 5/96 [00:00<00:02, 45.50it/s]"
     ]
    },
    {
     "name": "stdout",
     "output_type": "stream",
     "text": [
      "Skipping Eastern_Towhee_0035_22223_augmented.jpg due to loading error.\n",
      "Skipping Eastern_Towhee_0017_22138_augmented.jpg due to loading error.\n",
      "Skipping Eastern_Towhee_0038_22399_augmented.jpg due to loading error.\n",
      "Skipping Eastern_Towhee_0120_22189_augmented.jpg due to loading error.\n",
      "Skipping Eastern_Towhee_0024_22382_augmented.jpg due to loading error.\n"
     ]
    },
    {
     "name": "stderr",
     "output_type": "stream",
     "text": [
      "Processing images in /kaggle/working/Augmented_Processed_CropImage_Dataset/train_images/Eastern_Towhee:  10%|█         | 10/96 [00:00<00:04, 20.21it/s]"
     ]
    },
    {
     "name": "stdout",
     "output_type": "stream",
     "text": [
      "Skipping Eastern_Towhee_0068_22194_augmented.jpg due to loading error.\n"
     ]
    },
    {
     "name": "stderr",
     "output_type": "stream",
     "text": [
      "Processing images in /kaggle/working/Augmented_Processed_CropImage_Dataset/train_images/Eastern_Towhee:  17%|█▋        | 16/96 [00:00<00:04, 19.18it/s]"
     ]
    },
    {
     "name": "stdout",
     "output_type": "stream",
     "text": [
      "Skipping Eastern_Towhee_0134_22624_augmented.jpg due to loading error.\n",
      "Skipping Eastern_Towhee_0086_22611_augmented.jpg due to loading error.\n",
      "Skipping Eastern_Towhee_0129_22358_augmented.jpg due to loading error.\n"
     ]
    },
    {
     "name": "stderr",
     "output_type": "stream",
     "text": [
      "Processing images in /kaggle/working/Augmented_Processed_CropImage_Dataset/train_images/Eastern_Towhee:  24%|██▍       | 23/96 [00:01<00:04, 15.31it/s]"
     ]
    },
    {
     "name": "stdout",
     "output_type": "stream",
     "text": [
      "Skipping Eastern_Towhee_0108_22182_augmented.jpg due to loading error.\n",
      "Skipping Eastern_Towhee_0117_22741_augmented.jpg due to loading error.\n"
     ]
    },
    {
     "name": "stderr",
     "output_type": "stream",
     "text": [
      "Processing images in /kaggle/working/Augmented_Processed_CropImage_Dataset/train_images/Eastern_Towhee:  28%|██▊       | 27/96 [00:01<00:04, 16.70it/s]"
     ]
    },
    {
     "name": "stdout",
     "output_type": "stream",
     "text": [
      "Skipping Eastern_Towhee_0115_22304_augmented.jpg due to loading error.\n",
      "Skipping Eastern_Towhee_0048_22557_augmented.jpg due to loading error.\n"
     ]
    },
    {
     "name": "stderr",
     "output_type": "stream",
     "text": [
      "Processing images in /kaggle/working/Augmented_Processed_CropImage_Dataset/train_images/Eastern_Towhee:  32%|███▏      | 31/96 [00:01<00:04, 14.19it/s]"
     ]
    },
    {
     "name": "stdout",
     "output_type": "stream",
     "text": [
      "Skipping Eastern_Towhee_0027_22372_augmented.jpg due to loading error.\n"
     ]
    },
    {
     "name": "stderr",
     "output_type": "stream",
     "text": [
      "Processing images in /kaggle/working/Augmented_Processed_CropImage_Dataset/train_images/Eastern_Towhee:  36%|███▋      | 35/96 [00:02<00:04, 12.70it/s]"
     ]
    },
    {
     "name": "stdout",
     "output_type": "stream",
     "text": [
      "Skipping Eastern_Towhee_0098_22676_augmented.jpg due to loading error.\n"
     ]
    },
    {
     "name": "stderr",
     "output_type": "stream",
     "text": [
      "Processing images in /kaggle/working/Augmented_Processed_CropImage_Dataset/train_images/Eastern_Towhee:  41%|████      | 39/96 [00:02<00:03, 14.57it/s]"
     ]
    },
    {
     "name": "stdout",
     "output_type": "stream",
     "text": [
      "Skipping Eastern_Towhee_0049_22357_augmented.jpg due to loading error.\n",
      "Skipping Eastern_Towhee_0080_22303_augmented.jpg due to loading error.\n",
      "Skipping Eastern_Towhee_0085_22674_augmented.jpg due to loading error.\n"
     ]
    },
    {
     "name": "stderr",
     "output_type": "stream",
     "text": [
      "Processing images in /kaggle/working/Augmented_Processed_CropImage_Dataset/train_images/Eastern_Towhee:  49%|████▉     | 47/96 [00:03<00:03, 14.59it/s]"
     ]
    },
    {
     "name": "stdout",
     "output_type": "stream",
     "text": [
      "Skipping Eastern_Towhee_0097_22580_augmented.jpg due to loading error.\n",
      "Skipping Eastern_Towhee_0099_22566_augmented.jpg due to loading error.\n"
     ]
    },
    {
     "name": "stderr",
     "output_type": "stream",
     "text": [
      "Processing images in /kaggle/working/Augmented_Processed_CropImage_Dataset/train_images/Eastern_Towhee:  55%|█████▌    | 53/96 [00:03<00:03, 12.65it/s]"
     ]
    },
    {
     "name": "stdout",
     "output_type": "stream",
     "text": [
      "Skipping Eastern_Towhee_0018_22546_augmented.jpg due to loading error.\n"
     ]
    },
    {
     "name": "stderr",
     "output_type": "stream",
     "text": [
      "Processing images in /kaggle/working/Augmented_Processed_CropImage_Dataset/train_images/Eastern_Towhee:  61%|██████▏   | 59/96 [00:03<00:01, 19.17it/s]"
     ]
    },
    {
     "name": "stdout",
     "output_type": "stream",
     "text": [
      "Skipping Eastern_Towhee_0013_22336_augmented.jpg due to loading error.\n",
      "Skipping Eastern_Towhee_0079_22690_augmented.jpg due to loading error.\n",
      "Skipping Eastern_Towhee_0075_22588_augmented.jpg due to loading error.\n",
      "Skipping Eastern_Towhee_0015_22275_augmented.jpg due to loading error.\n"
     ]
    },
    {
     "name": "stderr",
     "output_type": "stream",
     "text": [
      "Processing images in /kaggle/working/Augmented_Processed_CropImage_Dataset/train_images/Eastern_Towhee:  65%|██████▍   | 62/96 [00:04<00:02, 16.59it/s]"
     ]
    },
    {
     "name": "stdout",
     "output_type": "stream",
     "text": [
      "Skipping Eastern_Towhee_0021_22152_augmented.jpg due to loading error.\n"
     ]
    },
    {
     "name": "stderr",
     "output_type": "stream",
     "text": [
      "Processing images in /kaggle/working/Augmented_Processed_CropImage_Dataset/train_images/Eastern_Towhee:  69%|██████▉   | 66/96 [00:04<00:02, 14.91it/s]"
     ]
    },
    {
     "name": "stdout",
     "output_type": "stream",
     "text": [
      "Skipping Eastern_Towhee_0064_22649_augmented.jpg due to loading error.\n"
     ]
    },
    {
     "name": "stderr",
     "output_type": "stream",
     "text": [
      "Processing images in /kaggle/working/Augmented_Processed_CropImage_Dataset/train_images/Eastern_Towhee:  73%|███████▎  | 70/96 [00:04<00:01, 15.88it/s]"
     ]
    },
    {
     "name": "stdout",
     "output_type": "stream",
     "text": [
      "Skipping Eastern_Towhee_0062_22418_augmented.jpg due to loading error.\n",
      "Skipping Eastern_Towhee_0002_22318_augmented.jpg due to loading error.\n"
     ]
    },
    {
     "name": "stderr",
     "output_type": "stream",
     "text": [
      "Processing images in /kaggle/working/Augmented_Processed_CropImage_Dataset/train_images/Eastern_Towhee:  85%|████████▌ | 82/96 [00:04<00:00, 37.01it/s]"
     ]
    },
    {
     "name": "stdout",
     "output_type": "stream",
     "text": [
      "Skipping Eastern_Towhee_0082_22330_augmented.jpg due to loading error.\n",
      "Skipping Eastern_Towhee_0073_22247_augmented.jpg due to loading error.\n",
      "Skipping Eastern_Towhee_0074_22620_augmented.jpg due to loading error.\n",
      "Skipping Eastern_Towhee_0053_22623_augmented.jpg due to loading error.\n",
      "Skipping Eastern_Towhee_0125_22220_augmented.jpg due to loading error.\n",
      "Skipping Eastern_Towhee_0040_22341_augmented.jpg due to loading error.\n",
      "Skipping Eastern_Towhee_0110_22549_augmented.jpg due to loading error.\n",
      "Skipping Eastern_Towhee_0042_22155_augmented.jpg due to loading error.\n",
      "Skipping Eastern_Towhee_0022_22279_augmented.jpg due to loading error.\n",
      "Skipping Eastern_Towhee_0030_22693_augmented.jpg due to loading error.\n"
     ]
    },
    {
     "name": "stderr",
     "output_type": "stream",
     "text": [
      "Processing images in /kaggle/working/Augmented_Processed_CropImage_Dataset/train_images/Eastern_Towhee:  91%|█████████ | 87/96 [00:05<00:00, 31.28it/s]"
     ]
    },
    {
     "name": "stdout",
     "output_type": "stream",
     "text": [
      "Skipping Eastern_Towhee_0111_22168_augmented.jpg due to loading error.\n",
      "Skipping Eastern_Towhee_0054_22147_augmented.jpg due to loading error.\n",
      "Skipping Eastern_Towhee_0050_22257_augmented.jpg due to loading error.\n",
      "Skipping Eastern_Towhee_0095_22594_augmented.jpg due to loading error.\n",
      "Skipping Eastern_Towhee_0122_22538_augmented.jpg due to loading error.\n",
      "Skipping Eastern_Towhee_0052_22558_augmented.jpg due to loading error.\n",
      "Skipping Eastern_Towhee_0007_22172_augmented.jpg due to loading error.\n"
     ]
    },
    {
     "name": "stderr",
     "output_type": "stream",
     "text": [
      "Processing images in /kaggle/working/Augmented_Processed_CropImage_Dataset/train_images/Eastern_Towhee: 100%|██████████| 96/96 [00:05<00:00, 17.74it/s]\n"
     ]
    },
    {
     "name": "stdout",
     "output_type": "stream",
     "text": [
      "Skipping Eastern_Towhee_0105_22675_augmented.jpg due to loading error.\n",
      "Skipping Eastern_Towhee_0014_22367_augmented.jpg due to loading error.\n"
     ]
    },
    {
     "name": "stderr",
     "output_type": "stream",
     "text": [
      "Processing images in /kaggle/working/Augmented_Processed_CropImage_Dataset/train_images/Brandt_Cormorant:   0%|          | 0/94 [00:00<?, ?it/s]"
     ]
    },
    {
     "name": "stdout",
     "output_type": "stream",
     "text": [
      "Skipping Brandt_Cormorant_0006_22925_augmented.jpg due to loading error.\n",
      "Skipping Brandt_Cormorant_0013_23391_augmented.jpg due to loading error.\n",
      "Skipping Brandt_Cormorant_0067_23352_augmented.jpg due to loading error.\n",
      "Skipping Brandt_Cormorant_0061_22902_augmented.jpg due to loading error.\n"
     ]
    },
    {
     "name": "stderr",
     "output_type": "stream",
     "text": [
      "Processing images in /kaggle/working/Augmented_Processed_CropImage_Dataset/train_images/Brandt_Cormorant:   9%|▊         | 8/94 [00:00<00:01, 79.49it/s]"
     ]
    },
    {
     "name": "stdout",
     "output_type": "stream",
     "text": [
      "Skipping Brandt_Cormorant_0042_23151_augmented.jpg due to loading error.\n",
      "Skipping Brandt_Cormorant_0035_23000_augmented.jpg due to loading error.\n",
      "Skipping Brandt_Cormorant_0018_23090_augmented.jpg due to loading error.\n",
      "Skipping Brandt_Cormorant_0001_23398_augmented.jpg due to loading error.\n",
      "Skipping Brandt_Cormorant_0045_22916_augmented.jpg due to loading error.\n"
     ]
    },
    {
     "name": "stderr",
     "output_type": "stream",
     "text": [
      "Processing images in /kaggle/working/Augmented_Processed_CropImage_Dataset/train_images/Brandt_Cormorant:  17%|█▋        | 16/94 [00:00<00:03, 24.88it/s]"
     ]
    },
    {
     "name": "stdout",
     "output_type": "stream",
     "text": [
      "Skipping Brandt_Cormorant_0072_23069_augmented.jpg due to loading error.\n",
      "Skipping Brandt_Cormorant_0087_23126_augmented.jpg due to loading error.\n"
     ]
    },
    {
     "name": "stderr",
     "output_type": "stream",
     "text": [
      "Processing images in /kaggle/working/Augmented_Processed_CropImage_Dataset/train_images/Brandt_Cormorant:  22%|██▏       | 21/94 [00:01<00:04, 17.41it/s]"
     ]
    },
    {
     "name": "stdout",
     "output_type": "stream",
     "text": [
      "Skipping Brandt_Cormorant_0080_23002_augmented.jpg due to loading error.\n"
     ]
    },
    {
     "name": "stderr",
     "output_type": "stream",
     "text": [
      "Processing images in /kaggle/working/Augmented_Processed_CropImage_Dataset/train_images/Brandt_Cormorant:  26%|██▌       | 24/94 [00:01<00:04, 16.32it/s]"
     ]
    },
    {
     "name": "stdout",
     "output_type": "stream",
     "text": [
      "Skipping Brandt_Cormorant_0062_23038_augmented.jpg due to loading error.\n",
      "Skipping Brandt_Cormorant_0021_23097_augmented.jpg due to loading error.\n",
      "Skipping Brandt_Cormorant_0023_23254_augmented.jpg due to loading error.\n",
      "Skipping Brandt_Cormorant_0078_23203_augmented.jpg due to loading error.\n"
     ]
    },
    {
     "name": "stderr",
     "output_type": "stream",
     "text": [
      "Processing images in /kaggle/working/Augmented_Processed_CropImage_Dataset/train_images/Brandt_Cormorant:  33%|███▎      | 31/94 [00:01<00:03, 20.80it/s]"
     ]
    },
    {
     "name": "stdout",
     "output_type": "stream",
     "text": [
      "Skipping Brandt_Cormorant_0049_22924_augmented.jpg due to loading error.\n",
      "Skipping Brandt_Cormorant_0036_22937_augmented.jpg due to loading error.\n"
     ]
    },
    {
     "name": "stderr",
     "output_type": "stream",
     "text": [
      "Processing images in /kaggle/working/Augmented_Processed_CropImage_Dataset/train_images/Brandt_Cormorant:  39%|███▉      | 37/94 [00:01<00:03, 17.13it/s]"
     ]
    },
    {
     "name": "stdout",
     "output_type": "stream",
     "text": [
      "Skipping Brandt_Cormorant_0040_23144_augmented.jpg due to loading error.\n",
      "Skipping Brandt_Cormorant_0033_22975_augmented.jpg due to loading error.\n",
      "Skipping Brandt_Cormorant_0073_23259_augmented.jpg due to loading error.\n"
     ]
    },
    {
     "name": "stderr",
     "output_type": "stream",
     "text": [
      "Processing images in /kaggle/working/Augmented_Processed_CropImage_Dataset/train_images/Brandt_Cormorant:  43%|████▎     | 40/94 [00:02<00:02, 18.75it/s]"
     ]
    },
    {
     "name": "stdout",
     "output_type": "stream",
     "text": [
      "Skipping Brandt_Cormorant_0022_23157_augmented.jpg due to loading error.\n",
      "Skipping Brandt_Cormorant_0030_22926_augmented.jpg due to loading error.\n"
     ]
    },
    {
     "name": "stderr",
     "output_type": "stream",
     "text": [
      "Processing images in /kaggle/working/Augmented_Processed_CropImage_Dataset/train_images/Brandt_Cormorant:  50%|█████     | 47/94 [00:02<00:02, 16.45it/s]"
     ]
    },
    {
     "name": "stdout",
     "output_type": "stream",
     "text": [
      "Skipping Brandt_Cormorant_0016_23077_augmented.jpg due to loading error.\n",
      "Skipping Brandt_Cormorant_0088_22948_augmented.jpg due to loading error.\n"
     ]
    },
    {
     "name": "stderr",
     "output_type": "stream",
     "text": [
      "Processing images in /kaggle/working/Augmented_Processed_CropImage_Dataset/train_images/Brandt_Cormorant:  59%|█████▊    | 55/94 [00:02<00:02, 19.44it/s]"
     ]
    },
    {
     "name": "stdout",
     "output_type": "stream",
     "text": [
      "Skipping Brandt_Cormorant_0063_22865_augmented.jpg due to loading error.\n",
      "Skipping Brandt_Cormorant_0047_23337_augmented.jpg due to loading error.\n",
      "Skipping Brandt_Cormorant_0007_22934_augmented.jpg due to loading error.\n",
      "Skipping Brandt_Cormorant_0029_23043_augmented.jpg due to loading error.\n"
     ]
    },
    {
     "name": "stderr",
     "output_type": "stream",
     "text": [
      "Processing images in /kaggle/working/Augmented_Processed_CropImage_Dataset/train_images/Brandt_Cormorant:  64%|██████▍   | 60/94 [00:03<00:02, 16.70it/s]"
     ]
    },
    {
     "name": "stdout",
     "output_type": "stream",
     "text": [
      "Skipping Brandt_Cormorant_0076_23021_augmented.jpg due to loading error.\n",
      "Skipping Brandt_Cormorant_0038_23110_augmented.jpg due to loading error.\n",
      "Skipping Brandt_Cormorant_0002_23072_augmented.jpg due to loading error.\n",
      "Skipping Brandt_Cormorant_0017_23141_augmented.jpg due to loading error.\n"
     ]
    },
    {
     "name": "stderr",
     "output_type": "stream",
     "text": [
      "Processing images in /kaggle/working/Augmented_Processed_CropImage_Dataset/train_images/Brandt_Cormorant:  74%|███████▍  | 70/94 [00:03<00:01, 23.80it/s]"
     ]
    },
    {
     "name": "stdout",
     "output_type": "stream",
     "text": [
      "Skipping Brandt_Cormorant_0068_23019_augmented.jpg due to loading error.\n",
      "Skipping Brandt_Cormorant_0009_22890_augmented.jpg due to loading error.\n",
      "Skipping Brandt_Cormorant_0014_23050_augmented.jpg due to loading error.\n",
      "Skipping Brandt_Cormorant_0044_22884_augmented.jpg due to loading error.\n",
      "Skipping Brandt_Cormorant_0074_22881_augmented.jpg due to loading error.\n",
      "Skipping Brandt_Cormorant_0071_23007_augmented.jpg due to loading error.\n"
     ]
    },
    {
     "name": "stderr",
     "output_type": "stream",
     "text": [
      "Processing images in /kaggle/working/Augmented_Processed_CropImage_Dataset/train_images/Brandt_Cormorant:  78%|███████▊  | 73/94 [00:03<00:00, 24.04it/s]"
     ]
    },
    {
     "name": "stdout",
     "output_type": "stream",
     "text": [
      "Skipping Brandt_Cormorant_0019_23058_augmented.jpg due to loading error.\n"
     ]
    },
    {
     "name": "stderr",
     "output_type": "stream",
     "text": [
      "Processing images in /kaggle/working/Augmented_Processed_CropImage_Dataset/train_images/Brandt_Cormorant:  81%|████████  | 76/94 [00:04<00:01, 16.37it/s]"
     ]
    },
    {
     "name": "stdout",
     "output_type": "stream",
     "text": [
      "Skipping Brandt_Cormorant_0079_22874_augmented.jpg due to loading error.\n"
     ]
    },
    {
     "name": "stderr",
     "output_type": "stream",
     "text": [
      "Processing images in /kaggle/working/Augmented_Processed_CropImage_Dataset/train_images/Brandt_Cormorant:  93%|█████████▎| 87/94 [00:04<00:00, 15.50it/s]"
     ]
    },
    {
     "name": "stdout",
     "output_type": "stream",
     "text": [
      "Skipping Brandt_Cormorant_0084_23265_augmented.jpg due to loading error.\n",
      "Skipping Brandt_Cormorant_0070_23137_augmented.jpg due to loading error.\n",
      "Skipping Brandt_Cormorant_0083_23156_augmented.jpg due to loading error.\n",
      "Skipping Brandt_Cormorant_0064_22849_augmented.jpg due to loading error.\n"
     ]
    },
    {
     "name": "stderr",
     "output_type": "stream",
     "text": [
      "Processing images in /kaggle/working/Augmented_Processed_CropImage_Dataset/train_images/Brandt_Cormorant:  98%|█████████▊| 92/94 [00:05<00:00, 17.81it/s]"
     ]
    },
    {
     "name": "stdout",
     "output_type": "stream",
     "text": [
      "Skipping Brandt_Cormorant_0028_22892_augmented.jpg due to loading error.\n",
      "Skipping Brandt_Cormorant_0065_23118_augmented.jpg due to loading error.\n"
     ]
    },
    {
     "name": "stderr",
     "output_type": "stream",
     "text": [
      "Processing images in /kaggle/working/Augmented_Processed_CropImage_Dataset/train_images/Brandt_Cormorant: 100%|██████████| 94/94 [00:05<00:00, 17.22it/s]\n"
     ]
    },
    {
     "name": "stdout",
     "output_type": "stream",
     "text": [
      "No bird found in Brandt_Cormorant_0042_23151.jpg, skipping.\n"
     ]
    },
    {
     "name": "stderr",
     "output_type": "stream",
     "text": [
      "Processing images in /kaggle/working/Augmented_Processed_CropImage_Dataset/train_images/Rusty_Blackbird:   0%|          | 0/96 [00:00<?, ?it/s]"
     ]
    },
    {
     "name": "stdout",
     "output_type": "stream",
     "text": [
      "Skipping Rusty_Blackbird_0091_6695_augmented.jpg due to loading error.\n",
      "Skipping Rusty_Blackbird_0112_3415_augmented.jpg due to loading error.\n",
      "Skipping Rusty_Blackbird_0036_6550_augmented.jpg due to loading error.\n",
      "Skipping Rusty_Blackbird_0114_6760_augmented.jpg due to loading error.\n",
      "Skipping Rusty_Blackbird_0085_6713_augmented.jpg due to loading error.\n"
     ]
    },
    {
     "name": "stderr",
     "output_type": "stream",
     "text": [
      "Processing images in /kaggle/working/Augmented_Processed_CropImage_Dataset/train_images/Rusty_Blackbird:  11%|█▏        | 11/96 [00:00<00:02, 32.08it/s]"
     ]
    },
    {
     "name": "stdout",
     "output_type": "stream",
     "text": [
      "Skipping Rusty_Blackbird_0056_6856_augmented.jpg due to loading error.\n",
      "Skipping Rusty_Blackbird_0086_6658_augmented.jpg due to loading error.\n",
      "Skipping Rusty_Blackbird_0093_6628_augmented.jpg due to loading error.\n",
      "Skipping Rusty_Blackbird_0001_6548_augmented.jpg due to loading error.\n"
     ]
    },
    {
     "name": "stderr",
     "output_type": "stream",
     "text": [
      "Processing images in /kaggle/working/Augmented_Processed_CropImage_Dataset/train_images/Rusty_Blackbird:  19%|█▉        | 18/96 [00:00<00:04, 17.08it/s]"
     ]
    },
    {
     "name": "stdout",
     "output_type": "stream",
     "text": [
      "Skipping Rusty_Blackbird_0009_6853_augmented.jpg due to loading error.\n"
     ]
    },
    {
     "name": "stderr",
     "output_type": "stream",
     "text": [
      "Processing images in /kaggle/working/Augmented_Processed_CropImage_Dataset/train_images/Rusty_Blackbird:  21%|██        | 20/96 [00:01<00:05, 13.71it/s]"
     ]
    },
    {
     "name": "stdout",
     "output_type": "stream",
     "text": [
      "Skipping Rusty_Blackbird_0108_6867_augmented.jpg due to loading error.\n",
      "Skipping Rusty_Blackbird_0101_6880_augmented.jpg due to loading error.\n",
      "Skipping Rusty_Blackbird_0048_6632_augmented.jpg due to loading error.\n",
      "Skipping Rusty_Blackbird_0087_6727_augmented.jpg due to loading error.\n",
      "Skipping Rusty_Blackbird_0096_6846_augmented.jpg due to loading error.\n"
     ]
    },
    {
     "name": "stderr",
     "output_type": "stream",
     "text": [
      "Processing images in /kaggle/working/Augmented_Processed_CropImage_Dataset/train_images/Rusty_Blackbird:  28%|██▊       | 27/96 [00:01<00:03, 20.00it/s]"
     ]
    },
    {
     "name": "stdout",
     "output_type": "stream",
     "text": [
      "Skipping Rusty_Blackbird_0016_6684_augmented.jpg due to loading error.\n"
     ]
    },
    {
     "name": "stderr",
     "output_type": "stream",
     "text": [
      "Processing images in /kaggle/working/Augmented_Processed_CropImage_Dataset/train_images/Rusty_Blackbird:  35%|███▌      | 34/96 [00:01<00:03, 15.51it/s]"
     ]
    },
    {
     "name": "stdout",
     "output_type": "stream",
     "text": [
      "Skipping Rusty_Blackbird_0052_7035_augmented.jpg due to loading error.\n"
     ]
    },
    {
     "name": "stderr",
     "output_type": "stream",
     "text": [
      "Processing images in /kaggle/working/Augmented_Processed_CropImage_Dataset/train_images/Rusty_Blackbird:  44%|████▍     | 42/96 [00:02<00:03, 13.75it/s]"
     ]
    },
    {
     "name": "stdout",
     "output_type": "stream",
     "text": [
      "Skipping Rusty_Blackbird_0060_6756_augmented.jpg due to loading error.\n",
      "Skipping Rusty_Blackbird_0082_6906_augmented.jpg due to loading error.\n",
      "Skipping Rusty_Blackbird_0080_6877_augmented.jpg due to loading error.\n"
     ]
    },
    {
     "name": "stderr",
     "output_type": "stream",
     "text": [
      "Processing images in /kaggle/working/Augmented_Processed_CropImage_Dataset/train_images/Rusty_Blackbird:  48%|████▊     | 46/96 [00:02<00:03, 15.03it/s]"
     ]
    },
    {
     "name": "stdout",
     "output_type": "stream",
     "text": [
      "Skipping Rusty_Blackbird_0109_6698_augmented.jpg due to loading error.\n",
      "Skipping Rusty_Blackbird_0006_6633_augmented.jpg due to loading error.\n",
      "Skipping Rusty_Blackbird_0023_6752_augmented.jpg due to loading error.\n"
     ]
    },
    {
     "name": "stderr",
     "output_type": "stream",
     "text": [
      "Processing images in /kaggle/working/Augmented_Processed_CropImage_Dataset/train_images/Rusty_Blackbird:  54%|█████▍    | 52/96 [00:03<00:02, 16.46it/s]"
     ]
    },
    {
     "name": "stdout",
     "output_type": "stream",
     "text": [
      "Skipping Rusty_Blackbird_0022_6808_augmented.jpg due to loading error.\n",
      "Skipping Rusty_Blackbird_0015_6885_augmented.jpg due to loading error.\n"
     ]
    },
    {
     "name": "stderr",
     "output_type": "stream",
     "text": [
      "Processing images in /kaggle/working/Augmented_Processed_CropImage_Dataset/train_images/Rusty_Blackbird:  58%|█████▊    | 56/96 [00:03<00:02, 16.15it/s]"
     ]
    },
    {
     "name": "stdout",
     "output_type": "stream",
     "text": [
      "Skipping Rusty_Blackbird_0057_6935_augmented.jpg due to loading error.\n"
     ]
    },
    {
     "name": "stderr",
     "output_type": "stream",
     "text": [
      "Processing images in /kaggle/working/Augmented_Processed_CropImage_Dataset/train_images/Rusty_Blackbird:  65%|██████▍   | 62/96 [00:03<00:02, 14.59it/s]"
     ]
    },
    {
     "name": "stdout",
     "output_type": "stream",
     "text": [
      "Skipping Rusty_Blackbird_0011_7028_augmented.jpg due to loading error.\n",
      "Skipping Rusty_Blackbird_0120_6762_augmented.jpg due to loading error.\n"
     ]
    },
    {
     "name": "stderr",
     "output_type": "stream",
     "text": [
      "Processing images in /kaggle/working/Augmented_Processed_CropImage_Dataset/train_images/Rusty_Blackbird:  73%|███████▎  | 70/96 [00:04<00:01, 21.48it/s]"
     ]
    },
    {
     "name": "stdout",
     "output_type": "stream",
     "text": [
      "Skipping Rusty_Blackbird_0074_6585_augmented.jpg due to loading error.\n",
      "Skipping Rusty_Blackbird_0003_6749_augmented.jpg due to loading error.\n",
      "Skipping Rusty_Blackbird_0100_6597_augmented.jpg due to loading error.\n",
      "Skipping Rusty_Blackbird_0027_6593_augmented.jpg due to loading error.\n",
      "Skipping Rusty_Blackbird_0092_2727_augmented.jpg due to loading error.\n"
     ]
    },
    {
     "name": "stderr",
     "output_type": "stream",
     "text": [
      "Processing images in /kaggle/working/Augmented_Processed_CropImage_Dataset/train_images/Rusty_Blackbird:  79%|███████▉  | 76/96 [00:04<00:01, 19.60it/s]"
     ]
    },
    {
     "name": "stdout",
     "output_type": "stream",
     "text": [
      "Skipping Rusty_Blackbird_0055_6923_augmented.jpg due to loading error.\n",
      "Skipping Rusty_Blackbird_0075_6717_augmented.jpg due to loading error.\n",
      "Skipping Rusty_Blackbird_0076_6716_augmented.jpg due to loading error.\n",
      "Skipping Rusty_Blackbird_0122_6736_augmented.jpg due to loading error.\n",
      "Skipping Rusty_Blackbird_0094_6582_augmented.jpg due to loading error.\n",
      "Skipping Rusty_Blackbird_0073_6744_augmented.jpg due to loading error.\n"
     ]
    },
    {
     "name": "stderr",
     "output_type": "stream",
     "text": [
      "Processing images in /kaggle/working/Augmented_Processed_CropImage_Dataset/train_images/Rusty_Blackbird:  86%|████████▋ | 83/96 [00:04<00:00, 23.68it/s]"
     ]
    },
    {
     "name": "stdout",
     "output_type": "stream",
     "text": [
      "Skipping Rusty_Blackbird_0102_6590_augmented.jpg due to loading error.\n",
      "Skipping Rusty_Blackbird_0105_6937_augmented.jpg due to loading error.\n"
     ]
    },
    {
     "name": "stderr",
     "output_type": "stream",
     "text": [
      "Processing images in /kaggle/working/Augmented_Processed_CropImage_Dataset/train_images/Rusty_Blackbird:  96%|█████████▌| 92/96 [00:05<00:00, 20.04it/s]"
     ]
    },
    {
     "name": "stdout",
     "output_type": "stream",
     "text": [
      "Skipping Rusty_Blackbird_0026_6768_augmented.jpg due to loading error.\n",
      "Skipping Rusty_Blackbird_0019_6704_augmented.jpg due to loading error.\n",
      "Skipping Rusty_Blackbird_0033_6879_augmented.jpg due to loading error.\n",
      "Skipping Rusty_Blackbird_0017_6755_augmented.jpg due to loading error.\n",
      "Skipping Rusty_Blackbird_0013_6902_augmented.jpg due to loading error.\n",
      "Skipping Rusty_Blackbird_0043_2597_augmented.jpg due to loading error.\n"
     ]
    },
    {
     "name": "stderr",
     "output_type": "stream",
     "text": [
      "Processing images in /kaggle/working/Augmented_Processed_CropImage_Dataset/train_images/Rusty_Blackbird: 100%|██████████| 96/96 [00:05<00:00, 17.48it/s]\n"
     ]
    },
    {
     "name": "stdout",
     "output_type": "stream",
     "text": [
      "Skipping Rusty_Blackbird_0020_6679_augmented.jpg due to loading error.\n"
     ]
    },
    {
     "name": "stderr",
     "output_type": "stream",
     "text": [
      "Processing images in /kaggle/working/Augmented_Processed_CropImage_Dataset/train_images/American_Crow:   0%|          | 0/96 [00:00<?, ?it/s]"
     ]
    },
    {
     "name": "stdout",
     "output_type": "stream",
     "text": [
      "Skipping American_Crow_0053_25203_augmented.jpg due to loading error.\n",
      "Skipping American_Crow_0121_25720_augmented.jpg due to loading error.\n"
     ]
    },
    {
     "name": "stderr",
     "output_type": "stream",
     "text": [
      "Processing images in /kaggle/working/Augmented_Processed_CropImage_Dataset/train_images/American_Crow:   9%|▉         | 9/96 [00:00<00:03, 28.91it/s]"
     ]
    },
    {
     "name": "stdout",
     "output_type": "stream",
     "text": [
      "Skipping American_Crow_0011_25151_augmented.jpg due to loading error.\n",
      "Skipping American_Crow_0043_25666_augmented.jpg due to loading error.\n",
      "Skipping American_Crow_0039_25061_augmented.jpg due to loading error.\n",
      "Skipping American_Crow_0066_25827_augmented.jpg due to loading error.\n",
      "Skipping American_Crow_0059_25599_augmented.jpg due to loading error.\n",
      "Skipping American_Crow_0025_25522_augmented.jpg due to loading error.\n"
     ]
    },
    {
     "name": "stderr",
     "output_type": "stream",
     "text": [
      "Processing images in /kaggle/working/Augmented_Processed_CropImage_Dataset/train_images/American_Crow:  21%|██        | 20/96 [00:00<00:02, 33.01it/s]"
     ]
    },
    {
     "name": "stdout",
     "output_type": "stream",
     "text": [
      "Skipping American_Crow_0062_25587_augmented.jpg due to loading error.\n",
      "Skipping American_Crow_0027_25146_augmented.jpg due to loading error.\n",
      "Skipping American_Crow_0137_25221_augmented.jpg due to loading error.\n",
      "Skipping American_Crow_0048_25062_augmented.jpg due to loading error.\n",
      "Skipping American_Crow_0131_25706_augmented.jpg due to loading error.\n",
      "Skipping American_Crow_0074_25350_augmented.jpg due to loading error.\n"
     ]
    },
    {
     "name": "stderr",
     "output_type": "stream",
     "text": [
      "Processing images in /kaggle/working/Augmented_Processed_CropImage_Dataset/train_images/American_Crow:  25%|██▌       | 24/96 [00:00<00:02, 26.55it/s]"
     ]
    },
    {
     "name": "stdout",
     "output_type": "stream",
     "text": [
      "Skipping American_Crow_0113_25149_augmented.jpg due to loading error.\n",
      "Skipping American_Crow_0047_25397_augmented.jpg due to loading error.\n",
      "Skipping American_Crow_0050_25255_augmented.jpg due to loading error.\n"
     ]
    },
    {
     "name": "stderr",
     "output_type": "stream",
     "text": [
      "Processing images in /kaggle/working/Augmented_Processed_CropImage_Dataset/train_images/American_Crow:  32%|███▏      | 31/96 [00:01<00:02, 23.59it/s]"
     ]
    },
    {
     "name": "stdout",
     "output_type": "stream",
     "text": [
      "Skipping American_Crow_0051_25505_augmented.jpg due to loading error.\n",
      "Skipping American_Crow_0001_25053_augmented.jpg due to loading error.\n",
      "Skipping American_Crow_0002_25122_augmented.jpg due to loading error.\n"
     ]
    },
    {
     "name": "stderr",
     "output_type": "stream",
     "text": [
      "Processing images in /kaggle/working/Augmented_Processed_CropImage_Dataset/train_images/American_Crow:  39%|███▊      | 37/96 [00:01<00:03, 17.96it/s]"
     ]
    },
    {
     "name": "stdout",
     "output_type": "stream",
     "text": [
      "Skipping American_Crow_0104_25086_augmented.jpg due to loading error.\n",
      "Skipping American_Crow_0088_25303_augmented.jpg due to loading error.\n",
      "Skipping American_Crow_0134_25206_augmented.jpg due to loading error.\n",
      "Skipping American_Crow_0004_25819_augmented.jpg due to loading error.\n"
     ]
    },
    {
     "name": "stderr",
     "output_type": "stream",
     "text": [
      "Processing images in /kaggle/working/Augmented_Processed_CropImage_Dataset/train_images/American_Crow:  45%|████▍     | 43/96 [00:01<00:02, 21.43it/s]"
     ]
    },
    {
     "name": "stdout",
     "output_type": "stream",
     "text": [
      "Skipping American_Crow_0101_25118_augmented.jpg due to loading error.\n",
      "Skipping American_Crow_0111_25127_augmented.jpg due to loading error.\n",
      "Skipping American_Crow_0116_25199_augmented.jpg due to loading error.\n"
     ]
    },
    {
     "name": "stderr",
     "output_type": "stream",
     "text": [
      "Processing images in /kaggle/working/Augmented_Processed_CropImage_Dataset/train_images/American_Crow:  53%|█████▎    | 51/96 [00:02<00:03, 14.55it/s]"
     ]
    },
    {
     "name": "stdout",
     "output_type": "stream",
     "text": [
      "Skipping American_Crow_0085_25260_augmented.jpg due to loading error.\n"
     ]
    },
    {
     "name": "stderr",
     "output_type": "stream",
     "text": [
      "Processing images in /kaggle/working/Augmented_Processed_CropImage_Dataset/train_images/American_Crow:  59%|█████▉    | 57/96 [00:03<00:03, 12.02it/s]"
     ]
    },
    {
     "name": "stdout",
     "output_type": "stream",
     "text": [
      "Skipping American_Crow_0107_25353_augmented.jpg due to loading error.\n",
      "Skipping American_Crow_0067_25443_augmented.jpg due to loading error.\n"
     ]
    },
    {
     "name": "stderr",
     "output_type": "stream",
     "text": [
      "Processing images in /kaggle/working/Augmented_Processed_CropImage_Dataset/train_images/American_Crow:  68%|██████▊   | 65/96 [00:03<00:01, 21.95it/s]"
     ]
    },
    {
     "name": "stdout",
     "output_type": "stream",
     "text": [
      "Skipping American_Crow_0124_25356_augmented.jpg due to loading error.\n",
      "Skipping American_Crow_0014_25287_augmented.jpg due to loading error.\n",
      "Skipping American_Crow_0119_25610_augmented.jpg due to loading error.\n",
      "Skipping American_Crow_0016_25112_augmented.jpg due to loading error.\n",
      "Skipping American_Crow_0012_25305_augmented.jpg due to loading error.\n"
     ]
    },
    {
     "name": "stderr",
     "output_type": "stream",
     "text": [
      "Processing images in /kaggle/working/Augmented_Processed_CropImage_Dataset/train_images/American_Crow:  74%|███████▍  | 71/96 [00:03<00:01, 19.71it/s]"
     ]
    },
    {
     "name": "stdout",
     "output_type": "stream",
     "text": [
      "Skipping American_Crow_0130_25163_augmented.jpg due to loading error.\n",
      "Skipping American_Crow_0080_25220_augmented.jpg due to loading error.\n",
      "Skipping American_Crow_0079_25463_augmented.jpg due to loading error.\n"
     ]
    },
    {
     "name": "stderr",
     "output_type": "stream",
     "text": [
      "Processing images in /kaggle/working/Augmented_Processed_CropImage_Dataset/train_images/American_Crow:  77%|███████▋  | 74/96 [00:04<00:01, 17.72it/s]"
     ]
    },
    {
     "name": "stdout",
     "output_type": "stream",
     "text": [
      "Skipping American_Crow_0030_25092_augmented.jpg due to loading error.\n"
     ]
    },
    {
     "name": "stderr",
     "output_type": "stream",
     "text": [
      "Processing images in /kaggle/working/Augmented_Processed_CropImage_Dataset/train_images/American_Crow:  80%|████████  | 77/96 [00:04<00:01, 18.85it/s]"
     ]
    },
    {
     "name": "stdout",
     "output_type": "stream",
     "text": [
      "Skipping American_Crow_0117_25090_augmented.jpg due to loading error.\n",
      "Skipping American_Crow_0036_25313_augmented.jpg due to loading error.\n"
     ]
    },
    {
     "name": "stderr",
     "output_type": "stream",
     "text": [
      "Processing images in /kaggle/working/Augmented_Processed_CropImage_Dataset/train_images/American_Crow:  85%|████████▌ | 82/96 [00:04<00:00, 16.45it/s]"
     ]
    },
    {
     "name": "stdout",
     "output_type": "stream",
     "text": [
      "Skipping American_Crow_0136_25117_augmented.jpg due to loading error.\n",
      "Skipping American_Crow_0068_25198_augmented.jpg due to loading error.\n"
     ]
    },
    {
     "name": "stderr",
     "output_type": "stream",
     "text": [
      "Processing images in /kaggle/working/Augmented_Processed_CropImage_Dataset/train_images/American_Crow:  90%|████████▉ | 86/96 [00:04<00:00, 14.46it/s]"
     ]
    },
    {
     "name": "stdout",
     "output_type": "stream",
     "text": [
      "Skipping American_Crow_0109_25123_augmented.jpg due to loading error.\n",
      "Skipping American_Crow_0110_25541_augmented.jpg due to loading error.\n",
      "Skipping American_Crow_0132_25704_augmented.jpg due to loading error.\n"
     ]
    },
    {
     "name": "stderr",
     "output_type": "stream",
     "text": [
      "Processing images in /kaggle/working/Augmented_Processed_CropImage_Dataset/train_images/American_Crow:  98%|█████████▊| 94/96 [00:05<00:00, 14.40it/s]"
     ]
    },
    {
     "name": "stdout",
     "output_type": "stream",
     "text": [
      "Skipping American_Crow_0139_25186_augmented.jpg due to loading error.\n"
     ]
    },
    {
     "name": "stderr",
     "output_type": "stream",
     "text": [
      "Processing images in /kaggle/working/Augmented_Processed_CropImage_Dataset/train_images/American_Crow: 100%|██████████| 96/96 [00:05<00:00, 17.30it/s]\n"
     ]
    },
    {
     "name": "stdout",
     "output_type": "stream",
     "text": [
      "Skipping American_Crow_0094_25576_augmented.jpg due to loading error.\n"
     ]
    },
    {
     "name": "stderr",
     "output_type": "stream",
     "text": [
      "Processing images in /kaggle/working/Augmented_Processed_CropImage_Dataset/train_images/Black_billed_Cuckoo:   3%|▎         | 3/96 [00:00<00:03, 24.64it/s]"
     ]
    },
    {
     "name": "stdout",
     "output_type": "stream",
     "text": [
      "Skipping Black_Billed_Cuckoo_0088_26217_augmented.jpg due to loading error.\n",
      "Skipping Black_Billed_Cuckoo_0052_26232_augmented.jpg due to loading error.\n",
      "Skipping Black_Billed_Cuckoo_0086_26188_augmented.jpg due to loading error.\n",
      "Skipping Black_Billed_Cuckoo_0019_795329_augmented.jpg due to loading error.\n"
     ]
    },
    {
     "name": "stderr",
     "output_type": "stream",
     "text": [
      "Processing images in /kaggle/working/Augmented_Processed_CropImage_Dataset/train_images/Black_billed_Cuckoo:   9%|▉         | 9/96 [00:00<00:05, 17.24it/s]"
     ]
    },
    {
     "name": "stdout",
     "output_type": "stream",
     "text": [
      "Skipping Black_Billed_Cuckoo_0077_26222_augmented.jpg due to loading error.\n",
      "Skipping Black_Billed_Cuckoo_0006_26233_augmented.jpg due to loading error.\n"
     ]
    },
    {
     "name": "stderr",
     "output_type": "stream",
     "text": [
      "Processing images in /kaggle/working/Augmented_Processed_CropImage_Dataset/train_images/Black_billed_Cuckoo:  16%|█▌        | 15/96 [00:00<00:05, 14.37it/s]"
     ]
    },
    {
     "name": "stdout",
     "output_type": "stream",
     "text": [
      "Skipping Black_Billed_Cuckoo_0089_795322_augmented.jpg due to loading error.\n"
     ]
    },
    {
     "name": "stderr",
     "output_type": "stream",
     "text": [
      "Processing images in /kaggle/working/Augmented_Processed_CropImage_Dataset/train_images/Black_billed_Cuckoo:  21%|██        | 20/96 [00:01<00:04, 17.94it/s]"
     ]
    },
    {
     "name": "stdout",
     "output_type": "stream",
     "text": [
      "Skipping Black_Billed_Cuckoo_0054_26313_augmented.jpg due to loading error.\n",
      "Skipping Black_Billed_Cuckoo_0066_26303_augmented.jpg due to loading error.\n",
      "Skipping Black_Billed_Cuckoo_0074_795286_augmented.jpg due to loading error.\n",
      "Skipping Black_Billed_Cuckoo_0053_795321_augmented.jpg due to loading error.\n"
     ]
    },
    {
     "name": "stderr",
     "output_type": "stream",
     "text": [
      "Processing images in /kaggle/working/Augmented_Processed_CropImage_Dataset/train_images/Black_billed_Cuckoo:  27%|██▋       | 26/96 [00:01<00:03, 22.19it/s]"
     ]
    },
    {
     "name": "stdout",
     "output_type": "stream",
     "text": [
      "Skipping Black_Billed_Cuckoo_0079_26180_augmented.jpg due to loading error.\n",
      "Skipping Black_Billed_Cuckoo_0087_795300_augmented.jpg due to loading error.\n",
      "Skipping Black_Billed_Cuckoo_0046_795328_augmented.jpg due to loading error.\n",
      "Skipping Black_Billed_Cuckoo_0075_795298_augmented.jpg due to loading error.\n"
     ]
    },
    {
     "name": "stderr",
     "output_type": "stream",
     "text": [
      "Processing images in /kaggle/working/Augmented_Processed_CropImage_Dataset/train_images/Black_billed_Cuckoo:  38%|███▊      | 36/96 [00:02<00:03, 15.30it/s]"
     ]
    },
    {
     "name": "stdout",
     "output_type": "stream",
     "text": [
      "Skipping Black_Billed_Cuckoo_0057_795323_augmented.jpg due to loading error.\n",
      "Skipping Black_Billed_Cuckoo_0065_26203_augmented.jpg due to loading error.\n"
     ]
    },
    {
     "name": "stderr",
     "output_type": "stream",
     "text": [
      "Processing images in /kaggle/working/Augmented_Processed_CropImage_Dataset/train_images/Black_billed_Cuckoo:  44%|████▍     | 42/96 [00:02<00:03, 14.32it/s]"
     ]
    },
    {
     "name": "stdout",
     "output_type": "stream",
     "text": [
      "Skipping Black_Billed_Cuckoo_0070_795310_augmented.jpg due to loading error.\n",
      "Skipping Black_Billed_Cuckoo_0062_795309_augmented.jpg due to loading error.\n"
     ]
    },
    {
     "name": "stderr",
     "output_type": "stream",
     "text": [
      "Processing images in /kaggle/working/Augmented_Processed_CropImage_Dataset/train_images/Black_billed_Cuckoo:  46%|████▌     | 44/96 [00:02<00:03, 14.87it/s]"
     ]
    },
    {
     "name": "stdout",
     "output_type": "stream",
     "text": [
      "No bird found in Black_Billed_Cuckoo_0053_795321.jpg, skipping.\n",
      "Skipping Black_Billed_Cuckoo_0022_795319_augmented.jpg due to loading error.\n"
     ]
    },
    {
     "name": "stderr",
     "output_type": "stream",
     "text": [
      "Processing images in /kaggle/working/Augmented_Processed_CropImage_Dataset/train_images/Black_billed_Cuckoo:  52%|█████▏    | 50/96 [00:03<00:03, 13.94it/s]"
     ]
    },
    {
     "name": "stdout",
     "output_type": "stream",
     "text": [
      "Skipping Black_Billed_Cuckoo_0017_26221_augmented.jpg due to loading error.\n",
      "Skipping Black_Billed_Cuckoo_0008_795305_augmented.jpg due to loading error.\n"
     ]
    },
    {
     "name": "stderr",
     "output_type": "stream",
     "text": [
      "Processing images in /kaggle/working/Augmented_Processed_CropImage_Dataset/train_images/Black_billed_Cuckoo:  58%|█████▊    | 56/96 [00:03<00:02, 19.39it/s]"
     ]
    },
    {
     "name": "stdout",
     "output_type": "stream",
     "text": [
      "Skipping Black_Billed_Cuckoo_0023_26258_augmented.jpg due to loading error.\n",
      "Skipping Black_Billed_Cuckoo_0001_26242_augmented.jpg due to loading error.\n",
      "Skipping Black_Billed_Cuckoo_0055_26223_augmented.jpg due to loading error.\n",
      "Skipping Black_Billed_Cuckoo_0084_26175_augmented.jpg due to loading error.\n"
     ]
    },
    {
     "name": "stderr",
     "output_type": "stream",
     "text": [
      "Processing images in /kaggle/working/Augmented_Processed_CropImage_Dataset/train_images/Black_billed_Cuckoo:  61%|██████▏   | 59/96 [00:03<00:02, 16.58it/s]"
     ]
    },
    {
     "name": "stdout",
     "output_type": "stream",
     "text": [
      "Skipping Black_Billed_Cuckoo_0015_26208_augmented.jpg due to loading error.\n"
     ]
    },
    {
     "name": "stderr",
     "output_type": "stream",
     "text": [
      "Processing images in /kaggle/working/Augmented_Processed_CropImage_Dataset/train_images/Black_billed_Cuckoo:  66%|██████▌   | 63/96 [00:04<00:01, 16.95it/s]"
     ]
    },
    {
     "name": "stdout",
     "output_type": "stream",
     "text": [
      "Skipping Black_Billed_Cuckoo_0037_795330_augmented.jpg due to loading error.\n",
      "Skipping Black_Billed_Cuckoo_0044_26243_augmented.jpg due to loading error.\n"
     ]
    },
    {
     "name": "stderr",
     "output_type": "stream",
     "text": [
      "Processing images in /kaggle/working/Augmented_Processed_CropImage_Dataset/train_images/Black_billed_Cuckoo:  74%|███████▍  | 71/96 [00:04<00:00, 26.66it/s]"
     ]
    },
    {
     "name": "stdout",
     "output_type": "stream",
     "text": [
      "Skipping Black_Billed_Cuckoo_0081_26209_augmented.jpg due to loading error.\n",
      "Skipping Black_Billed_Cuckoo_0095_795307_augmented.jpg due to loading error.\n",
      "Skipping Black_Billed_Cuckoo_0042_795308_augmented.jpg due to loading error.\n",
      "Skipping Black_Billed_Cuckoo_0027_26319_augmented.jpg due to loading error.\n",
      "Skipping Black_Billed_Cuckoo_0051_795318_augmented.jpg due to loading error.\n",
      "Skipping Black_Billed_Cuckoo_0024_795331_augmented.jpg due to loading error.\n",
      "Skipping Black_Billed_Cuckoo_0031_26318_augmented.jpg due to loading error.\n"
     ]
    },
    {
     "name": "stderr",
     "output_type": "stream",
     "text": [
      "Processing images in /kaggle/working/Augmented_Processed_CropImage_Dataset/train_images/Black_billed_Cuckoo:  77%|███████▋  | 74/96 [00:04<00:00, 25.28it/s]"
     ]
    },
    {
     "name": "stdout",
     "output_type": "stream",
     "text": [
      "Skipping Black_Billed_Cuckoo_0096_26204_augmented.jpg due to loading error.\n"
     ]
    },
    {
     "name": "stderr",
     "output_type": "stream",
     "text": [
      "Processing images in /kaggle/working/Augmented_Processed_CropImage_Dataset/train_images/Black_billed_Cuckoo:  83%|████████▎ | 80/96 [00:04<00:00, 21.54it/s]"
     ]
    },
    {
     "name": "stdout",
     "output_type": "stream",
     "text": [
      "Skipping Black_Billed_Cuckoo_0028_26165_augmented.jpg due to loading error.\n",
      "Skipping Black_Billed_Cuckoo_0073_795304_augmented.jpg due to loading error.\n",
      "Skipping Black_Billed_Cuckoo_0032_26292_augmented.jpg due to loading error.\n"
     ]
    },
    {
     "name": "stderr",
     "output_type": "stream",
     "text": [
      "Processing images in /kaggle/working/Augmented_Processed_CropImage_Dataset/train_images/Black_billed_Cuckoo:  91%|█████████ | 87/96 [00:05<00:00, 18.93it/s]"
     ]
    },
    {
     "name": "stdout",
     "output_type": "stream",
     "text": [
      "Skipping Black_Billed_Cuckoo_0090_26311_augmented.jpg due to loading error.\n",
      "Skipping Black_Billed_Cuckoo_0061_795327_augmented.jpg due to loading error.\n",
      "Skipping Black_Billed_Cuckoo_0034_795320_augmented.jpg due to loading error.\n",
      "Skipping Black_Billed_Cuckoo_0047_26176_augmented.jpg due to loading error.\n",
      "Skipping Black_Billed_Cuckoo_0076_26177_augmented.jpg due to loading error.\n"
     ]
    },
    {
     "name": "stderr",
     "output_type": "stream",
     "text": [
      "Processing images in /kaggle/working/Augmented_Processed_CropImage_Dataset/train_images/Black_billed_Cuckoo: 100%|██████████| 96/96 [00:05<00:00, 17.03it/s]\n"
     ]
    },
    {
     "name": "stdout",
     "output_type": "stream",
     "text": [
      "Skipping Black_Billed_Cuckoo_0082_26241_augmented.jpg due to loading error.\n",
      "Skipping Black_Billed_Cuckoo_0071_26288_augmented.jpg due to loading error.\n",
      "Skipping Black_Billed_Cuckoo_0083_795315_augmented.jpg due to loading error.\n"
     ]
    },
    {
     "name": "stderr",
     "output_type": "stream",
     "text": [
      "Processing images in /kaggle/working/Augmented_Processed_CropImage_Dataset/train_images/Gray_Catbird:   6%|▋         | 6/94 [00:00<00:06, 14.31it/s]"
     ]
    },
    {
     "name": "stdout",
     "output_type": "stream",
     "text": [
      "Skipping Gray_Catbird_0104_20716_augmented.jpg due to loading error.\n",
      "Skipping Gray_Catbird_0075_21125_augmented.jpg due to loading error.\n",
      "Skipping Gray_Catbird_0050_20763_augmented.jpg due to loading error.\n"
     ]
    },
    {
     "name": "stderr",
     "output_type": "stream",
     "text": [
      "Processing images in /kaggle/working/Augmented_Processed_CropImage_Dataset/train_images/Gray_Catbird:  17%|█▋        | 16/94 [00:01<00:05, 13.27it/s]"
     ]
    },
    {
     "name": "stdout",
     "output_type": "stream",
     "text": [
      "Skipping Gray_Catbird_0139_21281_augmented.jpg due to loading error.\n",
      "Skipping Gray_Catbird_0053_20694_augmented.jpg due to loading error.\n",
      "Skipping Gray_Catbird_0049_21311_augmented.jpg due to loading error.\n"
     ]
    },
    {
     "name": "stderr",
     "output_type": "stream",
     "text": [
      "Processing images in /kaggle/working/Augmented_Processed_CropImage_Dataset/train_images/Gray_Catbird:  29%|██▊       | 27/94 [00:01<00:03, 20.60it/s]"
     ]
    },
    {
     "name": "stdout",
     "output_type": "stream",
     "text": [
      "Skipping Gray_Catbird_0022_19585_augmented.jpg due to loading error.\n",
      "Skipping Gray_Catbird_0118_20476_augmented.jpg due to loading error.\n",
      "Skipping Gray_Catbird_0094_21303_augmented.jpg due to loading error.\n",
      "Skipping Gray_Catbird_0111_19550_augmented.jpg due to loading error.\n",
      "Skipping Gray_Catbird_0127_20034_augmented.jpg due to loading error.\n"
     ]
    },
    {
     "name": "stderr",
     "output_type": "stream",
     "text": [
      "Processing images in /kaggle/working/Augmented_Processed_CropImage_Dataset/train_images/Gray_Catbird:  35%|███▌      | 33/94 [00:02<00:02, 20.37it/s]"
     ]
    },
    {
     "name": "stdout",
     "output_type": "stream",
     "text": [
      "Skipping Gray_Catbird_0043_21008_augmented.jpg due to loading error.\n",
      "Skipping Gray_Catbird_0102_20644_augmented.jpg due to loading error.\n",
      "Skipping Gray_Catbird_0130_20328_augmented.jpg due to loading error.\n"
     ]
    },
    {
     "name": "stderr",
     "output_type": "stream",
     "text": [
      "Processing images in /kaggle/working/Augmented_Processed_CropImage_Dataset/train_images/Gray_Catbird:  38%|███▊      | 36/94 [00:02<00:03, 16.91it/s]"
     ]
    },
    {
     "name": "stdout",
     "output_type": "stream",
     "text": [
      "Skipping Gray_Catbird_0042_20546_augmented.jpg due to loading error.\n",
      "Skipping Gray_Catbird_0008_20430_augmented.jpg due to loading error.\n",
      "Skipping Gray_Catbird_0001_20695_augmented.jpg due to loading error.\n",
      "Skipping Gray_Catbird_0071_20974_augmented.jpg due to loading error.\n",
      "Skipping Gray_Catbird_0074_19601_augmented.jpg due to loading error.\n"
     ]
    },
    {
     "name": "stderr",
     "output_type": "stream",
     "text": [
      "Processing images in /kaggle/working/Augmented_Processed_CropImage_Dataset/train_images/Gray_Catbird:  51%|█████     | 48/94 [00:02<00:01, 25.96it/s]"
     ]
    },
    {
     "name": "stdout",
     "output_type": "stream",
     "text": [
      "Skipping Gray_Catbird_0126_19446_augmented.jpg due to loading error.\n",
      "Skipping Gray_Catbird_0006_20867_augmented.jpg due to loading error.\n",
      "Skipping Gray_Catbird_0103_20930_augmented.jpg due to loading error.\n",
      "Skipping Gray_Catbird_0019_20567_augmented.jpg due to loading error.\n",
      "Skipping Gray_Catbird_0002_21395_augmented.jpg due to loading error.\n",
      "Skipping Gray_Catbird_0117_21333_augmented.jpg due to loading error.\n",
      "Skipping Gray_Catbird_0039_21040_augmented.jpg due to loading error.\n"
     ]
    },
    {
     "name": "stderr",
     "output_type": "stream",
     "text": [
      "Processing images in /kaggle/working/Augmented_Processed_CropImage_Dataset/train_images/Gray_Catbird:  61%|██████    | 57/94 [00:03<00:02, 18.21it/s]"
     ]
    },
    {
     "name": "stdout",
     "output_type": "stream",
     "text": [
      "Skipping Gray_Catbird_0045_20950_augmented.jpg due to loading error.\n",
      "Skipping Gray_Catbird_0055_20671_augmented.jpg due to loading error.\n",
      "Skipping Gray_Catbird_0067_21043_augmented.jpg due to loading error.\n"
     ]
    },
    {
     "name": "stderr",
     "output_type": "stream",
     "text": [
      "Processing images in /kaggle/working/Augmented_Processed_CropImage_Dataset/train_images/Gray_Catbird:  68%|██████▊   | 64/94 [00:03<00:01, 24.47it/s]"
     ]
    },
    {
     "name": "stdout",
     "output_type": "stream",
     "text": [
      "Skipping Gray_Catbird_0027_20968_augmented.jpg due to loading error.\n",
      "Skipping Gray_Catbird_0024_20739_augmented.jpg due to loading error.\n",
      "Skipping Gray_Catbird_0141_21174_augmented.jpg due to loading error.\n",
      "Skipping Gray_Catbird_0107_20513_augmented.jpg due to loading error.\n",
      "Skipping Gray_Catbird_0048_20558_augmented.jpg due to loading error.\n"
     ]
    },
    {
     "name": "stderr",
     "output_type": "stream",
     "text": [
      "Processing images in /kaggle/working/Augmented_Processed_CropImage_Dataset/train_images/Gray_Catbird:  74%|███████▍  | 70/94 [00:03<00:01, 20.58it/s]"
     ]
    },
    {
     "name": "stdout",
     "output_type": "stream",
     "text": [
      "Skipping Gray_Catbird_0028_20598_augmented.jpg due to loading error.\n",
      "Skipping Gray_Catbird_0015_21230_augmented.jpg due to loading error.\n"
     ]
    },
    {
     "name": "stderr",
     "output_type": "stream",
     "text": [
      "Processing images in /kaggle/working/Augmented_Processed_CropImage_Dataset/train_images/Gray_Catbird:  82%|████████▏ | 77/94 [00:04<00:00, 21.36it/s]"
     ]
    },
    {
     "name": "stdout",
     "output_type": "stream",
     "text": [
      "Skipping Gray_Catbird_0125_19833_augmented.jpg due to loading error.\n",
      "Skipping Gray_Catbird_0032_21551_augmented.jpg due to loading error.\n",
      "Skipping Gray_Catbird_0131_19633_augmented.jpg due to loading error.\n",
      "Skipping Gray_Catbird_0138_20945_augmented.jpg due to loading error.\n"
     ]
    },
    {
     "name": "stderr",
     "output_type": "stream",
     "text": [
      "Processing images in /kaggle/working/Augmented_Processed_CropImage_Dataset/train_images/Gray_Catbird:  85%|████████▌ | 80/94 [00:04<00:00, 18.12it/s]"
     ]
    },
    {
     "name": "stdout",
     "output_type": "stream",
     "text": [
      "Skipping Gray_Catbird_0113_21270_augmented.jpg due to loading error.\n"
     ]
    },
    {
     "name": "stderr",
     "output_type": "stream",
     "text": [
      "Processing images in /kaggle/working/Augmented_Processed_CropImage_Dataset/train_images/Gray_Catbird:  93%|█████████▎| 87/94 [00:05<00:00, 17.55it/s]"
     ]
    },
    {
     "name": "stdout",
     "output_type": "stream",
     "text": [
      "Skipping Gray_Catbird_0100_20674_augmented.jpg due to loading error.\n",
      "Skipping Gray_Catbird_0105_20864_augmented.jpg due to loading error.\n",
      "Skipping Gray_Catbird_0090_21464_augmented.jpg due to loading error.\n",
      "Skipping Gray_Catbird_0023_20668_augmented.jpg due to loading error.\n",
      "Skipping Gray_Catbird_0044_20955_augmented.jpg due to loading error.\n"
     ]
    },
    {
     "name": "stderr",
     "output_type": "stream",
     "text": [
      "Processing images in /kaggle/working/Augmented_Processed_CropImage_Dataset/train_images/Gray_Catbird: 100%|██████████| 94/94 [00:05<00:00, 17.13it/s]\n"
     ]
    },
    {
     "name": "stdout",
     "output_type": "stream",
     "text": [
      "Skipping Gray_Catbird_0013_20562_augmented.jpg due to loading error.\n"
     ]
    },
    {
     "name": "stderr",
     "output_type": "stream",
     "text": [
      "Processing images in /kaggle/working/Augmented_Processed_CropImage_Dataset/train_images/Yellow_breasted_Chat:   0%|          | 0/94 [00:00<?, ?it/s]"
     ]
    },
    {
     "name": "stdout",
     "output_type": "stream",
     "text": [
      "Skipping Yellow_Breasted_Chat_0088_21686_augmented.jpg due to loading error.\n"
     ]
    },
    {
     "name": "stderr",
     "output_type": "stream",
     "text": [
      "Processing images in /kaggle/working/Augmented_Processed_CropImage_Dataset/train_images/Yellow_breasted_Chat:   2%|▏         | 2/94 [00:00<00:05, 18.01it/s]"
     ]
    },
    {
     "name": "stdout",
     "output_type": "stream",
     "text": [
      "Skipping Yellow_Breasted_Chat_0094_21693_augmented.jpg due to loading error.\n",
      "Skipping Yellow_Breasted_Chat_0063_21783_augmented.jpg due to loading error.\n",
      "Skipping Yellow_Breasted_Chat_0001_21928_augmented.jpg due to loading error.\n"
     ]
    },
    {
     "name": "stderr",
     "output_type": "stream",
     "text": [
      "Processing images in /kaggle/working/Augmented_Processed_CropImage_Dataset/train_images/Yellow_breasted_Chat:   6%|▋         | 6/94 [00:00<00:03, 26.24it/s]"
     ]
    },
    {
     "name": "stdout",
     "output_type": "stream",
     "text": [
      "Skipping Yellow_Breasted_Chat_0005_21828_augmented.jpg due to loading error.\n",
      "Skipping Yellow_Breasted_Chat_0095_21832_augmented.jpg due to loading error.\n"
     ]
    },
    {
     "name": "stderr",
     "output_type": "stream",
     "text": [
      "Processing images in /kaggle/working/Augmented_Processed_CropImage_Dataset/train_images/Yellow_breasted_Chat:  13%|█▎        | 12/94 [00:00<00:03, 25.46it/s]"
     ]
    },
    {
     "name": "stdout",
     "output_type": "stream",
     "text": [
      "Skipping Yellow_Breasted_Chat_0002_21819_augmented.jpg due to loading error.\n",
      "Skipping Yellow_Breasted_Chat_0022_21944_augmented.jpg due to loading error.\n"
     ]
    },
    {
     "name": "stderr",
     "output_type": "stream",
     "text": [
      "Processing images in /kaggle/working/Augmented_Processed_CropImage_Dataset/train_images/Yellow_breasted_Chat:  22%|██▏       | 21/94 [00:01<00:04, 16.98it/s]"
     ]
    },
    {
     "name": "stdout",
     "output_type": "stream",
     "text": [
      "Skipping Yellow_Breasted_Chat_0087_21695_augmented.jpg due to loading error.\n",
      "Skipping Yellow_Breasted_Chat_0008_21856_augmented.jpg due to loading error.\n",
      "Skipping Yellow_Breasted_Chat_0012_21961_augmented.jpg due to loading error.\n"
     ]
    },
    {
     "name": "stderr",
     "output_type": "stream",
     "text": [
      "Processing images in /kaggle/working/Augmented_Processed_CropImage_Dataset/train_images/Yellow_breasted_Chat:  29%|██▊       | 27/94 [00:01<00:04, 15.73it/s]"
     ]
    },
    {
     "name": "stdout",
     "output_type": "stream",
     "text": [
      "Skipping Yellow_Breasted_Chat_0065_22137_augmented.jpg due to loading error.\n",
      "Skipping Yellow_Breasted_Chat_0062_21673_augmented.jpg due to loading error.\n"
     ]
    },
    {
     "name": "stderr",
     "output_type": "stream",
     "text": [
      "Processing images in /kaggle/working/Augmented_Processed_CropImage_Dataset/train_images/Yellow_breasted_Chat:  34%|███▍      | 32/94 [00:02<00:04, 12.99it/s]"
     ]
    },
    {
     "name": "stdout",
     "output_type": "stream",
     "text": [
      "Skipping Yellow_Breasted_Chat_0058_21864_augmented.jpg due to loading error.\n"
     ]
    },
    {
     "name": "stderr",
     "output_type": "stream",
     "text": [
      "Processing images in /kaggle/working/Augmented_Processed_CropImage_Dataset/train_images/Yellow_breasted_Chat:  38%|███▊      | 36/94 [00:02<00:04, 14.16it/s]"
     ]
    },
    {
     "name": "stdout",
     "output_type": "stream",
     "text": [
      "Skipping Yellow_Breasted_Chat_0048_21797_augmented.jpg due to loading error.\n",
      "Skipping Yellow_Breasted_Chat_0039_21654_augmented.jpg due to loading error.\n"
     ]
    },
    {
     "name": "stderr",
     "output_type": "stream",
     "text": [
      "Processing images in /kaggle/working/Augmented_Processed_CropImage_Dataset/train_images/Yellow_breasted_Chat:  45%|████▍     | 42/94 [00:02<00:03, 14.30it/s]"
     ]
    },
    {
     "name": "stdout",
     "output_type": "stream",
     "text": [
      "Skipping Yellow_Breasted_Chat_0014_21970_augmented.jpg due to loading error.\n",
      "Skipping Yellow_Breasted_Chat_0109_21796_augmented.jpg due to loading error.\n"
     ]
    },
    {
     "name": "stderr",
     "output_type": "stream",
     "text": [
      "Processing images in /kaggle/working/Augmented_Processed_CropImage_Dataset/train_images/Yellow_breasted_Chat:  50%|█████     | 47/94 [00:03<00:02, 17.61it/s]"
     ]
    },
    {
     "name": "stdout",
     "output_type": "stream",
     "text": [
      "Skipping Yellow_Breasted_Chat_0061_21967_augmented.jpg due to loading error.\n",
      "Skipping Yellow_Breasted_Chat_0097_21748_augmented.jpg due to loading error.\n",
      "Skipping Yellow_Breasted_Chat_0035_21870_augmented.jpg due to loading error.\n"
     ]
    },
    {
     "name": "stderr",
     "output_type": "stream",
     "text": [
      "Processing images in /kaggle/working/Augmented_Processed_CropImage_Dataset/train_images/Yellow_breasted_Chat:  54%|█████▍    | 51/94 [00:03<00:03, 13.82it/s]"
     ]
    },
    {
     "name": "stdout",
     "output_type": "stream",
     "text": [
      "Skipping Yellow_Breasted_Chat_0075_21715_augmented.jpg due to loading error.\n"
     ]
    },
    {
     "name": "stderr",
     "output_type": "stream",
     "text": [
      "Processing images in /kaggle/working/Augmented_Processed_CropImage_Dataset/train_images/Yellow_breasted_Chat:  56%|█████▋    | 53/94 [00:03<00:02, 14.40it/s]"
     ]
    },
    {
     "name": "stdout",
     "output_type": "stream",
     "text": [
      "Skipping Yellow_Breasted_Chat_0101_21677_augmented.jpg due to loading error.\n"
     ]
    },
    {
     "name": "stderr",
     "output_type": "stream",
     "text": [
      "Processing images in /kaggle/working/Augmented_Processed_CropImage_Dataset/train_images/Yellow_breasted_Chat:  63%|██████▎   | 59/94 [00:04<00:02, 11.97it/s]"
     ]
    },
    {
     "name": "stdout",
     "output_type": "stream",
     "text": [
      "Skipping Yellow_Breasted_Chat_0091_22111_augmented.jpg due to loading error.\n"
     ]
    },
    {
     "name": "stderr",
     "output_type": "stream",
     "text": [
      "Processing images in /kaggle/working/Augmented_Processed_CropImage_Dataset/train_images/Yellow_breasted_Chat:  73%|███████▎  | 69/94 [00:04<00:01, 18.09it/s]"
     ]
    },
    {
     "name": "stdout",
     "output_type": "stream",
     "text": [
      "Skipping Yellow_Breasted_Chat_0026_21845_augmented.jpg due to loading error.\n",
      "Skipping Yellow_Breasted_Chat_0011_21820_augmented.jpg due to loading error.\n",
      "Skipping Yellow_Breasted_Chat_0102_21696_augmented.jpg due to loading error.\n",
      "Skipping Yellow_Breasted_Chat_0081_21829_augmented.jpg due to loading error.\n",
      "Skipping Yellow_Breasted_Chat_0072_21830_augmented.jpg due to loading error.\n",
      "Skipping Yellow_Breasted_Chat_0029_22017_augmented.jpg due to loading error.\n",
      "Skipping Yellow_Breasted_Chat_0105_21714_augmented.jpg due to loading error.\n"
     ]
    },
    {
     "name": "stderr",
     "output_type": "stream",
     "text": [
      "Processing images in /kaggle/working/Augmented_Processed_CropImage_Dataset/train_images/Yellow_breasted_Chat:  81%|████████  | 76/94 [00:04<00:00, 22.64it/s]"
     ]
    },
    {
     "name": "stdout",
     "output_type": "stream",
     "text": [
      "Skipping Yellow_Breasted_Chat_0084_22082_augmented.jpg due to loading error.\n",
      "Skipping Yellow_Breasted_Chat_0066_21839_augmented.jpg due to loading error.\n",
      "Skipping Yellow_Breasted_Chat_0044_22106_augmented.jpg due to loading error.\n"
     ]
    },
    {
     "name": "stderr",
     "output_type": "stream",
     "text": [
      "Processing images in /kaggle/working/Augmented_Processed_CropImage_Dataset/train_images/Yellow_breasted_Chat:  84%|████████▍ | 79/94 [00:05<00:00, 22.82it/s]"
     ]
    },
    {
     "name": "stdout",
     "output_type": "stream",
     "text": [
      "Skipping Yellow_Breasted_Chat_0068_21860_augmented.jpg due to loading error.\n",
      "Skipping Yellow_Breasted_Chat_0052_21866_augmented.jpg due to loading error.\n",
      "Skipping Yellow_Breasted_Chat_0107_21698_augmented.jpg due to loading error.\n"
     ]
    },
    {
     "name": "stderr",
     "output_type": "stream",
     "text": [
      "Processing images in /kaggle/working/Augmented_Processed_CropImage_Dataset/train_images/Yellow_breasted_Chat: 100%|██████████| 94/94 [00:05<00:00, 16.78it/s]\n"
     ]
    },
    {
     "name": "stdout",
     "output_type": "stream",
     "text": [
      "Skipping Yellow_Breasted_Chat_0077_21986_augmented.jpg due to loading error.\n",
      "Skipping Yellow_Breasted_Chat_0090_21931_augmented.jpg due to loading error.\n",
      "Skipping Yellow_Breasted_Chat_0013_22008_augmented.jpg due to loading error.\n",
      "Skipping Yellow_Breasted_Chat_0023_21664_augmented.jpg due to loading error.\n",
      "Skipping Yellow_Breasted_Chat_0100_21913_augmented.jpg due to loading error.\n",
      "Skipping Yellow_Breasted_Chat_0030_21964_augmented.jpg due to loading error.\n",
      "Skipping Yellow_Breasted_Chat_0079_21978_augmented.jpg due to loading error.\n",
      "Skipping Yellow_Breasted_Chat_0106_22032_augmented.jpg due to loading error.\n",
      "Skipping Yellow_Breasted_Chat_0086_21877_augmented.jpg due to loading error.\n",
      "Skipping Yellow_Breasted_Chat_0071_22129_augmented.jpg due to loading error.\n"
     ]
    },
    {
     "name": "stderr",
     "output_type": "stream",
     "text": [
      "Processing images in /kaggle/working/Augmented_Processed_CropImage_Dataset/train_images/Yellow_headed_Blackbird:   3%|▎         | 3/88 [00:00<00:05, 14.87it/s]"
     ]
    },
    {
     "name": "stdout",
     "output_type": "stream",
     "text": [
      "Skipping Yellow_Headed_Blackbird_0008_8756_augmented.jpg due to loading error.\n"
     ]
    },
    {
     "name": "stderr",
     "output_type": "stream",
     "text": [
      "Processing images in /kaggle/working/Augmented_Processed_CropImage_Dataset/train_images/Yellow_headed_Blackbird:  10%|█         | 9/88 [00:00<00:05, 13.70it/s]"
     ]
    },
    {
     "name": "stdout",
     "output_type": "stream",
     "text": [
      "Skipping Yellow_Headed_Blackbird_0035_8447_augmented.jpg due to loading error.\n",
      "Skipping Yellow_Headed_Blackbird_0055_8357_augmented.jpg due to loading error.\n"
     ]
    },
    {
     "name": "stderr",
     "output_type": "stream",
     "text": [
      "Processing images in /kaggle/working/Augmented_Processed_CropImage_Dataset/train_images/Yellow_headed_Blackbird:  15%|█▍        | 13/88 [00:00<00:04, 15.19it/s]"
     ]
    },
    {
     "name": "stdout",
     "output_type": "stream",
     "text": [
      "Skipping Yellow_Headed_Blackbird_0073_8442_augmented.jpg due to loading error.\n",
      "Skipping Yellow_Headed_Blackbird_0009_8248_augmented.jpg due to loading error.\n"
     ]
    },
    {
     "name": "stderr",
     "output_type": "stream",
     "text": [
      "Processing images in /kaggle/working/Augmented_Processed_CropImage_Dataset/train_images/Yellow_headed_Blackbird:  20%|██        | 18/88 [00:01<00:04, 15.50it/s]"
     ]
    },
    {
     "name": "stdout",
     "output_type": "stream",
     "text": [
      "Skipping Yellow_Headed_Blackbird_0059_8079_augmented.jpg due to loading error.\n",
      "Skipping Yellow_Headed_Blackbird_0086_8487_augmented.jpg due to loading error.\n",
      "Skipping Yellow_Headed_Blackbird_0080_8601_augmented.jpg due to loading error.\n"
     ]
    },
    {
     "name": "stderr",
     "output_type": "stream",
     "text": [
      "Processing images in /kaggle/working/Augmented_Processed_CropImage_Dataset/train_images/Yellow_headed_Blackbird:  28%|██▊       | 25/88 [00:01<00:04, 15.36it/s]"
     ]
    },
    {
     "name": "stdout",
     "output_type": "stream",
     "text": [
      "Skipping Yellow_Headed_Blackbird_0109_8271_augmented.jpg due to loading error.\n",
      "Skipping Yellow_Headed_Blackbird_0042_8574_augmented.jpg due to loading error.\n"
     ]
    },
    {
     "name": "stderr",
     "output_type": "stream",
     "text": [
      "Processing images in /kaggle/working/Augmented_Processed_CropImage_Dataset/train_images/Yellow_headed_Blackbird:  36%|███▋      | 32/88 [00:02<00:02, 19.16it/s]"
     ]
    },
    {
     "name": "stdout",
     "output_type": "stream",
     "text": [
      "Skipping Yellow_Headed_Blackbird_0038_8689_augmented.jpg due to loading error.\n",
      "Skipping Yellow_Headed_Blackbird_0056_8455_augmented.jpg due to loading error.\n",
      "Skipping Yellow_Headed_Blackbird_0072_8606_augmented.jpg due to loading error.\n",
      "Skipping Yellow_Headed_Blackbird_0024_8586_augmented.jpg due to loading error.\n"
     ]
    },
    {
     "name": "stderr",
     "output_type": "stream",
     "text": [
      "Processing images in /kaggle/working/Augmented_Processed_CropImage_Dataset/train_images/Yellow_headed_Blackbird:  40%|███▉      | 35/88 [00:02<00:03, 16.49it/s]"
     ]
    },
    {
     "name": "stdout",
     "output_type": "stream",
     "text": [
      "Skipping Yellow_Headed_Blackbird_0049_8548_augmented.jpg due to loading error.\n"
     ]
    },
    {
     "name": "stderr",
     "output_type": "stream",
     "text": [
      "Processing images in /kaggle/working/Augmented_Processed_CropImage_Dataset/train_images/Yellow_headed_Blackbird:  47%|████▋     | 41/88 [00:02<00:03, 15.02it/s]"
     ]
    },
    {
     "name": "stdout",
     "output_type": "stream",
     "text": [
      "Skipping Yellow_Headed_Blackbird_0047_7929_augmented.jpg due to loading error.\n",
      "Skipping Yellow_Headed_Blackbird_0058_8350_augmented.jpg due to loading error.\n",
      "Skipping Yellow_Headed_Blackbird_0040_7514_augmented.jpg due to loading error.\n"
     ]
    },
    {
     "name": "stderr",
     "output_type": "stream",
     "text": [
      "Processing images in /kaggle/working/Augmented_Processed_CropImage_Dataset/train_images/Yellow_headed_Blackbird:  51%|█████     | 45/88 [00:03<00:02, 15.98it/s]"
     ]
    },
    {
     "name": "stdout",
     "output_type": "stream",
     "text": [
      "Skipping Yellow_Headed_Blackbird_0095_8458_augmented.jpg due to loading error.\n",
      "Skipping Yellow_Headed_Blackbird_0013_8362_augmented.jpg due to loading error.\n",
      "Skipping Yellow_Headed_Blackbird_0102_8441_augmented.jpg due to loading error.\n"
     ]
    },
    {
     "name": "stderr",
     "output_type": "stream",
     "text": [
      "Processing images in /kaggle/working/Augmented_Processed_CropImage_Dataset/train_images/Yellow_headed_Blackbird:  61%|██████▏   | 54/88 [00:03<00:01, 22.21it/s]"
     ]
    },
    {
     "name": "stdout",
     "output_type": "stream",
     "text": [
      "Skipping Yellow_Headed_Blackbird_0053_8410_augmented.jpg due to loading error.\n",
      "Skipping Yellow_Headed_Blackbird_0015_8207_augmented.jpg due to loading error.\n",
      "Skipping Yellow_Headed_Blackbird_0100_8407_augmented.jpg due to loading error.\n",
      "Skipping Yellow_Headed_Blackbird_0043_8250_augmented.jpg due to loading error.\n",
      "Skipping Yellow_Headed_Blackbird_0070_8583_augmented.jpg due to loading error.\n",
      "Skipping Yellow_Headed_Blackbird_0108_7937_augmented.jpg due to loading error.\n",
      "Skipping Yellow_Headed_Blackbird_0085_8363_augmented.jpg due to loading error.\n"
     ]
    },
    {
     "name": "stderr",
     "output_type": "stream",
     "text": [
      "Processing images in /kaggle/working/Augmented_Processed_CropImage_Dataset/train_images/Yellow_headed_Blackbird:  70%|███████   | 62/88 [00:03<00:00, 27.47it/s]"
     ]
    },
    {
     "name": "stdout",
     "output_type": "stream",
     "text": [
      "Skipping Yellow_Headed_Blackbird_0074_8452_augmented.jpg due to loading error.\n",
      "Skipping Yellow_Headed_Blackbird_0083_8300_augmented.jpg due to loading error.\n",
      "Skipping Yellow_Headed_Blackbird_0025_8262_augmented.jpg due to loading error.\n",
      "Skipping Yellow_Headed_Blackbird_0098_8367_augmented.jpg due to loading error.\n",
      "Skipping Yellow_Headed_Blackbird_0089_8326_augmented.jpg due to loading error.\n"
     ]
    },
    {
     "name": "stderr",
     "output_type": "stream",
     "text": [
      "Processing images in /kaggle/working/Augmented_Processed_CropImage_Dataset/train_images/Yellow_headed_Blackbird:  81%|████████  | 71/88 [00:04<00:00, 18.97it/s]"
     ]
    },
    {
     "name": "stdout",
     "output_type": "stream",
     "text": [
      "Skipping Yellow_Headed_Blackbird_0041_8264_augmented.jpg due to loading error.\n",
      "Skipping Yellow_Headed_Blackbird_0003_8337_augmented.jpg due to loading error.\n",
      "Skipping Yellow_Headed_Blackbird_0084_8435_augmented.jpg due to loading error.\n",
      "Skipping Yellow_Headed_Blackbird_0077_8332_augmented.jpg due to loading error.\n"
     ]
    },
    {
     "name": "stderr",
     "output_type": "stream",
     "text": [
      "Processing images in /kaggle/working/Augmented_Processed_CropImage_Dataset/train_images/Yellow_headed_Blackbird:  90%|████████▉ | 79/88 [00:04<00:00, 17.70it/s]"
     ]
    },
    {
     "name": "stdout",
     "output_type": "stream",
     "text": [
      "Skipping Yellow_Headed_Blackbird_0057_8236_augmented.jpg due to loading error.\n",
      "Skipping Yellow_Headed_Blackbird_0012_8443_augmented.jpg due to loading error.\n",
      "Skipping Yellow_Headed_Blackbird_0079_8535_augmented.jpg due to loading error.\n",
      "Skipping Yellow_Headed_Blackbird_0018_8588_augmented.jpg due to loading error.\n"
     ]
    },
    {
     "name": "stderr",
     "output_type": "stream",
     "text": [
      "Processing images in /kaggle/working/Augmented_Processed_CropImage_Dataset/train_images/Yellow_headed_Blackbird:  97%|█████████▋| 85/88 [00:04<00:00, 21.48it/s]"
     ]
    },
    {
     "name": "stdout",
     "output_type": "stream",
     "text": [
      "Skipping Yellow_Headed_Blackbird_0051_8387_augmented.jpg due to loading error.\n",
      "Skipping Yellow_Headed_Blackbird_0088_8257_augmented.jpg due to loading error.\n",
      "Skipping Yellow_Headed_Blackbird_0017_8511_augmented.jpg due to loading error.\n"
     ]
    },
    {
     "name": "stderr",
     "output_type": "stream",
     "text": [
      "Processing images in /kaggle/working/Augmented_Processed_CropImage_Dataset/train_images/Yellow_headed_Blackbird: 100%|██████████| 88/88 [00:05<00:00, 16.98it/s]\n",
      "Processing images in /kaggle/working/Augmented_Processed_CropImage_Dataset/train_images/Brown_Creeper:   2%|▏         | 2/94 [00:00<00:06, 15.11it/s]"
     ]
    },
    {
     "name": "stdout",
     "output_type": "stream",
     "text": [
      "Skipping Brown_Creeper_0042_24578_augmented.jpg due to loading error.\n",
      "Skipping Brown_Creeper_0075_24947_augmented.jpg due to loading error.\n",
      "Skipping Brown_Creeper_0063_24724_augmented.jpg due to loading error.\n"
     ]
    },
    {
     "name": "stderr",
     "output_type": "stream",
     "text": [
      "Processing images in /kaggle/working/Augmented_Processed_CropImage_Dataset/train_images/Brown_Creeper:   9%|▊         | 8/94 [00:00<00:05, 15.47it/s]"
     ]
    },
    {
     "name": "stdout",
     "output_type": "stream",
     "text": [
      "Skipping Brown_Creeper_0006_25034_augmented.jpg due to loading error.\n",
      "Skipping Brown_Creeper_0061_24601_augmented.jpg due to loading error.\n"
     ]
    },
    {
     "name": "stderr",
     "output_type": "stream",
     "text": [
      "Processing images in /kaggle/working/Augmented_Processed_CropImage_Dataset/train_images/Brown_Creeper:  15%|█▍        | 14/94 [00:00<00:06, 13.28it/s]"
     ]
    },
    {
     "name": "stdout",
     "output_type": "stream",
     "text": [
      "Skipping Brown_Creeper_0110_24866_augmented.jpg due to loading error.\n",
      "Skipping Brown_Creeper_0123_24589_augmented.jpg due to loading error.\n",
      "Skipping Brown_Creeper_0027_24729_augmented.jpg due to loading error.\n"
     ]
    },
    {
     "name": "stderr",
     "output_type": "stream",
     "text": [
      "Processing images in /kaggle/working/Augmented_Processed_CropImage_Dataset/train_images/Brown_Creeper:  20%|██        | 19/94 [00:01<00:04, 15.93it/s]"
     ]
    },
    {
     "name": "stdout",
     "output_type": "stream",
     "text": [
      "Skipping Brown_Creeper_0065_24464_augmented.jpg due to loading error.\n"
     ]
    },
    {
     "name": "stderr",
     "output_type": "stream",
     "text": [
      "Processing images in /kaggle/working/Augmented_Processed_CropImage_Dataset/train_images/Brown_Creeper:  27%|██▋       | 25/94 [00:01<00:04, 14.27it/s]"
     ]
    },
    {
     "name": "stdout",
     "output_type": "stream",
     "text": [
      "Skipping Brown_Creeper_0058_24933_augmented.jpg due to loading error.\n",
      "Skipping Brown_Creeper_0023_24940_augmented.jpg due to loading error.\n",
      "Skipping Brown_Creeper_0127_24656_augmented.jpg due to loading error.\n",
      "Skipping Brown_Creeper_0089_24841_augmented.jpg due to loading error.\n",
      "Skipping Brown_Creeper_0057_24529_augmented.jpg due to loading error.\n"
     ]
    },
    {
     "name": "stderr",
     "output_type": "stream",
     "text": [
      "Processing images in /kaggle/working/Augmented_Processed_CropImage_Dataset/train_images/Brown_Creeper:  31%|███       | 29/94 [00:01<00:03, 20.12it/s]"
     ]
    },
    {
     "name": "stdout",
     "output_type": "stream",
     "text": [
      "Skipping Brown_Creeper_0005_24659_augmented.jpg due to loading error.\n"
     ]
    },
    {
     "name": "stderr",
     "output_type": "stream",
     "text": [
      "Processing images in /kaggle/working/Augmented_Processed_CropImage_Dataset/train_images/Brown_Creeper:  40%|████      | 38/94 [00:02<00:04, 12.97it/s]"
     ]
    },
    {
     "name": "stdout",
     "output_type": "stream",
     "text": [
      "Skipping Brown_Creeper_0118_24500_augmented.jpg due to loading error.\n",
      "Skipping Brown_Creeper_0124_24963_augmented.jpg due to loading error.\n"
     ]
    },
    {
     "name": "stderr",
     "output_type": "stream",
     "text": [
      "Processing images in /kaggle/working/Augmented_Processed_CropImage_Dataset/train_images/Brown_Creeper:  46%|████▌     | 43/94 [00:02<00:03, 16.15it/s]"
     ]
    },
    {
     "name": "stdout",
     "output_type": "stream",
     "text": [
      "Skipping Brown_Creeper_0088_24731_augmented.jpg due to loading error.\n",
      "Skipping Brown_Creeper_0064_24840_augmented.jpg due to loading error.\n",
      "Skipping Brown_Creeper_0029_24912_augmented.jpg due to loading error.\n",
      "Skipping Brown_Creeper_0049_24911_augmented.jpg due to loading error.\n"
     ]
    },
    {
     "name": "stderr",
     "output_type": "stream",
     "text": [
      "Processing images in /kaggle/working/Augmented_Processed_CropImage_Dataset/train_images/Brown_Creeper:  57%|█████▋    | 54/94 [00:03<00:02, 19.32it/s]"
     ]
    },
    {
     "name": "stdout",
     "output_type": "stream",
     "text": [
      "Skipping Brown_Creeper_0059_25010_augmented.jpg due to loading error.\n",
      "Skipping Brown_Creeper_0115_24488_augmented.jpg due to loading error.\n",
      "Skipping Brown_Creeper_0074_24789_augmented.jpg due to loading error.\n",
      "Skipping Brown_Creeper_0002_24838_augmented.jpg due to loading error.\n",
      "Skipping Brown_Creeper_0056_24452_augmented.jpg due to loading error.\n"
     ]
    },
    {
     "name": "stderr",
     "output_type": "stream",
     "text": [
      "Processing images in /kaggle/working/Augmented_Processed_CropImage_Dataset/train_images/Brown_Creeper:  64%|██████▍   | 60/94 [00:03<00:01, 20.88it/s]"
     ]
    },
    {
     "name": "stdout",
     "output_type": "stream",
     "text": [
      "Skipping Brown_Creeper_0121_24574_augmented.jpg due to loading error.\n",
      "Skipping Brown_Creeper_0048_24976_augmented.jpg due to loading error.\n",
      "Skipping Brown_Creeper_0101_24987_augmented.jpg due to loading error.\n"
     ]
    },
    {
     "name": "stderr",
     "output_type": "stream",
     "text": [
      "Processing images in /kaggle/working/Augmented_Processed_CropImage_Dataset/train_images/Brown_Creeper:  67%|██████▋   | 63/94 [00:04<00:02, 14.40it/s]"
     ]
    },
    {
     "name": "stdout",
     "output_type": "stream",
     "text": [
      "Skipping Brown_Creeper_0085_24938_augmented.jpg due to loading error.\n"
     ]
    },
    {
     "name": "stderr",
     "output_type": "stream",
     "text": [
      "Processing images in /kaggle/working/Augmented_Processed_CropImage_Dataset/train_images/Brown_Creeper:  79%|███████▊  | 74/94 [00:04<00:01, 17.19it/s]"
     ]
    },
    {
     "name": "stdout",
     "output_type": "stream",
     "text": [
      "Skipping Brown_Creeper_0073_24546_augmented.jpg due to loading error.\n",
      "Skipping Brown_Creeper_0100_24502_augmented.jpg due to loading error.\n",
      "Skipping Brown_Creeper_0079_24647_augmented.jpg due to loading error.\n",
      "Skipping Brown_Creeper_0106_24617_augmented.jpg due to loading error.\n"
     ]
    },
    {
     "name": "stderr",
     "output_type": "stream",
     "text": [
      "Processing images in /kaggle/working/Augmented_Processed_CropImage_Dataset/train_images/Brown_Creeper:  83%|████████▎ | 78/94 [00:05<00:00, 16.59it/s]"
     ]
    },
    {
     "name": "stdout",
     "output_type": "stream",
     "text": [
      "Skipping Brown_Creeper_0072_24977_augmented.jpg due to loading error.\n",
      "Skipping Brown_Creeper_0125_24995_augmented.jpg due to loading error.\n",
      "Skipping Brown_Creeper_0031_24999_augmented.jpg due to loading error.\n",
      "Skipping Brown_Creeper_0047_24984_augmented.jpg due to loading error.\n",
      "Skipping Brown_Creeper_0004_24851_augmented.jpg due to loading error.\n",
      "Skipping Brown_Creeper_0083_24967_augmented.jpg due to loading error.\n",
      "Skipping Brown_Creeper_0001_24449_augmented.jpg due to loading error.\n"
     ]
    },
    {
     "name": "stderr",
     "output_type": "stream",
     "text": [
      "Processing images in /kaggle/working/Augmented_Processed_CropImage_Dataset/train_images/Brown_Creeper:  93%|█████████▎| 87/94 [00:05<00:00, 24.64it/s]"
     ]
    },
    {
     "name": "stdout",
     "output_type": "stream",
     "text": [
      "Skipping Brown_Creeper_0069_24618_augmented.jpg due to loading error.\n",
      "Skipping Brown_Creeper_0012_24956_augmented.jpg due to loading error.\n",
      "Skipping Brown_Creeper_0113_24560_augmented.jpg due to loading error.\n",
      "Skipping Brown_Creeper_0103_24632_augmented.jpg due to loading error.\n"
     ]
    },
    {
     "name": "stderr",
     "output_type": "stream",
     "text": [
      "Processing images in /kaggle/working/Augmented_Processed_CropImage_Dataset/train_images/Brown_Creeper:  99%|█████████▉| 93/94 [00:05<00:00, 24.28it/s]"
     ]
    },
    {
     "name": "stdout",
     "output_type": "stream",
     "text": [
      "Skipping Brown_Creeper_0120_24955_augmented.jpg due to loading error.\n",
      "Skipping Brown_Creeper_0007_24902_augmented.jpg due to loading error.\n"
     ]
    },
    {
     "name": "stderr",
     "output_type": "stream",
     "text": [
      "Processing images in /kaggle/working/Augmented_Processed_CropImage_Dataset/train_images/Brown_Creeper: 100%|██████████| 94/94 [00:05<00:00, 16.55it/s]\n",
      "Processing images in /kaggle/working/Augmented_Processed_CropImage_Dataset/train_images/Bronzed_Cowbird:   3%|▎         | 3/96 [00:00<00:04, 23.19it/s]"
     ]
    },
    {
     "name": "stdout",
     "output_type": "stream",
     "text": [
      "Skipping Bronzed_Cowbird_0026_796229_augmented.jpg due to loading error.\n",
      "Skipping Bronzed_Cowbird_0064_24199_augmented.jpg due to loading error.\n"
     ]
    },
    {
     "name": "stderr",
     "output_type": "stream",
     "text": [
      "Processing images in /kaggle/working/Augmented_Processed_CropImage_Dataset/train_images/Bronzed_Cowbird:  11%|█▏        | 11/96 [00:00<00:04, 20.25it/s]"
     ]
    },
    {
     "name": "stdout",
     "output_type": "stream",
     "text": [
      "Skipping Bronzed_Cowbird_0021_24189_augmented.jpg due to loading error.\n",
      "Skipping Bronzed_Cowbird_0016_796245_augmented.jpg due to loading error.\n",
      "Skipping Bronzed_Cowbird_0022_796221_augmented.jpg due to loading error.\n",
      "Skipping Bronzed_Cowbird_0013_24131_augmented.jpg due to loading error.\n",
      "Skipping Bronzed_Cowbird_0058_796239_augmented.jpg due to loading error.\n",
      "Skipping Bronzed_Cowbird_0025_796213_augmented.jpg due to loading error.\n",
      "Skipping Bronzed_Cowbird_0055_24076_augmented.jpg due to loading error.\n",
      "Skipping Bronzed_Cowbird_0053_24170_augmented.jpg due to loading error.\n",
      "Skipping Bronzed_Cowbird_0090_24179_augmented.jpg due to loading error.\n",
      "Skipping Bronzed_Cowbird_0073_796226_augmented.jpg due to loading error.\n"
     ]
    },
    {
     "name": "stderr",
     "output_type": "stream",
     "text": [
      "Processing images in /kaggle/working/Augmented_Processed_CropImage_Dataset/train_images/Bronzed_Cowbird:  23%|██▎       | 22/96 [00:00<00:02, 30.99it/s]"
     ]
    },
    {
     "name": "stdout",
     "output_type": "stream",
     "text": [
      "Skipping Bronzed_Cowbird_0024_24167_augmented.jpg due to loading error.\n",
      "Skipping Bronzed_Cowbird_0062_796238_augmented.jpg due to loading error.\n",
      "Skipping Bronzed_Cowbird_0014_24030_augmented.jpg due to loading error.\n"
     ]
    },
    {
     "name": "stderr",
     "output_type": "stream",
     "text": [
      "Processing images in /kaggle/working/Augmented_Processed_CropImage_Dataset/train_images/Bronzed_Cowbird:  30%|███       | 29/96 [00:01<00:03, 20.95it/s]"
     ]
    },
    {
     "name": "stdout",
     "output_type": "stream",
     "text": [
      "Skipping Bronzed_Cowbird_0017_24019_augmented.jpg due to loading error.\n",
      "Skipping Bronzed_Cowbird_0087_796223_augmented.jpg due to loading error.\n",
      "Skipping Bronzed_Cowbird_0078_796262_augmented.jpg due to loading error.\n"
     ]
    },
    {
     "name": "stderr",
     "output_type": "stream",
     "text": [
      "Processing images in /kaggle/working/Augmented_Processed_CropImage_Dataset/train_images/Bronzed_Cowbird:  33%|███▎      | 32/96 [00:01<00:03, 19.00it/s]"
     ]
    },
    {
     "name": "stdout",
     "output_type": "stream",
     "text": [
      "Skipping Bronzed_Cowbird_0040_24134_augmented.jpg due to loading error.\n",
      "Skipping Bronzed_Cowbird_0003_796246_augmented.jpg due to loading error.\n"
     ]
    },
    {
     "name": "stderr",
     "output_type": "stream",
     "text": [
      "Processing images in /kaggle/working/Augmented_Processed_CropImage_Dataset/train_images/Bronzed_Cowbird:  39%|███▊      | 37/96 [00:01<00:03, 16.48it/s]"
     ]
    },
    {
     "name": "stdout",
     "output_type": "stream",
     "text": [
      "Skipping Bronzed_Cowbird_0081_24198_augmented.jpg due to loading error.\n",
      "Skipping Bronzed_Cowbird_0091_796212_augmented.jpg due to loading error.\n"
     ]
    },
    {
     "name": "stderr",
     "output_type": "stream",
     "text": [
      "Processing images in /kaggle/working/Augmented_Processed_CropImage_Dataset/train_images/Bronzed_Cowbird:  44%|████▍     | 42/96 [00:02<00:02, 18.48it/s]"
     ]
    },
    {
     "name": "stdout",
     "output_type": "stream",
     "text": [
      "Skipping Bronzed_Cowbird_0044_24145_augmented.jpg due to loading error.\n",
      "Skipping Bronzed_Cowbird_0085_24152_augmented.jpg due to loading error.\n"
     ]
    },
    {
     "name": "stderr",
     "output_type": "stream",
     "text": [
      "Processing images in /kaggle/working/Augmented_Processed_CropImage_Dataset/train_images/Bronzed_Cowbird:  51%|█████     | 49/96 [00:02<00:03, 12.42it/s]"
     ]
    },
    {
     "name": "stdout",
     "output_type": "stream",
     "text": [
      "Skipping Bronzed_Cowbird_0037_24032_augmented.jpg due to loading error.\n",
      "Skipping Bronzed_Cowbird_0018_24140_augmented.jpg due to loading error.\n",
      "Skipping Bronzed_Cowbird_0074_24045_augmented.jpg due to loading error.\n",
      "Skipping Bronzed_Cowbird_0029_796256_augmented.jpg due to loading error.\n"
     ]
    },
    {
     "name": "stderr",
     "output_type": "stream",
     "text": [
      "Processing images in /kaggle/working/Augmented_Processed_CropImage_Dataset/train_images/Bronzed_Cowbird:  55%|█████▌    | 53/96 [00:02<00:02, 16.63it/s]"
     ]
    },
    {
     "name": "stdout",
     "output_type": "stream",
     "text": [
      "No bird found in Bronzed_Cowbird_0055_24076.jpg, skipping.\n"
     ]
    },
    {
     "name": "stderr",
     "output_type": "stream",
     "text": [
      "Processing images in /kaggle/working/Augmented_Processed_CropImage_Dataset/train_images/Bronzed_Cowbird:  59%|█████▉    | 57/96 [00:03<00:02, 14.17it/s]"
     ]
    },
    {
     "name": "stdout",
     "output_type": "stream",
     "text": [
      "Skipping Bronzed_Cowbird_0092_796215_augmented.jpg due to loading error.\n",
      "Skipping Bronzed_Cowbird_0005_24173_augmented.jpg due to loading error.\n"
     ]
    },
    {
     "name": "stderr",
     "output_type": "stream",
     "text": [
      "Processing images in /kaggle/working/Augmented_Processed_CropImage_Dataset/train_images/Bronzed_Cowbird:  66%|██████▌   | 63/96 [00:03<00:02, 13.26it/s]"
     ]
    },
    {
     "name": "stdout",
     "output_type": "stream",
     "text": [
      "Skipping Bronzed_Cowbird_0023_24058_augmented.jpg due to loading error.\n",
      "Skipping Bronzed_Cowbird_0027_24022_augmented.jpg due to loading error.\n"
     ]
    },
    {
     "name": "stderr",
     "output_type": "stream",
     "text": [
      "Processing images in /kaggle/working/Augmented_Processed_CropImage_Dataset/train_images/Bronzed_Cowbird:  70%|██████▉   | 67/96 [00:04<00:01, 14.60it/s]"
     ]
    },
    {
     "name": "stdout",
     "output_type": "stream",
     "text": [
      "Skipping Bronzed_Cowbird_0030_24103_augmented.jpg due to loading error.\n"
     ]
    },
    {
     "name": "stderr",
     "output_type": "stream",
     "text": [
      "Processing images in /kaggle/working/Augmented_Processed_CropImage_Dataset/train_images/Bronzed_Cowbird:  77%|███████▋  | 74/96 [00:04<00:01, 13.37it/s]"
     ]
    },
    {
     "name": "stdout",
     "output_type": "stream",
     "text": [
      "Skipping Bronzed_Cowbird_0061_796232_augmented.jpg due to loading error.\n",
      "Skipping Bronzed_Cowbird_0034_796209_augmented.jpg due to loading error.\n"
     ]
    },
    {
     "name": "stderr",
     "output_type": "stream",
     "text": [
      "Processing images in /kaggle/working/Augmented_Processed_CropImage_Dataset/train_images/Bronzed_Cowbird:  79%|███████▉  | 76/96 [00:04<00:01, 14.10it/s]"
     ]
    },
    {
     "name": "stdout",
     "output_type": "stream",
     "text": [
      "Skipping Bronzed_Cowbird_0019_796242_augmented.jpg due to loading error.\n"
     ]
    },
    {
     "name": "stderr",
     "output_type": "stream",
     "text": [
      "Processing images in /kaggle/working/Augmented_Processed_CropImage_Dataset/train_images/Bronzed_Cowbird:  85%|████████▌ | 82/96 [00:05<00:00, 17.20it/s]"
     ]
    },
    {
     "name": "stdout",
     "output_type": "stream",
     "text": [
      "Skipping Bronzed_Cowbird_0052_796216_augmented.jpg due to loading error.\n",
      "Skipping Bronzed_Cowbird_0046_796218_augmented.jpg due to loading error.\n",
      "Skipping Bronzed_Cowbird_0049_24147_augmented.jpg due to loading error.\n"
     ]
    },
    {
     "name": "stderr",
     "output_type": "stream",
     "text": [
      "Processing images in /kaggle/working/Augmented_Processed_CropImage_Dataset/train_images/Bronzed_Cowbird:  92%|█████████▏| 88/96 [00:05<00:00, 20.80it/s]"
     ]
    },
    {
     "name": "stdout",
     "output_type": "stream",
     "text": [
      "Skipping Bronzed_Cowbird_0057_24074_augmented.jpg due to loading error.\n",
      "Skipping Bronzed_Cowbird_0001_796219_augmented.jpg due to loading error.\n",
      "Skipping Bronzed_Cowbird_0054_24159_augmented.jpg due to loading error.\n",
      "Skipping Bronzed_Cowbird_0031_24139_augmented.jpg due to loading error.\n",
      "Skipping Bronzed_Cowbird_0051_24083_augmented.jpg due to loading error.\n"
     ]
    },
    {
     "name": "stderr",
     "output_type": "stream",
     "text": [
      "Processing images in /kaggle/working/Augmented_Processed_CropImage_Dataset/train_images/Bronzed_Cowbird:  95%|█████████▍| 91/96 [00:05<00:00, 21.58it/s]"
     ]
    },
    {
     "name": "stdout",
     "output_type": "stream",
     "text": [
      "Skipping Bronzed_Cowbird_0011_24138_augmented.jpg due to loading error.\n",
      "Skipping Bronzed_Cowbird_0002_796244_augmented.jpg due to loading error.\n"
     ]
    },
    {
     "name": "stderr",
     "output_type": "stream",
     "text": [
      "Processing images in /kaggle/working/Augmented_Processed_CropImage_Dataset/train_images/Bronzed_Cowbird: 100%|██████████| 96/96 [00:05<00:00, 16.67it/s]\n"
     ]
    },
    {
     "name": "stdout",
     "output_type": "stream",
     "text": [
      "Skipping Bronzed_Cowbird_0089_796220_augmented.jpg due to loading error.\n",
      "Skipping Bronzed_Cowbird_0032_796233_augmented.jpg due to loading error.\n"
     ]
    },
    {
     "name": "stderr",
     "output_type": "stream",
     "text": [
      "Processing images in /kaggle/working/Augmented_Processed_CropImage_Dataset/train_images/Bobolink:   2%|▏         | 2/96 [00:00<00:05, 16.63it/s]"
     ]
    },
    {
     "name": "stdout",
     "output_type": "stream",
     "text": [
      "Skipping Bobolink_0047_9204_augmented.jpg due to loading error.\n"
     ]
    },
    {
     "name": "stderr",
     "output_type": "stream",
     "text": [
      "Processing images in /kaggle/working/Augmented_Processed_CropImage_Dataset/train_images/Bobolink:  10%|█         | 10/96 [00:00<00:04, 19.75it/s]"
     ]
    },
    {
     "name": "stdout",
     "output_type": "stream",
     "text": [
      "Skipping Bobolink_0013_9367_augmented.jpg due to loading error.\n",
      "Skipping Bobolink_0048_9988_augmented.jpg due to loading error.\n",
      "Skipping Bobolink_0052_9423_augmented.jpg due to loading error.\n",
      "Skipping Bobolink_0107_10252_augmented.jpg due to loading error.\n"
     ]
    },
    {
     "name": "stderr",
     "output_type": "stream",
     "text": [
      "Processing images in /kaggle/working/Augmented_Processed_CropImage_Dataset/train_images/Bobolink:  16%|█▌        | 15/96 [00:00<00:04, 16.37it/s]"
     ]
    },
    {
     "name": "stdout",
     "output_type": "stream",
     "text": [
      "Skipping Bobolink_0126_11458_augmented.jpg due to loading error.\n",
      "Skipping Bobolink_0050_9821_augmented.jpg due to loading error.\n"
     ]
    },
    {
     "name": "stderr",
     "output_type": "stream",
     "text": [
      "Processing images in /kaggle/working/Augmented_Processed_CropImage_Dataset/train_images/Bobolink:  20%|█▉        | 19/96 [00:01<00:05, 14.21it/s]"
     ]
    },
    {
     "name": "stdout",
     "output_type": "stream",
     "text": [
      "Skipping Bobolink_0115_9265_augmented.jpg due to loading error.\n"
     ]
    },
    {
     "name": "stderr",
     "output_type": "stream",
     "text": [
      "Processing images in /kaggle/working/Augmented_Processed_CropImage_Dataset/train_images/Bobolink:  29%|██▉       | 28/96 [00:02<00:04, 14.96it/s]"
     ]
    },
    {
     "name": "stdout",
     "output_type": "stream",
     "text": [
      "Skipping Bobolink_0019_10552_augmented.jpg due to loading error.\n",
      "Skipping Bobolink_0039_9779_augmented.jpg due to loading error.\n",
      "Skipping Bobolink_0110_9496_augmented.jpg due to loading error.\n",
      "Skipping Bobolink_0026_11057_augmented.jpg due to loading error.\n",
      "Skipping Bobolink_0071_9503_augmented.jpg due to loading error.\n",
      "Skipping Bobolink_0112_11073_augmented.jpg due to loading error.\n"
     ]
    },
    {
     "name": "stderr",
     "output_type": "stream",
     "text": [
      "Processing images in /kaggle/working/Augmented_Processed_CropImage_Dataset/train_images/Bobolink:  36%|███▋      | 35/96 [00:02<00:03, 19.55it/s]"
     ]
    },
    {
     "name": "stdout",
     "output_type": "stream",
     "text": [
      "Skipping Bobolink_0074_9311_augmented.jpg due to loading error.\n",
      "Skipping Bobolink_0001_9261_augmented.jpg due to loading error.\n",
      "Skipping Bobolink_0035_11117_augmented.jpg due to loading error.\n"
     ]
    },
    {
     "name": "stderr",
     "output_type": "stream",
     "text": [
      "Processing images in /kaggle/working/Augmented_Processed_CropImage_Dataset/train_images/Bobolink:  43%|████▎     | 41/96 [00:02<00:02, 18.75it/s]"
     ]
    },
    {
     "name": "stdout",
     "output_type": "stream",
     "text": [
      "Skipping Bobolink_0104_10273_augmented.jpg due to loading error.\n",
      "Skipping Bobolink_0101_9811_augmented.jpg due to loading error.\n"
     ]
    },
    {
     "name": "stderr",
     "output_type": "stream",
     "text": [
      "Processing images in /kaggle/working/Augmented_Processed_CropImage_Dataset/train_images/Bobolink:  48%|████▊     | 46/96 [00:03<00:03, 14.37it/s]"
     ]
    },
    {
     "name": "stdout",
     "output_type": "stream",
     "text": [
      "Skipping Bobolink_0119_10430_augmented.jpg due to loading error.\n"
     ]
    },
    {
     "name": "stderr",
     "output_type": "stream",
     "text": [
      "Processing images in /kaggle/working/Augmented_Processed_CropImage_Dataset/train_images/Bobolink:  54%|█████▍    | 52/96 [00:03<00:03, 13.77it/s]"
     ]
    },
    {
     "name": "stdout",
     "output_type": "stream",
     "text": [
      "Skipping Bobolink_0053_10166_augmented.jpg due to loading error.\n",
      "Skipping Bobolink_0032_10217_augmented.jpg due to loading error.\n",
      "Skipping Bobolink_0008_9289_augmented.jpg due to loading error.\n"
     ]
    },
    {
     "name": "stderr",
     "output_type": "stream",
     "text": [
      "Processing images in /kaggle/working/Augmented_Processed_CropImage_Dataset/train_images/Bobolink:  58%|█████▊    | 56/96 [00:03<00:02, 14.93it/s]"
     ]
    },
    {
     "name": "stdout",
     "output_type": "stream",
     "text": [
      "Skipping Bobolink_0014_11055_augmented.jpg due to loading error.\n"
     ]
    },
    {
     "name": "stderr",
     "output_type": "stream",
     "text": [
      "Processing images in /kaggle/working/Augmented_Processed_CropImage_Dataset/train_images/Bobolink:  65%|██████▍   | 62/96 [00:04<00:02, 16.39it/s]"
     ]
    },
    {
     "name": "stdout",
     "output_type": "stream",
     "text": [
      "Skipping Bobolink_0109_9869_augmented.jpg due to loading error.\n",
      "Skipping Bobolink_0040_9681_augmented.jpg due to loading error.\n",
      "Skipping Bobolink_0128_9947_augmented.jpg due to loading error.\n",
      "Skipping Bobolink_0049_9540_augmented.jpg due to loading error.\n"
     ]
    },
    {
     "name": "stderr",
     "output_type": "stream",
     "text": [
      "Processing images in /kaggle/working/Augmented_Processed_CropImage_Dataset/train_images/Bobolink:  71%|███████   | 68/96 [00:04<00:01, 20.13it/s]"
     ]
    },
    {
     "name": "stdout",
     "output_type": "stream",
     "text": [
      "Skipping Bobolink_0057_10051_augmented.jpg due to loading error.\n",
      "Skipping Bobolink_0059_10041_augmented.jpg due to loading error.\n",
      "Skipping Bobolink_0043_10607_augmented.jpg due to loading error.\n",
      "Skipping Bobolink_0117_10215_augmented.jpg due to loading error.\n"
     ]
    },
    {
     "name": "stderr",
     "output_type": "stream",
     "text": [
      "Processing images in /kaggle/working/Augmented_Processed_CropImage_Dataset/train_images/Bobolink:  78%|███████▊  | 75/96 [00:04<00:01, 20.72it/s]"
     ]
    },
    {
     "name": "stdout",
     "output_type": "stream",
     "text": [
      "Skipping Bobolink_0070_10624_augmented.jpg due to loading error.\n",
      "Skipping Bobolink_0076_11093_augmented.jpg due to loading error.\n",
      "Skipping Bobolink_0124_10182_augmented.jpg due to loading error.\n"
     ]
    },
    {
     "name": "stderr",
     "output_type": "stream",
     "text": [
      "Processing images in /kaggle/working/Augmented_Processed_CropImage_Dataset/train_images/Bobolink:  84%|████████▍ | 81/96 [00:05<00:00, 21.81it/s]"
     ]
    },
    {
     "name": "stdout",
     "output_type": "stream",
     "text": [
      "Skipping Bobolink_0069_9085_augmented.jpg due to loading error.\n",
      "Skipping Bobolink_0133_9618_augmented.jpg due to loading error.\n",
      "Skipping Bobolink_0067_11533_augmented.jpg due to loading error.\n",
      "Skipping Bobolink_0007_9246_augmented.jpg due to loading error.\n",
      "Skipping Bobolink_0021_10623_augmented.jpg due to loading error.\n",
      "Skipping Bobolink_0064_10092_augmented.jpg due to loading error.\n"
     ]
    },
    {
     "name": "stderr",
     "output_type": "stream",
     "text": [
      "Processing images in /kaggle/working/Augmented_Processed_CropImage_Dataset/train_images/Bobolink:  91%|█████████ | 87/96 [00:05<00:00, 23.34it/s]"
     ]
    },
    {
     "name": "stdout",
     "output_type": "stream",
     "text": [
      "Skipping Bobolink_0033_10809_augmented.jpg due to loading error.\n",
      "Skipping Bobolink_0106_9126_augmented.jpg due to loading error.\n",
      "Skipping Bobolink_0099_9314_augmented.jpg due to loading error.\n"
     ]
    },
    {
     "name": "stderr",
     "output_type": "stream",
     "text": [
      "Processing images in /kaggle/working/Augmented_Processed_CropImage_Dataset/train_images/Bobolink:  94%|█████████▍| 90/96 [00:05<00:00, 23.10it/s]"
     ]
    },
    {
     "name": "stdout",
     "output_type": "stream",
     "text": [
      "Skipping Bobolink_0114_10627_augmented.jpg due to loading error.\n"
     ]
    },
    {
     "name": "stderr",
     "output_type": "stream",
     "text": [
      "Processing images in /kaggle/working/Augmented_Processed_CropImage_Dataset/train_images/Bobolink: 100%|██████████| 96/96 [00:05<00:00, 16.43it/s]\n"
     ]
    },
    {
     "name": "stdout",
     "output_type": "stream",
     "text": [
      "Skipping Bobolink_0065_9375_augmented.jpg due to loading error.\n",
      "Skipping Bobolink_0002_11085_augmented.jpg due to loading error.\n",
      "Skipping Bobolink_0056_9080_augmented.jpg due to loading error.\n"
     ]
    },
    {
     "name": "stderr",
     "output_type": "stream",
     "text": [
      "Processing images in /kaggle/working/Augmented_Processed_CropImage_Dataset/train_images/Brewer_Blackbird:   0%|          | 0/94 [00:00<?, ?it/s]"
     ]
    },
    {
     "name": "stdout",
     "output_type": "stream",
     "text": [
      "Skipping Brewer_Blackbird_0045_2303_augmented.jpg due to loading error.\n",
      "Skipping Brewer_Blackbird_0002_2278_augmented.jpg due to loading error.\n"
     ]
    },
    {
     "name": "stderr",
     "output_type": "stream",
     "text": [
      "Processing images in /kaggle/working/Augmented_Processed_CropImage_Dataset/train_images/Brewer_Blackbird:  10%|▉         | 9/94 [00:00<00:04, 19.03it/s]"
     ]
    },
    {
     "name": "stdout",
     "output_type": "stream",
     "text": [
      "Skipping Brewer_Blackbird_0017_2668_augmented.jpg due to loading error.\n",
      "Skipping Brewer_Blackbird_0065_2310_augmented.jpg due to loading error.\n",
      "Skipping Brewer_Blackbird_0028_2682_augmented.jpg due to loading error.\n",
      "Skipping Brewer_Blackbird_0025_2231_augmented.jpg due to loading error.\n"
     ]
    },
    {
     "name": "stderr",
     "output_type": "stream",
     "text": [
      "Processing images in /kaggle/working/Augmented_Processed_CropImage_Dataset/train_images/Brewer_Blackbird:  16%|█▌        | 15/94 [00:00<00:04, 18.24it/s]"
     ]
    },
    {
     "name": "stdout",
     "output_type": "stream",
     "text": [
      "Skipping Brewer_Blackbird_0042_2302_augmented.jpg due to loading error.\n",
      "Skipping Brewer_Blackbird_0140_2586_augmented.jpg due to loading error.\n",
      "Skipping Brewer_Blackbird_0009_2616_augmented.jpg due to loading error.\n",
      "Skipping Brewer_Blackbird_0027_2329_augmented.jpg due to loading error.\n"
     ]
    },
    {
     "name": "stderr",
     "output_type": "stream",
     "text": [
      "Processing images in /kaggle/working/Augmented_Processed_CropImage_Dataset/train_images/Brewer_Blackbird:  24%|██▍       | 23/94 [00:01<00:03, 17.76it/s]"
     ]
    },
    {
     "name": "stdout",
     "output_type": "stream",
     "text": [
      "Skipping Brewer_Blackbird_0116_2327_augmented.jpg due to loading error.\n",
      "Skipping Brewer_Blackbird_0101_2630_augmented.jpg due to loading error.\n"
     ]
    },
    {
     "name": "stderr",
     "output_type": "stream",
     "text": [
      "Processing images in /kaggle/working/Augmented_Processed_CropImage_Dataset/train_images/Brewer_Blackbird:  30%|██▉       | 28/94 [00:01<00:04, 16.43it/s]"
     ]
    },
    {
     "name": "stdout",
     "output_type": "stream",
     "text": [
      "Skipping Brewer_Blackbird_0135_2607_augmented.jpg due to loading error.\n",
      "Skipping Brewer_Blackbird_0139_2567_augmented.jpg due to loading error.\n"
     ]
    },
    {
     "name": "stderr",
     "output_type": "stream",
     "text": [
      "Processing images in /kaggle/working/Augmented_Processed_CropImage_Dataset/train_images/Brewer_Blackbird:  34%|███▍      | 32/94 [00:01<00:03, 16.40it/s]"
     ]
    },
    {
     "name": "stdout",
     "output_type": "stream",
     "text": [
      "Skipping Brewer_Blackbird_0018_2261_augmented.jpg due to loading error.\n",
      "Skipping Brewer_Blackbird_0097_2322_augmented.jpg due to loading error.\n",
      "Skipping Brewer_Blackbird_0015_2286_augmented.jpg due to loading error.\n"
     ]
    },
    {
     "name": "stderr",
     "output_type": "stream",
     "text": [
      "Processing images in /kaggle/working/Augmented_Processed_CropImage_Dataset/train_images/Brewer_Blackbird:  38%|███▊      | 36/94 [00:02<00:03, 15.91it/s]"
     ]
    },
    {
     "name": "stdout",
     "output_type": "stream",
     "text": [
      "Skipping Brewer_Blackbird_0111_2613_augmented.jpg due to loading error.\n"
     ]
    },
    {
     "name": "stderr",
     "output_type": "stream",
     "text": [
      "Processing images in /kaggle/working/Augmented_Processed_CropImage_Dataset/train_images/Brewer_Blackbird:  43%|████▎     | 40/94 [00:02<00:03, 16.22it/s]"
     ]
    },
    {
     "name": "stdout",
     "output_type": "stream",
     "text": [
      "Skipping Brewer_Blackbird_0103_2273_augmented.jpg due to loading error.\n",
      "Skipping Brewer_Blackbird_0115_2279_augmented.jpg due to loading error.\n",
      "Skipping Brewer_Blackbird_0102_2620_augmented.jpg due to loading error.\n",
      "Skipping Brewer_Blackbird_0061_2270_augmented.jpg due to loading error.\n",
      "Skipping Brewer_Blackbird_0106_2608_augmented.jpg due to loading error.\n",
      "Skipping Brewer_Blackbird_0054_2631_augmented.jpg due to loading error.\n"
     ]
    },
    {
     "name": "stderr",
     "output_type": "stream",
     "text": [
      "Processing images in /kaggle/working/Augmented_Processed_CropImage_Dataset/train_images/Brewer_Blackbird:  55%|█████▌    | 52/94 [00:02<00:02, 18.87it/s]"
     ]
    },
    {
     "name": "stdout",
     "output_type": "stream",
     "text": [
      "Skipping Brewer_Blackbird_0016_2225_augmented.jpg due to loading error.\n",
      "Skipping Brewer_Blackbird_0133_2324_augmented.jpg due to loading error.\n",
      "Skipping Brewer_Blackbird_0026_2625_augmented.jpg due to loading error.\n",
      "Skipping Brewer_Blackbird_0099_2560_augmented.jpg due to loading error.\n"
     ]
    },
    {
     "name": "stderr",
     "output_type": "stream",
     "text": [
      "Processing images in /kaggle/working/Augmented_Processed_CropImage_Dataset/train_images/Brewer_Blackbird:  59%|█████▊    | 55/94 [00:03<00:01, 19.80it/s]"
     ]
    },
    {
     "name": "stdout",
     "output_type": "stream",
     "text": [
      "Skipping Brewer_Blackbird_0109_2232_augmented.jpg due to loading error.\n"
     ]
    },
    {
     "name": "stderr",
     "output_type": "stream",
     "text": [
      "Processing images in /kaggle/working/Augmented_Processed_CropImage_Dataset/train_images/Brewer_Blackbird:  64%|██████▍   | 60/94 [00:03<00:02, 16.64it/s]"
     ]
    },
    {
     "name": "stdout",
     "output_type": "stream",
     "text": [
      "Skipping Brewer_Blackbird_0079_2343_augmented.jpg due to loading error.\n",
      "Skipping Brewer_Blackbird_0142_2636_augmented.jpg due to loading error.\n"
     ]
    },
    {
     "name": "stderr",
     "output_type": "stream",
     "text": [
      "Processing images in /kaggle/working/Augmented_Processed_CropImage_Dataset/train_images/Brewer_Blackbird:  68%|██████▊   | 64/94 [00:03<00:02, 13.62it/s]"
     ]
    },
    {
     "name": "stdout",
     "output_type": "stream",
     "text": [
      "Skipping Brewer_Blackbird_0074_2277_augmented.jpg due to loading error.\n"
     ]
    },
    {
     "name": "stderr",
     "output_type": "stream",
     "text": [
      "Processing images in /kaggle/working/Augmented_Processed_CropImage_Dataset/train_images/Brewer_Blackbird:  76%|███████▌  | 71/94 [00:04<00:02, 11.49it/s]"
     ]
    },
    {
     "name": "stdout",
     "output_type": "stream",
     "text": [
      "Skipping Brewer_Blackbird_0032_2214_augmented.jpg due to loading error.\n",
      "Skipping Brewer_Blackbird_0066_2693_augmented.jpg due to loading error.\n",
      "Skipping Brewer_Blackbird_0030_2268_augmented.jpg due to loading error.\n",
      "Skipping Brewer_Blackbird_0035_2611_augmented.jpg due to loading error.\n"
     ]
    },
    {
     "name": "stderr",
     "output_type": "stream",
     "text": [
      "Processing images in /kaggle/working/Augmented_Processed_CropImage_Dataset/train_images/Brewer_Blackbird:  84%|████████▍ | 79/94 [00:04<00:00, 15.98it/s]"
     ]
    },
    {
     "name": "stdout",
     "output_type": "stream",
     "text": [
      "Skipping Brewer_Blackbird_0014_2679_augmented.jpg due to loading error.\n",
      "Skipping Brewer_Blackbird_0082_2593_augmented.jpg due to loading error.\n",
      "Skipping Brewer_Blackbird_0087_2622_augmented.jpg due to loading error.\n"
     ]
    },
    {
     "name": "stderr",
     "output_type": "stream",
     "text": [
      "Processing images in /kaggle/working/Augmented_Processed_CropImage_Dataset/train_images/Brewer_Blackbird:  90%|█████████ | 85/94 [00:05<00:00, 20.14it/s]"
     ]
    },
    {
     "name": "stdout",
     "output_type": "stream",
     "text": [
      "Skipping Brewer_Blackbird_0012_2691_augmented.jpg due to loading error.\n",
      "Skipping Brewer_Blackbird_0112_2340_augmented.jpg due to loading error.\n",
      "Skipping Brewer_Blackbird_0049_2258_augmented.jpg due to loading error.\n",
      "Skipping Brewer_Blackbird_0070_2325_augmented.jpg due to loading error.\n",
      "Skipping Brewer_Blackbird_0038_2294_augmented.jpg due to loading error.\n"
     ]
    },
    {
     "name": "stderr",
     "output_type": "stream",
     "text": [
      "Processing images in /kaggle/working/Augmented_Processed_CropImage_Dataset/train_images/Brewer_Blackbird:  97%|█████████▋| 91/94 [00:05<00:00, 21.97it/s]"
     ]
    },
    {
     "name": "stdout",
     "output_type": "stream",
     "text": [
      "Skipping Brewer_Blackbird_0131_2289_augmented.jpg due to loading error.\n",
      "Skipping Brewer_Blackbird_0046_2688_augmented.jpg due to loading error.\n"
     ]
    },
    {
     "name": "stderr",
     "output_type": "stream",
     "text": [
      "Processing images in /kaggle/working/Augmented_Processed_CropImage_Dataset/train_images/Brewer_Blackbird: 100%|██████████| 94/94 [00:05<00:00, 16.57it/s]\n"
     ]
    },
    {
     "name": "stdout",
     "output_type": "stream",
     "text": [
      "Skipping Brewer_Blackbird_0127_2235_augmented.jpg due to loading error.\n"
     ]
    },
    {
     "name": "stderr",
     "output_type": "stream",
     "text": [
      "Processing images in /kaggle/working/Augmented_Processed_CropImage_Dataset/train_images/Groove_billed_Ani:   0%|          | 0/96 [00:00<?, ?it/s]"
     ]
    },
    {
     "name": "stdout",
     "output_type": "stream",
     "text": [
      "Skipping Groove_Billed_Ani_0031_1588_augmented.jpg due to loading error.\n"
     ]
    },
    {
     "name": "stderr",
     "output_type": "stream",
     "text": [
      "Processing images in /kaggle/working/Augmented_Processed_CropImage_Dataset/train_images/Groove_billed_Ani:   2%|▏         | 2/96 [00:00<00:06, 15.37it/s]"
     ]
    },
    {
     "name": "stdout",
     "output_type": "stream",
     "text": [
      "Skipping Groove_Billed_Ani_0009_1522_augmented.jpg due to loading error.\n"
     ]
    },
    {
     "name": "stderr",
     "output_type": "stream",
     "text": [
      "Processing images in /kaggle/working/Augmented_Processed_CropImage_Dataset/train_images/Groove_billed_Ani:  12%|█▎        | 12/96 [00:01<00:06, 12.26it/s]"
     ]
    },
    {
     "name": "stdout",
     "output_type": "stream",
     "text": [
      "Skipping Groove_Billed_Ani_0100_1646_augmented.jpg due to loading error.\n",
      "Skipping Groove_Billed_Ani_0068_1538_augmented.jpg due to loading error.\n",
      "Skipping Groove_Billed_Ani_0074_1730_augmented.jpg due to loading error.\n",
      "Skipping Groove_Billed_Ani_0002_1670_augmented.jpg due to loading error.\n",
      "Skipping Groove_Billed_Ani_0046_1663_augmented.jpg due to loading error.\n",
      "Skipping Groove_Billed_Ani_0019_1585_augmented.jpg due to loading error.\n"
     ]
    },
    {
     "name": "stderr",
     "output_type": "stream",
     "text": [
      "Processing images in /kaggle/working/Augmented_Processed_CropImage_Dataset/train_images/Groove_billed_Ani:  24%|██▍       | 23/96 [00:01<00:04, 15.96it/s]"
     ]
    },
    {
     "name": "stdout",
     "output_type": "stream",
     "text": [
      "Skipping Groove_Billed_Ani_0033_1494_augmented.jpg due to loading error.\n",
      "Skipping Groove_Billed_Ani_0014_1755_augmented.jpg due to loading error.\n",
      "Skipping Groove_Billed_Ani_0037_1560_augmented.jpg due to loading error.\n"
     ]
    },
    {
     "name": "stderr",
     "output_type": "stream",
     "text": [
      "Processing images in /kaggle/working/Augmented_Processed_CropImage_Dataset/train_images/Groove_billed_Ani:  28%|██▊       | 27/96 [00:01<00:04, 16.03it/s]"
     ]
    },
    {
     "name": "stdout",
     "output_type": "stream",
     "text": [
      "Skipping Groove_Billed_Ani_0032_1776_augmented.jpg due to loading error.\n",
      "Skipping Groove_Billed_Ani_0075_1617_augmented.jpg due to loading error.\n",
      "Skipping Groove_Billed_Ani_0018_1613_augmented.jpg due to loading error.\n"
     ]
    },
    {
     "name": "stderr",
     "output_type": "stream",
     "text": [
      "Processing images in /kaggle/working/Augmented_Processed_CropImage_Dataset/train_images/Groove_billed_Ani:  33%|███▎      | 32/96 [00:02<00:04, 13.72it/s]"
     ]
    },
    {
     "name": "stdout",
     "output_type": "stream",
     "text": [
      "No bird found in Groove_Billed_Ani_0080_1549.jpg, skipping.\n"
     ]
    },
    {
     "name": "stderr",
     "output_type": "stream",
     "text": [
      "Processing images in /kaggle/working/Augmented_Processed_CropImage_Dataset/train_images/Groove_billed_Ani:  42%|████▏     | 40/96 [00:02<00:04, 12.74it/s]"
     ]
    },
    {
     "name": "stdout",
     "output_type": "stream",
     "text": [
      "Skipping Groove_Billed_Ani_0080_1549_augmented.jpg due to loading error.\n",
      "Skipping Groove_Billed_Ani_0027_1754_augmented.jpg due to loading error.\n",
      "Skipping Groove_Billed_Ani_0092_1516_augmented.jpg due to loading error.\n",
      "Skipping Groove_Billed_Ani_0007_1615_augmented.jpg due to loading error.\n"
     ]
    },
    {
     "name": "stderr",
     "output_type": "stream",
     "text": [
      "Processing images in /kaggle/working/Augmented_Processed_CropImage_Dataset/train_images/Groove_billed_Ani:  47%|████▋     | 45/96 [00:03<00:03, 16.28it/s]"
     ]
    },
    {
     "name": "stdout",
     "output_type": "stream",
     "text": [
      "Skipping Groove_Billed_Ani_0076_1661_augmented.jpg due to loading error.\n",
      "Skipping Groove_Billed_Ani_0082_1697_augmented.jpg due to loading error.\n",
      "Skipping Groove_Billed_Ani_0087_1765_augmented.jpg due to loading error.\n",
      "Skipping Groove_Billed_Ani_0044_1731_augmented.jpg due to loading error.\n",
      "Skipping Groove_Billed_Ani_0105_1562_augmented.jpg due to loading error.\n"
     ]
    },
    {
     "name": "stderr",
     "output_type": "stream",
     "text": [
      "Processing images in /kaggle/working/Augmented_Processed_CropImage_Dataset/train_images/Groove_billed_Ani:  52%|█████▏    | 50/96 [00:03<00:02, 22.29it/s]"
     ]
    },
    {
     "name": "stdout",
     "output_type": "stream",
     "text": [
      "Skipping Groove_Billed_Ani_0109_1592_augmented.jpg due to loading error.\n"
     ]
    },
    {
     "name": "stderr",
     "output_type": "stream",
     "text": [
      "Processing images in /kaggle/working/Augmented_Processed_CropImage_Dataset/train_images/Groove_billed_Ani:  60%|██████    | 58/96 [00:03<00:01, 23.53it/s]"
     ]
    },
    {
     "name": "stdout",
     "output_type": "stream",
     "text": [
      "Skipping Groove_Billed_Ani_0108_1639_augmented.jpg due to loading error.\n",
      "Skipping Groove_Billed_Ani_0077_1724_augmented.jpg due to loading error.\n",
      "Skipping Groove_Billed_Ani_0058_1751_augmented.jpg due to loading error.\n",
      "Skipping Groove_Billed_Ani_0004_1528_augmented.jpg due to loading error.\n",
      "Skipping Groove_Billed_Ani_0061_1510_augmented.jpg due to loading error.\n",
      "Skipping Groove_Billed_Ani_0107_1590_augmented.jpg due to loading error.\n",
      "Skipping Groove_Billed_Ani_0023_1485_augmented.jpg due to loading error.\n"
     ]
    },
    {
     "name": "stderr",
     "output_type": "stream",
     "text": [
      "Processing images in /kaggle/working/Augmented_Processed_CropImage_Dataset/train_images/Groove_billed_Ani:  68%|██████▊   | 65/96 [00:03<00:01, 25.25it/s]"
     ]
    },
    {
     "name": "stdout",
     "output_type": "stream",
     "text": [
      "Skipping Groove_Billed_Ani_0078_1780_augmented.jpg due to loading error.\n",
      "Skipping Groove_Billed_Ani_0010_1704_augmented.jpg due to loading error.\n",
      "Skipping Groove_Billed_Ani_0071_1559_augmented.jpg due to loading error.\n"
     ]
    },
    {
     "name": "stderr",
     "output_type": "stream",
     "text": [
      "Processing images in /kaggle/working/Augmented_Processed_CropImage_Dataset/train_images/Groove_billed_Ani:  71%|███████   | 68/96 [00:04<00:01, 24.61it/s]"
     ]
    },
    {
     "name": "stdout",
     "output_type": "stream",
     "text": [
      "Skipping Groove_Billed_Ani_0055_1501_augmented.jpg due to loading error.\n"
     ]
    },
    {
     "name": "stderr",
     "output_type": "stream",
     "text": [
      "Processing images in /kaggle/working/Augmented_Processed_CropImage_Dataset/train_images/Groove_billed_Ani:  74%|███████▍  | 71/96 [00:04<00:01, 19.38it/s]"
     ]
    },
    {
     "name": "stdout",
     "output_type": "stream",
     "text": [
      "Skipping Groove_Billed_Ani_0047_1706_augmented.jpg due to loading error.\n"
     ]
    },
    {
     "name": "stderr",
     "output_type": "stream",
     "text": [
      "Processing images in /kaggle/working/Augmented_Processed_CropImage_Dataset/train_images/Groove_billed_Ani:  84%|████████▍ | 81/96 [00:04<00:00, 19.09it/s]"
     ]
    },
    {
     "name": "stdout",
     "output_type": "stream",
     "text": [
      "Skipping Groove_Billed_Ani_0094_1540_augmented.jpg due to loading error.\n",
      "Skipping Groove_Billed_Ani_0060_1505_augmented.jpg due to loading error.\n",
      "Skipping Groove_Billed_Ani_0059_1480_augmented.jpg due to loading error.\n",
      "Skipping Groove_Billed_Ani_0085_1612_augmented.jpg due to loading error.\n",
      "Skipping Groove_Billed_Ani_0029_1620_augmented.jpg due to loading error.\n",
      "Skipping Groove_Billed_Ani_0062_1767_augmented.jpg due to loading error.\n"
     ]
    },
    {
     "name": "stderr",
     "output_type": "stream",
     "text": [
      "Processing images in /kaggle/working/Augmented_Processed_CropImage_Dataset/train_images/Groove_billed_Ani:  91%|█████████ | 87/96 [00:05<00:00, 20.69it/s]"
     ]
    },
    {
     "name": "stdout",
     "output_type": "stream",
     "text": [
      "Skipping Groove_Billed_Ani_0012_1784_augmented.jpg due to loading error.\n",
      "Skipping Groove_Billed_Ani_0088_1678_augmented.jpg due to loading error.\n",
      "Skipping Groove_Billed_Ani_0090_1567_augmented.jpg due to loading error.\n",
      "Skipping Groove_Billed_Ani_0053_1672_augmented.jpg due to loading error.\n"
     ]
    },
    {
     "name": "stderr",
     "output_type": "stream",
     "text": [
      "Processing images in /kaggle/working/Augmented_Processed_CropImage_Dataset/train_images/Groove_billed_Ani:  97%|█████████▋| 93/96 [00:05<00:00, 19.00it/s]"
     ]
    },
    {
     "name": "stdout",
     "output_type": "stream",
     "text": [
      "Skipping Groove_Billed_Ani_0051_1650_augmented.jpg due to loading error.\n",
      "Skipping Groove_Billed_Ani_0056_1493_augmented.jpg due to loading error.\n"
     ]
    },
    {
     "name": "stderr",
     "output_type": "stream",
     "text": [
      "Processing images in /kaggle/working/Augmented_Processed_CropImage_Dataset/train_images/Groove_billed_Ani: 100%|██████████| 96/96 [00:05<00:00, 16.05it/s]\n",
      "Processing images in /kaggle/working/Augmented_Processed_CropImage_Dataset/train_images/Yellow_billed_Cuckoo:   2%|▏         | 2/94 [00:00<00:05, 17.05it/s]"
     ]
    },
    {
     "name": "stdout",
     "output_type": "stream",
     "text": [
      "Skipping Yellow_Billed_Cuckoo_0003_26797_augmented.jpg due to loading error.\n"
     ]
    },
    {
     "name": "stderr",
     "output_type": "stream",
     "text": [
      "Processing images in /kaggle/working/Augmented_Processed_CropImage_Dataset/train_images/Yellow_billed_Cuckoo:   6%|▋         | 6/94 [00:00<00:07, 11.64it/s]"
     ]
    },
    {
     "name": "stdout",
     "output_type": "stream",
     "text": [
      "Skipping Yellow_Billed_Cuckoo_0043_26492_augmented.jpg due to loading error.\n",
      "Skipping Yellow_Billed_Cuckoo_0045_26685_augmented.jpg due to loading error.\n",
      "Skipping Yellow_Billed_Cuckoo_0097_26713_augmented.jpg due to loading error.\n",
      "Skipping Yellow_Billed_Cuckoo_0038_26912_augmented.jpg due to loading error.\n"
     ]
    },
    {
     "name": "stderr",
     "output_type": "stream",
     "text": [
      "Processing images in /kaggle/working/Augmented_Processed_CropImage_Dataset/train_images/Yellow_billed_Cuckoo:  15%|█▍        | 14/94 [00:00<00:03, 22.42it/s]"
     ]
    },
    {
     "name": "stdout",
     "output_type": "stream",
     "text": [
      "Skipping Yellow_Billed_Cuckoo_0066_26600_augmented.jpg due to loading error.\n",
      "Skipping Yellow_Billed_Cuckoo_0091_26428_augmented.jpg due to loading error.\n",
      "Skipping Yellow_Billed_Cuckoo_0018_26535_augmented.jpg due to loading error.\n",
      "Skipping Yellow_Billed_Cuckoo_0004_26790_augmented.jpg due to loading error.\n"
     ]
    },
    {
     "name": "stderr",
     "output_type": "stream",
     "text": [
      "Processing images in /kaggle/working/Augmented_Processed_CropImage_Dataset/train_images/Yellow_billed_Cuckoo:  21%|██▏       | 20/94 [00:01<00:03, 23.78it/s]"
     ]
    },
    {
     "name": "stdout",
     "output_type": "stream",
     "text": [
      "Skipping Yellow_Billed_Cuckoo_0029_26865_augmented.jpg due to loading error.\n",
      "Skipping Yellow_Billed_Cuckoo_0081_26429_augmented.jpg due to loading error.\n",
      "Skipping Yellow_Billed_Cuckoo_0028_26446_augmented.jpg due to loading error.\n",
      "Skipping Yellow_Billed_Cuckoo_0098_26501_augmented.jpg due to loading error.\n",
      "Skipping Yellow_Billed_Cuckoo_0010_26795_augmented.jpg due to loading error.\n"
     ]
    },
    {
     "name": "stderr",
     "output_type": "stream",
     "text": [
      "Processing images in /kaggle/working/Augmented_Processed_CropImage_Dataset/train_images/Yellow_billed_Cuckoo:  30%|██▉       | 28/94 [00:01<00:02, 28.22it/s]"
     ]
    },
    {
     "name": "stdout",
     "output_type": "stream",
     "text": [
      "Skipping Yellow_Billed_Cuckoo_0061_26692_augmented.jpg due to loading error.\n",
      "Skipping Yellow_Billed_Cuckoo_0059_26828_augmented.jpg due to loading error.\n",
      "Skipping Yellow_Billed_Cuckoo_0012_26712_augmented.jpg due to loading error.\n",
      "Skipping Yellow_Billed_Cuckoo_0022_26423_augmented.jpg due to loading error.\n"
     ]
    },
    {
     "name": "stderr",
     "output_type": "stream",
     "text": [
      "Processing images in /kaggle/working/Augmented_Processed_CropImage_Dataset/train_images/Yellow_billed_Cuckoo:  36%|███▌      | 34/94 [00:01<00:03, 18.55it/s]"
     ]
    },
    {
     "name": "stdout",
     "output_type": "stream",
     "text": [
      "Skipping Yellow_Billed_Cuckoo_0023_26637_augmented.jpg due to loading error.\n",
      "Skipping Yellow_Billed_Cuckoo_0119_26550_augmented.jpg due to loading error.\n",
      "Skipping Yellow_Billed_Cuckoo_0007_26687_augmented.jpg due to loading error.\n"
     ]
    },
    {
     "name": "stderr",
     "output_type": "stream",
     "text": [
      "Processing images in /kaggle/working/Augmented_Processed_CropImage_Dataset/train_images/Yellow_billed_Cuckoo:  41%|████▏     | 39/94 [00:02<00:03, 16.59it/s]"
     ]
    },
    {
     "name": "stdout",
     "output_type": "stream",
     "text": [
      "Skipping Yellow_Billed_Cuckoo_0033_26521_augmented.jpg due to loading error.\n",
      "Skipping Yellow_Billed_Cuckoo_0048_26632_augmented.jpg due to loading error.\n"
     ]
    },
    {
     "name": "stderr",
     "output_type": "stream",
     "text": [
      "Processing images in /kaggle/working/Augmented_Processed_CropImage_Dataset/train_images/Yellow_billed_Cuckoo:  44%|████▎     | 41/94 [00:02<00:03, 16.59it/s]"
     ]
    },
    {
     "name": "stdout",
     "output_type": "stream",
     "text": [
      "No bird found in Yellow_Billed_Cuckoo_0033_26521.jpg, skipping.\n"
     ]
    },
    {
     "name": "stderr",
     "output_type": "stream",
     "text": [
      "Processing images in /kaggle/working/Augmented_Processed_CropImage_Dataset/train_images/Yellow_billed_Cuckoo:  48%|████▊     | 45/94 [00:02<00:03, 13.60it/s]"
     ]
    },
    {
     "name": "stdout",
     "output_type": "stream",
     "text": [
      "Skipping Yellow_Billed_Cuckoo_0073_26744_augmented.jpg due to loading error.\n"
     ]
    },
    {
     "name": "stderr",
     "output_type": "stream",
     "text": [
      "Processing images in /kaggle/working/Augmented_Processed_CropImage_Dataset/train_images/Yellow_billed_Cuckoo:  52%|█████▏    | 49/94 [00:02<00:03, 14.44it/s]"
     ]
    },
    {
     "name": "stdout",
     "output_type": "stream",
     "text": [
      "Skipping Yellow_Billed_Cuckoo_0092_26859_augmented.jpg due to loading error.\n",
      "Skipping Yellow_Billed_Cuckoo_0049_26766_augmented.jpg due to loading error.\n"
     ]
    },
    {
     "name": "stderr",
     "output_type": "stream",
     "text": [
      "Processing images in /kaggle/working/Augmented_Processed_CropImage_Dataset/train_images/Yellow_billed_Cuckoo:  56%|█████▋    | 53/94 [00:03<00:02, 15.12it/s]"
     ]
    },
    {
     "name": "stdout",
     "output_type": "stream",
     "text": [
      "Skipping Yellow_Billed_Cuckoo_0032_26616_augmented.jpg due to loading error.\n",
      "Skipping Yellow_Billed_Cuckoo_0050_26424_augmented.jpg due to loading error.\n",
      "Skipping Yellow_Billed_Cuckoo_0093_26432_augmented.jpg due to loading error.\n"
     ]
    },
    {
     "name": "stderr",
     "output_type": "stream",
     "text": [
      "Processing images in /kaggle/working/Augmented_Processed_CropImage_Dataset/train_images/Yellow_billed_Cuckoo:  61%|██████    | 57/94 [00:03<00:02, 16.03it/s]"
     ]
    },
    {
     "name": "stdout",
     "output_type": "stream",
     "text": [
      "No bird found in Yellow_Billed_Cuckoo_0119_26550.jpg, skipping.\n",
      "Skipping Yellow_Billed_Cuckoo_0069_26597_augmented.jpg due to loading error.\n",
      "Skipping Yellow_Billed_Cuckoo_0002_26715_augmented.jpg due to loading error.\n"
     ]
    },
    {
     "name": "stderr",
     "output_type": "stream",
     "text": [
      "Processing images in /kaggle/working/Augmented_Processed_CropImage_Dataset/train_images/Yellow_billed_Cuckoo:  67%|██████▋   | 63/94 [00:03<00:02, 15.29it/s]"
     ]
    },
    {
     "name": "stdout",
     "output_type": "stream",
     "text": [
      "Skipping Yellow_Billed_Cuckoo_0104_26814_augmented.jpg due to loading error.\n",
      "Skipping Yellow_Billed_Cuckoo_0116_26544_augmented.jpg due to loading error.\n",
      "Skipping Yellow_Billed_Cuckoo_0090_26714_augmented.jpg due to loading error.\n",
      "Skipping Yellow_Billed_Cuckoo_0027_26844_augmented.jpg due to loading error.\n"
     ]
    },
    {
     "name": "stderr",
     "output_type": "stream",
     "text": [
      "Processing images in /kaggle/working/Augmented_Processed_CropImage_Dataset/train_images/Yellow_billed_Cuckoo:  74%|███████▍  | 70/94 [00:04<00:01, 17.43it/s]"
     ]
    },
    {
     "name": "stdout",
     "output_type": "stream",
     "text": [
      "Skipping Yellow_Billed_Cuckoo_0084_26761_augmented.jpg due to loading error.\n",
      "Skipping Yellow_Billed_Cuckoo_0082_26655_augmented.jpg due to loading error.\n",
      "Skipping Yellow_Billed_Cuckoo_0078_26888_augmented.jpg due to loading error.\n"
     ]
    },
    {
     "name": "stderr",
     "output_type": "stream",
     "text": [
      "Processing images in /kaggle/working/Augmented_Processed_CropImage_Dataset/train_images/Yellow_billed_Cuckoo:  79%|███████▊  | 74/94 [00:04<00:01, 17.36it/s]"
     ]
    },
    {
     "name": "stdout",
     "output_type": "stream",
     "text": [
      "Skipping Yellow_Billed_Cuckoo_0039_26510_augmented.jpg due to loading error.\n"
     ]
    },
    {
     "name": "stderr",
     "output_type": "stream",
     "text": [
      "Processing images in /kaggle/working/Augmented_Processed_CropImage_Dataset/train_images/Yellow_billed_Cuckoo:  83%|████████▎ | 78/94 [00:04<00:01, 13.34it/s]"
     ]
    },
    {
     "name": "stdout",
     "output_type": "stream",
     "text": [
      "Skipping Yellow_Billed_Cuckoo_0060_26686_augmented.jpg due to loading error.\n"
     ]
    },
    {
     "name": "stderr",
     "output_type": "stream",
     "text": [
      "Processing images in /kaggle/working/Augmented_Processed_CropImage_Dataset/train_images/Yellow_billed_Cuckoo:  88%|████████▊ | 83/94 [00:05<00:00, 13.75it/s]"
     ]
    },
    {
     "name": "stdout",
     "output_type": "stream",
     "text": [
      "Skipping Yellow_Billed_Cuckoo_0077_26431_augmented.jpg due to loading error.\n",
      "Skipping Yellow_Billed_Cuckoo_0034_26694_augmented.jpg due to loading error.\n",
      "No bird found in Yellow_Billed_Cuckoo_0116_26544.jpg, skipping.\n"
     ]
    },
    {
     "name": "stderr",
     "output_type": "stream",
     "text": [
      "Processing images in /kaggle/working/Augmented_Processed_CropImage_Dataset/train_images/Yellow_billed_Cuckoo:  94%|█████████▎| 88/94 [00:05<00:00, 17.47it/s]"
     ]
    },
    {
     "name": "stdout",
     "output_type": "stream",
     "text": [
      "Skipping Yellow_Billed_Cuckoo_0042_26479_augmented.jpg due to loading error.\n",
      "Skipping Yellow_Billed_Cuckoo_0009_26656_augmented.jpg due to loading error.\n",
      "Skipping Yellow_Billed_Cuckoo_0006_26578_augmented.jpg due to loading error.\n"
     ]
    },
    {
     "name": "stderr",
     "output_type": "stream",
     "text": [
      "Processing images in /kaggle/working/Augmented_Processed_CropImage_Dataset/train_images/Yellow_billed_Cuckoo:  98%|█████████▊| 92/94 [00:05<00:00, 14.01it/s]"
     ]
    },
    {
     "name": "stdout",
     "output_type": "stream",
     "text": [
      "Skipping Yellow_Billed_Cuckoo_0036_26682_augmented.jpg due to loading error.\n",
      "Skipping Yellow_Billed_Cuckoo_0019_26803_augmented.jpg due to loading error.\n"
     ]
    },
    {
     "name": "stderr",
     "output_type": "stream",
     "text": [
      "Processing images in /kaggle/working/Augmented_Processed_CropImage_Dataset/train_images/Yellow_billed_Cuckoo: 100%|██████████| 94/94 [00:05<00:00, 16.05it/s]\n",
      "Processing images in /kaggle/working/Augmented_Processed_CropImage_Dataset/train_images/Lazuli_Bunting:   2%|▏         | 2/92 [00:00<00:05, 16.52it/s]"
     ]
    },
    {
     "name": "stdout",
     "output_type": "stream",
     "text": [
      "Skipping Lazuli_Bunting_0037_15021_augmented.jpg due to loading error.\n"
     ]
    },
    {
     "name": "stderr",
     "output_type": "stream",
     "text": [
      "Processing images in /kaggle/working/Augmented_Processed_CropImage_Dataset/train_images/Lazuli_Bunting:   7%|▋         | 6/92 [00:00<00:04, 18.40it/s]"
     ]
    },
    {
     "name": "stdout",
     "output_type": "stream",
     "text": [
      "Skipping Lazuli_Bunting_0097_14617_augmented.jpg due to loading error.\n",
      "Skipping Lazuli_Bunting_0054_14714_augmented.jpg due to loading error.\n"
     ]
    },
    {
     "name": "stderr",
     "output_type": "stream",
     "text": [
      "Processing images in /kaggle/working/Augmented_Processed_CropImage_Dataset/train_images/Lazuli_Bunting:  15%|█▌        | 14/92 [00:01<00:05, 13.13it/s]"
     ]
    },
    {
     "name": "stdout",
     "output_type": "stream",
     "text": [
      "Skipping Lazuli_Bunting_0030_14986_augmented.jpg due to loading error.\n",
      "Skipping Lazuli_Bunting_0040_14923_augmented.jpg due to loading error.\n"
     ]
    },
    {
     "name": "stderr",
     "output_type": "stream",
     "text": [
      "Processing images in /kaggle/working/Augmented_Processed_CropImage_Dataset/train_images/Lazuli_Bunting:  20%|█▉        | 18/92 [00:01<00:05, 14.10it/s]"
     ]
    },
    {
     "name": "stdout",
     "output_type": "stream",
     "text": [
      "Skipping Lazuli_Bunting_0008_15195_augmented.jpg due to loading error.\n",
      "Skipping Lazuli_Bunting_0021_14686_augmented.jpg due to loading error.\n",
      "Skipping Lazuli_Bunting_0095_14919_augmented.jpg due to loading error.\n"
     ]
    },
    {
     "name": "stderr",
     "output_type": "stream",
     "text": [
      "Processing images in /kaggle/working/Augmented_Processed_CropImage_Dataset/train_images/Lazuli_Bunting:  25%|██▌       | 23/92 [00:01<00:03, 17.25it/s]"
     ]
    },
    {
     "name": "stdout",
     "output_type": "stream",
     "text": [
      "Skipping Lazuli_Bunting_0048_14844_augmented.jpg due to loading error.\n",
      "Skipping Lazuli_Bunting_0047_14863_augmented.jpg due to loading error.\n",
      "Skipping Lazuli_Bunting_0093_15030_augmented.jpg due to loading error.\n"
     ]
    },
    {
     "name": "stderr",
     "output_type": "stream",
     "text": [
      "Processing images in /kaggle/working/Augmented_Processed_CropImage_Dataset/train_images/Lazuli_Bunting:  29%|██▉       | 27/92 [00:01<00:03, 17.13it/s]"
     ]
    },
    {
     "name": "stdout",
     "output_type": "stream",
     "text": [
      "Skipping Lazuli_Bunting_0032_14778_augmented.jpg due to loading error.\n"
     ]
    },
    {
     "name": "stderr",
     "output_type": "stream",
     "text": [
      "Processing images in /kaggle/working/Augmented_Processed_CropImage_Dataset/train_images/Lazuli_Bunting:  32%|███▏      | 29/92 [00:01<00:03, 16.14it/s]"
     ]
    },
    {
     "name": "stdout",
     "output_type": "stream",
     "text": [
      "Skipping Lazuli_Bunting_0080_14893_augmented.jpg due to loading error.\n"
     ]
    },
    {
     "name": "stderr",
     "output_type": "stream",
     "text": [
      "Processing images in /kaggle/working/Augmented_Processed_CropImage_Dataset/train_images/Lazuli_Bunting:  36%|███▌      | 33/92 [00:02<00:04, 14.07it/s]"
     ]
    },
    {
     "name": "stdout",
     "output_type": "stream",
     "text": [
      "Skipping Lazuli_Bunting_0101_14873_augmented.jpg due to loading error.\n"
     ]
    },
    {
     "name": "stderr",
     "output_type": "stream",
     "text": [
      "Processing images in /kaggle/working/Augmented_Processed_CropImage_Dataset/train_images/Lazuli_Bunting:  38%|███▊      | 35/92 [00:02<00:04, 14.17it/s]"
     ]
    },
    {
     "name": "stdout",
     "output_type": "stream",
     "text": [
      "Skipping Lazuli_Bunting_0087_15096_augmented.jpg due to loading error.\n"
     ]
    },
    {
     "name": "stderr",
     "output_type": "stream",
     "text": [
      "Processing images in /kaggle/working/Augmented_Processed_CropImage_Dataset/train_images/Lazuli_Bunting:  42%|████▏     | 39/92 [00:02<00:04, 12.04it/s]"
     ]
    },
    {
     "name": "stdout",
     "output_type": "stream",
     "text": [
      "Skipping Lazuli_Bunting_0039_15081_augmented.jpg due to loading error.\n",
      "Skipping Lazuli_Bunting_0046_14787_augmented.jpg due to loading error.\n",
      "Skipping Lazuli_Bunting_0052_14618_augmented.jpg due to loading error.\n",
      "Skipping Lazuli_Bunting_0004_14887_augmented.jpg due to loading error.\n"
     ]
    },
    {
     "name": "stderr",
     "output_type": "stream",
     "text": [
      "Processing images in /kaggle/working/Augmented_Processed_CropImage_Dataset/train_images/Lazuli_Bunting:  50%|█████     | 46/92 [00:03<00:02, 16.22it/s]"
     ]
    },
    {
     "name": "stdout",
     "output_type": "stream",
     "text": [
      "Skipping Lazuli_Bunting_0089_14598_augmented.jpg due to loading error.\n"
     ]
    },
    {
     "name": "stderr",
     "output_type": "stream",
     "text": [
      "Processing images in /kaggle/working/Augmented_Processed_CropImage_Dataset/train_images/Lazuli_Bunting:  57%|█████▋    | 52/92 [00:03<00:02, 14.65it/s]"
     ]
    },
    {
     "name": "stdout",
     "output_type": "stream",
     "text": [
      "Skipping Lazuli_Bunting_0059_14749_augmented.jpg due to loading error.\n",
      "Skipping Lazuli_Bunting_0009_15163_augmented.jpg due to loading error.\n",
      "Skipping Lazuli_Bunting_0014_14824_augmented.jpg due to loading error.\n",
      "Skipping Lazuli_Bunting_0081_14709_augmented.jpg due to loading error.\n"
     ]
    },
    {
     "name": "stderr",
     "output_type": "stream",
     "text": [
      "Processing images in /kaggle/working/Augmented_Processed_CropImage_Dataset/train_images/Lazuli_Bunting:  68%|██████▊   | 63/92 [00:03<00:01, 26.49it/s]"
     ]
    },
    {
     "name": "stdout",
     "output_type": "stream",
     "text": [
      "Skipping Lazuli_Bunting_0102_14605_augmented.jpg due to loading error.\n",
      "Skipping Lazuli_Bunting_0105_15017_augmented.jpg due to loading error.\n",
      "Skipping Lazuli_Bunting_0061_15155_augmented.jpg due to loading error.\n",
      "Skipping Lazuli_Bunting_0034_14864_augmented.jpg due to loading error.\n",
      "Skipping Lazuli_Bunting_0041_15152_augmented.jpg due to loading error.\n",
      "Skipping Lazuli_Bunting_0074_14854_augmented.jpg due to loading error.\n",
      "Skipping Lazuli_Bunting_0057_14775_augmented.jpg due to loading error.\n"
     ]
    },
    {
     "name": "stderr",
     "output_type": "stream",
     "text": [
      "Processing images in /kaggle/working/Augmented_Processed_CropImage_Dataset/train_images/Lazuli_Bunting:  72%|███████▏  | 66/92 [00:04<00:01, 25.09it/s]"
     ]
    },
    {
     "name": "stdout",
     "output_type": "stream",
     "text": [
      "Skipping Lazuli_Bunting_0078_15164_augmented.jpg due to loading error.\n",
      "Skipping Lazuli_Bunting_0076_14662_augmented.jpg due to loading error.\n"
     ]
    },
    {
     "name": "stderr",
     "output_type": "stream",
     "text": [
      "Processing images in /kaggle/working/Augmented_Processed_CropImage_Dataset/train_images/Lazuli_Bunting:  78%|███████▊  | 72/92 [00:04<00:01, 19.74it/s]"
     ]
    },
    {
     "name": "stdout",
     "output_type": "stream",
     "text": [
      "Skipping Lazuli_Bunting_0055_15043_augmented.jpg due to loading error.\n",
      "Skipping Lazuli_Bunting_0045_14954_augmented.jpg due to loading error.\n",
      "Skipping Lazuli_Bunting_0042_14820_augmented.jpg due to loading error.\n",
      "Skipping Lazuli_Bunting_0092_14656_augmented.jpg due to loading error.\n"
     ]
    },
    {
     "name": "stderr",
     "output_type": "stream",
     "text": [
      "Processing images in /kaggle/working/Augmented_Processed_CropImage_Dataset/train_images/Lazuli_Bunting:  88%|████████▊ | 81/92 [00:04<00:00, 28.92it/s]"
     ]
    },
    {
     "name": "stdout",
     "output_type": "stream",
     "text": [
      "Skipping Lazuli_Bunting_0025_15079_augmented.jpg due to loading error.\n",
      "Skipping Lazuli_Bunting_0027_14895_augmented.jpg due to loading error.\n",
      "Skipping Lazuli_Bunting_0094_11894_augmented.jpg due to loading error.\n",
      "Skipping Lazuli_Bunting_0070_14665_augmented.jpg due to loading error.\n",
      "Skipping Lazuli_Bunting_0066_14914_augmented.jpg due to loading error.\n",
      "Skipping Lazuli_Bunting_0031_15018_augmented.jpg due to loading error.\n"
     ]
    },
    {
     "name": "stderr",
     "output_type": "stream",
     "text": [
      "Processing images in /kaggle/working/Augmented_Processed_CropImage_Dataset/train_images/Lazuli_Bunting:  92%|█████████▏| 85/92 [00:04<00:00, 28.95it/s]"
     ]
    },
    {
     "name": "stdout",
     "output_type": "stream",
     "text": [
      "Skipping Lazuli_Bunting_0020_14837_augmented.jpg due to loading error.\n",
      "Skipping Lazuli_Bunting_0026_14669_augmented.jpg due to loading error.\n"
     ]
    },
    {
     "name": "stderr",
     "output_type": "stream",
     "text": [
      "Processing images in /kaggle/working/Augmented_Processed_CropImage_Dataset/train_images/Lazuli_Bunting:  97%|█████████▋| 89/92 [00:05<00:00, 16.90it/s]"
     ]
    },
    {
     "name": "stdout",
     "output_type": "stream",
     "text": [
      "Skipping Lazuli_Bunting_0035_14920_augmented.jpg due to loading error.\n"
     ]
    },
    {
     "name": "stderr",
     "output_type": "stream",
     "text": [
      "Processing images in /kaggle/working/Augmented_Processed_CropImage_Dataset/train_images/Lazuli_Bunting: 100%|██████████| 92/92 [00:05<00:00, 16.46it/s]\n",
      "Processing images in /kaggle/working/Augmented_Processed_CropImage_Dataset/train_images/Gray_crowned_Rosy_Finch:   7%|▋         | 7/94 [00:00<00:03, 23.45it/s]"
     ]
    },
    {
     "name": "stdout",
     "output_type": "stream",
     "text": [
      "Skipping Gray_Crowned_Rosy_Finch_0063_27123_augmented.jpg due to loading error.\n",
      "Skipping Gray_Crowned_Rosy_Finch_0061_26979_augmented.jpg due to loading error.\n",
      "Skipping Gray_Crowned_Rosy_Finch_0072_26993_augmented.jpg due to loading error.\n",
      "Skipping Gray_Crowned_Rosy_Finch_0001_27211_augmented.jpg due to loading error.\n"
     ]
    },
    {
     "name": "stderr",
     "output_type": "stream",
     "text": [
      "Processing images in /kaggle/working/Augmented_Processed_CropImage_Dataset/train_images/Gray_crowned_Rosy_Finch:  11%|█         | 10/94 [00:00<00:03, 24.87it/s]"
     ]
    },
    {
     "name": "stdout",
     "output_type": "stream",
     "text": [
      "Skipping Gray_Crowned_Rosy_Finch_0052_27032_augmented.jpg due to loading error.\n",
      "Skipping Gray_Crowned_Rosy_Finch_0065_797301_augmented.jpg due to loading error.\n",
      "Skipping Gray_Crowned_Rosy_Finch_0084_27034_augmented.jpg due to loading error.\n"
     ]
    },
    {
     "name": "stderr",
     "output_type": "stream",
     "text": [
      "Processing images in /kaggle/working/Augmented_Processed_CropImage_Dataset/train_images/Gray_crowned_Rosy_Finch:  17%|█▋        | 16/94 [00:00<00:04, 15.97it/s]"
     ]
    },
    {
     "name": "stdout",
     "output_type": "stream",
     "text": [
      "Skipping Gray_Crowned_Rosy_Finch_0021_797286_augmented.jpg due to loading error.\n"
     ]
    },
    {
     "name": "stderr",
     "output_type": "stream",
     "text": [
      "Processing images in /kaggle/working/Augmented_Processed_CropImage_Dataset/train_images/Gray_crowned_Rosy_Finch:  23%|██▎       | 22/94 [00:01<00:05, 13.83it/s]"
     ]
    },
    {
     "name": "stdout",
     "output_type": "stream",
     "text": [
      "Skipping Gray_Crowned_Rosy_Finch_0048_27236_augmented.jpg due to loading error.\n",
      "Skipping Gray_Crowned_Rosy_Finch_0038_797309_augmented.jpg due to loading error.\n"
     ]
    },
    {
     "name": "stderr",
     "output_type": "stream",
     "text": [
      "Processing images in /kaggle/working/Augmented_Processed_CropImage_Dataset/train_images/Gray_crowned_Rosy_Finch:  28%|██▊       | 26/94 [00:01<00:04, 14.52it/s]"
     ]
    },
    {
     "name": "stdout",
     "output_type": "stream",
     "text": [
      "Skipping Gray_Crowned_Rosy_Finch_0030_27068_augmented.jpg due to loading error.\n",
      "Skipping Gray_Crowned_Rosy_Finch_0013_27110_augmented.jpg due to loading error.\n"
     ]
    },
    {
     "name": "stderr",
     "output_type": "stream",
     "text": [
      "Processing images in /kaggle/working/Augmented_Processed_CropImage_Dataset/train_images/Gray_crowned_Rosy_Finch:  32%|███▏      | 30/94 [00:02<00:04, 14.05it/s]"
     ]
    },
    {
     "name": "stdout",
     "output_type": "stream",
     "text": [
      "Skipping Gray_Crowned_Rosy_Finch_0053_797276_augmented.jpg due to loading error.\n",
      "Skipping Gray_Crowned_Rosy_Finch_0042_27143_augmented.jpg due to loading error.\n",
      "Skipping Gray_Crowned_Rosy_Finch_0055_27112_augmented.jpg due to loading error.\n"
     ]
    },
    {
     "name": "stderr",
     "output_type": "stream",
     "text": [
      "Processing images in /kaggle/working/Augmented_Processed_CropImage_Dataset/train_images/Gray_crowned_Rosy_Finch:  36%|███▌      | 34/94 [00:02<00:04, 14.95it/s]"
     ]
    },
    {
     "name": "stdout",
     "output_type": "stream",
     "text": [
      "Skipping Gray_Crowned_Rosy_Finch_0023_797288_augmented.jpg due to loading error.\n",
      "Skipping Gray_Crowned_Rosy_Finch_0068_27196_augmented.jpg due to loading error.\n"
     ]
    },
    {
     "name": "stderr",
     "output_type": "stream",
     "text": [
      "Processing images in /kaggle/working/Augmented_Processed_CropImage_Dataset/train_images/Gray_crowned_Rosy_Finch:  43%|████▎     | 40/94 [00:02<00:03, 13.87it/s]"
     ]
    },
    {
     "name": "stdout",
     "output_type": "stream",
     "text": [
      "Skipping Gray_Crowned_Rosy_Finch_0004_797272_augmented.jpg due to loading error.\n",
      "Skipping Gray_Crowned_Rosy_Finch_0027_27153_augmented.jpg due to loading error.\n",
      "Skipping Gray_Crowned_Rosy_Finch_0051_26988_augmented.jpg due to loading error.\n",
      "Skipping Gray_Crowned_Rosy_Finch_0078_27136_augmented.jpg due to loading error.\n",
      "Skipping Gray_Crowned_Rosy_Finch_0036_797287_augmented.jpg due to loading error.\n"
     ]
    },
    {
     "name": "stderr",
     "output_type": "stream",
     "text": [
      "Processing images in /kaggle/working/Augmented_Processed_CropImage_Dataset/train_images/Gray_crowned_Rosy_Finch:  51%|█████     | 48/94 [00:02<00:02, 21.23it/s]"
     ]
    },
    {
     "name": "stdout",
     "output_type": "stream",
     "text": [
      "Skipping Gray_Crowned_Rosy_Finch_0079_797294_augmented.jpg due to loading error.\n",
      "Skipping Gray_Crowned_Rosy_Finch_0018_26978_augmented.jpg due to loading error.\n",
      "Skipping Gray_Crowned_Rosy_Finch_0015_797291_augmented.jpg due to loading error.\n",
      "Skipping Gray_Crowned_Rosy_Finch_0073_27104_augmented.jpg due to loading error.\n",
      "Skipping Gray_Crowned_Rosy_Finch_0029_797300_augmented.jpg due to loading error.\n",
      "Skipping Gray_Crowned_Rosy_Finch_0046_797295_augmented.jpg due to loading error.\n"
     ]
    },
    {
     "name": "stderr",
     "output_type": "stream",
     "text": [
      "Processing images in /kaggle/working/Augmented_Processed_CropImage_Dataset/train_images/Gray_crowned_Rosy_Finch:  60%|█████▉    | 56/94 [00:03<00:01, 24.58it/s]"
     ]
    },
    {
     "name": "stdout",
     "output_type": "stream",
     "text": [
      "Skipping Gray_Crowned_Rosy_Finch_0043_26990_augmented.jpg due to loading error.\n",
      "Skipping Gray_Crowned_Rosy_Finch_0026_27160_augmented.jpg due to loading error.\n"
     ]
    },
    {
     "name": "stderr",
     "output_type": "stream",
     "text": [
      "Processing images in /kaggle/working/Augmented_Processed_CropImage_Dataset/train_images/Gray_crowned_Rosy_Finch:  63%|██████▎   | 59/94 [00:03<00:01, 24.96it/s]"
     ]
    },
    {
     "name": "stdout",
     "output_type": "stream",
     "text": [
      "Skipping Gray_Crowned_Rosy_Finch_0075_27165_augmented.jpg due to loading error.\n",
      "Skipping Gray_Crowned_Rosy_Finch_0083_797281_augmented.jpg due to loading error.\n"
     ]
    },
    {
     "name": "stderr",
     "output_type": "stream",
     "text": [
      "Processing images in /kaggle/working/Augmented_Processed_CropImage_Dataset/train_images/Gray_crowned_Rosy_Finch:  66%|██████▌   | 62/94 [00:03<00:01, 19.38it/s]"
     ]
    },
    {
     "name": "stdout",
     "output_type": "stream",
     "text": [
      "Skipping Gray_Crowned_Rosy_Finch_0024_27057_augmented.jpg due to loading error.\n",
      "Skipping Gray_Crowned_Rosy_Finch_0037_27088_augmented.jpg due to loading error.\n"
     ]
    },
    {
     "name": "stderr",
     "output_type": "stream",
     "text": [
      "Processing images in /kaggle/working/Augmented_Processed_CropImage_Dataset/train_images/Gray_crowned_Rosy_Finch:  73%|███████▎  | 69/94 [00:04<00:01, 17.07it/s]"
     ]
    },
    {
     "name": "stdout",
     "output_type": "stream",
     "text": [
      "Skipping Gray_Crowned_Rosy_Finch_0012_27062_augmented.jpg due to loading error.\n",
      "Skipping Gray_Crowned_Rosy_Finch_0022_27028_augmented.jpg due to loading error.\n",
      "Skipping Gray_Crowned_Rosy_Finch_0028_27114_augmented.jpg due to loading error.\n",
      "Skipping Gray_Crowned_Rosy_Finch_0016_27181_augmented.jpg due to loading error.\n"
     ]
    },
    {
     "name": "stderr",
     "output_type": "stream",
     "text": [
      "Processing images in /kaggle/working/Augmented_Processed_CropImage_Dataset/train_images/Gray_crowned_Rosy_Finch:  79%|███████▊  | 74/94 [00:04<00:01, 17.88it/s]"
     ]
    },
    {
     "name": "stdout",
     "output_type": "stream",
     "text": [
      "Skipping Gray_Crowned_Rosy_Finch_0066_797298_augmented.jpg due to loading error.\n"
     ]
    },
    {
     "name": "stderr",
     "output_type": "stream",
     "text": [
      "Processing images in /kaggle/working/Augmented_Processed_CropImage_Dataset/train_images/Gray_crowned_Rosy_Finch:  83%|████████▎ | 78/94 [00:04<00:01, 13.63it/s]"
     ]
    },
    {
     "name": "stdout",
     "output_type": "stream",
     "text": [
      "Skipping Gray_Crowned_Rosy_Finch_0067_797289_augmented.jpg due to loading error.\n"
     ]
    },
    {
     "name": "stderr",
     "output_type": "stream",
     "text": [
      "Processing images in /kaggle/working/Augmented_Processed_CropImage_Dataset/train_images/Gray_crowned_Rosy_Finch:  87%|████████▋ | 82/94 [00:05<00:00, 12.46it/s]"
     ]
    },
    {
     "name": "stdout",
     "output_type": "stream",
     "text": [
      "Skipping Gray_Crowned_Rosy_Finch_0009_26977_augmented.jpg due to loading error.\n",
      "Skipping Gray_Crowned_Rosy_Finch_0057_27107_augmented.jpg due to loading error.\n",
      "Skipping Gray_Crowned_Rosy_Finch_0080_27108_augmented.jpg due to loading error.\n"
     ]
    },
    {
     "name": "stderr",
     "output_type": "stream",
     "text": [
      "Processing images in /kaggle/working/Augmented_Processed_CropImage_Dataset/train_images/Gray_crowned_Rosy_Finch:  96%|█████████▌| 90/94 [00:05<00:00, 19.48it/s]"
     ]
    },
    {
     "name": "stdout",
     "output_type": "stream",
     "text": [
      "Skipping Gray_Crowned_Rosy_Finch_0019_27192_augmented.jpg due to loading error.\n",
      "Skipping Gray_Crowned_Rosy_Finch_0034_797305_augmented.jpg due to loading error.\n",
      "Skipping Gray_Crowned_Rosy_Finch_0064_27007_augmented.jpg due to loading error.\n"
     ]
    },
    {
     "name": "stderr",
     "output_type": "stream",
     "text": [
      "Processing images in /kaggle/working/Augmented_Processed_CropImage_Dataset/train_images/Gray_crowned_Rosy_Finch: 100%|██████████| 94/94 [00:05<00:00, 16.23it/s]\n"
     ]
    },
    {
     "name": "stdout",
     "output_type": "stream",
     "text": [
      "Skipping Gray_Crowned_Rosy_Finch_0041_27105_augmented.jpg due to loading error.\n"
     ]
    },
    {
     "name": "stderr",
     "output_type": "stream",
     "text": [
      "Processing images in /kaggle/working/Augmented_Processed_CropImage_Dataset/train_images/Indigo_Bunting:   0%|          | 0/96 [00:00<?, ?it/s]"
     ]
    },
    {
     "name": "stdout",
     "output_type": "stream",
     "text": [
      "Skipping Indigo_Bunting_0053_13391_augmented.jpg due to loading error.\n"
     ]
    },
    {
     "name": "stderr",
     "output_type": "stream",
     "text": [
      "Processing images in /kaggle/working/Augmented_Processed_CropImage_Dataset/train_images/Indigo_Bunting:   4%|▍         | 4/96 [00:00<00:05, 15.50it/s]"
     ]
    },
    {
     "name": "stdout",
     "output_type": "stream",
     "text": [
      "Skipping Indigo_Bunting_0041_13987_augmented.jpg due to loading error.\n"
     ]
    },
    {
     "name": "stderr",
     "output_type": "stream",
     "text": [
      "Processing images in /kaggle/working/Augmented_Processed_CropImage_Dataset/train_images/Indigo_Bunting:   8%|▊         | 8/96 [00:00<00:06, 12.59it/s]"
     ]
    },
    {
     "name": "stdout",
     "output_type": "stream",
     "text": [
      "Skipping Indigo_Bunting_0032_12215_augmented.jpg due to loading error.\n"
     ]
    },
    {
     "name": "stderr",
     "output_type": "stream",
     "text": [
      "Processing images in /kaggle/working/Augmented_Processed_CropImage_Dataset/train_images/Indigo_Bunting:  15%|█▍        | 14/96 [00:01<00:07, 10.54it/s]"
     ]
    },
    {
     "name": "stdout",
     "output_type": "stream",
     "text": [
      "Skipping Indigo_Bunting_0061_13259_augmented.jpg due to loading error.\n",
      "Skipping Indigo_Bunting_0044_14389_augmented.jpg due to loading error.\n",
      "Skipping Indigo_Bunting_0034_12464_augmented.jpg due to loading error.\n"
     ]
    },
    {
     "name": "stderr",
     "output_type": "stream",
     "text": [
      "Processing images in /kaggle/working/Augmented_Processed_CropImage_Dataset/train_images/Indigo_Bunting:  23%|██▎       | 22/96 [00:01<00:03, 19.80it/s]"
     ]
    },
    {
     "name": "stdout",
     "output_type": "stream",
     "text": [
      "Skipping Indigo_Bunting_0085_11991_augmented.jpg due to loading error.\n",
      "Skipping Indigo_Bunting_0050_11811_augmented.jpg due to loading error.\n",
      "Skipping Indigo_Bunting_0025_12532_augmented.jpg due to loading error.\n",
      "Skipping Indigo_Bunting_0003_13049_augmented.jpg due to loading error.\n",
      "Skipping Indigo_Bunting_0021_13979_augmented.jpg due to loading error.\n"
     ]
    },
    {
     "name": "stderr",
     "output_type": "stream",
     "text": [
      "Processing images in /kaggle/working/Augmented_Processed_CropImage_Dataset/train_images/Indigo_Bunting:  30%|███       | 29/96 [00:01<00:02, 23.97it/s]"
     ]
    },
    {
     "name": "stdout",
     "output_type": "stream",
     "text": [
      "Skipping Indigo_Bunting_0049_13641_augmented.jpg due to loading error.\n",
      "Skipping Indigo_Bunting_0029_13761_augmented.jpg due to loading error.\n",
      "Skipping Indigo_Bunting_0039_12756_augmented.jpg due to loading error.\n",
      "Skipping Indigo_Bunting_0075_12835_augmented.jpg due to loading error.\n",
      "Skipping Indigo_Bunting_0022_12781_augmented.jpg due to loading error.\n",
      "Skipping Indigo_Bunting_0063_11820_augmented.jpg due to loading error.\n",
      "Skipping Indigo_Bunting_0077_14060_augmented.jpg due to loading error.\n",
      "Skipping Indigo_Bunting_0055_13473_augmented.jpg due to loading error.\n"
     ]
    },
    {
     "name": "stderr",
     "output_type": "stream",
     "text": [
      "Processing images in /kaggle/working/Augmented_Processed_CropImage_Dataset/train_images/Indigo_Bunting:  39%|███▊      | 37/96 [00:02<00:02, 27.25it/s]"
     ]
    },
    {
     "name": "stdout",
     "output_type": "stream",
     "text": [
      "Skipping Indigo_Bunting_0005_13832_augmented.jpg due to loading error.\n",
      "Skipping Indigo_Bunting_0080_13416_augmented.jpg due to loading error.\n"
     ]
    },
    {
     "name": "stderr",
     "output_type": "stream",
     "text": [
      "Processing images in /kaggle/working/Augmented_Processed_CropImage_Dataset/train_images/Indigo_Bunting:  45%|████▍     | 43/96 [00:02<00:02, 24.59it/s]"
     ]
    },
    {
     "name": "stdout",
     "output_type": "stream",
     "text": [
      "Skipping Indigo_Bunting_0047_12966_augmented.jpg due to loading error.\n",
      "Skipping Indigo_Bunting_0056_12637_augmented.jpg due to loading error.\n",
      "Skipping Indigo_Bunting_0031_13300_augmented.jpg due to loading error.\n",
      "Skipping Indigo_Bunting_0006_14317_augmented.jpg due to loading error.\n"
     ]
    },
    {
     "name": "stderr",
     "output_type": "stream",
     "text": [
      "Processing images in /kaggle/working/Augmented_Processed_CropImage_Dataset/train_images/Indigo_Bunting:  51%|█████     | 49/96 [00:02<00:02, 19.34it/s]"
     ]
    },
    {
     "name": "stdout",
     "output_type": "stream",
     "text": [
      "Skipping Indigo_Bunting_0073_13933_augmented.jpg due to loading error.\n",
      "Skipping Indigo_Bunting_0076_12950_augmented.jpg due to loading error.\n",
      "Skipping Indigo_Bunting_0068_13081_augmented.jpg due to loading error.\n"
     ]
    },
    {
     "name": "stderr",
     "output_type": "stream",
     "text": [
      "Processing images in /kaggle/working/Augmented_Processed_CropImage_Dataset/train_images/Indigo_Bunting:  56%|█████▋    | 54/96 [00:03<00:02, 14.02it/s]"
     ]
    },
    {
     "name": "stdout",
     "output_type": "stream",
     "text": [
      "Skipping Indigo_Bunting_0065_14558_augmented.jpg due to loading error.\n"
     ]
    },
    {
     "name": "stderr",
     "output_type": "stream",
     "text": [
      "Processing images in /kaggle/working/Augmented_Processed_CropImage_Dataset/train_images/Indigo_Bunting:  61%|██████▏   | 59/96 [00:03<00:02, 15.88it/s]"
     ]
    },
    {
     "name": "stdout",
     "output_type": "stream",
     "text": [
      "Skipping Indigo_Bunting_0028_12335_augmented.jpg due to loading error.\n",
      "Skipping Indigo_Bunting_0078_11852_augmented.jpg due to loading error.\n",
      "Skipping Indigo_Bunting_0016_13661_augmented.jpg due to loading error.\n",
      "Skipping Indigo_Bunting_0024_13523_augmented.jpg due to loading error.\n"
     ]
    },
    {
     "name": "stderr",
     "output_type": "stream",
     "text": [
      "Processing images in /kaggle/working/Augmented_Processed_CropImage_Dataset/train_images/Indigo_Bunting:  68%|██████▊   | 65/96 [00:04<00:02, 12.70it/s]"
     ]
    },
    {
     "name": "stdout",
     "output_type": "stream",
     "text": [
      "Skipping Indigo_Bunting_0058_12207_augmented.jpg due to loading error.\n"
     ]
    },
    {
     "name": "stderr",
     "output_type": "stream",
     "text": [
      "Processing images in /kaggle/working/Augmented_Processed_CropImage_Dataset/train_images/Indigo_Bunting:  72%|███████▏  | 69/96 [00:04<00:02, 11.61it/s]"
     ]
    },
    {
     "name": "stdout",
     "output_type": "stream",
     "text": [
      "Skipping Indigo_Bunting_0071_11639_augmented.jpg due to loading error.\n",
      "Skipping Indigo_Bunting_0037_14128_augmented.jpg due to loading error.\n"
     ]
    },
    {
     "name": "stderr",
     "output_type": "stream",
     "text": [
      "Processing images in /kaggle/working/Augmented_Processed_CropImage_Dataset/train_images/Indigo_Bunting:  77%|███████▋  | 74/96 [00:04<00:01, 15.93it/s]"
     ]
    },
    {
     "name": "stdout",
     "output_type": "stream",
     "text": [
      "Skipping Indigo_Bunting_0051_12837_augmented.jpg due to loading error.\n",
      "Skipping Indigo_Bunting_0013_12949_augmented.jpg due to loading error.\n"
     ]
    },
    {
     "name": "stderr",
     "output_type": "stream",
     "text": [
      "Processing images in /kaggle/working/Augmented_Processed_CropImage_Dataset/train_images/Indigo_Bunting:  81%|████████▏ | 78/96 [00:04<00:01, 16.80it/s]"
     ]
    },
    {
     "name": "stdout",
     "output_type": "stream",
     "text": [
      "Skipping Indigo_Bunting_0017_11574_augmented.jpg due to loading error.\n",
      "Skipping Indigo_Bunting_0018_11883_augmented.jpg due to loading error.\n",
      "Skipping Indigo_Bunting_0001_12469_augmented.jpg due to loading error.\n"
     ]
    },
    {
     "name": "stderr",
     "output_type": "stream",
     "text": [
      "Processing images in /kaggle/working/Augmented_Processed_CropImage_Dataset/train_images/Indigo_Bunting:  85%|████████▌ | 82/96 [00:05<00:00, 15.99it/s]"
     ]
    },
    {
     "name": "stdout",
     "output_type": "stream",
     "text": [
      "Skipping Indigo_Bunting_0072_14197_augmented.jpg due to loading error.\n",
      "Skipping Indigo_Bunting_0026_11964_augmented.jpg due to loading error.\n",
      "Skipping Indigo_Bunting_0059_11596_augmented.jpg due to loading error.\n"
     ]
    },
    {
     "name": "stderr",
     "output_type": "stream",
     "text": [
      "Processing images in /kaggle/working/Augmented_Processed_CropImage_Dataset/train_images/Indigo_Bunting:  95%|█████████▍| 91/96 [00:05<00:00, 14.34it/s]"
     ]
    },
    {
     "name": "stdout",
     "output_type": "stream",
     "text": [
      "Skipping Indigo_Bunting_0082_11907_augmented.jpg due to loading error.\n",
      "Skipping Indigo_Bunting_0036_13716_augmented.jpg due to loading error.\n",
      "Skipping Indigo_Bunting_0040_11805_augmented.jpg due to loading error.\n"
     ]
    },
    {
     "name": "stderr",
     "output_type": "stream",
     "text": [
      "Processing images in /kaggle/working/Augmented_Processed_CropImage_Dataset/train_images/Indigo_Bunting: 100%|██████████| 96/96 [00:06<00:00, 15.54it/s]\n"
     ]
    },
    {
     "name": "stdout",
     "output_type": "stream",
     "text": [
      "Skipping Indigo_Bunting_0002_12163_augmented.jpg due to loading error.\n"
     ]
    },
    {
     "name": "stderr",
     "output_type": "stream",
     "text": [
      "Processing images in /kaggle/working/Augmented_Processed_CropImage_Dataset/val_images/Painted_Bunting: 100%|██████████| 12/12 [00:01<00:00,  7.61it/s]\n",
      "Processing images in /kaggle/working/Augmented_Processed_CropImage_Dataset/val_images/Fish_Crow: 100%|██████████| 12/12 [00:01<00:00,  7.59it/s]\n",
      "Processing images in /kaggle/working/Augmented_Processed_CropImage_Dataset/val_images/Red_winged_Blackbird: 100%|██████████| 12/12 [00:01<00:00,  7.31it/s]\n",
      "Processing images in /kaggle/working/Augmented_Processed_CropImage_Dataset/val_images/Eastern_Towhee: 100%|██████████| 12/12 [00:01<00:00,  7.36it/s]\n",
      "Processing images in /kaggle/working/Augmented_Processed_CropImage_Dataset/val_images/Brandt_Cormorant:  58%|█████▊    | 7/12 [00:00<00:00,  7.14it/s]"
     ]
    },
    {
     "name": "stdout",
     "output_type": "stream",
     "text": [
      "No bird found in Brandt_Cormorant_0091_22825.jpg, skipping.\n"
     ]
    },
    {
     "name": "stderr",
     "output_type": "stream",
     "text": [
      "Processing images in /kaggle/working/Augmented_Processed_CropImage_Dataset/val_images/Brandt_Cormorant: 100%|██████████| 12/12 [00:01<00:00,  7.46it/s]\n",
      "Processing images in /kaggle/working/Augmented_Processed_CropImage_Dataset/val_images/Rusty_Blackbird: 100%|██████████| 12/12 [00:01<00:00,  7.69it/s]\n",
      "Processing images in /kaggle/working/Augmented_Processed_CropImage_Dataset/val_images/American_Crow: 100%|██████████| 12/12 [00:01<00:00,  7.31it/s]\n",
      "Processing images in /kaggle/working/Augmented_Processed_CropImage_Dataset/val_images/Black_billed_Cuckoo: 100%|██████████| 12/12 [00:01<00:00,  7.63it/s]\n",
      "Processing images in /kaggle/working/Augmented_Processed_CropImage_Dataset/val_images/Gray_Catbird: 100%|██████████| 12/12 [00:01<00:00,  7.50it/s]\n",
      "Processing images in /kaggle/working/Augmented_Processed_CropImage_Dataset/val_images/Yellow_breasted_Chat: 100%|██████████| 12/12 [00:01<00:00,  7.27it/s]\n"
     ]
    },
    {
     "name": "stdout",
     "output_type": "stream",
     "text": [
      "No bird found in Yellow_Breasted_Chat_0010_21777.jpg, skipping.\n"
     ]
    },
    {
     "name": "stderr",
     "output_type": "stream",
     "text": [
      "Processing images in /kaggle/working/Augmented_Processed_CropImage_Dataset/val_images/Yellow_headed_Blackbird:  17%|█▋        | 2/12 [00:00<00:01,  6.99it/s]"
     ]
    },
    {
     "name": "stdout",
     "output_type": "stream",
     "text": [
      "No bird found in Yellow_Headed_Blackbird_0082_8577.jpg, skipping.\n"
     ]
    },
    {
     "name": "stderr",
     "output_type": "stream",
     "text": [
      "Processing images in /kaggle/working/Augmented_Processed_CropImage_Dataset/val_images/Yellow_headed_Blackbird: 100%|██████████| 12/12 [00:01<00:00,  7.20it/s]\n",
      "Processing images in /kaggle/working/Augmented_Processed_CropImage_Dataset/val_images/Brown_Creeper: 100%|██████████| 12/12 [00:01<00:00,  7.62it/s]\n",
      "Processing images in /kaggle/working/Augmented_Processed_CropImage_Dataset/val_images/Bronzed_Cowbird:  75%|███████▌  | 9/12 [00:01<00:00,  7.58it/s]"
     ]
    },
    {
     "name": "stdout",
     "output_type": "stream",
     "text": [
      "No bird found in Bronzed_Cowbird_0008_796250.jpg, skipping.\n"
     ]
    },
    {
     "name": "stderr",
     "output_type": "stream",
     "text": [
      "Processing images in /kaggle/working/Augmented_Processed_CropImage_Dataset/val_images/Bronzed_Cowbird: 100%|██████████| 12/12 [00:01<00:00,  7.60it/s]\n",
      "Processing images in /kaggle/working/Augmented_Processed_CropImage_Dataset/val_images/Bobolink: 100%|██████████| 12/12 [00:01<00:00,  7.48it/s]\n",
      "Processing images in /kaggle/working/Augmented_Processed_CropImage_Dataset/val_images/Brewer_Blackbird: 100%|██████████| 12/12 [00:01<00:00,  7.85it/s]\n",
      "Processing images in /kaggle/working/Augmented_Processed_CropImage_Dataset/val_images/Groove_billed_Ani: 100%|██████████| 12/12 [00:01<00:00,  7.60it/s]\n",
      "Processing images in /kaggle/working/Augmented_Processed_CropImage_Dataset/val_images/Yellow_billed_Cuckoo: 100%|██████████| 12/12 [00:01<00:00,  7.07it/s]\n",
      "Processing images in /kaggle/working/Augmented_Processed_CropImage_Dataset/val_images/Lazuli_Bunting: 100%|██████████| 12/12 [00:01<00:00,  7.40it/s]\n",
      "Processing images in /kaggle/working/Augmented_Processed_CropImage_Dataset/val_images/Gray_crowned_Rosy_Finch: 100%|██████████| 12/12 [00:01<00:00,  7.20it/s]\n",
      "Processing images in /kaggle/working/Augmented_Processed_CropImage_Dataset/val_images/Indigo_Bunting: 100%|██████████| 12/12 [00:01<00:00,  7.11it/s]"
     ]
    },
    {
     "name": "stdout",
     "output_type": "stream",
     "text": [
      "Processing complete! Cropped images saved.\n"
     ]
    },
    {
     "name": "stderr",
     "output_type": "stream",
     "text": [
      "\n"
     ]
    }
   ],
   "source": [
    "import os\n",
    "import cv2\n",
    "import numpy as np\n",
    "from tqdm import tqdm\n",
    "import torch\n",
    "from torchvision import models, transforms\n",
    "from PIL import Image\n",
    "\n",
    "# Paths\n",
    "datasets = [\n",
    "    {\n",
    "        \"original_images_dir\": \"/kaggle/input/bdma-07-competition/BDMA7_project_files/test_images/mistery_cat\",\n",
    "        \"no_background_images_dir\": \"/kaggle/input/augmented-processed-removedbackground-birddataset/Augmented_Processed_RemovedBackground_Dataset/test_images/mistery_cat\",\n",
    "        \"output_dir\": \"/kaggle/working/Augmented_Processed_CropImage_Dataset/test_images\"\n",
    "    },\n",
    "    {\n",
    "        \"original_images_dir\": \"/kaggle/input/augmented-processed-removedbackground-birddataset/New_Split_Dataset/train_images\",\n",
    "        \"no_background_images_dir\": \"/kaggle/input/augmented-processed-removedbackground-birddataset/Augmented_Processed_RemovedBackground_Dataset/train_images\",\n",
    "        \"output_dir\": \"/kaggle/working/Augmented_Processed_CropImage_Dataset/train_images\"\n",
    "    },\n",
    "    {\n",
    "        \"original_images_dir\": \"/kaggle/input/augmented-processed-removedbackground-birddataset/New_Split_Dataset/val_images\",\n",
    "        \"no_background_images_dir\": \"/kaggle/input/augmented-processed-removedbackground-birddataset/Augmented_Processed_RemovedBackground_Dataset/val_images\",\n",
    "        \"output_dir\": \"/kaggle/working/Augmented_Processed_CropImage_Dataset/val_images\"\n",
    "    }\n",
    "]\n",
    "\n",
    "# Ensure output directories exist\n",
    "for dataset in datasets:\n",
    "    os.makedirs(dataset[\"output_dir\"], exist_ok=True)\n",
    "\n",
    "# Extra padding around the detected bird\n",
    "padding = 50\n",
    "\n",
    "# Pre-trained model (Faster R-CNN for object detection)\n",
    "device = torch.device(\"cuda\" if torch.cuda.is_available() else \"cpu\")\n",
    "model = models.detection.fasterrcnn_resnet50_fpn(weights=\"DEFAULT\")\n",
    "model.eval()\n",
    "model.to(device)\n",
    "\n",
    "# Image transformation\n",
    "transform = transforms.Compose([\n",
    "    transforms.ToTensor()\n",
    "])\n",
    "\n",
    "def process_folder(original_folder, no_background_folder, output_folder):\n",
    "    for subfolder in os.listdir(no_background_folder):\n",
    "        subfolder_path = os.path.join(no_background_folder, subfolder)\n",
    "        if not os.path.isdir(subfolder_path):\n",
    "            continue\n",
    "\n",
    "        original_subfolder_path = os.path.join(original_folder, subfolder)\n",
    "        output_subfolder_path = os.path.join(output_folder, subfolder)\n",
    "        os.makedirs(output_subfolder_path, exist_ok=True)\n",
    "\n",
    "        image_files = [f for f in os.listdir(subfolder_path) if f.endswith(('.jpg', '.png', '.jpeg'))]\n",
    "\n",
    "        for image_file in tqdm(image_files, desc=f\"Processing images in {output_subfolder_path}\"):\n",
    "            # Load images\n",
    "            original_path = os.path.join(original_subfolder_path, image_file)\n",
    "            output_path = os.path.join(output_subfolder_path, image_file)\n",
    "\n",
    "            original_img = cv2.imread(original_path)\n",
    "\n",
    "            if original_img is None:\n",
    "                print(f\"Skipping {image_file} due to loading error.\")\n",
    "                continue\n",
    "\n",
    "            # Convert original image to PIL format for model processing\n",
    "            pil_img = Image.fromarray(cv2.cvtColor(original_img, cv2.COLOR_BGR2RGB))\n",
    "            img_tensor = transform(pil_img).unsqueeze(0).to(device)\n",
    "\n",
    "            # Detect objects\n",
    "            with torch.no_grad():\n",
    "                predictions = model(img_tensor)\n",
    "\n",
    "            # Extract bird bounding boxes (use label 16 for birds in COCO dataset)\n",
    "            boxes = predictions[0]['boxes'].cpu().numpy()\n",
    "            scores = predictions[0]['scores'].cpu().numpy()\n",
    "            labels = predictions[0]['labels'].cpu().numpy()\n",
    "\n",
    "            bird_boxes = [box for box, score, label in zip(boxes, scores, labels) if label == 16 and score > 0.5]\n",
    "\n",
    "            if not bird_boxes:\n",
    "                print(f\"No bird found in {image_file}, skipping.\")\n",
    "                continue\n",
    "\n",
    "            # Use the first detected bird box (highest confidence)\n",
    "            x_min, y_min, x_max, y_max = bird_boxes[0]\n",
    "            x_min = int(max(0, x_min - padding))\n",
    "            y_min = int(max(0, y_min - padding))\n",
    "            x_max = int(min(original_img.shape[1], x_max + padding))\n",
    "            y_max = int(min(original_img.shape[0], y_max + padding))\n",
    "\n",
    "            # Crop and save the image\n",
    "            cropped_img = original_img[y_min:y_max, x_min:x_max]\n",
    "            cv2.imwrite(output_path, cropped_img)\n",
    "\n",
    "for dataset in datasets:\n",
    "    process_folder(dataset[\"original_images_dir\"], dataset[\"no_background_images_dir\"], dataset[\"output_dir\"])\n",
    "\n",
    "print(\"Processing complete! Cropped images saved.\")"
   ]
  },
  {
   "cell_type": "markdown",
   "id": "91a29e1f",
   "metadata": {
    "papermill": {
     "duration": 0.068075,
     "end_time": "2025-02-04T11:07:07.779572",
     "exception": false,
     "start_time": "2025-02-04T11:07:07.711497",
     "status": "completed"
    },
    "tags": []
   },
   "source": [
    "## Data Augmentation"
   ]
  },
  {
   "cell_type": "code",
   "execution_count": 6,
   "id": "f9bdd645",
   "metadata": {
    "execution": {
     "iopub.execute_input": "2025-02-04T11:07:07.915071Z",
     "iopub.status.busy": "2025-02-04T11:07:07.914764Z",
     "iopub.status.idle": "2025-02-04T11:07:07.918603Z",
     "shell.execute_reply": "2025-02-04T11:07:07.917802Z"
    },
    "papermill": {
     "duration": 0.073487,
     "end_time": "2025-02-04T11:07:07.919983",
     "exception": false,
     "start_time": "2025-02-04T11:07:07.846496",
     "status": "completed"
    },
    "tags": []
   },
   "outputs": [],
   "source": [
    "# # Data augmentation (rotation)\n",
    "# train_dir = \"/kaggle/working/processed_images/train_images\"\n",
    "# output_dir = \"/kaggle/working/preprocessed_images\"\n",
    "\n",
    "# # Image processing parameters\n",
    "# img_size = (128, 128)  # Resize dimensions\n",
    "# rotation_angles = [-15, -10, -5, 5, 10, 15]  # Rotation angles\n",
    "\n",
    "# # Create output directory\n",
    "# if not os.path.exists(output_dir):\n",
    "#     os.makedirs(output_dir)\n",
    "\n",
    "# # Data augmentation and saving\n",
    "# def preprocess_and_augment_images(input_dir, output_dir, img_size, angles):\n",
    "#     \"\"\"\n",
    "#     Perform preprocessing (resize) and augmentation (rotation) on images.\n",
    "#     \"\"\"\n",
    "#     for class_folder in tqdm(os.listdir(input_dir), desc=\"Processing Classes\"):\n",
    "#         class_path = os.path.join(input_dir, class_folder)\n",
    "#         if not os.path.isdir(class_path):\n",
    "#             continue\n",
    "\n",
    "#         # Create output directory for each class\n",
    "#         class_output_path = os.path.join(output_dir, class_folder)\n",
    "#         os.makedirs(class_output_path, exist_ok=True)\n",
    "\n",
    "#         # Process each image\n",
    "#         for img_file in os.listdir(class_path):\n",
    "#             img_path = os.path.join(class_path, img_file)\n",
    "#             img = cv2.imread(img_path)\n",
    "\n",
    "#             if img is None:\n",
    "#                 print(f\"Warning: Unable to read image {img_path}\")\n",
    "#                 continue\n",
    "\n",
    "#             # Resize the image\n",
    "#             resized_img = cv2.resize(img, img_size)\n",
    "\n",
    "#             # Save the resized original image\n",
    "#             base_name = os.path.splitext(img_file)[0]\n",
    "#             cv2.imwrite(os.path.join(class_output_path, f\"{base_name}_original.jpg\"), resized_img)\n",
    "\n",
    "#             # Data augmentation (rotation)\n",
    "#             for angle in angles:\n",
    "#                 # Calculate the rotation matrix\n",
    "#                 h, w = resized_img.shape[:2]\n",
    "#                 center = (w // 2, h // 2)\n",
    "#                 rotation_matrix = cv2.getRotationMatrix2D(center, angle, 1.0)\n",
    "\n",
    "#                 # Rotate the image\n",
    "#                 rotated_img = cv2.warpAffine(resized_img, rotation_matrix, (w, h))\n",
    "\n",
    "#                 # Save the augmented image\n",
    "#                 augmented_name = f\"{base_name}_rotated_{angle}.jpg\"\n",
    "#                 cv2.imwrite(os.path.join(class_output_path, augmented_name), rotated_img)\n",
    "\n",
    "# # Execute preprocessing and augmentation\n",
    "# preprocess_and_augment_images(train_dir, output_dir, img_size, rotation_angles)\n",
    "\n",
    "# print(\"Data preprocessing and augmentation complete. Files saved to:\", output_dir)"
   ]
  },
  {
   "cell_type": "code",
   "execution_count": 7,
   "id": "d8bc2fa7",
   "metadata": {
    "execution": {
     "iopub.execute_input": "2025-02-04T11:07:08.095815Z",
     "iopub.status.busy": "2025-02-04T11:07:08.095471Z",
     "iopub.status.idle": "2025-02-04T11:07:08.099239Z",
     "shell.execute_reply": "2025-02-04T11:07:08.098362Z"
    },
    "papermill": {
     "duration": 0.114259,
     "end_time": "2025-02-04T11:07:08.100552",
     "exception": false,
     "start_time": "2025-02-04T11:07:07.986293",
     "status": "completed"
    },
    "tags": []
   },
   "outputs": [],
   "source": [
    "# ## Data augmentation (flip)\n",
    "# def flip_image(image, flip_code):\n",
    "#     return cv2.flip(image, flip_code)\n",
    "\n",
    "# train_dir = \"/kaggle/working/preprocessed_images\"\n",
    "# output_dir = \"/kaggle/working/preprocessed02_images\"\n",
    "# # Define a list of flip codes\n",
    "# # flip_codes = [0, 1, -1]\n",
    "# flip_codes = [1]\n",
    "\n",
    "# # Iterate through subdirectories (classes) in the input directory\n",
    "# for root, dirs, files in os.walk(train_dir):\n",
    "#     for dir_name in dirs:\n",
    "#         input_class_dir = os.path.join(root, dir_name)\n",
    "#         output_class_dir = os.path.join(output_dir, dir_name)\n",
    "#         # Create the output directory if it doesn't exist\n",
    "#         if not os.path.exists(output_class_dir):\n",
    "#             os.makedirs(output_class_dir)\n",
    "#         # Iterate through files in the class directory\n",
    "#         for file in os.listdir(input_class_dir):\n",
    "#             if file.endswith(\".jpg\"):\n",
    "#                 input_file_path = os.path.join(input_class_dir, file)\n",
    "#                 # Read the image\n",
    "#                 image = cv2.imread(input_file_path)\n",
    "                \n",
    "#                 # Copy the original image to the output directory\n",
    "#                 output_original_file_path = os.path.join(output_class_dir, file)\n",
    "#                 cv2.imwrite(output_original_file_path, image)\n",
    "                \n",
    "#                 # Generate flipped images for each flip operation\n",
    "#                 for flip_code in flip_codes:\n",
    "#                     # Generate a new file name\n",
    "#                     base_name = os.path.splitext(file)[0]\n",
    "#                     output_file_name = f\"{base_name}_flipped_{flip_code}.jpg\"\n",
    "#                     output_file_path = os.path.join(output_class_dir, output_file_name)\n",
    "#                     # Perform the flip operation on the image\n",
    "#                     flipped_image = flip_image(image, flip_code)\n",
    "#                     cv2.imwrite(output_file_path, flipped_image)"
   ]
  },
  {
   "cell_type": "code",
   "execution_count": 8,
   "id": "9a276f6c",
   "metadata": {
    "execution": {
     "iopub.execute_input": "2025-02-04T11:07:08.235406Z",
     "iopub.status.busy": "2025-02-04T11:07:08.235160Z",
     "iopub.status.idle": "2025-02-04T11:07:18.889705Z",
     "shell.execute_reply": "2025-02-04T11:07:18.888592Z"
    },
    "papermill": {
     "duration": 10.72238,
     "end_time": "2025-02-04T11:07:18.891180",
     "exception": false,
     "start_time": "2025-02-04T11:07:08.168800",
     "status": "completed"
    },
    "tags": []
   },
   "outputs": [
    {
     "name": "stdout",
     "output_type": "stream",
     "text": [
      "Augmenting training dataset...\n"
     ]
    },
    {
     "name": "stderr",
     "output_type": "stream",
     "text": [
      "Processing train_images: 100%|██████████| 20/20 [00:09<00:00,  2.10it/s]\n"
     ]
    },
    {
     "name": "stdout",
     "output_type": "stream",
     "text": [
      "Processing validation dataset...\n"
     ]
    },
    {
     "name": "stderr",
     "output_type": "stream",
     "text": [
      "Processing val_images: 100%|██████████| 20/20 [00:01<00:00, 17.89it/s]\n"
     ]
    },
    {
     "name": "stdout",
     "output_type": "stream",
     "text": [
      "Processing test dataset...\n"
     ]
    },
    {
     "name": "stderr",
     "output_type": "stream",
     "text": [
      "Processing test_images: 0it [00:00, ?it/s]"
     ]
    },
    {
     "name": "stdout",
     "output_type": "stream",
     "text": [
      "Data processing complete. Augmented and preprocessed data saved to:\n",
      "Train: /kaggle/working/Augmented_Processed_Dataset/train_images\n",
      "Validation: /kaggle/working/Augmented_Processed_Dataset/val_images\n",
      "Test: /kaggle/working/Augmented_Processed_Dataset/test_images\n"
     ]
    },
    {
     "name": "stderr",
     "output_type": "stream",
     "text": [
      "\n"
     ]
    }
   ],
   "source": [
    "import os\n",
    "from PIL import Image\n",
    "from tqdm import tqdm\n",
    "import torchvision.transforms as T\n",
    "\n",
    "# Paths to datasets\n",
    "train_dir = \"/kaggle/working/Augmented_Processed_CropImage_Dataset/train_images\"\n",
    "val_dir = \"/kaggle/working/Augmented_Processed_CropImage_Dataset/val_images\"\n",
    "test_dir = \"/kaggle/working/Augmented_Processed_CropImage_Dataset/test_images\"\n",
    "augmented_train_dir = \"/kaggle/working/Augmented_Processed_Dataset/train_images\"\n",
    "augmented_val_dir = \"/kaggle/working/Augmented_Processed_Dataset/val_images\"\n",
    "augmented_test_dir = \"/kaggle/working/Augmented_Processed_Dataset/test_images\"\n",
    "\n",
    "# Ensure output directories exist\n",
    "os.makedirs(augmented_train_dir, exist_ok=True)\n",
    "os.makedirs(augmented_val_dir, exist_ok=True)\n",
    "os.makedirs(augmented_test_dir, exist_ok=True)\n",
    "\n",
    "# Define transformations for training, validation, and test sets\n",
    "def get_train_augmentations():\n",
    "    return T.Compose([\n",
    "        T.Resize((256, 256)),\n",
    "        T.RandomCrop((224, 224)),\n",
    "        T.RandomHorizontalFlip(p=0.5),\n",
    "        T.RandomRotation(degrees=15),\n",
    "        T.ColorJitter(brightness=0.2, contrast=0.2, saturation=0.2, hue=0.1),\n",
    "        T.ToTensor(),  # Convert to Tensor\n",
    "        T.Normalize(mean=(0.485, 0.456, 0.406), std=(0.229, 0.224, 0.225)),  # Normalize\n",
    "    ])\n",
    "\n",
    "def get_val_preprocessing():\n",
    "    return T.Compose([\n",
    "        T.Resize((224, 224)),\n",
    "        T.ToTensor(),\n",
    "        T.Normalize(mean=(0.485, 0.456, 0.406), std=(0.229, 0.224, 0.225)),  # Normalize\n",
    "    ])\n",
    "\n",
    "# De-normalization function to convert tensors back to human-readable format\n",
    "def denormalize(tensor, mean, std):\n",
    "    \"\"\"\n",
    "    Reverse the normalization process to bring pixel values back to [0, 1].\n",
    "    \"\"\"\n",
    "    for t, m, s in zip(tensor, mean, std):\n",
    "        t.mul_(s).add_(m)  # Denormalize: t = t * std + mean\n",
    "    return tensor\n",
    "\n",
    "# Function to process images and save results\n",
    "def process_images(input_dir, output_dir, transform, augment=False):\n",
    "    for class_folder in tqdm(os.listdir(input_dir), desc=f\"Processing {os.path.basename(input_dir)}\"):\n",
    "        class_path = os.path.join(input_dir, class_folder)\n",
    "        if not os.path.isdir(class_path):\n",
    "            continue\n",
    "        \n",
    "        # Create output directory for each class\n",
    "        class_output_path = os.path.join(output_dir, class_folder)\n",
    "        os.makedirs(class_output_path, exist_ok=True)\n",
    "        \n",
    "        # Process each image in the class directory\n",
    "        for img_file in os.listdir(class_path):\n",
    "            img_path = os.path.join(class_path, img_file)\n",
    "            try:\n",
    "                img = Image.open(img_path).convert(\"RGB\")\n",
    "            except Exception as e:\n",
    "                print(f\"Error reading {img_path}: {e}\")\n",
    "                continue\n",
    "            \n",
    "            # Apply transformations\n",
    "            transformed_img = transform(img)\n",
    "            base_name = os.path.splitext(img_file)[0]\n",
    "\n",
    "            if augment:\n",
    "                # Augmented images for training\n",
    "                output_file = os.path.join(class_output_path, f\"{base_name}_augmented.jpg\")\n",
    "            else:\n",
    "                # Preprocessed images for validation and test\n",
    "                output_file = os.path.join(class_output_path, f\"{base_name}.jpg\")\n",
    "            \n",
    "            # Denormalize before saving\n",
    "            denormalized_img = denormalize(transformed_img.clone(), mean=(0.485, 0.456, 0.406), std=(0.229, 0.224, 0.225))\n",
    "            denormalized_img = denormalized_img.clamp(0, 1)  # Ensure pixel values are within [0, 1]\n",
    "\n",
    "            # Convert back to PIL image and save\n",
    "            transformed_pil = T.ToPILImage()(denormalized_img)\n",
    "            transformed_pil.save(output_file)\n",
    "\n",
    "# Process training set with data augmentation\n",
    "print(\"Augmenting training dataset...\")\n",
    "train_augmentations = get_train_augmentations()\n",
    "process_images(train_dir, augmented_train_dir, train_augmentations, augment=True)\n",
    "\n",
    "# Process validation set without augmentation\n",
    "print(\"Processing validation dataset...\")\n",
    "val_preprocessing = get_val_preprocessing()\n",
    "process_images(val_dir, augmented_val_dir, val_preprocessing, augment=False)\n",
    "\n",
    "# Process test set without augmentation\n",
    "print(\"Processing test dataset...\")\n",
    "process_images(test_dir, augmented_test_dir, val_preprocessing, augment=False)\n",
    "\n",
    "print(\"Data processing complete. Augmented and preprocessed data saved to:\")\n",
    "print(f\"Train: {augmented_train_dir}\")\n",
    "print(f\"Validation: {augmented_val_dir}\")\n",
    "print(f\"Test: {augmented_test_dir}\")"
   ]
  },
  {
   "cell_type": "markdown",
   "id": "afb774f8",
   "metadata": {
    "papermill": {
     "duration": 0.068118,
     "end_time": "2025-02-04T11:07:19.027854",
     "exception": false,
     "start_time": "2025-02-04T11:07:18.959736",
     "status": "completed"
    },
    "tags": []
   },
   "source": [
    "## Preprocess by DeepLabV3 Remove Background"
   ]
  },
  {
   "cell_type": "code",
   "execution_count": 9,
   "id": "69211ec8",
   "metadata": {
    "execution": {
     "iopub.execute_input": "2025-02-04T11:07:19.167037Z",
     "iopub.status.busy": "2025-02-04T11:07:19.166744Z",
     "iopub.status.idle": "2025-02-04T11:07:19.170814Z",
     "shell.execute_reply": "2025-02-04T11:07:19.170171Z"
    },
    "papermill": {
     "duration": 0.074167,
     "end_time": "2025-02-04T11:07:19.171929",
     "exception": false,
     "start_time": "2025-02-04T11:07:19.097762",
     "status": "completed"
    },
    "tags": []
   },
   "outputs": [],
   "source": [
    "# import os\n",
    "# import torch\n",
    "# import torchvision.transforms as T\n",
    "# from PIL import Image\n",
    "# from torchvision.models.segmentation import deeplabv3_resnet101, DeepLabV3_ResNet101_Weights\n",
    "# import numpy as np\n",
    "\n",
    "# # Set data paths\n",
    "# train_dir = \"/kaggle/input/bdma-07-competition/BDMA7_project_files/train_images\"\n",
    "# val_dir = \"/kaggle/input/bdma-07-competition/BDMA7_project_files/val_images\"\n",
    "# test_dir = \"/kaggle/input/bdma-07-competition/BDMA7_project_files/test_images/mistery_cat\"\n",
    "# output_dir = \"/kaggle/working/processed_images\"\n",
    "\n",
    "# # Create output directory\n",
    "# os.makedirs(output_dir, exist_ok=True)\n",
    "\n",
    "# # Load the pretrained DeepLabV3+ model (ResNet101 backbone)\n",
    "# device = torch.device(\"cuda\" if torch.cuda.is_available() else \"cpu\")\n",
    "\n",
    "# # Load pretrained model with correct weights handling\n",
    "# weights = DeepLabV3_ResNet101_Weights.DEFAULT\n",
    "# model = deeplabv3_resnet101(weights=weights).to(device)\n",
    "# model.eval()\n",
    "\n",
    "# # Image preprocessing (fixed \"mean\" and \"std\" issue)\n",
    "# def preprocess_image(image_path):\n",
    "#     \"\"\"Preprocess the input image for the DeepLabV3+ model.\"\"\"\n",
    "#     image = Image.open(image_path).convert(\"RGB\")\n",
    "#     transform = T.Compose([\n",
    "#         T.Resize((512, 512)),\n",
    "#         T.ToTensor(),\n",
    "#         T.Normalize(mean=weights.transforms().mean, std=weights.transforms().std),  # FIXED\n",
    "#     ])\n",
    "#     return transform(image).unsqueeze(0), image\n",
    "\n",
    "# # Post-processing: apply the segmentation mask to the original image\n",
    "# def apply_mask(image, mask):\n",
    "#     \"\"\"Apply the segmentation mask to the original image to remove the background.\"\"\"\n",
    "#     mask = mask.cpu().numpy()\n",
    "#     mask = (mask > 0.5).astype(np.uint8)  # Binarize the mask\n",
    "#     mask = Image.fromarray(mask * 255).resize(image.size, Image.BILINEAR)\n",
    "#     mask = np.array(mask) / 255\n",
    "#     image_np = np.array(image)\n",
    "#     result = (image_np * np.expand_dims(mask, axis=-1)).astype(np.uint8)\n",
    "#     return Image.fromarray(result)\n",
    "\n",
    "# def process_directory(input_dir, output_subdir):\n",
    "#     \"\"\"Process all images in a directory, including subdirectories, and save the results.\"\"\"\n",
    "#     output_path = os.path.join(output_dir, output_subdir)\n",
    "#     os.makedirs(output_path, exist_ok=True)\n",
    "\n",
    "#     print(f\"🔍 Removing images Background in: {input_dir}\")\n",
    "\n",
    "#     # Walk through all subdirectories and files\n",
    "#     for root, _, files in os.walk(input_dir):\n",
    "#         for filename in files:\n",
    "#             file_path = os.path.join(root, filename)\n",
    "\n",
    "#             # Process only image files\n",
    "#             if filename.endswith(('.png', '.jpg', '.jpeg')):\n",
    "#                 # Recreate subdirectory structure in output\n",
    "#                 relative_path = os.path.relpath(root, input_dir)\n",
    "#                 sub_output_path = os.path.join(output_path, relative_path)\n",
    "#                 os.makedirs(sub_output_path, exist_ok=True)\n",
    "\n",
    "#                 try:\n",
    "#                     # Preprocess the image\n",
    "#                     input_tensor, original_image = preprocess_image(file_path)\n",
    "#                     input_tensor = input_tensor.to(device)\n",
    "\n",
    "#                     # Inference\n",
    "#                     with torch.no_grad():\n",
    "#                         output = model(input_tensor)['out']\n",
    "#                     mask = torch.argmax(output.squeeze(), dim=0)\n",
    "\n",
    "#                     # Apply the mask\n",
    "#                     result_image = apply_mask(original_image, mask)\n",
    "\n",
    "#                     # Save the result\n",
    "#                     result_path = os.path.join(sub_output_path, filename)\n",
    "#                     result_image.save(result_path)\n",
    "#                     # print(f\"✅ Processed and saved: {result_path}\")\n",
    "\n",
    "#                 except Exception as e:\n",
    "#                     print(f\"❌ Error processing {file_path}: {e}\")  # Debugging output\n",
    "\n",
    "# # Process training, validation, and test datasets\n",
    "# print(\"Processing training images...\")\n",
    "# process_directory(train_dir, \"train_images\")\n",
    "\n",
    "# print(\"Processing validation images...\")\n",
    "# process_directory(val_dir, \"val_images\")\n",
    "\n",
    "# print(\"Processing test images...\")\n",
    "# process_directory(test_dir, \"test_images\")\n",
    "\n",
    "# print(f\"All images processed and saved in {output_dir}\")"
   ]
  },
  {
   "cell_type": "code",
   "execution_count": 10,
   "id": "239c8dd7",
   "metadata": {
    "execution": {
     "iopub.execute_input": "2025-02-04T11:07:19.307937Z",
     "iopub.status.busy": "2025-02-04T11:07:19.307600Z",
     "iopub.status.idle": "2025-02-04T11:07:19.311475Z",
     "shell.execute_reply": "2025-02-04T11:07:19.310850Z"
    },
    "papermill": {
     "duration": 0.073361,
     "end_time": "2025-02-04T11:07:19.312588",
     "exception": false,
     "start_time": "2025-02-04T11:07:19.239227",
     "status": "completed"
    },
    "tags": []
   },
   "outputs": [],
   "source": [
    "# import os\n",
    "# import torch\n",
    "# import torchvision.transforms as T\n",
    "# from PIL import Image\n",
    "# from torchvision.models.segmentation import deeplabv3_resnet101, DeepLabV3_ResNet101_Weights\n",
    "# import numpy as np\n",
    "\n",
    "# # Paths\n",
    "# train_dir = \"/kaggle/working/New_Split_Dataset/train_images\"\n",
    "# augmented_train_dir = \"/kaggle/working/Augmented_Processed_Dataset/train_images\"\n",
    "# output_train_dir = \"/kaggle/working/Augmented_Processed_RemovedBackground_Dataset/train_images\"\n",
    "# val_dir = \"/kaggle/working/New_Split_Dataset/val_images\"\n",
    "# output_val_dir = \"/kaggle/working/Augmented_Processed_RemovedBackground_Dataset/val_images\"\n",
    "# test_dir = \"/kaggle/input/bdma-07-competition/BDMA7_project_files/test_images\"\n",
    "# output_test_dir = \"/kaggle/working/Augmented_Processed_RemovedBackground_Dataset/test_images\"\n",
    "\n",
    "# # Create output directories\n",
    "# os.makedirs(output_train_dir, exist_ok=True)\n",
    "# os.makedirs(output_val_dir, exist_ok=True)\n",
    "# os.makedirs(output_test_dir, exist_ok=True)\n",
    "\n",
    "# # Load pretrained DeepLabV3+ model\n",
    "# device = torch.device(\"cuda\" if torch.cuda.is_available() else \"cpu\")\n",
    "# weights = DeepLabV3_ResNet101_Weights.DEFAULT\n",
    "# model = deeplabv3_resnet101(weights=weights).to(device)\n",
    "# model.eval()\n",
    "\n",
    "# # Image preprocessing\n",
    "# def preprocess_image(image_path):\n",
    "#     \"\"\"Preprocess the input image for the DeepLabV3+ model.\"\"\"\n",
    "#     image = Image.open(image_path).convert(\"RGB\")\n",
    "#     transform = T.Compose([\n",
    "#         T.Resize((512, 512)),\n",
    "#         T.ToTensor(),\n",
    "#         T.Normalize(mean=weights.transforms().mean, std=weights.transforms().std),\n",
    "#     ])\n",
    "#     return transform(image).unsqueeze(0), image\n",
    "\n",
    "# # Post-processing: apply the segmentation mask to the original image\n",
    "# def apply_mask(image, mask):\n",
    "#     \"\"\"Apply the segmentation mask to the original image to remove the background.\"\"\"\n",
    "#     mask = mask.cpu().numpy()\n",
    "#     mask = (mask > 0.5).astype(np.uint8)  # Binarize the mask\n",
    "#     mask = Image.fromarray(mask * 255).resize(image.size, Image.BILINEAR)\n",
    "#     mask = np.array(mask) / 255\n",
    "#     image_np = np.array(image)\n",
    "#     result = (image_np * np.expand_dims(mask, axis=-1)).astype(np.uint8)\n",
    "#     return Image.fromarray(result)\n",
    "\n",
    "# # Process images and remove background\n",
    "# def process_directory(input_dirs, output_dir):\n",
    "#     \"\"\"Process all images in multiple directories and save results.\"\"\"\n",
    "#     for input_dir in input_dirs:\n",
    "#         print(f\"Removing background from images in: {input_dir}\")\n",
    "#         for root, _, files in os.walk(input_dir):\n",
    "#             for filename in files:\n",
    "#                 file_path = os.path.join(root, filename)\n",
    "\n",
    "#                 # Process only image files\n",
    "#                 if filename.endswith(('.png', '.jpg', '.jpeg')):\n",
    "#                     # Recreate subdirectory structure in output\n",
    "#                     relative_path = os.path.relpath(root, input_dir)\n",
    "#                     sub_output_path = os.path.join(output_dir, relative_path)\n",
    "#                     os.makedirs(sub_output_path, exist_ok=True)\n",
    "\n",
    "#                     try:\n",
    "#                         # Preprocess the image\n",
    "#                         input_tensor, original_image = preprocess_image(file_path)\n",
    "#                         input_tensor = input_tensor.to(device)\n",
    "\n",
    "#                         # Inference\n",
    "#                         with torch.no_grad():\n",
    "#                             output = model(input_tensor)['out']\n",
    "#                         mask = torch.argmax(output.squeeze(), dim=0)\n",
    "\n",
    "#                         # Apply the mask\n",
    "#                         result_image = apply_mask(original_image, mask)\n",
    "\n",
    "#                         # Save the result\n",
    "#                         result_path = os.path.join(sub_output_path, filename)\n",
    "#                         result_image.save(result_path)\n",
    "\n",
    "#                     except Exception as e:\n",
    "#                         print(f\"Error processing {file_path}: {e}\")\n",
    "\n",
    "# # Process training set\n",
    "# process_directory([train_dir, augmented_train_dir], output_train_dir)\n",
    "\n",
    "# # Process validation set\n",
    "# process_directory([val_dir], output_val_dir)\n",
    "\n",
    "# # Process test set\n",
    "# process_directory([test_dir], output_test_dir)\n",
    "\n",
    "# print(f\"All images processed and saved in {output_train_dir}, {output_val_dir}, and {output_test_dir}.\")"
   ]
  },
  {
   "cell_type": "code",
   "execution_count": 11,
   "id": "a7daf4ae",
   "metadata": {
    "execution": {
     "iopub.execute_input": "2025-02-04T11:07:19.448930Z",
     "iopub.status.busy": "2025-02-04T11:07:19.448708Z",
     "iopub.status.idle": "2025-02-04T11:07:27.637152Z",
     "shell.execute_reply": "2025-02-04T11:07:27.636324Z"
    },
    "papermill": {
     "duration": 8.258183,
     "end_time": "2025-02-04T11:07:27.638376",
     "exception": false,
     "start_time": "2025-02-04T11:07:19.380193",
     "status": "completed"
    },
    "tags": []
   },
   "outputs": [
    {
     "data": {
      "text/plain": [
       "'/kaggle/working/Augmented_Processed_RemovedBackground_Dataset'"
      ]
     },
     "execution_count": 11,
     "metadata": {},
     "output_type": "execute_result"
    }
   ],
   "source": [
    "input_dir = \"/kaggle/input/augmented-processed-removedbackground-birddataset/Augmented_Processed_RemovedBackground_Dataset\"\n",
    "output_dir = \"/kaggle/working/Augmented_Processed_RemovedBackground_Dataset\"\n",
    "\n",
    "shutil.copytree(input_dir, output_dir, dirs_exist_ok=True)"
   ]
  },
  {
   "cell_type": "markdown",
   "id": "10bce836",
   "metadata": {
    "papermill": {
     "duration": 0.066955,
     "end_time": "2025-02-04T11:07:27.774843",
     "exception": false,
     "start_time": "2025-02-04T11:07:27.707888",
     "status": "completed"
    },
    "tags": []
   },
   "source": [
    "# Vision Transformer Model"
   ]
  },
  {
   "cell_type": "code",
   "execution_count": 12,
   "id": "4f7a4ac2",
   "metadata": {
    "execution": {
     "iopub.execute_input": "2025-02-04T11:07:27.910339Z",
     "iopub.status.busy": "2025-02-04T11:07:27.910054Z",
     "iopub.status.idle": "2025-02-04T11:07:27.913104Z",
     "shell.execute_reply": "2025-02-04T11:07:27.912414Z"
    },
    "papermill": {
     "duration": 0.072546,
     "end_time": "2025-02-04T11:07:27.914353",
     "exception": false,
     "start_time": "2025-02-04T11:07:27.841807",
     "status": "completed"
    },
    "tags": []
   },
   "outputs": [],
   "source": [
    "# train_dir = \"/kaggle/working/preprocessed02_images\"\n",
    "# val_dir = \"/kaggle/working/processed_images/val_images\""
   ]
  },
  {
   "cell_type": "code",
   "execution_count": 13,
   "id": "1bf0f7c9",
   "metadata": {
    "execution": {
     "iopub.execute_input": "2025-02-04T11:07:28.050275Z",
     "iopub.status.busy": "2025-02-04T11:07:28.050017Z",
     "iopub.status.idle": "2025-02-04T11:07:28.052895Z",
     "shell.execute_reply": "2025-02-04T11:07:28.052267Z"
    },
    "papermill": {
     "duration": 0.07209,
     "end_time": "2025-02-04T11:07:28.054112",
     "exception": false,
     "start_time": "2025-02-04T11:07:27.982022",
     "status": "completed"
    },
    "tags": []
   },
   "outputs": [],
   "source": [
    "# # model_name = \"google/vit-base-patch16-224-in21k\"  # 224x224 Input，16x16 Chunk\n",
    "# # Change to ViT-Large\n",
    "# model_name = \"google/vit-large-patch16-224-in21k\"\n",
    "# processor = ViTImageProcessor.from_pretrained(model_name)\n",
    "# model = ViTForImageClassification.from_pretrained(\n",
    "#     model_name,\n",
    "#     num_labels=20,  # Number of Classes\n",
    "#     ignore_mismatched_sizes=True  \n",
    "# )"
   ]
  },
  {
   "cell_type": "markdown",
   "id": "b43e76af",
   "metadata": {
    "papermill": {
     "duration": 0.068333,
     "end_time": "2025-02-04T11:07:28.190353",
     "exception": false,
     "start_time": "2025-02-04T11:07:28.122020",
     "status": "completed"
    },
    "tags": []
   },
   "source": [
    "## Freeze feature layers of ViT"
   ]
  },
  {
   "cell_type": "code",
   "execution_count": 14,
   "id": "425e8988",
   "metadata": {
    "execution": {
     "iopub.execute_input": "2025-02-04T11:07:28.325556Z",
     "iopub.status.busy": "2025-02-04T11:07:28.325282Z",
     "iopub.status.idle": "2025-02-04T11:07:28.328290Z",
     "shell.execute_reply": "2025-02-04T11:07:28.327641Z"
    },
    "papermill": {
     "duration": 0.072083,
     "end_time": "2025-02-04T11:07:28.329508",
     "exception": false,
     "start_time": "2025-02-04T11:07:28.257425",
     "status": "completed"
    },
    "tags": []
   },
   "outputs": [],
   "source": [
    "# # Freeze all feature layers of ViT (train only the classification head)\n",
    "# for param in model.vit.parameters():\n",
    "#     # param.requires_grad = False\n",
    "#     param.requires_grad = False\n",
    "\n",
    "# # Thaw the classification headers separately\n",
    "# for param in model.classifier.parameters():\n",
    "#     param.requires_grad = True"
   ]
  },
  {
   "cell_type": "markdown",
   "id": "36dde58a",
   "metadata": {
    "papermill": {
     "duration": 0.068266,
     "end_time": "2025-02-04T11:07:28.464576",
     "exception": false,
     "start_time": "2025-02-04T11:07:28.396310",
     "status": "completed"
    },
    "tags": []
   },
   "source": [
    "## Set layer-wise learning rate"
   ]
  },
  {
   "cell_type": "code",
   "execution_count": 15,
   "id": "386afe25",
   "metadata": {
    "execution": {
     "iopub.execute_input": "2025-02-04T11:07:28.602674Z",
     "iopub.status.busy": "2025-02-04T11:07:28.602361Z",
     "iopub.status.idle": "2025-02-04T11:07:28.605335Z",
     "shell.execute_reply": "2025-02-04T11:07:28.604719Z"
    },
    "papermill": {
     "duration": 0.072725,
     "end_time": "2025-02-04T11:07:28.606548",
     "exception": false,
     "start_time": "2025-02-04T11:07:28.533823",
     "status": "completed"
    },
    "tags": []
   },
   "outputs": [],
   "source": [
    "# # Set layer-wise learning rate (feature layer learning rate is lower)\n",
    "# optimizer = AdamW(\n",
    "#     [\n",
    "#         {\"params\": model.vit.parameters(), \"lr\": 1e-5},  # Feature extraction layer\n",
    "#         {\"params\": model.classifier.parameters(), \"lr\": 3e-4}  # Classification Header\n",
    "#     ],\n",
    "#     weight_decay=0.01\n",
    "# )"
   ]
  },
  {
   "cell_type": "code",
   "execution_count": 16,
   "id": "7ffca0bf",
   "metadata": {
    "execution": {
     "iopub.execute_input": "2025-02-04T11:07:28.743950Z",
     "iopub.status.busy": "2025-02-04T11:07:28.743652Z",
     "iopub.status.idle": "2025-02-04T11:07:28.746812Z",
     "shell.execute_reply": "2025-02-04T11:07:28.746035Z"
    },
    "papermill": {
     "duration": 0.073083,
     "end_time": "2025-02-04T11:07:28.748039",
     "exception": false,
     "start_time": "2025-02-04T11:07:28.674956",
     "status": "completed"
    },
    "tags": []
   },
   "outputs": [],
   "source": [
    "# # Verify that the classification layer is randomly initialized (correct state should be True)\n",
    "# print(model.classifier.weight.mean().item())  # Should be close to 0 (normal distribution initialization)\n",
    "# print(model.classifier.bias.mean().item())    # Should be close to 0"
   ]
  },
  {
   "cell_type": "markdown",
   "id": "d975794e",
   "metadata": {
    "papermill": {
     "duration": 0.066987,
     "end_time": "2025-02-04T11:07:28.882173",
     "exception": false,
     "start_time": "2025-02-04T11:07:28.815186",
     "status": "completed"
    },
    "tags": []
   },
   "source": [
    "## Check Submission Classes Order"
   ]
  },
  {
   "cell_type": "code",
   "execution_count": 17,
   "id": "d8bd7451",
   "metadata": {
    "execution": {
     "iopub.execute_input": "2025-02-04T11:07:29.056499Z",
     "iopub.status.busy": "2025-02-04T11:07:29.056223Z",
     "iopub.status.idle": "2025-02-04T11:07:29.059428Z",
     "shell.execute_reply": "2025-02-04T11:07:29.058710Z"
    },
    "papermill": {
     "duration": 0.07304,
     "end_time": "2025-02-04T11:07:29.060614",
     "exception": false,
     "start_time": "2025-02-04T11:07:28.987574",
     "status": "completed"
    },
    "tags": []
   },
   "outputs": [],
   "source": [
    "# submission_class_order = [\n",
    "#     'Groove_billed_Ani',\n",
    "#     'Red_winged_Blackbird',\n",
    "#     'Rusty_Blackbird',\n",
    "#     'Gray_Catbird',\n",
    "#     'Brandt_Cormorant',\n",
    "#     'Eastern_Towhee',\n",
    "#     'Indigo_Bunting',\n",
    "#     'Brewer_Blackbird',\n",
    "#     'Painted_Bunting',\n",
    "#     'Bobolink',\n",
    "#     'Lazuli_Bunting',\n",
    "#     'Yellow_headed_Blackbird',\n",
    "#     'American_Crow',\n",
    "#     'Fish_Crow',\n",
    "#     'Brown_Creeper',\n",
    "#     'Yellow_billed_Cuckoo',\n",
    "#     'Yellow_breasted_Chat',\n",
    "#     'Black_billed_Cuckoo',\n",
    "#     'Gray_crowned_Rosy_Finch',\n",
    "#     'Bronzed_Cowbird'\n",
    "# ]"
   ]
  },
  {
   "cell_type": "code",
   "execution_count": 18,
   "id": "79240a8b",
   "metadata": {
    "execution": {
     "iopub.execute_input": "2025-02-04T11:07:29.197602Z",
     "iopub.status.busy": "2025-02-04T11:07:29.197360Z",
     "iopub.status.idle": "2025-02-04T11:07:29.201025Z",
     "shell.execute_reply": "2025-02-04T11:07:29.200396Z"
    },
    "papermill": {
     "duration": 0.073428,
     "end_time": "2025-02-04T11:07:29.202208",
     "exception": false,
     "start_time": "2025-02-04T11:07:29.128780",
     "status": "completed"
    },
    "tags": []
   },
   "outputs": [],
   "source": [
    "# device = torch.device(\"cuda\" if torch.cuda.is_available() else \"cpu\")\n",
    "\n",
    "# class BirdDataset(Dataset):\n",
    "#     def __init__(self, main_dir, transform=None):\n",
    "#         self.dataset = ImageFolder(root=main_dir, transform=transform)\n",
    "#         self.class_to_idx = self.dataset.class_to_idx\n",
    "        \n",
    "#     def __len__(self):\n",
    "#         return len(self.dataset)\n",
    "    \n",
    "#     def __getitem__(self, idx):\n",
    "#         image, label = self.dataset[idx]\n",
    "#         return image, label\n",
    "\n",
    "# train_transform = transforms.Compose([\n",
    "#     transforms.Resize((256, 256)),\n",
    "#     transforms.RandomCrop(224),\n",
    "#     transforms.RandomHorizontalFlip(),\n",
    "#     transforms.ColorJitter(brightness=0.2, contrast=0.2, saturation=0.2),\n",
    "#     transforms.ToTensor(),\n",
    "#     transforms.Normalize(mean=processor.image_mean, std=processor.image_std)\n",
    "# ])\n",
    "\n",
    "# val_transform = transforms.Compose([\n",
    "#     transforms.Resize((224, 224)),\n",
    "#     transforms.ToTensor(),\n",
    "#     transforms.Normalize(mean=processor.image_mean, std=processor.image_std)\n",
    "# ])\n",
    "\n",
    "# train_dataset = BirdDataset(train_dir, transform=train_transform)\n",
    "# val_dataset = BirdDataset(val_dir, transform=val_transform)\n",
    "\n",
    "# def validate_class_order(train_class_order, submission_order):\n",
    "#     \"\"\"Make sure the category names and order of both lists are exactly the same\"\"\"\n",
    "#     if len(train_class_order) != len(submission_order):\n",
    "#         raise ValueError(f\"The number of categories does not match! Training set: {len(train_class_order)}, Submission Requirements: {len(submission_order)}\")\n",
    "    \n",
    "#     for train_cls, sub_cls in zip(train_class_order, submission_order):\n",
    "#         if train_cls != sub_cls:\n",
    "#             raise ValueError(f\"Inconsistent order: training set '{train_cls}' vs Submission Requirements '{sub_cls}'\")\n",
    "#     return True\n",
    "\n",
    "# train_class_order = sorted(train_dataset.class_to_idx.keys())\n",
    "\n",
    "# try:\n",
    "#     validate_class_order(train_class_order, submission_class_order)\n",
    "# except ValueError as e:\n",
    "#     print(\"Category order inconsistency detected, automatically correcting...\")\n",
    "#     from torchvision.datasets import DatasetFolder\n",
    "    \n",
    "#     class OrderedImageFolder(DatasetFolder):\n",
    "#         \"\"\"Forces the data sets of categories to be loaded in a specified order\"\"\"\n",
    "#         def __init__(self, root, class_order, transform=None):\n",
    "#             self.class_order = class_order\n",
    "#             super().__init__(\n",
    "#                 root,\n",
    "#                 loader=lambda x: Image.open(x).convert(\"RGB\"),\n",
    "#                 extensions=('jpg', 'jpeg', 'png'),\n",
    "#                 transform=transform,\n",
    "#                 target_transform=None\n",
    "#             )\n",
    "            \n",
    "#         def find_classes(self, directory):\n",
    "#             classes = self.class_order \n",
    "#             class_to_idx = {cls_name: i for i, cls_name in enumerate(classes)}\n",
    "#             return classes, class_to_idx\n",
    "    \n",
    "#     train_dataset = OrderedImageFolder(\n",
    "#         train_dir, \n",
    "#         class_order=submission_class_order,\n",
    "#         transform=train_transform\n",
    "#     )\n",
    "#     val_dataset = OrderedImageFolder(\n",
    "#         val_dir,\n",
    "#         class_order=submission_class_order,\n",
    "#         transform=val_transform\n",
    "#     )\n",
    "    \n",
    "#     print(\"Corrected category order：\", train_dataset.classes)\n",
    "    \n",
    "# # Category index validation (ensuring consistency with submission format)\n",
    "# assert sorted(train_dataset.class_to_idx.keys()) == sorted(submission_class_order), \"Category order mismatch！\""
   ]
  },
  {
   "cell_type": "markdown",
   "id": "1d937db0",
   "metadata": {
    "papermill": {
     "duration": 0.066902,
     "end_time": "2025-02-04T11:07:29.337335",
     "exception": false,
     "start_time": "2025-02-04T11:07:29.270433",
     "status": "completed"
    },
    "tags": []
   },
   "source": [
    "## Model Train"
   ]
  },
  {
   "cell_type": "code",
   "execution_count": 19,
   "id": "b3e8eca0",
   "metadata": {
    "execution": {
     "iopub.execute_input": "2025-02-04T11:07:29.473760Z",
     "iopub.status.busy": "2025-02-04T11:07:29.473475Z",
     "iopub.status.idle": "2025-02-04T11:07:29.477494Z",
     "shell.execute_reply": "2025-02-04T11:07:29.476831Z"
    },
    "papermill": {
     "duration": 0.073875,
     "end_time": "2025-02-04T11:07:29.478725",
     "exception": false,
     "start_time": "2025-02-04T11:07:29.404850",
     "status": "completed"
    },
    "tags": []
   },
   "outputs": [],
   "source": [
    "# # Define Dataloaders\n",
    "# train_loader = DataLoader(train_dataset, batch_size=32, shuffle=True, num_workers=2)\n",
    "# val_loader = DataLoader(val_dataset, batch_size=64, shuffle=False, num_workers=2)\n",
    "\n",
    "# # Define loss function and move model to device\n",
    "# criterion = torch.nn.CrossEntropyLoss()\n",
    "# model = model.to(device)\n",
    "\n",
    "# # Function to train a single epoch\n",
    "# def train_epoch(model, loader, optimizer, scaler):\n",
    "#     model.train()\n",
    "#     total_loss = 0\n",
    "#     correct = 0\n",
    "    \n",
    "#     for images, labels in loader:\n",
    "#         images = images.to(device)\n",
    "#         labels = labels.to(device)\n",
    "        \n",
    "#         optimizer.zero_grad()\n",
    "        \n",
    "#         with torch.amp.autocast(device_type='cuda'):\n",
    "#             outputs = model(images)\n",
    "#             loss = criterion(outputs.logits, labels)\n",
    "        \n",
    "#         scaler.scale(loss).backward()\n",
    "#         scaler.step(optimizer)\n",
    "#         scaler.update()\n",
    "        \n",
    "#         total_loss += loss.item() * images.size(0)\n",
    "#         preds = torch.argmax(outputs.logits, dim=1)\n",
    "#         correct += (preds == labels).sum().item()\n",
    "    \n",
    "#     avg_loss = total_loss / len(loader.dataset)\n",
    "#     accuracy = correct / len(loader.dataset)\n",
    "#     return avg_loss, accuracy\n",
    "\n",
    "# # Function to validate the model\n",
    "# def validate(model, loader):\n",
    "#     model.eval()\n",
    "#     total_loss = 0\n",
    "#     correct = 0\n",
    "    \n",
    "#     with torch.no_grad():\n",
    "#         for images, labels in loader:\n",
    "#             images = images.to(device)\n",
    "#             labels = labels.to(device)\n",
    "            \n",
    "#             outputs = model(images)\n",
    "#             loss = criterion(outputs.logits, labels)\n",
    "            \n",
    "#             total_loss += loss.item() * images.size(0)\n",
    "#             preds = torch.argmax(outputs.logits, dim=1)\n",
    "#             correct += (preds == labels).sum().item()\n",
    "    \n",
    "#     avg_loss = total_loss / len(loader.dataset)\n",
    "#     accuracy = correct / len(loader.dataset)\n",
    "#     return avg_loss, accuracy\n",
    "\n",
    "# scaler = torch.amp.GradScaler()\n",
    "# history = {'train_loss': [], 'val_loss': [], 'train_acc': [], 'val_acc': []}\n",
    "\n",
    "# best_val_loss = float('inf')\n",
    "# best_model_state = None\n",
    "\n",
    "# for epoch in range(100):\n",
    "#     train_loss, train_acc = train_epoch(model, train_loader, optimizer, scaler)\n",
    "#     val_loss, val_acc = validate(model, val_loader)\n",
    "    \n",
    "#     history['train_loss'].append(train_loss)\n",
    "#     history['val_loss'].append(val_loss)\n",
    "#     history['train_acc'].append(train_acc)\n",
    "#     history['val_acc'].append(val_acc)\n",
    "    \n",
    "#     print(f\"Epoch {epoch+1:02d}:\")\n",
    "#     print(f\"Train Loss: {train_loss:.4f} | Acc: {train_acc:.4f}\")\n",
    "#     print(f\"Val Loss: {val_loss:.4f} | Acc: {val_acc:.4f}\\n\")\n",
    "    \n",
    "#     # Save the best model\n",
    "#     if val_loss < best_val_loss:\n",
    "#         best_val_loss = val_loss\n",
    "#         best_model_state = model.state_dict()\n",
    "\n",
    "# # Load the best model at the end of training\n",
    "# best_model_path = \"/kaggle/working/best_vit_model.pth\"\n",
    "# if best_model_state:\n",
    "#     model.load_state_dict(best_model_state)\n",
    "#     torch.save(best_model_state, best_model_path)\n",
    "#     print(\"Best model loaded from training with lowest validation loss.\")\n",
    "\n",
    "# # Plot training history\n",
    "# plt.figure(figsize=(12, 5))\n",
    "# plt.subplot(1, 2, 1)\n",
    "# plt.plot(history['train_loss'], label='Train')\n",
    "# plt.plot(history['val_loss'], label='Validation')\n",
    "# plt.title('Loss Curve')\n",
    "# plt.legend()\n",
    "\n",
    "# plt.subplot(1, 2, 2)\n",
    "# plt.plot(history['train_acc'], label='Train')\n",
    "# plt.plot(history['val_acc'], label='Validation')\n",
    "# plt.title('Accuracy Curve')\n",
    "# plt.legend()\n",
    "# plt.show()"
   ]
  },
  {
   "cell_type": "markdown",
   "id": "84de0ef3",
   "metadata": {
    "papermill": {
     "duration": 0.067573,
     "end_time": "2025-02-04T11:07:29.615448",
     "exception": false,
     "start_time": "2025-02-04T11:07:29.547875",
     "status": "completed"
    },
    "tags": []
   },
   "source": [
    "## Save Model"
   ]
  },
  {
   "cell_type": "code",
   "execution_count": 20,
   "id": "6c3a0407",
   "metadata": {
    "execution": {
     "iopub.execute_input": "2025-02-04T11:07:29.751150Z",
     "iopub.status.busy": "2025-02-04T11:07:29.750880Z",
     "iopub.status.idle": "2025-02-04T11:07:29.754296Z",
     "shell.execute_reply": "2025-02-04T11:07:29.753591Z"
    },
    "papermill": {
     "duration": 0.072709,
     "end_time": "2025-02-04T11:07:29.755549",
     "exception": false,
     "start_time": "2025-02-04T11:07:29.682840",
     "status": "completed"
    },
    "tags": []
   },
   "outputs": [],
   "source": [
    "# save_dir = \"/kaggle/working/vit_model\"\n",
    "# os.makedirs(save_dir, exist_ok=True)\n",
    "\n",
    "# torch.save(model.state_dict(), os.path.join(save_dir, \"vit_model_weights.pth\"))\n",
    "\n",
    "# processor.save_pretrained(save_dir)\n",
    "\n",
    "# class_info = {\n",
    "#     \"class_order\": submission_class_order,\n",
    "#     \"class_to_idx\": train_dataset.class_to_idx,\n",
    "#     \"idx_to_class\": {v: k for k, v in train_dataset.class_to_idx.items()}\n",
    "# }\n",
    "\n",
    "# torch.save(class_info, os.path.join(save_dir, \"class_info.pth\"))\n",
    "\n",
    "# train_config = {\n",
    "#     \"epochs_trained\": len(history['train_loss']),\n",
    "#     \"best_val_acc\": max(history['val_acc']),\n",
    "#     \"optimizer_state\": optimizer.state_dict()\n",
    "# }\n",
    "\n",
    "# torch.save(train_config, os.path.join(save_dir, \"train_config.pth\"))\n",
    "\n",
    "# print(f\"Model Saved to：{save_dir}\")\n",
    "\n",
    "# # Second Hugging Face Format Save\n",
    "# model.save_pretrained(save_dir)\n",
    "# processor.save_pretrained(save_dir)\n",
    "\n",
    "# with open(os.path.join(save_dir, \"class_info.txt\"), \"w\") as f:\n",
    "#     f.write(\"\\n\".join(submission_class_order))\n",
    "\n",
    "# print(\"HuggingFace Format Saved\")"
   ]
  },
  {
   "cell_type": "markdown",
   "id": "83b19bdb",
   "metadata": {
    "papermill": {
     "duration": 0.067362,
     "end_time": "2025-02-04T11:07:29.890823",
     "exception": false,
     "start_time": "2025-02-04T11:07:29.823461",
     "status": "completed"
    },
    "tags": []
   },
   "source": [
    "# Test and Generate Submission File"
   ]
  },
  {
   "cell_type": "code",
   "execution_count": 21,
   "id": "0e4cddd2",
   "metadata": {
    "execution": {
     "iopub.execute_input": "2025-02-04T11:07:30.030574Z",
     "iopub.status.busy": "2025-02-04T11:07:30.030302Z",
     "iopub.status.idle": "2025-02-04T11:07:30.034364Z",
     "shell.execute_reply": "2025-02-04T11:07:30.033558Z"
    },
    "papermill": {
     "duration": 0.076352,
     "end_time": "2025-02-04T11:07:30.035525",
     "exception": false,
     "start_time": "2025-02-04T11:07:29.959173",
     "status": "completed"
    },
    "tags": []
   },
   "outputs": [],
   "source": [
    "# # Set device\n",
    "# device = torch.device(\"cuda\" if torch.cuda.is_available() else \"cpu\")\n",
    "\n",
    "# # Define class order for submission\n",
    "# submission_class_order = [\n",
    "#     'Groove_billed_Ani', 'Red_winged_Blackbird', 'Rusty_Blackbird', 'Gray_Catbird',\n",
    "#     'Brandt_Cormorant', 'Eastern_Towhee', 'Indigo_Bunting', 'Brewer_Blackbird',\n",
    "#     'Painted_Bunting', 'Bobolink', 'Lazuli_Bunting', 'Yellow_headed_Blackbird',\n",
    "#     'American_Crow', 'Fish_Crow', 'Brown_Creeper', 'Yellow_billed_Cuckoo',\n",
    "#     'Yellow_breasted_Chat', 'Black_billed_Cuckoo', 'Gray_crowned_Rosy_Finch', 'Bronzed_Cowbird'\n",
    "# ]\n",
    "\n",
    "# # Image transformation for validation\n",
    "# processor = ViTImageProcessor.from_pretrained(\"google/vit-base-patch16-224-in21k\")\n",
    "# val_transform = transforms.Compose([\n",
    "#     transforms.Resize((224, 224)),\n",
    "#     transforms.ToTensor(),\n",
    "#     transforms.Normalize(mean=processor.image_mean, std=processor.image_std)\n",
    "# ])\n",
    "\n",
    "# # Custom Dataset class for test images\n",
    "# class CompetitionTestDataset(Dataset):\n",
    "#     def __init__(self, test_dir, transform=None):\n",
    "#         self.test_dir = test_dir\n",
    "#         self.image_files = sorted(os.listdir(test_dir))\n",
    "#         self.image_paths = [os.path.join(test_dir, f) for f in self.image_files]\n",
    "#         self.transform = transform\n",
    "        \n",
    "#     def __len__(self):\n",
    "#         return len(self.image_paths)\n",
    "    \n",
    "#     def __getitem__(self, idx):\n",
    "#         image = Image.open(self.image_paths[idx]).convert('RGB')\n",
    "#         if self.transform:\n",
    "#             image = self.transform(image)\n",
    "#         return image, os.path.basename(self.image_paths[idx])\n",
    "\n",
    "# # Load best saved model\n",
    "# def load_best_model(model, model_path):\n",
    "#     model.load_state_dict(torch.load(model_path, map_location=device))\n",
    "#     model.eval()\n",
    "#     return model\n",
    "\n",
    "# # Generate predictions using the best model\n",
    "# def generate_submission(test_dir, best_model_path, output_csv=\"submission.csv\"):\n",
    "#     test_dataset = CompetitionTestDataset(test_dir, transform=val_transform)\n",
    "#     test_loader = DataLoader(test_dataset, batch_size=64, shuffle=False, num_workers=2)\n",
    "    \n",
    "#     config = ViTConfig.from_pretrained(\"google/vit-base-patch16-224-in21k\", num_labels=len(submission_class_order))\n",
    "#     model = ViTForImageClassification(config).to(device)\n",
    "#     model = load_best_model(model, best_model_path)\n",
    "    \n",
    "#     filenames = []\n",
    "#     predictions = []\n",
    "    \n",
    "#     with torch.no_grad():\n",
    "#         for images, paths in test_loader:\n",
    "#             outputs = model(images.to(device))\n",
    "#             batch_preds = torch.argmax(outputs.logits, dim=1).cpu().numpy()\n",
    "            \n",
    "#             filenames.extend(paths)\n",
    "#             predictions.extend(batch_preds.tolist())\n",
    "    \n",
    "#     submission_df = pd.DataFrame({\n",
    "#         'path': filenames,\n",
    "#         'class_idx': predictions\n",
    "#     })\n",
    "    \n",
    "#     print(\"\\nValidation Results:\")\n",
    "#     print(f\"Total Samples: {len(submission_df)}\")\n",
    "#     print(f\"Number of unique file names: {submission_df['path'].nunique()}\")\n",
    "#     print(f\"Predicted category distribution:\\n{submission_df['class_idx'].value_counts().sort_index()}\")\n",
    "    \n",
    "#     submission_df.to_csv(output_csv, index=False)\n",
    "#     print(f\"\\nSubmission saved to: {output_csv}\")\n",
    "\n",
    "# if __name__ == \"__main__\":\n",
    "#     test_dir = \"/kaggle/working/processed_images/test_images\"\n",
    "#     best_model_path = \"/kaggle/working/best_vit_model.pth\"  # Use best saved model\n",
    "    \n",
    "#     generate_submission(test_dir, best_model_path)"
   ]
  },
  {
   "cell_type": "code",
   "execution_count": 22,
   "id": "96807420",
   "metadata": {
    "execution": {
     "iopub.execute_input": "2025-02-04T11:07:30.172311Z",
     "iopub.status.busy": "2025-02-04T11:07:30.172066Z",
     "iopub.status.idle": "2025-02-04T11:07:30.175072Z",
     "shell.execute_reply": "2025-02-04T11:07:30.174279Z"
    },
    "papermill": {
     "duration": 0.072577,
     "end_time": "2025-02-04T11:07:30.176284",
     "exception": false,
     "start_time": "2025-02-04T11:07:30.103707",
     "status": "completed"
    },
    "tags": []
   },
   "outputs": [],
   "source": [
    "# shutil.rmtree('/kaggle/working/preprocessed02_images', ignore_errors=True)\n",
    "# shutil.rmtree('/kaggle/working/preprocessed_images', ignore_errors=True) \n",
    "# shutil.rmtree('/kaggle/working/processed_images', ignore_errors=True)"
   ]
  }
 ],
 "metadata": {
  "kaggle": {
   "accelerator": "nvidiaTeslaT4",
   "dataSources": [
    {
     "databundleVersionId": 10794348,
     "sourceId": 91120,
     "sourceType": "competition"
    },
    {
     "databundleVersionId": 11002758,
     "datasetId": 6597767,
     "sourceId": 10659356,
     "sourceType": "datasetVersion"
    }
   ],
   "dockerImageVersionId": 30840,
   "isGpuEnabled": true,
   "isInternetEnabled": true,
   "language": "python",
   "sourceType": "notebook"
  },
  "kernelspec": {
   "display_name": "Python 3",
   "language": "python",
   "name": "python3"
  },
  "language_info": {
   "codemirror_mode": {
    "name": "ipython",
    "version": 3
   },
   "file_extension": ".py",
   "mimetype": "text/x-python",
   "name": "python",
   "nbconvert_exporter": "python",
   "pygments_lexer": "ipython3",
   "version": "3.10.12"
  },
  "papermill": {
   "default_parameters": {},
   "duration": 213.900768,
   "end_time": "2025-02-04T11:07:33.213023",
   "environment_variables": {},
   "exception": null,
   "input_path": "__notebook__.ipynb",
   "output_path": "__notebook__.ipynb",
   "parameters": {},
   "start_time": "2025-02-04T11:03:59.312255",
   "version": "2.6.0"
  }
 },
 "nbformat": 4,
 "nbformat_minor": 5
}
