{
 "cells": [
  {
   "cell_type": "markdown",
   "id": "91760521",
   "metadata": {
    "papermill": {
     "duration": 0.004174,
     "end_time": "2025-02-05T18:23:09.947508",
     "exception": false,
     "start_time": "2025-02-05T18:23:09.943334",
     "status": "completed"
    },
    "tags": []
   },
   "source": [
    "# Libraries"
   ]
  },
  {
   "cell_type": "code",
   "execution_count": 1,
   "id": "cbfb611a",
   "metadata": {
    "execution": {
     "iopub.execute_input": "2025-02-05T18:23:09.955564Z",
     "iopub.status.busy": "2025-02-05T18:23:09.955336Z",
     "iopub.status.idle": "2025-02-05T18:23:18.131687Z",
     "shell.execute_reply": "2025-02-05T18:23:18.130536Z"
    },
    "papermill": {
     "duration": 8.182416,
     "end_time": "2025-02-05T18:23:18.133589",
     "exception": false,
     "start_time": "2025-02-05T18:23:09.951173",
     "status": "completed"
    },
    "tags": []
   },
   "outputs": [],
   "source": [
    "! pip install transformers timm albumentations --quiet\n",
    "! pip install ipywidgets --quiet"
   ]
  },
  {
   "cell_type": "code",
   "execution_count": 2,
   "id": "8d7bc5ca",
   "metadata": {
    "_cell_guid": "b1076dfc-b9ad-4769-8c92-a6c4dae69d19",
    "_uuid": "8f2839f25d086af736a60e9eeb907d3b93b6e0e5",
    "execution": {
     "iopub.execute_input": "2025-02-05T18:23:18.142931Z",
     "iopub.status.busy": "2025-02-05T18:23:18.142609Z",
     "iopub.status.idle": "2025-02-05T18:23:44.299376Z",
     "shell.execute_reply": "2025-02-05T18:23:44.298687Z"
    },
    "papermill": {
     "duration": 26.162953,
     "end_time": "2025-02-05T18:23:44.300935",
     "exception": false,
     "start_time": "2025-02-05T18:23:18.137982",
     "status": "completed"
    },
    "tags": []
   },
   "outputs": [],
   "source": [
    "# Standard Libraries\n",
    "import os\n",
    "import random\n",
    "from collections import Counter\n",
    "\n",
    "# Numerical and Data Handling Libraries\n",
    "import numpy as np\n",
    "import pandas as pd\n",
    "\n",
    "# Image Processing Libraries\n",
    "import cv2\n",
    "from PIL import Image\n",
    "\n",
    "# Plotting and Visualization\n",
    "import matplotlib.pyplot as plt\n",
    "\n",
    "# PyTorch and Torchvision\n",
    "import torch\n",
    "from torch.utils.data import Dataset, DataLoader\n",
    "from torch.optim import AdamW\n",
    "from torchvision import transforms\n",
    "from torchvision.datasets import ImageFolder\n",
    "\n",
    "# Transformers for Vision Models\n",
    "from transformers import ViTConfig, ViTForImageClassification, ViTImageProcessor\n",
    "\n",
    "# Utility Libraries\n",
    "from tqdm import tqdm\n",
    "from sklearn.metrics import accuracy_score\n",
    "\n",
    "# jupyter nbextension enable --py widgetsnbextension\n",
    "from google.colab import output\n",
    "output.enable_custom_widget_manager()"
   ]
  },
  {
   "cell_type": "markdown",
   "id": "a16ae8d9",
   "metadata": {
    "papermill": {
     "duration": 0.003392,
     "end_time": "2025-02-05T18:23:44.308168",
     "exception": false,
     "start_time": "2025-02-05T18:23:44.304776",
     "status": "completed"
    },
    "tags": []
   },
   "source": [
    "# Data Import"
   ]
  },
  {
   "cell_type": "code",
   "execution_count": 3,
   "id": "a5875492",
   "metadata": {
    "execution": {
     "iopub.execute_input": "2025-02-05T18:23:44.316058Z",
     "iopub.status.busy": "2025-02-05T18:23:44.315532Z",
     "iopub.status.idle": "2025-02-05T18:23:44.319002Z",
     "shell.execute_reply": "2025-02-05T18:23:44.318333Z"
    },
    "papermill": {
     "duration": 0.008639,
     "end_time": "2025-02-05T18:23:44.320190",
     "exception": false,
     "start_time": "2025-02-05T18:23:44.311551",
     "status": "completed"
    },
    "tags": []
   },
   "outputs": [],
   "source": [
    "train_dir = \"/kaggle/input/croped-processed-augmented-bird-dataset/archive/Augmented_CropImage_Processed_Dataset/train_images\"\n",
    "val_dir = \"/kaggle/input/croped-processed-augmented-bird-dataset/archive/Augmented_CropImage_Processed_Dataset/val_images\"\n",
    "test_dir = \"/kaggle/input/croped-processed-augmented-bird-dataset/archive/Augmented_CropImage_Processed_Dataset/test_images/mistery_cat\""
   ]
  },
  {
   "cell_type": "markdown",
   "id": "76cdea54",
   "metadata": {
    "papermill": {
     "duration": 0.003207,
     "end_time": "2025-02-05T18:23:44.326755",
     "exception": false,
     "start_time": "2025-02-05T18:23:44.323548",
     "status": "completed"
    },
    "tags": []
   },
   "source": [
    "# Vision Transformer Model"
   ]
  },
  {
   "cell_type": "code",
   "execution_count": 4,
   "id": "bf993a8e",
   "metadata": {
    "execution": {
     "iopub.execute_input": "2025-02-05T18:23:44.334583Z",
     "iopub.status.busy": "2025-02-05T18:23:44.334364Z",
     "iopub.status.idle": "2025-02-05T18:24:05.710516Z",
     "shell.execute_reply": "2025-02-05T18:24:05.709871Z"
    },
    "papermill": {
     "duration": 21.381758,
     "end_time": "2025-02-05T18:24:05.712023",
     "exception": false,
     "start_time": "2025-02-05T18:23:44.330265",
     "status": "completed"
    },
    "tags": []
   },
   "outputs": [
    {
     "data": {
      "application/vnd.jupyter.widget-view+json": {
       "model_id": "df425bbf951b4684bb2a58abe38fabbe",
       "version_major": 2,
       "version_minor": 0
      },
      "text/plain": [
       "preprocessor_config.json:   0%|          | 0.00/386 [00:00<?, ?B/s]"
      ]
     },
     "metadata": {
      "application/vnd.jupyter.widget-view+json": {
       "colab": {
        "custom_widget_manager": {
         "url": "https://ssl.gstatic.com/colaboratory-static/widgets/colab-cdn-widget-manager/2b70e893a8ba7c0f/manager.min.js"
        }
       }
      }
     },
     "output_type": "display_data"
    },
    {
     "data": {
      "application/vnd.jupyter.widget-view+json": {
       "model_id": "b1b0d49eb36942238d2db05a0c201ff4",
       "version_major": 2,
       "version_minor": 0
      },
      "text/plain": [
       "config.json:   0%|          | 0.00/6.95k [00:00<?, ?B/s]"
      ]
     },
     "metadata": {
      "application/vnd.jupyter.widget-view+json": {
       "colab": {
        "custom_widget_manager": {
         "url": "https://ssl.gstatic.com/colaboratory-static/widgets/colab-cdn-widget-manager/2b70e893a8ba7c0f/manager.min.js"
        }
       }
      }
     },
     "output_type": "display_data"
    },
    {
     "data": {
      "application/vnd.jupyter.widget-view+json": {
       "model_id": "1a9495d3cbed43e792937538fee81782",
       "version_major": 2,
       "version_minor": 0
      },
      "text/plain": [
       "model.safetensors:   0%|          | 0.00/786M [00:00<?, ?B/s]"
      ]
     },
     "metadata": {
      "application/vnd.jupyter.widget-view+json": {
       "colab": {
        "custom_widget_manager": {
         "url": "https://ssl.gstatic.com/colaboratory-static/widgets/colab-cdn-widget-manager/2b70e893a8ba7c0f/manager.min.js"
        }
       }
      }
     },
     "output_type": "display_data"
    },
    {
     "name": "stderr",
     "output_type": "stream",
     "text": [
      "Some weights of SwinForImageClassification were not initialized from the model checkpoint at Emiel/cub-200-bird-classifier-swin and are newly initialized because the shapes did not match:\n",
      "- classifier.bias: found shape torch.Size([200]) in the checkpoint and torch.Size([20]) in the model instantiated\n",
      "- classifier.weight: found shape torch.Size([200, 1536]) in the checkpoint and torch.Size([20, 1536]) in the model instantiated\n",
      "You should probably TRAIN this model on a down-stream task to be able to use it for predictions and inference.\n"
     ]
    }
   ],
   "source": [
    "from transformers import AutoImageProcessor, SwinForImageClassification\n",
    "\n",
    "# Set the model name to Emiel's fine-tuned Swin model for bird classification\n",
    "model_name = \"Emiel/cub-200-bird-classifier-swin\"\n",
    "\n",
    "# Load the image processor automatically\n",
    "processor = AutoImageProcessor.from_pretrained(model_name)\n",
    "\n",
    "# Load the Swin model, specifying the number of classes (200 for CUB-200)\n",
    "model = SwinForImageClassification.from_pretrained(\n",
    "    model_name,\n",
    "    num_labels=20,  # Ensure this matches the number of classes in your dataset\n",
    "    ignore_mismatched_sizes=True\n",
    ")"
   ]
  },
  {
   "cell_type": "code",
   "execution_count": 5,
   "id": "2596ce32",
   "metadata": {
    "execution": {
     "iopub.execute_input": "2025-02-05T18:24:05.721320Z",
     "iopub.status.busy": "2025-02-05T18:24:05.721070Z",
     "iopub.status.idle": "2025-02-05T18:24:05.724139Z",
     "shell.execute_reply": "2025-02-05T18:24:05.723318Z"
    },
    "papermill": {
     "duration": 0.008756,
     "end_time": "2025-02-05T18:24:05.725318",
     "exception": false,
     "start_time": "2025-02-05T18:24:05.716562",
     "status": "completed"
    },
    "tags": []
   },
   "outputs": [],
   "source": [
    "# import timm\n",
    "# model = timm.create_model(\"vit_base_patch16_224\", pretrained=True, num_classes=20)"
   ]
  },
  {
   "cell_type": "markdown",
   "id": "8c2166ff",
   "metadata": {
    "papermill": {
     "duration": 0.003952,
     "end_time": "2025-02-05T18:24:05.733213",
     "exception": false,
     "start_time": "2025-02-05T18:24:05.729261",
     "status": "completed"
    },
    "tags": []
   },
   "source": [
    "## Freeze all feature layers of ViT"
   ]
  },
  {
   "cell_type": "code",
   "execution_count": 6,
   "id": "c4445632",
   "metadata": {
    "execution": {
     "iopub.execute_input": "2025-02-05T18:24:05.741555Z",
     "iopub.status.busy": "2025-02-05T18:24:05.741352Z",
     "iopub.status.idle": "2025-02-05T18:24:05.745701Z",
     "shell.execute_reply": "2025-02-05T18:24:05.745120Z"
    },
    "papermill": {
     "duration": 0.00987,
     "end_time": "2025-02-05T18:24:05.746903",
     "exception": false,
     "start_time": "2025-02-05T18:24:05.737033",
     "status": "completed"
    },
    "tags": []
   },
   "outputs": [],
   "source": [
    "# Freeze all feature layers of the Swin backbone (train only the classification head)\n",
    "for param in model.swin.parameters():\n",
    "    param.requires_grad = False\n",
    "\n",
    "# Ensure the classification head is trainable\n",
    "for param in model.classifier.parameters():\n",
    "    param.requires_grad = True"
   ]
  },
  {
   "cell_type": "markdown",
   "id": "5639725d",
   "metadata": {
    "papermill": {
     "duration": 0.003691,
     "end_time": "2025-02-05T18:24:05.754568",
     "exception": false,
     "start_time": "2025-02-05T18:24:05.750877",
     "status": "completed"
    },
    "tags": []
   },
   "source": [
    "## Set layer-wise learning rate"
   ]
  },
  {
   "cell_type": "code",
   "execution_count": 7,
   "id": "8c732892",
   "metadata": {
    "execution": {
     "iopub.execute_input": "2025-02-05T18:24:05.763247Z",
     "iopub.status.busy": "2025-02-05T18:24:05.763036Z",
     "iopub.status.idle": "2025-02-05T18:24:05.793231Z",
     "shell.execute_reply": "2025-02-05T18:24:05.792366Z"
    },
    "papermill": {
     "duration": 0.035954,
     "end_time": "2025-02-05T18:24:05.794467",
     "exception": false,
     "start_time": "2025-02-05T18:24:05.758513",
     "status": "completed"
    },
    "tags": []
   },
   "outputs": [
    {
     "name": "stderr",
     "output_type": "stream",
     "text": [
      "/usr/local/lib/python3.10/dist-packages/transformers/optimization.py:591: FutureWarning: This implementation of AdamW is deprecated and will be removed in a future version. Use the PyTorch implementation torch.optim.AdamW instead, or set `no_deprecation_warning=True` to disable this warning\n",
      "  warnings.warn(\n"
     ]
    }
   ],
   "source": [
    "from transformers import AdamW\n",
    "\n",
    "# Set layer-wise learning rate (feature layer learning rate is lower)\n",
    "optimizer = AdamW(\n",
    "    [\n",
    "        {\"params\": model.swin.parameters(), \"lr\": 1e-5},  # Feature extraction layer\n",
    "        {\"params\": model.classifier.parameters(), \"lr\": 3e-4}  # Classification header\n",
    "    ],\n",
    "    weight_decay=0.01\n",
    ")"
   ]
  },
  {
   "cell_type": "code",
   "execution_count": 8,
   "id": "c05d5e24",
   "metadata": {
    "execution": {
     "iopub.execute_input": "2025-02-05T18:24:05.803467Z",
     "iopub.status.busy": "2025-02-05T18:24:05.803242Z",
     "iopub.status.idle": "2025-02-05T18:24:05.816038Z",
     "shell.execute_reply": "2025-02-05T18:24:05.815266Z"
    },
    "papermill": {
     "duration": 0.018787,
     "end_time": "2025-02-05T18:24:05.817236",
     "exception": false,
     "start_time": "2025-02-05T18:24:05.798449",
     "status": "completed"
    },
    "tags": []
   },
   "outputs": [
    {
     "name": "stdout",
     "output_type": "stream",
     "text": [
      "-1.1485180948511697e-05\n",
      "0.0\n"
     ]
    }
   ],
   "source": [
    "# Verify that the classification layer is randomly initialized (correct state should be True)\n",
    "print(model.classifier.weight.mean().item())  # Should be close to 0 (normal distribution initialization)\n",
    "print(model.classifier.bias.mean().item())    # Should be close to 0"
   ]
  },
  {
   "cell_type": "code",
   "execution_count": 9,
   "id": "b4672331",
   "metadata": {
    "execution": {
     "iopub.execute_input": "2025-02-05T18:24:05.825988Z",
     "iopub.status.busy": "2025-02-05T18:24:05.825784Z",
     "iopub.status.idle": "2025-02-05T18:24:05.828900Z",
     "shell.execute_reply": "2025-02-05T18:24:05.828321Z"
    },
    "papermill": {
     "duration": 0.00889,
     "end_time": "2025-02-05T18:24:05.830136",
     "exception": false,
     "start_time": "2025-02-05T18:24:05.821246",
     "status": "completed"
    },
    "tags": []
   },
   "outputs": [],
   "source": [
    "submission_class_order = [\n",
    "    'Groove_billed_Ani',\n",
    "    'Red_winged_Blackbird',\n",
    "    'Rusty_Blackbird',\n",
    "    'Gray_Catbird',\n",
    "    'Brandt_Cormorant',\n",
    "    'Eastern_Towhee',\n",
    "    'Indigo_Bunting',\n",
    "    'Brewer_Blackbird',\n",
    "    'Painted_Bunting',\n",
    "    'Bobolink',\n",
    "    'Lazuli_Bunting',\n",
    "    'Yellow_headed_Blackbird',\n",
    "    'American_Crow',\n",
    "    'Fish_Crow',\n",
    "    'Brown_Creeper',\n",
    "    'Yellow_billed_Cuckoo',\n",
    "    'Yellow_breasted_Chat',\n",
    "    'Black_billed_Cuckoo',\n",
    "    'Gray_crowned_Rosy_Finch',\n",
    "    'Bronzed_Cowbird'\n",
    "]"
   ]
  },
  {
   "cell_type": "code",
   "execution_count": 10,
   "id": "0333414e",
   "metadata": {
    "execution": {
     "iopub.execute_input": "2025-02-05T18:24:05.838810Z",
     "iopub.status.busy": "2025-02-05T18:24:05.838565Z",
     "iopub.status.idle": "2025-02-05T18:24:06.415332Z",
     "shell.execute_reply": "2025-02-05T18:24:06.414525Z"
    },
    "papermill": {
     "duration": 0.582561,
     "end_time": "2025-02-05T18:24:06.416730",
     "exception": false,
     "start_time": "2025-02-05T18:24:05.834169",
     "status": "completed"
    },
    "tags": []
   },
   "outputs": [
    {
     "name": "stdout",
     "output_type": "stream",
     "text": [
      "Category order inconsistency detected, automatically correcting...\n",
      "Corrected category order： ['Groove_billed_Ani', 'Red_winged_Blackbird', 'Rusty_Blackbird', 'Gray_Catbird', 'Brandt_Cormorant', 'Eastern_Towhee', 'Indigo_Bunting', 'Brewer_Blackbird', 'Painted_Bunting', 'Bobolink', 'Lazuli_Bunting', 'Yellow_headed_Blackbird', 'American_Crow', 'Fish_Crow', 'Brown_Creeper', 'Yellow_billed_Cuckoo', 'Yellow_breasted_Chat', 'Black_billed_Cuckoo', 'Gray_crowned_Rosy_Finch', 'Bronzed_Cowbird']\n"
     ]
    }
   ],
   "source": [
    "device = torch.device(\"cuda\" if torch.cuda.is_available() else \"cpu\")\n",
    "\n",
    "class BirdDataset(Dataset):\n",
    "    def __init__(self, main_dir, transform=None):\n",
    "        self.dataset = ImageFolder(root=main_dir, transform=transform)\n",
    "        self.class_to_idx = self.dataset.class_to_idx\n",
    "        \n",
    "    def __len__(self):\n",
    "        return len(self.dataset)\n",
    "    \n",
    "    def __getitem__(self, idx):\n",
    "        image, label = self.dataset[idx]\n",
    "        return image, label\n",
    "\n",
    "# Updated training transform: resize a bit larger then randomly crop to 384\n",
    "train_transform = transforms.Compose([\n",
    "    transforms.Resize((400, 400)),   # Resize to a slightly larger size for augmentation\n",
    "    transforms.RandomCrop(384),      # Random crop to 384x384\n",
    "    transforms.RandomHorizontalFlip(),\n",
    "    transforms.ColorJitter(brightness=0.2, contrast=0.2, saturation=0.2),\n",
    "    transforms.ToTensor(),\n",
    "    transforms.Normalize(mean=processor.image_mean, std=processor.image_std)\n",
    "])\n",
    "\n",
    "# Updated validation transform: directly resize to 384\n",
    "val_transform = transforms.Compose([\n",
    "    transforms.Resize((384, 384)),\n",
    "    transforms.ToTensor(),\n",
    "    transforms.Normalize(mean=processor.image_mean, std=processor.image_std)\n",
    "])\n",
    "\n",
    "train_dataset = BirdDataset(train_dir, transform=train_transform)\n",
    "val_dataset = BirdDataset(val_dir, transform=val_transform)\n",
    "\n",
    "def validate_class_order(train_class_order, submission_order):\n",
    "    \"\"\"Make sure the category names and order of both lists are exactly the same\"\"\"\n",
    "    if len(train_class_order) != len(submission_order):\n",
    "        raise ValueError(f\"The number of categories does not match! Training set: {len(train_class_order)}, Submission Requirements: {len(submission_order)}\")\n",
    "    \n",
    "    for train_cls, sub_cls in zip(train_class_order, submission_order):\n",
    "        if train_cls != sub_cls:\n",
    "            raise ValueError(f\"Inconsistent order: training set '{train_cls}' vs Submission Requirements '{sub_cls}'\")\n",
    "    return True\n",
    "\n",
    "train_class_order = sorted(train_dataset.class_to_idx.keys())\n",
    "\n",
    "try:\n",
    "    validate_class_order(train_class_order, submission_class_order)\n",
    "except ValueError as e:\n",
    "    print(\"Category order inconsistency detected, automatically correcting...\")\n",
    "    from torchvision.datasets import DatasetFolder\n",
    "    \n",
    "    class OrderedImageFolder(DatasetFolder):\n",
    "        \"\"\"Forces the data sets of categories to be loaded in a specified order\"\"\"\n",
    "        def __init__(self, root, class_order, transform=None):\n",
    "            self.class_order = class_order\n",
    "            super().__init__(\n",
    "                root,\n",
    "                loader=lambda x: Image.open(x).convert(\"RGB\"),\n",
    "                extensions=('jpg', 'jpeg', 'png'),\n",
    "                transform=transform,\n",
    "                target_transform=None\n",
    "            )\n",
    "            \n",
    "        def find_classes(self, directory):\n",
    "            classes = self.class_order \n",
    "            class_to_idx = {cls_name: i for i, cls_name in enumerate(classes)}\n",
    "            return classes, class_to_idx\n",
    "    \n",
    "    train_dataset = OrderedImageFolder(\n",
    "        train_dir, \n",
    "        class_order=submission_class_order,\n",
    "        transform=train_transform\n",
    "    )\n",
    "    val_dataset = OrderedImageFolder(\n",
    "        val_dir,\n",
    "        class_order=submission_class_order,\n",
    "        transform=val_transform\n",
    "    )\n",
    "    \n",
    "    print(\"Corrected category order：\", train_dataset.classes)\n",
    "    \n",
    "# Category index validation (ensuring consistency with submission format)\n",
    "assert sorted(train_dataset.class_to_idx.keys()) == sorted(submission_class_order), \"Category order mismatch！\""
   ]
  },
  {
   "cell_type": "code",
   "execution_count": 11,
   "id": "cfde1966",
   "metadata": {
    "execution": {
     "iopub.execute_input": "2025-02-05T18:24:06.426100Z",
     "iopub.status.busy": "2025-02-05T18:24:06.425863Z",
     "iopub.status.idle": "2025-02-05T18:24:57.996272Z",
     "shell.execute_reply": "2025-02-05T18:24:57.995197Z"
    },
    "papermill": {
     "duration": 51.57683,
     "end_time": "2025-02-05T18:24:57.997909",
     "exception": false,
     "start_time": "2025-02-05T18:24:06.421079",
     "status": "completed"
    },
    "tags": []
   },
   "outputs": [
    {
     "name": "stdout",
     "output_type": "stream",
     "text": [
      "Epoch 01:\n",
      "Train Loss: 1.4408 | Acc: 0.6019\n",
      "Val Loss: 0.2898 | Acc: 0.9153\n",
      "\n",
      "New best model saved with validation accuracy: 0.9153\n"
     ]
    },
    {
     "data": {
      "image/png": "[encoded data removed]",
      "text/plain": [
       "<Figure size 1200x500 with 2 Axes>"
      ]
     },
     "metadata": {},
     "output_type": "display_data"
    }
   ],
   "source": [
    "import os\n",
    "import torch\n",
    "import matplotlib.pyplot as plt\n",
    "from torch.utils.data import DataLoader\n",
    "\n",
    "# (Assuming train_dataset, val_dataset, model, optimizer, criterion, etc. are already defined)\n",
    "train_loader = DataLoader(train_dataset, batch_size=32, shuffle=True, num_workers=2)\n",
    "val_loader = DataLoader(val_dataset, batch_size=64, shuffle=False, num_workers=2)\n",
    "\n",
    "criterion = torch.nn.CrossEntropyLoss()\n",
    "model = model.to(device)\n",
    "\n",
    "class EarlyStopper:\n",
    "    def __init__(self, patience=5, min_delta=0):\n",
    "        self.patience = patience\n",
    "        self.min_delta = min_delta\n",
    "        self.counter = 0\n",
    "        self.min_validation_loss = float('inf')\n",
    "\n",
    "    def early_stop(self, validation_loss):\n",
    "        if validation_loss < self.min_validation_loss:\n",
    "            self.min_validation_loss = validation_loss\n",
    "            self.counter = 0\n",
    "        elif validation_loss > (self.min_validation_loss + self.min_delta):\n",
    "            self.counter += 1\n",
    "            if self.counter >= self.patience:\n",
    "                return True\n",
    "        return False\n",
    "\n",
    "def train_epoch(model, loader, optimizer, scaler):\n",
    "    model.train()\n",
    "    total_loss = 0\n",
    "    correct = 0\n",
    "    \n",
    "    for images, labels in loader:\n",
    "        images = images.to(device)\n",
    "        labels = labels.to(device)\n",
    "        \n",
    "        optimizer.zero_grad()\n",
    "        \n",
    "        with torch.amp.autocast('cuda'):\n",
    "            outputs = model(images)\n",
    "            loss = criterion(outputs.logits, labels)\n",
    "        \n",
    "        scaler.scale(loss).backward()\n",
    "        scaler.step(optimizer)\n",
    "        scaler.update()\n",
    "        \n",
    "        total_loss += loss.item() * images.size(0)\n",
    "        preds = torch.argmax(outputs.logits, dim=1)\n",
    "        correct += (preds == labels).sum().item()\n",
    "    \n",
    "    avg_loss = total_loss / len(loader.dataset)\n",
    "    accuracy = correct / len(loader.dataset)\n",
    "    return avg_loss, accuracy\n",
    "\n",
    "def validate(model, loader):\n",
    "    model.eval()\n",
    "    total_loss = 0\n",
    "    correct = 0\n",
    "    \n",
    "    with torch.no_grad():\n",
    "        for images, labels in loader:\n",
    "            images = images.to(device)\n",
    "            labels = labels.to(device)\n",
    "            \n",
    "            outputs = model(images)\n",
    "            loss = criterion(outputs.logits, labels)\n",
    "            \n",
    "            total_loss += loss.item() * images.size(0)\n",
    "            preds = torch.argmax(outputs.logits, dim=1)\n",
    "            correct += (preds == labels).sum().item()\n",
    "    \n",
    "    avg_loss = total_loss / len(loader.dataset)\n",
    "    accuracy = correct / len(loader.dataset)\n",
    "    return avg_loss, accuracy\n",
    "\n",
    "scaler = torch.amp.GradScaler('cuda')\n",
    "early_stopper = EarlyStopper(patience=5, min_delta=0.001)\n",
    "history = {'train_loss': [], 'val_loss': [], 'train_acc': [], 'val_acc': []}\n",
    "\n",
    "# Variables to track the best validation accuracy\n",
    "best_val_acc = 0.0\n",
    "best_model_path = \"/kaggle/working/best_model.pth\"\n",
    "\n",
    "for epoch in range(1):\n",
    "    train_loss, train_acc = train_epoch(model, train_loader, optimizer, scaler)\n",
    "    val_loss, val_acc = validate(model, val_loader)\n",
    "    \n",
    "    history['train_loss'].append(train_loss)\n",
    "    history['val_loss'].append(val_loss)\n",
    "    history['train_acc'].append(train_acc)\n",
    "    history['val_acc'].append(val_acc)\n",
    "    \n",
    "    print(f\"Epoch {epoch+1:02d}:\")\n",
    "    print(f\"Train Loss: {train_loss:.4f} | Acc: {train_acc:.4f}\")\n",
    "    print(f\"Val Loss: {val_loss:.4f} | Acc: {val_acc:.4f}\\n\")\n",
    "    \n",
    "    # Save model parameters if current validation accuracy is the best so far\n",
    "    if val_acc > best_val_acc:\n",
    "        best_val_acc = val_acc\n",
    "        torch.save(model.state_dict(), best_model_path)\n",
    "        print(f\"New best model saved with validation accuracy: {val_acc:.4f}\")\n",
    "    \n",
    "    if early_stopper.early_stop(val_loss):\n",
    "        print(\"Early stopping triggered!\")\n",
    "        break\n",
    "\n",
    "# Plot training curves\n",
    "plt.figure(figsize=(12, 5))\n",
    "plt.subplot(1, 2, 1)\n",
    "plt.plot(history['train_loss'], label='Train')\n",
    "plt.plot(history['val_loss'], label='Validation')\n",
    "plt.title('Loss Curve')\n",
    "plt.legend()\n",
    "\n",
    "plt.subplot(1, 2, 2)\n",
    "plt.plot(history['train_acc'], label='Train')\n",
    "plt.plot(history['val_acc'], label='Validation')\n",
    "plt.title('Accuracy Curve')\n",
    "plt.legend()\n",
    "plt.show()"
   ]
  },
  {
   "cell_type": "code",
   "execution_count": 12,
   "id": "7b3f0998",
   "metadata": {
    "execution": {
     "iopub.execute_input": "2025-02-05T18:24:58.010146Z",
     "iopub.status.busy": "2025-02-05T18:24:58.009869Z",
     "iopub.status.idle": "2025-02-05T18:25:00.566754Z",
     "shell.execute_reply": "2025-02-05T18:25:00.565729Z"
    },
    "papermill": {
     "duration": 2.56477,
     "end_time": "2025-02-05T18:25:00.568467",
     "exception": false,
     "start_time": "2025-02-05T18:24:58.003697",
     "status": "completed"
    },
    "tags": []
   },
   "outputs": [
    {
     "name": "stderr",
     "output_type": "stream",
     "text": [
      "<ipython-input-12-cf258f9b96a8>:9: FutureWarning: You are using `torch.load` with `weights_only=False` (the current default value), which uses the default pickle module implicitly. It is possible to construct malicious pickle data which will execute arbitrary code during unpickling (See https://github.com/pytorch/pytorch/blob/main/SECURITY.md#untrusted-models for more details). In a future release, the default value for `weights_only` will be flipped to `True`. This limits the functions that could be executed during unpickling. Arbitrary objects will no longer be allowed to be loaded via this mode unless they are explicitly allowlisted by the user via `torch.serialization.add_safe_globals`. We recommend you start setting `weights_only=True` for any use case where you don't have full control of the loaded file. Please open an issue on GitHub for any issues related to this experimental feature.\n",
      "  best_state_dict = torch.load(best_model_path, map_location=torch.device(\"cpu\"))\n"
     ]
    },
    {
     "name": "stdout",
     "output_type": "stream",
     "text": [
      "Best model saved in Hugging Face format to: /kaggle/working/swin_model\n"
     ]
    }
   ],
   "source": [
    "import os\n",
    "import torch\n",
    "\n",
    "# Define the directory where you'll save the best model in Hugging Face format.\n",
    "save_dir = \"/kaggle/working/swin_model\"\n",
    "os.makedirs(save_dir, exist_ok=True)\n",
    "\n",
    "# Load the best model state dictionary (from the training loop).\n",
    "best_state_dict = torch.load(best_model_path, map_location=torch.device(\"cpu\"))\n",
    "model.load_state_dict(best_state_dict)\n",
    "\n",
    "# Save the best model in Hugging Face format.\n",
    "model.save_pretrained(save_dir)\n",
    "processor.save_pretrained(save_dir)\n",
    "\n",
    "# Optionally, save additional information such as class mapping and training configuration.\n",
    "class_info = {\n",
    "    \"class_order\": submission_class_order,\n",
    "    \"class_to_idx\": train_dataset.class_to_idx,\n",
    "    \"idx_to_class\": {v: k for k, v in train_dataset.class_to_idx.items()}\n",
    "}\n",
    "torch.save(class_info, os.path.join(save_dir, \"class_info.pth\"))\n",
    "\n",
    "train_config = {\n",
    "    \"epochs_trained\": len(history['train_loss']),\n",
    "    \"best_val_acc\": max(history['val_acc']),\n",
    "    \"optimizer_state\": optimizer.state_dict()\n",
    "}\n",
    "torch.save(train_config, os.path.join(save_dir, \"train_config.pth\"))\n",
    "\n",
    "# Also save the class order as a plain text file for reference.\n",
    "with open(os.path.join(save_dir, \"class_info.txt\"), \"w\") as f:\n",
    "    f.write(\"\\n\".join(submission_class_order))\n",
    "\n",
    "print(f\"Best model saved in Hugging Face format to: {save_dir}\")"
   ]
  },
  {
   "cell_type": "markdown",
   "id": "a473594a",
   "metadata": {
    "papermill": {
     "duration": 0.004858,
     "end_time": "2025-02-05T18:25:00.578695",
     "exception": false,
     "start_time": "2025-02-05T18:25:00.573837",
     "status": "completed"
    },
    "tags": []
   },
   "source": [
    "# Test and Generate Submission File"
   ]
  },
  {
   "cell_type": "code",
   "execution_count": 13,
   "id": "7001ac41",
   "metadata": {
    "execution": {
     "iopub.execute_input": "2025-02-05T18:25:00.589269Z",
     "iopub.status.busy": "2025-02-05T18:25:00.589029Z",
     "iopub.status.idle": "2025-02-05T18:25:35.998971Z",
     "shell.execute_reply": "2025-02-05T18:25:35.997911Z"
    },
    "papermill": {
     "duration": 35.422602,
     "end_time": "2025-02-05T18:25:36.006154",
     "exception": false,
     "start_time": "2025-02-05T18:25:00.583552",
     "status": "completed"
    },
    "tags": []
   },
   "outputs": [
    {
     "name": "stdout",
     "output_type": "stream",
     "text": [
      "Warning: The order of categories in the model configuration is inconsistent with the submission requirements. Overriding with submission order.\n",
      "\n",
      "Validation Results:\n",
      "Total Samples: 400\n",
      "Number of unique file names: 400\n",
      "Predicted category distribution:\n",
      "class_idx\n",
      "0     19\n",
      "1     16\n",
      "2     21\n",
      "3     18\n",
      "4     18\n",
      "5     20\n",
      "6     19\n",
      "7     25\n",
      "8     18\n",
      "9     26\n",
      "10    20\n",
      "11    17\n",
      "12    24\n",
      "13    15\n",
      "14    20\n",
      "15    23\n",
      "16    20\n",
      "17    20\n",
      "18    21\n",
      "19    20\n",
      "Name: count, dtype: int64\n",
      "\n",
      "Submission CSV saved to: submission.csv\n"
     ]
    }
   ],
   "source": [
    "import os\n",
    "import torch\n",
    "import pandas as pd\n",
    "from PIL import Image\n",
    "from torch.utils.data import Dataset, DataLoader\n",
    "from torchvision import transforms\n",
    "from transformers import AutoImageProcessor, SwinForImageClassification\n",
    "\n",
    "device = torch.device(\"cuda\" if torch.cuda.is_available() else \"cpu\")\n",
    "\n",
    "submission_class_order = [\n",
    "    'Groove_billed_Ani',\n",
    "    'Red_winged_Blackbird',\n",
    "    'Rusty_Blackbird',\n",
    "    'Gray_Catbird',\n",
    "    'Brandt_Cormorant',\n",
    "    'Eastern_Towhee',\n",
    "    'Indigo_Bunting',\n",
    "    'Brewer_Blackbird',\n",
    "    'Painted_Bunting',\n",
    "    'Bobolink',\n",
    "    'Lazuli_Bunting',\n",
    "    'Yellow_headed_Blackbird',\n",
    "    'American_Crow',\n",
    "    'Fish_Crow',\n",
    "    'Brown_Creeper',\n",
    "    'Yellow_billed_Cuckoo',\n",
    "    'Yellow_breasted_Chat',\n",
    "    'Black_billed_Cuckoo',\n",
    "    'Gray_crowned_Rosy_Finch',\n",
    "    'Bronzed_Cowbird'\n",
    "]\n",
    "\n",
    "model_dir = \"/kaggle/working/swin_model\" \n",
    "processor = AutoImageProcessor.from_pretrained(model_dir)\n",
    "\n",
    "expected_size = 384\n",
    "val_transform = transforms.Compose([\n",
    "    transforms.Resize((expected_size, expected_size)),\n",
    "    transforms.ToTensor(),\n",
    "    transforms.Normalize(mean=processor.image_mean, std=processor.image_std)\n",
    "])\n",
    "\n",
    "class CompetitionTestDataset(Dataset):\n",
    "    def __init__(self, test_dir, transform=None):\n",
    "        self.test_dir = test_dir\n",
    "        self.image_files = sorted(os.listdir(test_dir))  # 保持严格顺序\n",
    "        self.image_paths = [os.path.join(test_dir, f) for f in self.image_files]\n",
    "        self.transform = transform\n",
    "        \n",
    "    def __len__(self):\n",
    "        return len(self.image_paths)\n",
    "    \n",
    "    def __getitem__(self, idx):\n",
    "        image = Image.open(self.image_paths[idx]).convert('RGB')\n",
    "        if self.transform:\n",
    "            image = self.transform(image)\n",
    "        return image, os.path.basename(self.image_paths[idx])\n",
    "\n",
    "def load_trained_model(model_dir, class_order):\n",
    "    model = SwinForImageClassification.from_pretrained(model_dir).to(device)\n",
    "    \n",
    "    config = model.config\n",
    "    if config.id2label != {i: cls for i, cls in enumerate(class_order)}:\n",
    "        print(\"Warning: The order of categories in the model configuration is inconsistent with the submission requirements. Overriding with submission order.\")\n",
    "        config.id2label = {i: cls for i, cls in enumerate(class_order)}\n",
    "        config.label2id = {cls: i for i, cls in enumerate(class_order)}\n",
    "    \n",
    "    model.eval()\n",
    "    return model\n",
    "\n",
    "def generate_submission(test_dir, model_dir, output_csv=\"submission.csv\"):\n",
    "    test_dataset = CompetitionTestDataset(test_dir, transform=val_transform)\n",
    "    test_loader = DataLoader(test_dataset, batch_size=64, shuffle=False, num_workers=2)\n",
    "    \n",
    "    model = load_trained_model(model_dir, submission_class_order)\n",
    "    \n",
    "    filenames = []\n",
    "    predictions = []\n",
    "    \n",
    "    with torch.no_grad():\n",
    "        for images, paths in test_loader:\n",
    "            outputs = model(images.to(device))\n",
    "            batch_preds = torch.argmax(outputs.logits, dim=1).cpu().numpy()\n",
    "            filenames.extend(paths)\n",
    "            predictions.extend(batch_preds.tolist())\n",
    "    \n",
    "    submission_df = pd.DataFrame({\n",
    "        'path': filenames,\n",
    "        'class_idx': predictions\n",
    "    })\n",
    "    \n",
    "    print(\"\\nValidation Results:\")\n",
    "    print(f\"Total Samples: {len(submission_df)}\")\n",
    "    print(f\"Number of unique file names: {submission_df['path'].nunique()}\")\n",
    "    print(f\"Predicted category distribution:\\n{submission_df['class_idx'].value_counts().sort_index()}\")\n",
    "    \n",
    "    submission_df.to_csv(output_csv, index=False)\n",
    "    print(f\"\\nSubmission CSV saved to: {output_csv}\")\n",
    "\n",
    "if __name__ == \"__main__\":\n",
    "    test_dir = \"/kaggle/input/croped-processed-augmented-bird-dataset/archive/Augmented_CropImage_Processed_Dataset/test_images/mistery_cat\"\n",
    "    generate_submission(test_dir, model_dir)"
   ]
  }
 ],
 "metadata": {
  "kaggle": {
   "accelerator": "nvidiaTeslaT4",
   "dataSources": [
    {
     "databundleVersionId": 10794348,
     "sourceId": 91120,
     "sourceType": "competition"
    },
    {
     "datasetId": 6601774,
     "sourceId": 10660482,
     "sourceType": "datasetVersion"
    }
   ],
   "isGpuEnabled": true,
   "isInternetEnabled": true,
   "language": "python",
   "sourceType": "notebook"
  },
  "kernelspec": {
   "display_name": "Python 3",
   "language": "python",
   "name": "python3"
  },
  "language_info": {
   "codemirror_mode": {
    "name": "ipython",
    "version": 3
   },
   "file_extension": ".py",
   "mimetype": "text/x-python",
   "name": "python",
   "nbconvert_exporter": "python",
   "pygments_lexer": "ipython3",
   "version": "3.10.12"
  },
  "papermill": {
   "default_parameters": {},
   "duration": 151.964047,
   "end_time": "2025-02-05T18:25:39.058931",
   "environment_variables": {},
   "exception": null,
   "input_path": "__notebook__.ipynb",
   "output_path": "__notebook__.ipynb",
   "parameters": {},
   "start_time": "2025-02-05T18:23:07.094884",
   "version": "2.6.0"
  },
  "widgets": {
   "application/vnd.jupyter.widget-state+json": {
    "state": {
     "1a9495d3cbed43e792937538fee81782": {
      "model_module": "@jupyter-widgets/controls",
      "model_module_version": "2.0.0",
      "model_name": "HBoxModel",
      "state": {
       "_dom_classes": [],
       "_model_module": "@jupyter-widgets/controls",
       "_model_module_version": "2.0.0",
       "_model_name": "HBoxModel",
       "_view_count": null,
       "_view_module": "@jupyter-widgets/controls",
       "_view_module_version": "2.0.0",
       "_view_name": "HBoxView",
       "box_style": "",
       "children": [
        "IPY_MODEL_25171703cb8f4e0f91678ff6c44d7131",
        "IPY_MODEL_6bd29765ae6d4a0e8c9495a5e16748bd",
        "IPY_MODEL_c4a41a28f2644890b504929d2848d04a"
       ],
       "layout": "IPY_MODEL_9d5f5378284c43389712b84918ebe407",
       "tabbable": null,
       "tooltip": null
      }
     },
     "22e5accce8164b86bd28faa6da67da73": {
      "model_module": "@jupyter-widgets/controls",
      "model_module_version": "2.0.0",
      "model_name": "HTMLStyleModel",
      "state": {
       "_model_module": "@jupyter-widgets/controls",
       "_model_module_version": "2.0.0",
       "_model_name": "HTMLStyleModel",
       "_view_count": null,
       "_view_module": "@jupyter-widgets/base",
       "_view_module_version": "2.0.0",
       "_view_name": "StyleView",
       "background": null,
       "description_width": "",
       "font_size": null,
       "text_color": null
      }
     },
     "240dac5c6fc84f8799d66f208012f228": {
      "model_module": "@jupyter-widgets/base",
      "model_module_version": "2.0.0",
      "model_name": "LayoutModel",
      "state": {
       "_model_module": "@jupyter-widgets/base",
       "_model_module_version": "2.0.0",
       "_model_name": "LayoutModel",
       "_view_count": null,
       "_view_module": "@jupyter-widgets/base",
       "_view_module_version": "2.0.0",
       "_view_name": "LayoutView",
       "align_content": null,
       "align_items": null,
       "align_self": null,
       "border_bottom": null,
       "border_left": null,
       "border_right": null,
       "border_top": null,
       "bottom": null,
       "display": null,
       "flex": null,
       "flex_flow": null,
       "grid_area": null,
       "grid_auto_columns": null,
       "grid_auto_flow": null,
       "grid_auto_rows": null,
       "grid_column": null,
       "grid_gap": null,
       "grid_row": null,
       "grid_template_areas": null,
       "grid_template_columns": null,
       "grid_template_rows": null,
       "height": null,
       "justify_content": null,
       "justify_items": null,
       "left": null,
       "margin": null,
       "max_height": null,
       "max_width": null,
       "min_height": null,
       "min_width": null,
       "object_fit": null,
       "object_position": null,
       "order": null,
       "overflow": null,
       "padding": null,
       "right": null,
       "top": null,
       "visibility": null,
       "width": null
      }
     },
     "25171703cb8f4e0f91678ff6c44d7131": {
      "model_module": "@jupyter-widgets/controls",
      "model_module_version": "2.0.0",
      "model_name": "HTMLModel",
      "state": {
       "_dom_classes": [],
       "_model_module": "@jupyter-widgets/controls",
       "_model_module_version": "2.0.0",
       "_model_name": "HTMLModel",
       "_view_count": null,
       "_view_module": "@jupyter-widgets/controls",
       "_view_module_version": "2.0.0",
       "_view_name": "HTMLView",
       "description": "",
       "description_allow_html": false,
       "layout": "IPY_MODEL_dae9f9d7cb9c4731b1b96f29fb8e11df",
       "placeholder": "​",
       "style": "IPY_MODEL_6c7d2fa686134d20823c80b7fb428bf3",
       "tabbable": null,
       "tooltip": null,
       "value": "model.safetensors: 100%"
      }
     },
     "31ea34a1d67144ce9ffb8fd608978516": {
      "model_module": "@jupyter-widgets/controls",
      "model_module_version": "2.0.0",
      "model_name": "HTMLModel",
      "state": {
       "_dom_classes": [],
       "_model_module": "@jupyter-widgets/controls",
       "_model_module_version": "2.0.0",
       "_model_name": "HTMLModel",
       "_view_count": null,
       "_view_module": "@jupyter-widgets/controls",
       "_view_module_version": "2.0.0",
       "_view_name": "HTMLView",
       "description": "",
       "description_allow_html": false,
       "layout": "IPY_MODEL_365b1388860d4e66806f63f2734aca60",
       "placeholder": "​",
       "style": "IPY_MODEL_e67dd5ad8fe34040946f20e6b86a266a",
       "tabbable": null,
       "tooltip": null,
       "value": "preprocessor_config.json: 100%"
      }
     },
     "365b1388860d4e66806f63f2734aca60": {
      "model_module": "@jupyter-widgets/base",
      "model_module_version": "2.0.0",
      "model_name": "LayoutModel",
      "state": {
       "_model_module": "@jupyter-widgets/base",
       "_model_module_version": "2.0.0",
       "_model_name": "LayoutModel",
       "_view_count": null,
       "_view_module": "@jupyter-widgets/base",
       "_view_module_version": "2.0.0",
       "_view_name": "LayoutView",
       "align_content": null,
       "align_items": null,
       "align_self": null,
       "border_bottom": null,
       "border_left": null,
       "border_right": null,
       "border_top": null,
       "bottom": null,
       "display": null,
       "flex": null,
       "flex_flow": null,
       "grid_area": null,
       "grid_auto_columns": null,
       "grid_auto_flow": null,
       "grid_auto_rows": null,
       "grid_column": null,
       "grid_gap": null,
       "grid_row": null,
       "grid_template_areas": null,
       "grid_template_columns": null,
       "grid_template_rows": null,
       "height": null,
       "justify_content": null,
       "justify_items": null,
       "left": null,
       "margin": null,
       "max_height": null,
       "max_width": null,
       "min_height": null,
       "min_width": null,
       "object_fit": null,
       "object_position": null,
       "order": null,
       "overflow": null,
       "padding": null,
       "right": null,
       "top": null,
       "visibility": null,
       "width": null
      }
     },
     "392f9d3694cb4a80b83d65ce98feea74": {
      "model_module": "@jupyter-widgets/base",
      "model_module_version": "2.0.0",
      "model_name": "LayoutModel",
      "state": {
       "_model_module": "@jupyter-widgets/base",
       "_model_module_version": "2.0.0",
       "_model_name": "LayoutModel",
       "_view_count": null,
       "_view_module": "@jupyter-widgets/base",
       "_view_module_version": "2.0.0",
       "_view_name": "LayoutView",
       "align_content": null,
       "align_items": null,
       "align_self": null,
       "border_bottom": null,
       "border_left": null,
       "border_right": null,
       "border_top": null,
       "bottom": null,
       "display": null,
       "flex": null,
       "flex_flow": null,
       "grid_area": null,
       "grid_auto_columns": null,
       "grid_auto_flow": null,
       "grid_auto_rows": null,
       "grid_column": null,
       "grid_gap": null,
       "grid_row": null,
       "grid_template_areas": null,
       "grid_template_columns": null,
       "grid_template_rows": null,
       "height": null,
       "justify_content": null,
       "justify_items": null,
       "left": null,
       "margin": null,
       "max_height": null,
       "max_width": null,
       "min_height": null,
       "min_width": null,
       "object_fit": null,
       "object_position": null,
       "order": null,
       "overflow": null,
       "padding": null,
       "right": null,
       "top": null,
       "visibility": null,
       "width": null
      }
     },
     "410d3ccd7d9040699f1a7870bf2ac72d": {
      "model_module": "@jupyter-widgets/controls",
      "model_module_version": "2.0.0",
      "model_name": "ProgressStyleModel",
      "state": {
       "_model_module": "@jupyter-widgets/controls",
       "_model_module_version": "2.0.0",
       "_model_name": "ProgressStyleModel",
       "_view_count": null,
       "_view_module": "@jupyter-widgets/base",
       "_view_module_version": "2.0.0",
       "_view_name": "StyleView",
       "bar_color": null,
       "description_width": ""
      }
     },
     "41e3f506b61f46da9d2a08245c132bdb": {
      "model_module": "@jupyter-widgets/controls",
      "model_module_version": "2.0.0",
      "model_name": "HTMLStyleModel",
      "state": {
       "_model_module": "@jupyter-widgets/controls",
       "_model_module_version": "2.0.0",
       "_model_name": "HTMLStyleModel",
       "_view_count": null,
       "_view_module": "@jupyter-widgets/base",
       "_view_module_version": "2.0.0",
       "_view_name": "StyleView",
       "background": null,
       "description_width": "",
       "font_size": null,
       "text_color": null
      }
     },
     "49d453b3fbf8430f8afded82b0b01292": {
      "model_module": "@jupyter-widgets/controls",
      "model_module_version": "2.0.0",
      "model_name": "HTMLStyleModel",
      "state": {
       "_model_module": "@jupyter-widgets/controls",
       "_model_module_version": "2.0.0",
       "_model_name": "HTMLStyleModel",
       "_view_count": null,
       "_view_module": "@jupyter-widgets/base",
       "_view_module_version": "2.0.0",
       "_view_name": "StyleView",
       "background": null,
       "description_width": "",
       "font_size": null,
       "text_color": null
      }
     },
     "4a2c86c2e36940c7a04348432188ef32": {
      "model_module": "@jupyter-widgets/controls",
      "model_module_version": "2.0.0",
      "model_name": "ProgressStyleModel",
      "state": {
       "_model_module": "@jupyter-widgets/controls",
       "_model_module_version": "2.0.0",
       "_model_name": "ProgressStyleModel",
       "_view_count": null,
       "_view_module": "@jupyter-widgets/base",
       "_view_module_version": "2.0.0",
       "_view_name": "StyleView",
       "bar_color": null,
       "description_width": ""
      }
     },
     "6619f8e8b4624f418e87d0ef3b0bf514": {
      "model_module": "@jupyter-widgets/controls",
      "model_module_version": "2.0.0",
      "model_name": "HTMLModel",
      "state": {
       "_dom_classes": [],
       "_model_module": "@jupyter-widgets/controls",
       "_model_module_version": "2.0.0",
       "_model_name": "HTMLModel",
       "_view_count": null,
       "_view_module": "@jupyter-widgets/controls",
       "_view_module_version": "2.0.0",
       "_view_name": "HTMLView",
       "description": "",
       "description_allow_html": false,
       "layout": "IPY_MODEL_9a06dd2cc5d345768ffbe2deacd53b37",
       "placeholder": "​",
       "style": "IPY_MODEL_22e5accce8164b86bd28faa6da67da73",
       "tabbable": null,
       "tooltip": null,
       "value": " 6.95k/6.95k [00:00&lt;00:00, 713kB/s]"
      }
     },
     "6bd29765ae6d4a0e8c9495a5e16748bd": {
      "model_module": "@jupyter-widgets/controls",
      "model_module_version": "2.0.0",
      "model_name": "FloatProgressModel",
      "state": {
       "_dom_classes": [],
       "_model_module": "@jupyter-widgets/controls",
       "_model_module_version": "2.0.0",
       "_model_name": "FloatProgressModel",
       "_view_count": null,
       "_view_module": "@jupyter-widgets/controls",
       "_view_module_version": "2.0.0",
       "_view_name": "ProgressView",
       "bar_style": "success",
       "description": "",
       "description_allow_html": false,
       "layout": "IPY_MODEL_e14d0b35fbcb423b814e008eda309d03",
       "max": 786062056.0,
       "min": 0.0,
       "orientation": "horizontal",
       "style": "IPY_MODEL_ee921398342f40baa09c0319f0b2efd8",
       "tabbable": null,
       "tooltip": null,
       "value": 786062056.0
      }
     },
     "6c7d2fa686134d20823c80b7fb428bf3": {
      "model_module": "@jupyter-widgets/controls",
      "model_module_version": "2.0.0",
      "model_name": "HTMLStyleModel",
      "state": {
       "_model_module": "@jupyter-widgets/controls",
       "_model_module_version": "2.0.0",
       "_model_name": "HTMLStyleModel",
       "_view_count": null,
       "_view_module": "@jupyter-widgets/base",
       "_view_module_version": "2.0.0",
       "_view_name": "StyleView",
       "background": null,
       "description_width": "",
       "font_size": null,
       "text_color": null
      }
     },
     "8167bb5c0fb7410fa8e581c0901dadbb": {
      "model_module": "@jupyter-widgets/base",
      "model_module_version": "2.0.0",
      "model_name": "LayoutModel",
      "state": {
       "_model_module": "@jupyter-widgets/base",
       "_model_module_version": "2.0.0",
       "_model_name": "LayoutModel",
       "_view_count": null,
       "_view_module": "@jupyter-widgets/base",
       "_view_module_version": "2.0.0",
       "_view_name": "LayoutView",
       "align_content": null,
       "align_items": null,
       "align_self": null,
       "border_bottom": null,
       "border_left": null,
       "border_right": null,
       "border_top": null,
       "bottom": null,
       "display": null,
       "flex": null,
       "flex_flow": null,
       "grid_area": null,
       "grid_auto_columns": null,
       "grid_auto_flow": null,
       "grid_auto_rows": null,
       "grid_column": null,
       "grid_gap": null,
       "grid_row": null,
       "grid_template_areas": null,
       "grid_template_columns": null,
       "grid_template_rows": null,
       "height": null,
       "justify_content": null,
       "justify_items": null,
       "left": null,
       "margin": null,
       "max_height": null,
       "max_width": null,
       "min_height": null,
       "min_width": null,
       "object_fit": null,
       "object_position": null,
       "order": null,
       "overflow": null,
       "padding": null,
       "right": null,
       "top": null,
       "visibility": null,
       "width": null
      }
     },
     "9a06dd2cc5d345768ffbe2deacd53b37": {
      "model_module": "@jupyter-widgets/base",
      "model_module_version": "2.0.0",
      "model_name": "LayoutModel",
      "state": {
       "_model_module": "@jupyter-widgets/base",
       "_model_module_version": "2.0.0",
       "_model_name": "LayoutModel",
       "_view_count": null,
       "_view_module": "@jupyter-widgets/base",
       "_view_module_version": "2.0.0",
       "_view_name": "LayoutView",
       "align_content": null,
       "align_items": null,
       "align_self": null,
       "border_bottom": null,
       "border_left": null,
       "border_right": null,
       "border_top": null,
       "bottom": null,
       "display": null,
       "flex": null,
       "flex_flow": null,
       "grid_area": null,
       "grid_auto_columns": null,
       "grid_auto_flow": null,
       "grid_auto_rows": null,
       "grid_column": null,
       "grid_gap": null,
       "grid_row": null,
       "grid_template_areas": null,
       "grid_template_columns": null,
       "grid_template_rows": null,
       "height": null,
       "justify_content": null,
       "justify_items": null,
       "left": null,
       "margin": null,
       "max_height": null,
       "max_width": null,
       "min_height": null,
       "min_width": null,
       "object_fit": null,
       "object_position": null,
       "order": null,
       "overflow": null,
       "padding": null,
       "right": null,
       "top": null,
       "visibility": null,
       "width": null
      }
     },
     "9d5f5378284c43389712b84918ebe407": {
      "model_module": "@jupyter-widgets/base",
      "model_module_version": "2.0.0",
      "model_name": "LayoutModel",
      "state": {
       "_model_module": "@jupyter-widgets/base",
       "_model_module_version": "2.0.0",
       "_model_name": "LayoutModel",
       "_view_count": null,
       "_view_module": "@jupyter-widgets/base",
       "_view_module_version": "2.0.0",
       "_view_name": "LayoutView",
       "align_content": null,
       "align_items": null,
       "align_self": null,
       "border_bottom": null,
       "border_left": null,
       "border_right": null,
       "border_top": null,
       "bottom": null,
       "display": null,
       "flex": null,
       "flex_flow": null,
       "grid_area": null,
       "grid_auto_columns": null,
       "grid_auto_flow": null,
       "grid_auto_rows": null,
       "grid_column": null,
       "grid_gap": null,
       "grid_row": null,
       "grid_template_areas": null,
       "grid_template_columns": null,
       "grid_template_rows": null,
       "height": null,
       "justify_content": null,
       "justify_items": null,
       "left": null,
       "margin": null,
       "max_height": null,
       "max_width": null,
       "min_height": null,
       "min_width": null,
       "object_fit": null,
       "object_position": null,
       "order": null,
       "overflow": null,
       "padding": null,
       "right": null,
       "top": null,
       "visibility": null,
       "width": null
      }
     },
     "a16e4e6cdf0a496382738d1776f0fc01": {
      "model_module": "@jupyter-widgets/base",
      "model_module_version": "2.0.0",
      "model_name": "LayoutModel",
      "state": {
       "_model_module": "@jupyter-widgets/base",
       "_model_module_version": "2.0.0",
       "_model_name": "LayoutModel",
       "_view_count": null,
       "_view_module": "@jupyter-widgets/base",
       "_view_module_version": "2.0.0",
       "_view_name": "LayoutView",
       "align_content": null,
       "align_items": null,
       "align_self": null,
       "border_bottom": null,
       "border_left": null,
       "border_right": null,
       "border_top": null,
       "bottom": null,
       "display": null,
       "flex": null,
       "flex_flow": null,
       "grid_area": null,
       "grid_auto_columns": null,
       "grid_auto_flow": null,
       "grid_auto_rows": null,
       "grid_column": null,
       "grid_gap": null,
       "grid_row": null,
       "grid_template_areas": null,
       "grid_template_columns": null,
       "grid_template_rows": null,
       "height": null,
       "justify_content": null,
       "justify_items": null,
       "left": null,
       "margin": null,
       "max_height": null,
       "max_width": null,
       "min_height": null,
       "min_width": null,
       "object_fit": null,
       "object_position": null,
       "order": null,
       "overflow": null,
       "padding": null,
       "right": null,
       "top": null,
       "visibility": null,
       "width": null
      }
     },
     "a9a4126eb4fc468bb85c386f473787ec": {
      "model_module": "@jupyter-widgets/base",
      "model_module_version": "2.0.0",
      "model_name": "LayoutModel",
      "state": {
       "_model_module": "@jupyter-widgets/base",
       "_model_module_version": "2.0.0",
       "_model_name": "LayoutModel",
       "_view_count": null,
       "_view_module": "@jupyter-widgets/base",
       "_view_module_version": "2.0.0",
       "_view_name": "LayoutView",
       "align_content": null,
       "align_items": null,
       "align_self": null,
       "border_bottom": null,
       "border_left": null,
       "border_right": null,
       "border_top": null,
       "bottom": null,
       "display": null,
       "flex": null,
       "flex_flow": null,
       "grid_area": null,
       "grid_auto_columns": null,
       "grid_auto_flow": null,
       "grid_auto_rows": null,
       "grid_column": null,
       "grid_gap": null,
       "grid_row": null,
       "grid_template_areas": null,
       "grid_template_columns": null,
       "grid_template_rows": null,
       "height": null,
       "justify_content": null,
       "justify_items": null,
       "left": null,
       "margin": null,
       "max_height": null,
       "max_width": null,
       "min_height": null,
       "min_width": null,
       "object_fit": null,
       "object_position": null,
       "order": null,
       "overflow": null,
       "padding": null,
       "right": null,
       "top": null,
       "visibility": null,
       "width": null
      }
     },
     "b073eb47be9348acb40dd3f67b579ee8": {
      "model_module": "@jupyter-widgets/controls",
      "model_module_version": "2.0.0",
      "model_name": "FloatProgressModel",
      "state": {
       "_dom_classes": [],
       "_model_module": "@jupyter-widgets/controls",
       "_model_module_version": "2.0.0",
       "_model_name": "FloatProgressModel",
       "_view_count": null,
       "_view_module": "@jupyter-widgets/controls",
       "_view_module_version": "2.0.0",
       "_view_name": "ProgressView",
       "bar_style": "success",
       "description": "",
       "description_allow_html": false,
       "layout": "IPY_MODEL_392f9d3694cb4a80b83d65ce98feea74",
       "max": 6949.0,
       "min": 0.0,
       "orientation": "horizontal",
       "style": "IPY_MODEL_4a2c86c2e36940c7a04348432188ef32",
       "tabbable": null,
       "tooltip": null,
       "value": 6949.0
      }
     },
     "b1b0d49eb36942238d2db05a0c201ff4": {
      "model_module": "@jupyter-widgets/controls",
      "model_module_version": "2.0.0",
      "model_name": "HBoxModel",
      "state": {
       "_dom_classes": [],
       "_model_module": "@jupyter-widgets/controls",
       "_model_module_version": "2.0.0",
       "_model_name": "HBoxModel",
       "_view_count": null,
       "_view_module": "@jupyter-widgets/controls",
       "_view_module_version": "2.0.0",
       "_view_name": "HBoxView",
       "box_style": "",
       "children": [
        "IPY_MODEL_b6528fdbd920427184e186a3fe170c1a",
        "IPY_MODEL_b073eb47be9348acb40dd3f67b579ee8",
        "IPY_MODEL_6619f8e8b4624f418e87d0ef3b0bf514"
       ],
       "layout": "IPY_MODEL_a9a4126eb4fc468bb85c386f473787ec",
       "tabbable": null,
       "tooltip": null
      }
     },
     "b3f0270177464e7db154a53361aca2f6": {
      "model_module": "@jupyter-widgets/controls",
      "model_module_version": "2.0.0",
      "model_name": "HTMLStyleModel",
      "state": {
       "_model_module": "@jupyter-widgets/controls",
       "_model_module_version": "2.0.0",
       "_model_name": "HTMLStyleModel",
       "_view_count": null,
       "_view_module": "@jupyter-widgets/base",
       "_view_module_version": "2.0.0",
       "_view_name": "StyleView",
       "background": null,
       "description_width": "",
       "font_size": null,
       "text_color": null
      }
     },
     "b6528fdbd920427184e186a3fe170c1a": {
      "model_module": "@jupyter-widgets/controls",
      "model_module_version": "2.0.0",
      "model_name": "HTMLModel",
      "state": {
       "_dom_classes": [],
       "_model_module": "@jupyter-widgets/controls",
       "_model_module_version": "2.0.0",
       "_model_name": "HTMLModel",
       "_view_count": null,
       "_view_module": "@jupyter-widgets/controls",
       "_view_module_version": "2.0.0",
       "_view_name": "HTMLView",
       "description": "",
       "description_allow_html": false,
       "layout": "IPY_MODEL_8167bb5c0fb7410fa8e581c0901dadbb",
       "placeholder": "​",
       "style": "IPY_MODEL_b3f0270177464e7db154a53361aca2f6",
       "tabbable": null,
       "tooltip": null,
       "value": "config.json: 100%"
      }
     },
     "c4a41a28f2644890b504929d2848d04a": {
      "model_module": "@jupyter-widgets/controls",
      "model_module_version": "2.0.0",
      "model_name": "HTMLModel",
      "state": {
       "_dom_classes": [],
       "_model_module": "@jupyter-widgets/controls",
       "_model_module_version": "2.0.0",
       "_model_name": "HTMLModel",
       "_view_count": null,
       "_view_module": "@jupyter-widgets/controls",
       "_view_module_version": "2.0.0",
       "_view_name": "HTMLView",
       "description": "",
       "description_allow_html": false,
       "layout": "IPY_MODEL_a16e4e6cdf0a496382738d1776f0fc01",
       "placeholder": "​",
       "style": "IPY_MODEL_49d453b3fbf8430f8afded82b0b01292",
       "tabbable": null,
       "tooltip": null,
       "value": " 786M/786M [00:18&lt;00:00, 42.4MB/s]"
      }
     },
     "d05e9a1094f84dd58f28fb8d9a1194e1": {
      "model_module": "@jupyter-widgets/base",
      "model_module_version": "2.0.0",
      "model_name": "LayoutModel",
      "state": {
       "_model_module": "@jupyter-widgets/base",
       "_model_module_version": "2.0.0",
       "_model_name": "LayoutModel",
       "_view_count": null,
       "_view_module": "@jupyter-widgets/base",
       "_view_module_version": "2.0.0",
       "_view_name": "LayoutView",
       "align_content": null,
       "align_items": null,
       "align_self": null,
       "border_bottom": null,
       "border_left": null,
       "border_right": null,
       "border_top": null,
       "bottom": null,
       "display": null,
       "flex": null,
       "flex_flow": null,
       "grid_area": null,
       "grid_auto_columns": null,
       "grid_auto_flow": null,
       "grid_auto_rows": null,
       "grid_column": null,
       "grid_gap": null,
       "grid_row": null,
       "grid_template_areas": null,
       "grid_template_columns": null,
       "grid_template_rows": null,
       "height": null,
       "justify_content": null,
       "justify_items": null,
       "left": null,
       "margin": null,
       "max_height": null,
       "max_width": null,
       "min_height": null,
       "min_width": null,
       "object_fit": null,
       "object_position": null,
       "order": null,
       "overflow": null,
       "padding": null,
       "right": null,
       "top": null,
       "visibility": null,
       "width": null
      }
     },
     "d5d31bb07b4f481ca36db4f651ef198c": {
      "model_module": "@jupyter-widgets/base",
      "model_module_version": "2.0.0",
      "model_name": "LayoutModel",
      "state": {
       "_model_module": "@jupyter-widgets/base",
       "_model_module_version": "2.0.0",
       "_model_name": "LayoutModel",
       "_view_count": null,
       "_view_module": "@jupyter-widgets/base",
       "_view_module_version": "2.0.0",
       "_view_name": "LayoutView",
       "align_content": null,
       "align_items": null,
       "align_self": null,
       "border_bottom": null,
       "border_left": null,
       "border_right": null,
       "border_top": null,
       "bottom": null,
       "display": null,
       "flex": null,
       "flex_flow": null,
       "grid_area": null,
       "grid_auto_columns": null,
       "grid_auto_flow": null,
       "grid_auto_rows": null,
       "grid_column": null,
       "grid_gap": null,
       "grid_row": null,
       "grid_template_areas": null,
       "grid_template_columns": null,
       "grid_template_rows": null,
       "height": null,
       "justify_content": null,
       "justify_items": null,
       "left": null,
       "margin": null,
       "max_height": null,
       "max_width": null,
       "min_height": null,
       "min_width": null,
       "object_fit": null,
       "object_position": null,
       "order": null,
       "overflow": null,
       "padding": null,
       "right": null,
       "top": null,
       "visibility": null,
       "width": null
      }
     },
     "dae9f9d7cb9c4731b1b96f29fb8e11df": {
      "model_module": "@jupyter-widgets/base",
      "model_module_version": "2.0.0",
      "model_name": "LayoutModel",
      "state": {
       "_model_module": "@jupyter-widgets/base",
       "_model_module_version": "2.0.0",
       "_model_name": "LayoutModel",
       "_view_count": null,
       "_view_module": "@jupyter-widgets/base",
       "_view_module_version": "2.0.0",
       "_view_name": "LayoutView",
       "align_content": null,
       "align_items": null,
       "align_self": null,
       "border_bottom": null,
       "border_left": null,
       "border_right": null,
       "border_top": null,
       "bottom": null,
       "display": null,
       "flex": null,
       "flex_flow": null,
       "grid_area": null,
       "grid_auto_columns": null,
       "grid_auto_flow": null,
       "grid_auto_rows": null,
       "grid_column": null,
       "grid_gap": null,
       "grid_row": null,
       "grid_template_areas": null,
       "grid_template_columns": null,
       "grid_template_rows": null,
       "height": null,
       "justify_content": null,
       "justify_items": null,
       "left": null,
       "margin": null,
       "max_height": null,
       "max_width": null,
       "min_height": null,
       "min_width": null,
       "object_fit": null,
       "object_position": null,
       "order": null,
       "overflow": null,
       "padding": null,
       "right": null,
       "top": null,
       "visibility": null,
       "width": null
      }
     },
     "df425bbf951b4684bb2a58abe38fabbe": {
      "model_module": "@jupyter-widgets/controls",
      "model_module_version": "2.0.0",
      "model_name": "HBoxModel",
      "state": {
       "_dom_classes": [],
       "_model_module": "@jupyter-widgets/controls",
       "_model_module_version": "2.0.0",
       "_model_name": "HBoxModel",
       "_view_count": null,
       "_view_module": "@jupyter-widgets/controls",
       "_view_module_version": "2.0.0",
       "_view_name": "HBoxView",
       "box_style": "",
       "children": [
        "IPY_MODEL_31ea34a1d67144ce9ffb8fd608978516",
        "IPY_MODEL_f800fd8033954599a639c039c8fb229d",
        "IPY_MODEL_f4361f5130894dd99ca8cf6788b1012c"
       ],
       "layout": "IPY_MODEL_d05e9a1094f84dd58f28fb8d9a1194e1",
       "tabbable": null,
       "tooltip": null
      }
     },
     "e14d0b35fbcb423b814e008eda309d03": {
      "model_module": "@jupyter-widgets/base",
      "model_module_version": "2.0.0",
      "model_name": "LayoutModel",
      "state": {
       "_model_module": "@jupyter-widgets/base",
       "_model_module_version": "2.0.0",
       "_model_name": "LayoutModel",
       "_view_count": null,
       "_view_module": "@jupyter-widgets/base",
       "_view_module_version": "2.0.0",
       "_view_name": "LayoutView",
       "align_content": null,
       "align_items": null,
       "align_self": null,
       "border_bottom": null,
       "border_left": null,
       "border_right": null,
       "border_top": null,
       "bottom": null,
       "display": null,
       "flex": null,
       "flex_flow": null,
       "grid_area": null,
       "grid_auto_columns": null,
       "grid_auto_flow": null,
       "grid_auto_rows": null,
       "grid_column": null,
       "grid_gap": null,
       "grid_row": null,
       "grid_template_areas": null,
       "grid_template_columns": null,
       "grid_template_rows": null,
       "height": null,
       "justify_content": null,
       "justify_items": null,
       "left": null,
       "margin": null,
       "max_height": null,
       "max_width": null,
       "min_height": null,
       "min_width": null,
       "object_fit": null,
       "object_position": null,
       "order": null,
       "overflow": null,
       "padding": null,
       "right": null,
       "top": null,
       "visibility": null,
       "width": null
      }
     },
     "e67dd5ad8fe34040946f20e6b86a266a": {
      "model_module": "@jupyter-widgets/controls",
      "model_module_version": "2.0.0",
      "model_name": "HTMLStyleModel",
      "state": {
       "_model_module": "@jupyter-widgets/controls",
       "_model_module_version": "2.0.0",
       "_model_name": "HTMLStyleModel",
       "_view_count": null,
       "_view_module": "@jupyter-widgets/base",
       "_view_module_version": "2.0.0",
       "_view_name": "StyleView",
       "background": null,
       "description_width": "",
       "font_size": null,
       "text_color": null
      }
     },
     "ee921398342f40baa09c0319f0b2efd8": {
      "model_module": "@jupyter-widgets/controls",
      "model_module_version": "2.0.0",
      "model_name": "ProgressStyleModel",
      "state": {
       "_model_module": "@jupyter-widgets/controls",
       "_model_module_version": "2.0.0",
       "_model_name": "ProgressStyleModel",
       "_view_count": null,
       "_view_module": "@jupyter-widgets/base",
       "_view_module_version": "2.0.0",
       "_view_name": "StyleView",
       "bar_color": null,
       "description_width": ""
      }
     },
     "f4361f5130894dd99ca8cf6788b1012c": {
      "model_module": "@jupyter-widgets/controls",
      "model_module_version": "2.0.0",
      "model_name": "HTMLModel",
      "state": {
       "_dom_classes": [],
       "_model_module": "@jupyter-widgets/controls",
       "_model_module_version": "2.0.0",
       "_model_name": "HTMLModel",
       "_view_count": null,
       "_view_module": "@jupyter-widgets/controls",
       "_view_module_version": "2.0.0",
       "_view_name": "HTMLView",
       "description": "",
       "description_allow_html": false,
       "layout": "IPY_MODEL_240dac5c6fc84f8799d66f208012f228",
       "placeholder": "​",
       "style": "IPY_MODEL_41e3f506b61f46da9d2a08245c132bdb",
       "tabbable": null,
       "tooltip": null,
       "value": " 386/386 [00:00&lt;00:00, 37.4kB/s]"
      }
     },
     "f800fd8033954599a639c039c8fb229d": {
      "model_module": "@jupyter-widgets/controls",
      "model_module_version": "2.0.0",
      "model_name": "FloatProgressModel",
      "state": {
       "_dom_classes": [],
       "_model_module": "@jupyter-widgets/controls",
       "_model_module_version": "2.0.0",
       "_model_name": "FloatProgressModel",
       "_view_count": null,
       "_view_module": "@jupyter-widgets/controls",
       "_view_module_version": "2.0.0",
       "_view_name": "ProgressView",
       "bar_style": "success",
       "description": "",
       "description_allow_html": false,
       "layout": "IPY_MODEL_d5d31bb07b4f481ca36db4f651ef198c",
       "max": 386.0,
       "min": 0.0,
       "orientation": "horizontal",
       "style": "IPY_MODEL_410d3ccd7d9040699f1a7870bf2ac72d",
       "tabbable": null,
       "tooltip": null,
       "value": 386.0
      }
     }
    },
    "version_major": 2,
    "version_minor": 0
   }
  }
 },
 "nbformat": 4,
 "nbformat_minor": 5
}
