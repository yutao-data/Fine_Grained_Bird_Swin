{
 "cells": [
  {
   "cell_type": "markdown",
   "id": "a4f6a32d",
   "metadata": {
    "papermill": {
     "duration": 0.004487,
     "end_time": "2025-01-29T07:44:35.229323",
     "exception": false,
     "start_time": "2025-01-29T07:44:35.224836",
     "status": "completed"
    },
    "tags": []
   },
   "source": [
    "# Libraries"
   ]
  },
  {
   "cell_type": "code",
   "execution_count": 1,
   "id": "fd5ca53a",
   "metadata": {
    "execution": {
     "iopub.execute_input": "2025-01-29T07:44:35.237833Z",
     "iopub.status.busy": "2025-01-29T07:44:35.237594Z",
     "iopub.status.idle": "2025-01-29T07:44:42.675317Z",
     "shell.execute_reply": "2025-01-29T07:44:42.674310Z"
    },
    "papermill": {
     "duration": 7.443833,
     "end_time": "2025-01-29T07:44:42.677180",
     "exception": false,
     "start_time": "2025-01-29T07:44:35.233347",
     "status": "completed"
    },
    "tags": []
   },
   "outputs": [],
   "source": [
    "! pip install transformers timm albumentations --quiet\n",
    "! pip install ipywidgets --quiet"
   ]
  },
  {
   "cell_type": "code",
   "execution_count": 2,
   "id": "faa1f590",
   "metadata": {
    "_cell_guid": "b1076dfc-b9ad-4769-8c92-a6c4dae69d19",
    "_uuid": "8f2839f25d086af736a60e9eeb907d3b93b6e0e5",
    "execution": {
     "iopub.execute_input": "2025-01-29T07:44:42.686352Z",
     "iopub.status.busy": "2025-01-29T07:44:42.686098Z",
     "iopub.status.idle": "2025-01-29T07:45:04.801448Z",
     "shell.execute_reply": "2025-01-29T07:45:04.800506Z"
    },
    "papermill": {
     "duration": 22.121644,
     "end_time": "2025-01-29T07:45:04.803145",
     "exception": false,
     "start_time": "2025-01-29T07:44:42.681501",
     "status": "completed"
    },
    "tags": []
   },
   "outputs": [],
   "source": [
    "# Standard Libraries\n",
    "import os\n",
    "import random\n",
    "from collections import Counter\n",
    "\n",
    "# Numerical and Data Handling Libraries\n",
    "import numpy as np\n",
    "import pandas as pd\n",
    "\n",
    "# Image Processing Libraries\n",
    "import cv2\n",
    "from PIL import Image\n",
    "\n",
    "# Plotting and Visualization\n",
    "import matplotlib.pyplot as plt\n",
    "\n",
    "# PyTorch and Torchvision\n",
    "import torch\n",
    "from torch.utils.data import Dataset, DataLoader\n",
    "from torch.optim import AdamW\n",
    "from torchvision import transforms\n",
    "from torchvision.datasets import ImageFolder\n",
    "\n",
    "# Transformers for Vision Models\n",
    "from transformers import ViTConfig, ViTForImageClassification, ViTImageProcessor\n",
    "\n",
    "# Utility Libraries\n",
    "from tqdm import tqdm\n",
    "from sklearn.metrics import accuracy_score\n",
    "\n",
    "# jupyter nbextension enable --py widgetsnbextension\n",
    "from google.colab import output\n",
    "output.enable_custom_widget_manager()"
   ]
  },
  {
   "cell_type": "markdown",
   "id": "4638ebc5",
   "metadata": {
    "papermill": {
     "duration": 0.003724,
     "end_time": "2025-01-29T07:45:04.811060",
     "exception": false,
     "start_time": "2025-01-29T07:45:04.807336",
     "status": "completed"
    },
    "tags": []
   },
   "source": [
    "# Preprocessing"
   ]
  },
  {
   "cell_type": "code",
   "execution_count": 3,
   "id": "55702bb6",
   "metadata": {
    "execution": {
     "iopub.execute_input": "2025-01-29T07:45:04.819533Z",
     "iopub.status.busy": "2025-01-29T07:45:04.819068Z",
     "iopub.status.idle": "2025-01-29T07:45:04.822349Z",
     "shell.execute_reply": "2025-01-29T07:45:04.821737Z"
    },
    "papermill": {
     "duration": 0.008703,
     "end_time": "2025-01-29T07:45:04.823440",
     "exception": false,
     "start_time": "2025-01-29T07:45:04.814737",
     "status": "completed"
    },
    "tags": []
   },
   "outputs": [],
   "source": [
    "train_dir = \"/kaggle/input/bdma-07-competition/BDMA7_project_files/train_images\""
   ]
  },
  {
   "cell_type": "code",
   "execution_count": 4,
   "id": "515643ed",
   "metadata": {
    "execution": {
     "iopub.execute_input": "2025-01-29T07:45:04.831802Z",
     "iopub.status.busy": "2025-01-29T07:45:04.831550Z",
     "iopub.status.idle": "2025-01-29T07:45:19.121955Z",
     "shell.execute_reply": "2025-01-29T07:45:19.120876Z"
    },
    "papermill": {
     "duration": 14.295864,
     "end_time": "2025-01-29T07:45:19.123152",
     "exception": false,
     "start_time": "2025-01-29T07:45:04.827288",
     "status": "completed"
    },
    "tags": []
   },
   "outputs": [
    {
     "name": "stderr",
     "output_type": "stream",
     "text": [
      "Processing Classes: 100%|██████████| 20/20 [00:14<00:00,  1.40it/s]"
     ]
    },
    {
     "name": "stdout",
     "output_type": "stream",
     "text": [
      "Data preprocessing and augmentation complete. Files saved to: /kaggle/working/preprocessed_images\n"
     ]
    },
    {
     "name": "stderr",
     "output_type": "stream",
     "text": [
      "\n"
     ]
    }
   ],
   "source": [
    "# Data augmentation (rotation)\n",
    "train_dir = \"/kaggle/input/bdma-07-competition/BDMA7_project_files/train_images\"\n",
    "output_dir = \"/kaggle/working/preprocessed_images\"\n",
    "\n",
    "# Image processing parameters\n",
    "img_size = (128, 128)  # Resize dimensions\n",
    "rotation_angles = [-15, -10, -5, 5, 10, 15]  # Rotation angles\n",
    "\n",
    "# Create output directory\n",
    "if not os.path.exists(output_dir):\n",
    "    os.makedirs(output_dir)\n",
    "\n",
    "# Data augmentation and saving\n",
    "def preprocess_and_augment_images(input_dir, output_dir, img_size, angles):\n",
    "    \"\"\"\n",
    "    Perform preprocessing (resize) and augmentation (rotation) on images.\n",
    "    \"\"\"\n",
    "    for class_folder in tqdm(os.listdir(input_dir), desc=\"Processing Classes\"):\n",
    "        class_path = os.path.join(input_dir, class_folder)\n",
    "        if not os.path.isdir(class_path):\n",
    "            continue\n",
    "\n",
    "        # Create output directory for each class\n",
    "        class_output_path = os.path.join(output_dir, class_folder)\n",
    "        os.makedirs(class_output_path, exist_ok=True)\n",
    "\n",
    "        # Process each image\n",
    "        for img_file in os.listdir(class_path):\n",
    "            img_path = os.path.join(class_path, img_file)\n",
    "            img = cv2.imread(img_path)\n",
    "\n",
    "            if img is None:\n",
    "                print(f\"Warning: Unable to read image {img_path}\")\n",
    "                continue\n",
    "\n",
    "            # Resize the image\n",
    "            resized_img = cv2.resize(img, img_size)\n",
    "\n",
    "            # Save the resized original image\n",
    "            base_name = os.path.splitext(img_file)[0]\n",
    "            cv2.imwrite(os.path.join(class_output_path, f\"{base_name}_original.jpg\"), resized_img)\n",
    "\n",
    "            # Data augmentation (rotation)\n",
    "            for angle in angles:\n",
    "                # Calculate the rotation matrix\n",
    "                h, w = resized_img.shape[:2]\n",
    "                center = (w // 2, h // 2)\n",
    "                rotation_matrix = cv2.getRotationMatrix2D(center, angle, 1.0)\n",
    "\n",
    "                # Rotate the image\n",
    "                rotated_img = cv2.warpAffine(resized_img, rotation_matrix, (w, h))\n",
    "\n",
    "                # Save the augmented image\n",
    "                augmented_name = f\"{base_name}_rotated_{angle}.jpg\"\n",
    "                cv2.imwrite(os.path.join(class_output_path, augmented_name), rotated_img)\n",
    "\n",
    "# Execute preprocessing and augmentation\n",
    "preprocess_and_augment_images(train_dir, output_dir, img_size, rotation_angles)\n",
    "\n",
    "print(\"Data preprocessing and augmentation complete. Files saved to:\", output_dir)"
   ]
  },
  {
   "cell_type": "code",
   "execution_count": 5,
   "id": "e0150e93",
   "metadata": {
    "execution": {
     "iopub.execute_input": "2025-01-29T07:45:19.134147Z",
     "iopub.status.busy": "2025-01-29T07:45:19.133891Z",
     "iopub.status.idle": "2025-01-29T07:45:23.334800Z",
     "shell.execute_reply": "2025-01-29T07:45:23.334065Z"
    },
    "papermill": {
     "duration": 4.207982,
     "end_time": "2025-01-29T07:45:23.336379",
     "exception": false,
     "start_time": "2025-01-29T07:45:19.128397",
     "status": "completed"
    },
    "tags": []
   },
   "outputs": [],
   "source": [
    "## Data augmentation (flip)\n",
    "def flip_image(image, flip_code):\n",
    "    return cv2.flip(image, flip_code)\n",
    "\n",
    "def main():\n",
    "    train_dir = \"/kaggle/working/preprocessed_images\"\n",
    "    output_dir = \"/kaggle/working/preprocessed02_images\"\n",
    "    # Define a list of flip codes\n",
    "    # flip_codes = [0, 1, -1]\n",
    "    flip_codes = [1]\n",
    "\n",
    "    # Iterate through subdirectories (classes) in the input directory\n",
    "    for root, dirs, files in os.walk(train_dir):\n",
    "        for dir_name in dirs:\n",
    "            input_class_dir = os.path.join(root, dir_name)\n",
    "            output_class_dir = os.path.join(output_dir, dir_name)\n",
    "            # Create the output directory if it doesn't exist\n",
    "            if not os.path.exists(output_class_dir):\n",
    "                os.makedirs(output_class_dir)\n",
    "            # Iterate through files in the class directory\n",
    "            for file in os.listdir(input_class_dir):\n",
    "                if file.endswith(\".jpg\"):\n",
    "                    input_file_path = os.path.join(input_class_dir, file)\n",
    "                    # Read the image\n",
    "                    image = cv2.imread(input_file_path)\n",
    "                    \n",
    "                    # Copy the original image to the output directory\n",
    "                    output_original_file_path = os.path.join(output_class_dir, file)\n",
    "                    cv2.imwrite(output_original_file_path, image)\n",
    "                    \n",
    "                    # Generate flipped images for each flip operation\n",
    "                    for flip_code in flip_codes:\n",
    "                        # Generate a new file name\n",
    "                        base_name = os.path.splitext(file)[0]\n",
    "                        output_file_name = f\"{base_name}_flipped_{flip_code}.jpg\"\n",
    "                        output_file_path = os.path.join(output_class_dir, output_file_name)\n",
    "                        # Perform the flip operation on the image\n",
    "                        flipped_image = flip_image(image, flip_code)\n",
    "                        cv2.imwrite(output_file_path, flipped_image)\n",
    "\n",
    "if __name__ == \"__main__\":\n",
    "    main()"
   ]
  },
  {
   "cell_type": "markdown",
   "id": "c9d97f36",
   "metadata": {
    "papermill": {
     "duration": 0.004841,
     "end_time": "2025-01-29T07:45:23.346561",
     "exception": false,
     "start_time": "2025-01-29T07:45:23.341720",
     "status": "completed"
    },
    "tags": []
   },
   "source": [
    "# Vision Transformer Model"
   ]
  },
  {
   "cell_type": "code",
   "execution_count": 6,
   "id": "0deb8b47",
   "metadata": {
    "execution": {
     "iopub.execute_input": "2025-01-29T07:45:23.357048Z",
     "iopub.status.busy": "2025-01-29T07:45:23.356822Z",
     "iopub.status.idle": "2025-01-29T07:45:23.359816Z",
     "shell.execute_reply": "2025-01-29T07:45:23.359148Z"
    },
    "papermill": {
     "duration": 0.009539,
     "end_time": "2025-01-29T07:45:23.360939",
     "exception": false,
     "start_time": "2025-01-29T07:45:23.351400",
     "status": "completed"
    },
    "tags": []
   },
   "outputs": [],
   "source": [
    "train_dir = \"/kaggle/working//preprocessed02_images\"\n",
    "val_dir = \"/kaggle/input/bdma-07-competition/BDMA7_project_files/val_images\""
   ]
  },
  {
   "cell_type": "code",
   "execution_count": 7,
   "id": "f8ebda1b",
   "metadata": {
    "execution": {
     "iopub.execute_input": "2025-01-29T07:45:23.371353Z",
     "iopub.status.busy": "2025-01-29T07:45:23.371117Z",
     "iopub.status.idle": "2025-01-29T07:45:26.654406Z",
     "shell.execute_reply": "2025-01-29T07:45:26.653520Z"
    },
    "papermill": {
     "duration": 3.289971,
     "end_time": "2025-01-29T07:45:26.655816",
     "exception": false,
     "start_time": "2025-01-29T07:45:23.365845",
     "status": "completed"
    },
    "tags": []
   },
   "outputs": [
    {
     "data": {
      "application/vnd.jupyter.widget-view+json": {
       "model_id": "5b56ef3627ff45aabc532395505800bd",
       "version_major": 2,
       "version_minor": 0
      },
      "text/plain": [
       "preprocessor_config.json:   0%|          | 0.00/160 [00:00<?, ?B/s]"
      ]
     },
     "metadata": {
      "application/vnd.jupyter.widget-view+json": {
       "colab": {
        "custom_widget_manager": {
         "url": "https://ssl.gstatic.com/colaboratory-static/widgets/colab-cdn-widget-manager/2b70e893a8ba7c0f/manager.min.js"
        }
       }
      }
     },
     "output_type": "display_data"
    },
    {
     "data": {
      "application/vnd.jupyter.widget-view+json": {
       "model_id": "8d829a7a761041d5b2b96a8c4cff1fc3",
       "version_major": 2,
       "version_minor": 0
      },
      "text/plain": [
       "config.json:   0%|          | 0.00/502 [00:00<?, ?B/s]"
      ]
     },
     "metadata": {
      "application/vnd.jupyter.widget-view+json": {
       "colab": {
        "custom_widget_manager": {
         "url": "https://ssl.gstatic.com/colaboratory-static/widgets/colab-cdn-widget-manager/2b70e893a8ba7c0f/manager.min.js"
        }
       }
      }
     },
     "output_type": "display_data"
    },
    {
     "data": {
      "application/vnd.jupyter.widget-view+json": {
       "model_id": "c77861a17f194012af334f88538495df",
       "version_major": 2,
       "version_minor": 0
      },
      "text/plain": [
       "model.safetensors:   0%|          | 0.00/346M [00:00<?, ?B/s]"
      ]
     },
     "metadata": {
      "application/vnd.jupyter.widget-view+json": {
       "colab": {
        "custom_widget_manager": {
         "url": "https://ssl.gstatic.com/colaboratory-static/widgets/colab-cdn-widget-manager/2b70e893a8ba7c0f/manager.min.js"
        }
       }
      }
     },
     "output_type": "display_data"
    },
    {
     "name": "stderr",
     "output_type": "stream",
     "text": [
      "Some weights of ViTForImageClassification were not initialized from the model checkpoint at google/vit-base-patch16-224-in21k and are newly initialized: ['classifier.bias', 'classifier.weight']\n",
      "You should probably TRAIN this model on a down-stream task to be able to use it for predictions and inference.\n"
     ]
    }
   ],
   "source": [
    "model_name = \"google/vit-base-patch16-224-in21k\"  # 224x224 Input，16x16 Chunk\n",
    "# Change to ViT-Large\n",
    "# model_name = \"google/vit-large-patch16-224-in21k\"\n",
    "processor = ViTImageProcessor.from_pretrained(model_name)\n",
    "model = ViTForImageClassification.from_pretrained(\n",
    "    model_name,\n",
    "    num_labels=20,  # Number of Classes\n",
    "    ignore_mismatched_sizes=True  \n",
    ")"
   ]
  },
  {
   "cell_type": "code",
   "execution_count": 8,
   "id": "903f4e61",
   "metadata": {
    "execution": {
     "iopub.execute_input": "2025-01-29T07:45:26.667886Z",
     "iopub.status.busy": "2025-01-29T07:45:26.667604Z",
     "iopub.status.idle": "2025-01-29T07:45:26.670648Z",
     "shell.execute_reply": "2025-01-29T07:45:26.669860Z"
    },
    "papermill": {
     "duration": 0.010289,
     "end_time": "2025-01-29T07:45:26.671946",
     "exception": false,
     "start_time": "2025-01-29T07:45:26.661657",
     "status": "completed"
    },
    "tags": []
   },
   "outputs": [],
   "source": [
    "# import timm\n",
    "# model = timm.create_model(\"vit_base_patch16_224\", pretrained=True, num_classes=20)"
   ]
  },
  {
   "cell_type": "markdown",
   "id": "799a0741",
   "metadata": {
    "papermill": {
     "duration": 0.005206,
     "end_time": "2025-01-29T07:45:26.682452",
     "exception": false,
     "start_time": "2025-01-29T07:45:26.677246",
     "status": "completed"
    },
    "tags": []
   },
   "source": [
    "## Freeze all feature layers of ViT"
   ]
  },
  {
   "cell_type": "code",
   "execution_count": 9,
   "id": "dca4d417",
   "metadata": {
    "execution": {
     "iopub.execute_input": "2025-01-29T07:45:26.693712Z",
     "iopub.status.busy": "2025-01-29T07:45:26.693461Z",
     "iopub.status.idle": "2025-01-29T07:45:26.697501Z",
     "shell.execute_reply": "2025-01-29T07:45:26.696851Z"
    },
    "papermill": {
     "duration": 0.010848,
     "end_time": "2025-01-29T07:45:26.698598",
     "exception": false,
     "start_time": "2025-01-29T07:45:26.687750",
     "status": "completed"
    },
    "tags": []
   },
   "outputs": [],
   "source": [
    "# Freeze all feature layers of ViT (train only the classification head)\n",
    "for param in model.vit.parameters():\n",
    "    # param.requires_grad = False\n",
    "    param.requires_grad = True\n",
    "\n",
    "# Thaw the classification headers separately\n",
    "for param in model.classifier.parameters():\n",
    "    param.requires_grad = True"
   ]
  },
  {
   "cell_type": "markdown",
   "id": "38cea7d3",
   "metadata": {
    "papermill": {
     "duration": 0.005067,
     "end_time": "2025-01-29T07:45:26.709099",
     "exception": false,
     "start_time": "2025-01-29T07:45:26.704032",
     "status": "completed"
    },
    "tags": []
   },
   "source": [
    "## Set layer-wise learning rate"
   ]
  },
  {
   "cell_type": "code",
   "execution_count": 10,
   "id": "f20397b4",
   "metadata": {
    "execution": {
     "iopub.execute_input": "2025-01-29T07:45:26.720719Z",
     "iopub.status.busy": "2025-01-29T07:45:26.720471Z",
     "iopub.status.idle": "2025-01-29T07:45:26.724616Z",
     "shell.execute_reply": "2025-01-29T07:45:26.724005Z"
    },
    "papermill": {
     "duration": 0.011318,
     "end_time": "2025-01-29T07:45:26.725722",
     "exception": false,
     "start_time": "2025-01-29T07:45:26.714404",
     "status": "completed"
    },
    "tags": []
   },
   "outputs": [],
   "source": [
    "# Set layer-wise learning rate (feature layer learning rate is lower)\n",
    "optimizer = AdamW(\n",
    "    [\n",
    "        {\"params\": model.vit.parameters(), \"lr\": 1e-5},  # Feature extraction layer\n",
    "        {\"params\": model.classifier.parameters(), \"lr\": 3e-4}  # Classification Header\n",
    "    ],\n",
    "    weight_decay=0.01\n",
    ")"
   ]
  },
  {
   "cell_type": "code",
   "execution_count": 11,
   "id": "738cfe22",
   "metadata": {
    "execution": {
     "iopub.execute_input": "2025-01-29T07:45:26.736940Z",
     "iopub.status.busy": "2025-01-29T07:45:26.736730Z",
     "iopub.status.idle": "2025-01-29T07:45:26.747828Z",
     "shell.execute_reply": "2025-01-29T07:45:26.746848Z"
    },
    "papermill": {
     "duration": 0.018037,
     "end_time": "2025-01-29T07:45:26.749087",
     "exception": false,
     "start_time": "2025-01-29T07:45:26.731050",
     "status": "completed"
    },
    "tags": []
   },
   "outputs": [
    {
     "name": "stdout",
     "output_type": "stream",
     "text": [
      "2.140599099220708e-05\n",
      "0.0\n"
     ]
    }
   ],
   "source": [
    "# Verify that the classification layer is randomly initialized (correct state should be True)\n",
    "print(model.classifier.weight.mean().item())  # Should be close to 0 (normal distribution initialization)\n",
    "print(model.classifier.bias.mean().item())    # Should be close to 0"
   ]
  },
  {
   "cell_type": "code",
   "execution_count": 12,
   "id": "58664751",
   "metadata": {
    "execution": {
     "iopub.execute_input": "2025-01-29T07:45:26.761812Z",
     "iopub.status.busy": "2025-01-29T07:45:26.761576Z",
     "iopub.status.idle": "2025-01-29T07:45:26.764907Z",
     "shell.execute_reply": "2025-01-29T07:45:26.764243Z"
    },
    "papermill": {
     "duration": 0.010407,
     "end_time": "2025-01-29T07:45:26.766034",
     "exception": false,
     "start_time": "2025-01-29T07:45:26.755627",
     "status": "completed"
    },
    "tags": []
   },
   "outputs": [],
   "source": [
    "submission_class_order = [\n",
    "    'Groove_billed_Ani',\n",
    "    'Red_winged_Blackbird',\n",
    "    'Rusty_Blackbird',\n",
    "    'Gray_Catbird',\n",
    "    'Brandt_Cormorant',\n",
    "    'Eastern_Towhee',\n",
    "    'Indigo_Bunting',\n",
    "    'Brewer_Blackbird',\n",
    "    'Painted_Bunting',\n",
    "    'Bobolink',\n",
    "    'Lazuli_Bunting',\n",
    "    'Yellow_headed_Blackbird',\n",
    "    'American_Crow',\n",
    "    'Fish_Crow',\n",
    "    'Brown_Creeper',\n",
    "    'Yellow_billed_Cuckoo',\n",
    "    'Yellow_breasted_Chat',\n",
    "    'Black_billed_Cuckoo',\n",
    "    'Gray_crowned_Rosy_Finch',\n",
    "    'Bronzed_Cowbird'\n",
    "]"
   ]
  },
  {
   "cell_type": "code",
   "execution_count": 13,
   "id": "770f5e8a",
   "metadata": {
    "execution": {
     "iopub.execute_input": "2025-01-29T07:45:26.777381Z",
     "iopub.status.busy": "2025-01-29T07:45:26.777182Z",
     "iopub.status.idle": "2025-01-29T07:45:27.024627Z",
     "shell.execute_reply": "2025-01-29T07:45:27.023839Z"
    },
    "papermill": {
     "duration": 0.25461,
     "end_time": "2025-01-29T07:45:27.025993",
     "exception": false,
     "start_time": "2025-01-29T07:45:26.771383",
     "status": "completed"
    },
    "tags": []
   },
   "outputs": [
    {
     "name": "stdout",
     "output_type": "stream",
     "text": [
      "Category order inconsistency detected, automatically correcting...\n",
      "Corrected category order： ['Groove_billed_Ani', 'Red_winged_Blackbird', 'Rusty_Blackbird', 'Gray_Catbird', 'Brandt_Cormorant', 'Eastern_Towhee', 'Indigo_Bunting', 'Brewer_Blackbird', 'Painted_Bunting', 'Bobolink', 'Lazuli_Bunting', 'Yellow_headed_Blackbird', 'American_Crow', 'Fish_Crow', 'Brown_Creeper', 'Yellow_billed_Cuckoo', 'Yellow_breasted_Chat', 'Black_billed_Cuckoo', 'Gray_crowned_Rosy_Finch', 'Bronzed_Cowbird']\n"
     ]
    }
   ],
   "source": [
    "device = torch.device(\"cuda\" if torch.cuda.is_available() else \"cpu\")\n",
    "\n",
    "class BirdDataset(Dataset):\n",
    "    def __init__(self, main_dir, transform=None):\n",
    "        self.dataset = ImageFolder(root=main_dir, transform=transform)\n",
    "        self.class_to_idx = self.dataset.class_to_idx\n",
    "        \n",
    "    def __len__(self):\n",
    "        return len(self.dataset)\n",
    "    \n",
    "    def __getitem__(self, idx):\n",
    "        image, label = self.dataset[idx]\n",
    "        return image, label\n",
    "\n",
    "train_transform = transforms.Compose([\n",
    "    transforms.Resize((256, 256)),\n",
    "    transforms.RandomCrop(224),\n",
    "    transforms.RandomHorizontalFlip(),\n",
    "    transforms.ColorJitter(brightness=0.2, contrast=0.2, saturation=0.2),\n",
    "    transforms.ToTensor(),\n",
    "    transforms.Normalize(mean=processor.image_mean, std=processor.image_std)\n",
    "])\n",
    "\n",
    "val_transform = transforms.Compose([\n",
    "    transforms.Resize((224, 224)),\n",
    "    transforms.ToTensor(),\n",
    "    transforms.Normalize(mean=processor.image_mean, std=processor.image_std)\n",
    "])\n",
    "\n",
    "train_dataset = BirdDataset(train_dir, transform=train_transform)\n",
    "val_dataset = BirdDataset(val_dir, transform=val_transform)\n",
    "\n",
    "def validate_class_order(train_class_order, submission_order):\n",
    "    \"\"\"Make sure the category names and order of both lists are exactly the same\"\"\"\n",
    "    if len(train_class_order) != len(submission_order):\n",
    "        raise ValueError(f\"The number of categories does not match! Training set: {len(train_class_order)}, Submission Requirements: {len(submission_order)}\")\n",
    "    \n",
    "    for train_cls, sub_cls in zip(train_class_order, submission_order):\n",
    "        if train_cls != sub_cls:\n",
    "            raise ValueError(f\"Inconsistent order: training set '{train_cls}' vs Submission Requirements '{sub_cls}'\")\n",
    "    return True\n",
    "\n",
    "train_class_order = sorted(train_dataset.class_to_idx.keys())\n",
    "\n",
    "try:\n",
    "    validate_class_order(train_class_order, submission_class_order)\n",
    "except ValueError as e:\n",
    "    print(\"Category order inconsistency detected, automatically correcting...\")\n",
    "    from torchvision.datasets import DatasetFolder\n",
    "    \n",
    "    class OrderedImageFolder(DatasetFolder):\n",
    "        \"\"\"Forces the data sets of categories to be loaded in a specified order\"\"\"\n",
    "        def __init__(self, root, class_order, transform=None):\n",
    "            self.class_order = class_order\n",
    "            super().__init__(\n",
    "                root,\n",
    "                loader=lambda x: Image.open(x).convert(\"RGB\"),\n",
    "                extensions=('jpg', 'jpeg', 'png'),\n",
    "                transform=transform,\n",
    "                target_transform=None\n",
    "            )\n",
    "            \n",
    "        def find_classes(self, directory):\n",
    "            classes = self.class_order \n",
    "            class_to_idx = {cls_name: i for i, cls_name in enumerate(classes)}\n",
    "            return classes, class_to_idx\n",
    "    \n",
    "    train_dataset = OrderedImageFolder(\n",
    "        train_dir, \n",
    "        class_order=submission_class_order,\n",
    "        transform=train_transform\n",
    "    )\n",
    "    val_dataset = OrderedImageFolder(\n",
    "        val_dir,\n",
    "        class_order=submission_class_order,\n",
    "        transform=val_transform\n",
    "    )\n",
    "    \n",
    "    print(\"Corrected category order：\", train_dataset.classes)\n",
    "    \n",
    "# Category index validation (ensuring consistency with submission format)\n",
    "assert sorted(train_dataset.class_to_idx.keys()) == sorted(submission_class_order), \"Category order mismatch！\""
   ]
  },
  {
   "cell_type": "code",
   "execution_count": 14,
   "id": "50f82e07",
   "metadata": {
    "execution": {
     "iopub.execute_input": "2025-01-29T07:45:27.038357Z",
     "iopub.status.busy": "2025-01-29T07:45:27.038141Z",
     "iopub.status.idle": "2025-01-29T08:16:59.177001Z",
     "shell.execute_reply": "2025-01-29T08:16:59.175976Z"
    },
    "papermill": {
     "duration": 1892.146655,
     "end_time": "2025-01-29T08:16:59.178776",
     "exception": false,
     "start_time": "2025-01-29T07:45:27.032121",
     "status": "completed"
    },
    "tags": []
   },
   "outputs": [
    {
     "name": "stdout",
     "output_type": "stream",
     "text": [
      "Epoch 01:\n",
      "Train Loss: 0.7148 | Acc: 0.9189\n",
      "Val Loss: 0.3135 | Acc: 0.9126\n",
      "\n",
      "Epoch 02:\n",
      "Train Loss: 0.0323 | Acc: 0.9987\n",
      "Val Loss: 0.2697 | Acc: 0.9126\n",
      "\n",
      "Epoch 03:\n",
      "Train Loss: 0.0084 | Acc: 1.0000\n",
      "Val Loss: 0.3219 | Acc: 0.9029\n",
      "\n",
      "Epoch 04:\n",
      "Train Loss: 0.0041 | Acc: 1.0000\n",
      "Val Loss: 0.3034 | Acc: 0.9029\n",
      "\n",
      "Epoch 05:\n",
      "Train Loss: 0.0029 | Acc: 0.9999\n",
      "Val Loss: 0.3517 | Acc: 0.9126\n",
      "\n",
      "Epoch 06:\n",
      "Train Loss: 0.0017 | Acc: 1.0000\n",
      "Val Loss: 0.3192 | Acc: 0.8932\n",
      "\n",
      "Epoch 07:\n",
      "Train Loss: 0.0011 | Acc: 1.0000\n",
      "Val Loss: 0.3345 | Acc: 0.8932\n",
      "\n",
      "Early stopping triggered!\n"
     ]
    },
    {
     "data": {
      "image/png": "[encoded data removed]",
      "text/plain": [
       "<Figure size 1200x500 with 2 Axes>"
      ]
     },
     "metadata": {},
     "output_type": "display_data"
    }
   ],
   "source": [
    "train_loader = DataLoader(train_dataset, batch_size=32, shuffle=True, num_workers=2)\n",
    "val_loader = DataLoader(val_dataset, batch_size=64, shuffle=False, num_workers=2)\n",
    "\n",
    "criterion = torch.nn.CrossEntropyLoss()\n",
    "model = model.to(device)\n",
    "\n",
    "class EarlyStopper:\n",
    "    def __init__(self, patience=5, min_delta=0):\n",
    "        self.patience = patience\n",
    "        self.min_delta = min_delta\n",
    "        self.counter = 0\n",
    "        self.min_validation_loss = float('inf')\n",
    "\n",
    "    def early_stop(self, validation_loss):\n",
    "        if validation_loss < self.min_validation_loss:\n",
    "            self.min_validation_loss = validation_loss\n",
    "            self.counter = 0\n",
    "        elif validation_loss > (self.min_validation_loss + self.min_delta):\n",
    "            self.counter += 1\n",
    "            if self.counter >= self.patience:\n",
    "                return True\n",
    "        return False\n",
    "\n",
    "def train_epoch(model, loader, optimizer, scaler):\n",
    "    model.train()\n",
    "    total_loss = 0\n",
    "    correct = 0\n",
    "    \n",
    "    for images, labels in loader:\n",
    "        images = images.to(device)\n",
    "        labels = labels.to(device)\n",
    "        \n",
    "        optimizer.zero_grad()\n",
    "        \n",
    "        with torch.amp.autocast('cuda'):\n",
    "            outputs = model(images)\n",
    "            loss = criterion(outputs.logits, labels)\n",
    "        \n",
    "        scaler.scale(loss).backward()\n",
    "        scaler.step(optimizer)\n",
    "        scaler.update()\n",
    "        \n",
    "        total_loss += loss.item() * images.size(0)\n",
    "        preds = torch.argmax(outputs.logits, dim=1)\n",
    "        correct += (preds == labels).sum().item()\n",
    "    \n",
    "    avg_loss = total_loss / len(loader.dataset)\n",
    "    accuracy = correct / len(loader.dataset)\n",
    "    return avg_loss, accuracy\n",
    "\n",
    "def validate(model, loader):\n",
    "    model.eval()\n",
    "    total_loss = 0\n",
    "    correct = 0\n",
    "    \n",
    "    with torch.no_grad():\n",
    "        for images, labels in loader:\n",
    "            images = images.to(device)\n",
    "            labels = labels.to(device)\n",
    "            \n",
    "            outputs = model(images)\n",
    "            loss = criterion(outputs.logits, labels)\n",
    "            \n",
    "            total_loss += loss.item() * images.size(0)\n",
    "            preds = torch.argmax(outputs.logits, dim=1)\n",
    "            correct += (preds == labels).sum().item()\n",
    "    \n",
    "    avg_loss = total_loss / len(loader.dataset)\n",
    "    accuracy = correct / len(loader.dataset)\n",
    "    return avg_loss, accuracy\n",
    "\n",
    "scaler = torch.amp.GradScaler('cuda')\n",
    "early_stopper = EarlyStopper(patience=5, min_delta=0.001)\n",
    "history = {'train_loss': [], 'val_loss': [], 'train_acc': [], 'val_acc': []}\n",
    "\n",
    "for epoch in range(300):\n",
    "    train_loss, train_acc = train_epoch(model, train_loader, optimizer, scaler)\n",
    "    val_loss, val_acc = validate(model, val_loader)\n",
    "    \n",
    "    history['train_loss'].append(train_loss)\n",
    "    history['val_loss'].append(val_loss)\n",
    "    history['train_acc'].append(train_acc)\n",
    "    history['val_acc'].append(val_acc)\n",
    "    \n",
    "    print(f\"Epoch {epoch+1:02d}:\")\n",
    "    print(f\"Train Loss: {train_loss:.4f} | Acc: {train_acc:.4f}\")\n",
    "    print(f\"Val Loss: {val_loss:.4f} | Acc: {val_acc:.4f}\\n\")\n",
    "    \n",
    "    if early_stopper.early_stop(val_loss):\n",
    "        print(\"Early stopping triggered!\")\n",
    "        break\n",
    "\n",
    "plt.figure(figsize=(12, 5))\n",
    "plt.subplot(1, 2, 1)\n",
    "plt.plot(history['train_loss'], label='Train')\n",
    "plt.plot(history['val_loss'], label='Validation')\n",
    "plt.title('Loss Curve')\n",
    "plt.legend()\n",
    "\n",
    "plt.subplot(1, 2, 2)\n",
    "plt.plot(history['train_acc'], label='Train')\n",
    "plt.plot(history['val_acc'], label='Validation')\n",
    "plt.title('Accuracy Curve')\n",
    "plt.legend()\n",
    "plt.show()"
   ]
  },
  {
   "cell_type": "code",
   "execution_count": 15,
   "id": "63c64670",
   "metadata": {
    "execution": {
     "iopub.execute_input": "2025-01-29T08:16:59.194653Z",
     "iopub.status.busy": "2025-01-29T08:16:59.194332Z",
     "iopub.status.idle": "2025-01-29T08:17:01.330419Z",
     "shell.execute_reply": "2025-01-29T08:17:01.329386Z"
    },
    "papermill": {
     "duration": 2.145792,
     "end_time": "2025-01-29T08:17:01.331905",
     "exception": false,
     "start_time": "2025-01-29T08:16:59.186113",
     "status": "completed"
    },
    "tags": []
   },
   "outputs": [
    {
     "name": "stdout",
     "output_type": "stream",
     "text": [
      "Model Saved to：/kaggle/working/vit_model\n",
      "HuggingFace Format Saved\n"
     ]
    }
   ],
   "source": [
    "save_dir = \"/kaggle/working/vit_model\"\n",
    "os.makedirs(save_dir, exist_ok=True)\n",
    "\n",
    "torch.save(model.state_dict(), os.path.join(save_dir, \"vit_model_weights.pth\"))\n",
    "\n",
    "processor.save_pretrained(save_dir)\n",
    "\n",
    "class_info = {\n",
    "    \"class_order\": submission_class_order,\n",
    "    \"class_to_idx\": train_dataset.class_to_idx,\n",
    "    \"idx_to_class\": {v: k for k, v in train_dataset.class_to_idx.items()}\n",
    "}\n",
    "\n",
    "torch.save(class_info, os.path.join(save_dir, \"class_info.pth\"))\n",
    "\n",
    "train_config = {\n",
    "    \"epochs_trained\": len(history['train_loss']),\n",
    "    \"best_val_acc\": max(history['val_acc']),\n",
    "    \"optimizer_state\": optimizer.state_dict()\n",
    "}\n",
    "\n",
    "torch.save(train_config, os.path.join(save_dir, \"train_config.pth\"))\n",
    "\n",
    "print(f\"Model Saved to：{save_dir}\")\n",
    "\n",
    "# Second Hugging Face Format Save\n",
    "model.save_pretrained(save_dir)\n",
    "processor.save_pretrained(save_dir)\n",
    "\n",
    "with open(os.path.join(save_dir, \"class_info.txt\"), \"w\") as f:\n",
    "    f.write(\"\\n\".join(submission_class_order))\n",
    "\n",
    "print(\"HuggingFace Format Saved\")"
   ]
  },
  {
   "cell_type": "markdown",
   "id": "98b14fdf",
   "metadata": {
    "papermill": {
     "duration": 0.006952,
     "end_time": "2025-01-29T08:17:01.346502",
     "exception": false,
     "start_time": "2025-01-29T08:17:01.339550",
     "status": "completed"
    },
    "tags": []
   },
   "source": [
    "# Test and Generate Submission File"
   ]
  },
  {
   "cell_type": "code",
   "execution_count": 16,
   "id": "0c5eec75",
   "metadata": {
    "execution": {
     "iopub.execute_input": "2025-01-29T08:17:01.362489Z",
     "iopub.status.busy": "2025-01-29T08:17:01.362059Z",
     "iopub.status.idle": "2025-01-29T08:17:06.693115Z",
     "shell.execute_reply": "2025-01-29T08:17:06.691795Z"
    },
    "papermill": {
     "duration": 5.341023,
     "end_time": "2025-01-29T08:17:06.694621",
     "exception": false,
     "start_time": "2025-01-29T08:17:01.353598",
     "status": "completed"
    },
    "tags": []
   },
   "outputs": [
    {
     "name": "stderr",
     "output_type": "stream",
     "text": [
      "<ipython-input-16-a2806d894222>:63: FutureWarning: You are using `torch.load` with `weights_only=False` (the current default value), which uses the default pickle module implicitly. It is possible to construct malicious pickle data which will execute arbitrary code during unpickling (See https://github.com/pytorch/pytorch/blob/main/SECURITY.md#untrusted-models for more details). In a future release, the default value for `weights_only` will be flipped to `True`. This limits the functions that could be executed during unpickling. Arbitrary objects will no longer be allowed to be loaded via this mode unless they are explicitly allowlisted by the user via `torch.serialization.add_safe_globals`. We recommend you start setting `weights_only=True` for any use case where you don't have full control of the loaded file. Please open an issue on GitHub for any issues related to this experimental feature.\n",
      "  torch.load(\n"
     ]
    },
    {
     "name": "stdout",
     "output_type": "stream",
     "text": [
      "Warning: The order of categories in the model configuration is inconsistent with the submission requirements, use the submission order to override\n",
      "\n",
      "Validation Results:\n",
      "Total Samples: 400\n",
      "Number of unique file names: 400\n",
      "Predicted category distribution:\n",
      "class_idx\n",
      "0     23\n",
      "1     17\n",
      "2     22\n",
      "3     20\n",
      "4     19\n",
      "5     19\n",
      "6     15\n",
      "7     17\n",
      "8     19\n",
      "9     19\n",
      "10    19\n",
      "11    18\n",
      "12    16\n",
      "13    27\n",
      "14    21\n",
      "15    24\n",
      "16    20\n",
      "17    19\n",
      "18    29\n",
      "19    17\n",
      "Name: count, dtype: int64\n",
      "\n",
      "Model Saved to: submission.csv\n"
     ]
    }
   ],
   "source": [
    "device = torch.device(\"cuda\" if torch.cuda.is_available() else \"cpu\")\n",
    "\n",
    "submission_class_order = [\n",
    "    'Groove_billed_Ani',\n",
    "    'Red_winged_Blackbird',\n",
    "    'Rusty_Blackbird',\n",
    "    'Gray_Catbird',\n",
    "    'Brandt_Cormorant',\n",
    "    'Eastern_Towhee',\n",
    "    'Indigo_Bunting',\n",
    "    'Brewer_Blackbird',\n",
    "    'Painted_Bunting',\n",
    "    'Bobolink',\n",
    "    'Lazuli_Bunting',\n",
    "    'Yellow_headed_Blackbird',\n",
    "    'American_Crow',\n",
    "    'Fish_Crow',\n",
    "    'Brown_Creeper',\n",
    "    'Yellow_billed_Cuckoo',\n",
    "    'Yellow_breasted_Chat',\n",
    "    'Black_billed_Cuckoo',\n",
    "    'Gray_crowned_Rosy_Finch',\n",
    "    'Bronzed_Cowbird'\n",
    "]\n",
    "\n",
    "processor = ViTImageProcessor.from_pretrained(\"google/vit-base-patch16-224-in21k\")\n",
    "val_transform = transforms.Compose([\n",
    "    transforms.Resize((224, 224)),\n",
    "    transforms.ToTensor(),\n",
    "    transforms.Normalize(mean=processor.image_mean, std=processor.image_std)\n",
    "])\n",
    "\n",
    "class CompetitionTestDataset(Dataset):\n",
    "    def __init__(self, test_dir, transform=None):\n",
    "        self.test_dir = test_dir\n",
    "        self.image_files = sorted(os.listdir(test_dir))  # 保持严格顺序\n",
    "        self.image_paths = [os.path.join(test_dir, f) for f in self.image_files]\n",
    "        self.transform = transform\n",
    "        \n",
    "    def __len__(self):\n",
    "        return len(self.image_paths)\n",
    "    \n",
    "    def __getitem__(self, idx):\n",
    "        image = Image.open(self.image_paths[idx]).convert('RGB')\n",
    "        if self.transform:\n",
    "            image = self.transform(image)\n",
    "        return image, os.path.basename(self.image_paths[idx])\n",
    "\n",
    "def load_trained_model(model_dir, class_order):\n",
    "    required_files = ['config.json', 'vit_model_weights.pth']\n",
    "    for f in required_files:\n",
    "        if not os.path.exists(os.path.join(model_dir, f)):\n",
    "            raise FileNotFoundError(f\"Loss Essential File: {f}\")\n",
    "\n",
    "    config = ViTConfig.from_pretrained(model_dir)\n",
    "    \n",
    "    if config.num_labels != len(class_order):\n",
    "        raise ValueError(f\"model classes({config.num_labels})submission requirement({len(class_order)})dismatch\")\n",
    "    \n",
    "    model = ViTForImageClassification(config).to(device)\n",
    "    \n",
    "    model.load_state_dict(\n",
    "        torch.load(\n",
    "            os.path.join(model_dir, \"vit_model_weights.pth\"),\n",
    "            map_location=device\n",
    "        )\n",
    "    )\n",
    "    \n",
    "    if config.id2label != {i: cls for i, cls in enumerate(class_order)}:\n",
    "        print(\"Warning: The order of categories in the model configuration is inconsistent with the submission requirements, use the submission order to override\")\n",
    "        config.id2label = {i: cls for i, cls in enumerate(class_order)}\n",
    "        config.label2id = {cls: i for i, cls in enumerate(class_order)}\n",
    "    \n",
    "    model.eval()\n",
    "    return model\n",
    "\n",
    "def generate_submission(test_dir, model_dir, output_csv=\"submission.csv\"):\n",
    "    test_dataset = CompetitionTestDataset(test_dir, transform=val_transform)\n",
    "    test_loader = DataLoader(test_dataset, batch_size=64, shuffle=False, num_workers=2)\n",
    "    \n",
    "    model = load_trained_model(model_dir, submission_class_order)\n",
    "    \n",
    "    filenames = []\n",
    "    predictions = []\n",
    "    \n",
    "    with torch.no_grad():\n",
    "        for images, paths in test_loader:\n",
    "            outputs = model(images.to(device))\n",
    "            batch_preds = torch.argmax(outputs.logits, dim=1).cpu().numpy()\n",
    "            \n",
    "            filenames.extend(paths)\n",
    "            predictions.extend(batch_preds.tolist())\n",
    "    \n",
    "    submission_df = pd.DataFrame({\n",
    "        'path': filenames,\n",
    "        'class_idx': predictions\n",
    "    })\n",
    "    \n",
    "    print(\"\\nValidation Results:\")\n",
    "    print(f\"Total Samples: {len(submission_df)}\")\n",
    "    print(f\"Number of unique file names: {submission_df['path'].nunique()}\")\n",
    "    print(f\"Predicted category distribution:\\n{submission_df['class_idx'].value_counts().sort_index()}\")\n",
    "    \n",
    "    submission_df.to_csv(output_csv, index=False)\n",
    "    print(f\"\\nModel Saved to: {output_csv}\")\n",
    "\n",
    "if __name__ == \"__main__\":\n",
    "    test_dir = \"/kaggle/input/bdma-07-competition/BDMA7_project_files/test_images/mistery_cat\"\n",
    "    model_dir = \"/kaggle/working/vit_model\" \n",
    "    \n",
    "    generate_submission(test_dir, model_dir)"
   ]
  }
 ],
 "metadata": {
  "kaggle": {
   "accelerator": "gpu",
   "dataSources": [
    {
     "databundleVersionId": 10794348,
     "sourceId": 91120,
     "sourceType": "competition"
    },
    {
     "sourceId": 219738165,
     "sourceType": "kernelVersion"
    }
   ],
   "dockerImageVersionId": 30839,
   "isGpuEnabled": true,
   "isInternetEnabled": true,
   "language": "python",
   "sourceType": "notebook"
  },
  "kernelspec": {
   "display_name": "Python 3",
   "language": "python",
   "name": "python3"
  },
  "language_info": {
   "codemirror_mode": {
    "name": "ipython",
    "version": 3
   },
   "file_extension": ".py",
   "mimetype": "text/x-python",
   "name": "python",
   "nbconvert_exporter": "python",
   "pygments_lexer": "ipython3",
   "version": "3.10.12"
  },
  "papermill": {
   "default_parameters": {},
   "duration": 1957.573842,
   "end_time": "2025-01-29T08:17:10.274984",
   "environment_variables": {},
   "exception": null,
   "input_path": "__notebook__.ipynb",
   "output_path": "__notebook__.ipynb",
   "parameters": {},
   "start_time": "2025-01-29T07:44:32.701142",
   "version": "2.6.0"
  },
  "widgets": {
   "application/vnd.jupyter.widget-state+json": {
    "state": {
     "03ccdd3c463a438c8eb9e87f589a335d": {
      "model_module": "@jupyter-widgets/base",
      "model_module_version": "2.0.0",
      "model_name": "LayoutModel",
      "state": {
       "_model_module": "@jupyter-widgets/base",
       "_model_module_version": "2.0.0",
       "_model_name": "LayoutModel",
       "_view_count": null,
       "_view_module": "@jupyter-widgets/base",
       "_view_module_version": "2.0.0",
       "_view_name": "LayoutView",
       "align_content": null,
       "align_items": null,
       "align_self": null,
       "border_bottom": null,
       "border_left": null,
       "border_right": null,
       "border_top": null,
       "bottom": null,
       "display": null,
       "flex": null,
       "flex_flow": null,
       "grid_area": null,
       "grid_auto_columns": null,
       "grid_auto_flow": null,
       "grid_auto_rows": null,
       "grid_column": null,
       "grid_gap": null,
       "grid_row": null,
       "grid_template_areas": null,
       "grid_template_columns": null,
       "grid_template_rows": null,
       "height": null,
       "justify_content": null,
       "justify_items": null,
       "left": null,
       "margin": null,
       "max_height": null,
       "max_width": null,
       "min_height": null,
       "min_width": null,
       "object_fit": null,
       "object_position": null,
       "order": null,
       "overflow": null,
       "padding": null,
       "right": null,
       "top": null,
       "visibility": null,
       "width": null
      }
     },
     "1900c9a42c5d4ddcb91098f99eb0c1a2": {
      "model_module": "@jupyter-widgets/base",
      "model_module_version": "2.0.0",
      "model_name": "LayoutModel",
      "state": {
       "_model_module": "@jupyter-widgets/base",
       "_model_module_version": "2.0.0",
       "_model_name": "LayoutModel",
       "_view_count": null,
       "_view_module": "@jupyter-widgets/base",
       "_view_module_version": "2.0.0",
       "_view_name": "LayoutView",
       "align_content": null,
       "align_items": null,
       "align_self": null,
       "border_bottom": null,
       "border_left": null,
       "border_right": null,
       "border_top": null,
       "bottom": null,
       "display": null,
       "flex": null,
       "flex_flow": null,
       "grid_area": null,
       "grid_auto_columns": null,
       "grid_auto_flow": null,
       "grid_auto_rows": null,
       "grid_column": null,
       "grid_gap": null,
       "grid_row": null,
       "grid_template_areas": null,
       "grid_template_columns": null,
       "grid_template_rows": null,
       "height": null,
       "justify_content": null,
       "justify_items": null,
       "left": null,
       "margin": null,
       "max_height": null,
       "max_width": null,
       "min_height": null,
       "min_width": null,
       "object_fit": null,
       "object_position": null,
       "order": null,
       "overflow": null,
       "padding": null,
       "right": null,
       "top": null,
       "visibility": null,
       "width": null
      }
     },
     "1cf80650dcca43dea315ba27a8e15657": {
      "model_module": "@jupyter-widgets/controls",
      "model_module_version": "2.0.0",
      "model_name": "HTMLStyleModel",
      "state": {
       "_model_module": "@jupyter-widgets/controls",
       "_model_module_version": "2.0.0",
       "_model_name": "HTMLStyleModel",
       "_view_count": null,
       "_view_module": "@jupyter-widgets/base",
       "_view_module_version": "2.0.0",
       "_view_name": "StyleView",
       "background": null,
       "description_width": "",
       "font_size": null,
       "text_color": null
      }
     },
     "3501b88e666e44f2950fb07f0e491252": {
      "model_module": "@jupyter-widgets/base",
      "model_module_version": "2.0.0",
      "model_name": "LayoutModel",
      "state": {
       "_model_module": "@jupyter-widgets/base",
       "_model_module_version": "2.0.0",
       "_model_name": "LayoutModel",
       "_view_count": null,
       "_view_module": "@jupyter-widgets/base",
       "_view_module_version": "2.0.0",
       "_view_name": "LayoutView",
       "align_content": null,
       "align_items": null,
       "align_self": null,
       "border_bottom": null,
       "border_left": null,
       "border_right": null,
       "border_top": null,
       "bottom": null,
       "display": null,
       "flex": null,
       "flex_flow": null,
       "grid_area": null,
       "grid_auto_columns": null,
       "grid_auto_flow": null,
       "grid_auto_rows": null,
       "grid_column": null,
       "grid_gap": null,
       "grid_row": null,
       "grid_template_areas": null,
       "grid_template_columns": null,
       "grid_template_rows": null,
       "height": null,
       "justify_content": null,
       "justify_items": null,
       "left": null,
       "margin": null,
       "max_height": null,
       "max_width": null,
       "min_height": null,
       "min_width": null,
       "object_fit": null,
       "object_position": null,
       "order": null,
       "overflow": null,
       "padding": null,
       "right": null,
       "top": null,
       "visibility": null,
       "width": null
      }
     },
     "3890a4672b794556890553ee2f311b5a": {
      "model_module": "@jupyter-widgets/controls",
      "model_module_version": "2.0.0",
      "model_name": "HTMLStyleModel",
      "state": {
       "_model_module": "@jupyter-widgets/controls",
       "_model_module_version": "2.0.0",
       "_model_name": "HTMLStyleModel",
       "_view_count": null,
       "_view_module": "@jupyter-widgets/base",
       "_view_module_version": "2.0.0",
       "_view_name": "StyleView",
       "background": null,
       "description_width": "",
       "font_size": null,
       "text_color": null
      }
     },
     "501ed169f3514f7b876ded3db4ff9112": {
      "model_module": "@jupyter-widgets/base",
      "model_module_version": "2.0.0",
      "model_name": "LayoutModel",
      "state": {
       "_model_module": "@jupyter-widgets/base",
       "_model_module_version": "2.0.0",
       "_model_name": "LayoutModel",
       "_view_count": null,
       "_view_module": "@jupyter-widgets/base",
       "_view_module_version": "2.0.0",
       "_view_name": "LayoutView",
       "align_content": null,
       "align_items": null,
       "align_self": null,
       "border_bottom": null,
       "border_left": null,
       "border_right": null,
       "border_top": null,
       "bottom": null,
       "display": null,
       "flex": null,
       "flex_flow": null,
       "grid_area": null,
       "grid_auto_columns": null,
       "grid_auto_flow": null,
       "grid_auto_rows": null,
       "grid_column": null,
       "grid_gap": null,
       "grid_row": null,
       "grid_template_areas": null,
       "grid_template_columns": null,
       "grid_template_rows": null,
       "height": null,
       "justify_content": null,
       "justify_items": null,
       "left": null,
       "margin": null,
       "max_height": null,
       "max_width": null,
       "min_height": null,
       "min_width": null,
       "object_fit": null,
       "object_position": null,
       "order": null,
       "overflow": null,
       "padding": null,
       "right": null,
       "top": null,
       "visibility": null,
       "width": null
      }
     },
     "55ab61fcc19d46b4bb63903e75efb897": {
      "model_module": "@jupyter-widgets/base",
      "model_module_version": "2.0.0",
      "model_name": "LayoutModel",
      "state": {
       "_model_module": "@jupyter-widgets/base",
       "_model_module_version": "2.0.0",
       "_model_name": "LayoutModel",
       "_view_count": null,
       "_view_module": "@jupyter-widgets/base",
       "_view_module_version": "2.0.0",
       "_view_name": "LayoutView",
       "align_content": null,
       "align_items": null,
       "align_self": null,
       "border_bottom": null,
       "border_left": null,
       "border_right": null,
       "border_top": null,
       "bottom": null,
       "display": null,
       "flex": null,
       "flex_flow": null,
       "grid_area": null,
       "grid_auto_columns": null,
       "grid_auto_flow": null,
       "grid_auto_rows": null,
       "grid_column": null,
       "grid_gap": null,
       "grid_row": null,
       "grid_template_areas": null,
       "grid_template_columns": null,
       "grid_template_rows": null,
       "height": null,
       "justify_content": null,
       "justify_items": null,
       "left": null,
       "margin": null,
       "max_height": null,
       "max_width": null,
       "min_height": null,
       "min_width": null,
       "object_fit": null,
       "object_position": null,
       "order": null,
       "overflow": null,
       "padding": null,
       "right": null,
       "top": null,
       "visibility": null,
       "width": null
      }
     },
     "579d857076b94227a81723650e46ff87": {
      "model_module": "@jupyter-widgets/controls",
      "model_module_version": "2.0.0",
      "model_name": "HTMLStyleModel",
      "state": {
       "_model_module": "@jupyter-widgets/controls",
       "_model_module_version": "2.0.0",
       "_model_name": "HTMLStyleModel",
       "_view_count": null,
       "_view_module": "@jupyter-widgets/base",
       "_view_module_version": "2.0.0",
       "_view_name": "StyleView",
       "background": null,
       "description_width": "",
       "font_size": null,
       "text_color": null
      }
     },
     "5b56ef3627ff45aabc532395505800bd": {
      "model_module": "@jupyter-widgets/controls",
      "model_module_version": "2.0.0",
      "model_name": "HBoxModel",
      "state": {
       "_dom_classes": [],
       "_model_module": "@jupyter-widgets/controls",
       "_model_module_version": "2.0.0",
       "_model_name": "HBoxModel",
       "_view_count": null,
       "_view_module": "@jupyter-widgets/controls",
       "_view_module_version": "2.0.0",
       "_view_name": "HBoxView",
       "box_style": "",
       "children": [
        "IPY_MODEL_fd0fee8b6a234c86b8a2eebf7905b43d",
        "IPY_MODEL_70f193cbbb8b43f7b51575fc47082449",
        "IPY_MODEL_af0732e37c48455a9c6fcfe3db967e1a"
       ],
       "layout": "IPY_MODEL_6c3bc6956f87470198dfcd39148a69bd",
       "tabbable": null,
       "tooltip": null
      }
     },
     "64ccb8c8d4e44e8a8d42c2d7d01f5e77": {
      "model_module": "@jupyter-widgets/base",
      "model_module_version": "2.0.0",
      "model_name": "LayoutModel",
      "state": {
       "_model_module": "@jupyter-widgets/base",
       "_model_module_version": "2.0.0",
       "_model_name": "LayoutModel",
       "_view_count": null,
       "_view_module": "@jupyter-widgets/base",
       "_view_module_version": "2.0.0",
       "_view_name": "LayoutView",
       "align_content": null,
       "align_items": null,
       "align_self": null,
       "border_bottom": null,
       "border_left": null,
       "border_right": null,
       "border_top": null,
       "bottom": null,
       "display": null,
       "flex": null,
       "flex_flow": null,
       "grid_area": null,
       "grid_auto_columns": null,
       "grid_auto_flow": null,
       "grid_auto_rows": null,
       "grid_column": null,
       "grid_gap": null,
       "grid_row": null,
       "grid_template_areas": null,
       "grid_template_columns": null,
       "grid_template_rows": null,
       "height": null,
       "justify_content": null,
       "justify_items": null,
       "left": null,
       "margin": null,
       "max_height": null,
       "max_width": null,
       "min_height": null,
       "min_width": null,
       "object_fit": null,
       "object_position": null,
       "order": null,
       "overflow": null,
       "padding": null,
       "right": null,
       "top": null,
       "visibility": null,
       "width": null
      }
     },
     "6845bd80ece0475ba72b68d851c0aaa5": {
      "model_module": "@jupyter-widgets/base",
      "model_module_version": "2.0.0",
      "model_name": "LayoutModel",
      "state": {
       "_model_module": "@jupyter-widgets/base",
       "_model_module_version": "2.0.0",
       "_model_name": "LayoutModel",
       "_view_count": null,
       "_view_module": "@jupyter-widgets/base",
       "_view_module_version": "2.0.0",
       "_view_name": "LayoutView",
       "align_content": null,
       "align_items": null,
       "align_self": null,
       "border_bottom": null,
       "border_left": null,
       "border_right": null,
       "border_top": null,
       "bottom": null,
       "display": null,
       "flex": null,
       "flex_flow": null,
       "grid_area": null,
       "grid_auto_columns": null,
       "grid_auto_flow": null,
       "grid_auto_rows": null,
       "grid_column": null,
       "grid_gap": null,
       "grid_row": null,
       "grid_template_areas": null,
       "grid_template_columns": null,
       "grid_template_rows": null,
       "height": null,
       "justify_content": null,
       "justify_items": null,
       "left": null,
       "margin": null,
       "max_height": null,
       "max_width": null,
       "min_height": null,
       "min_width": null,
       "object_fit": null,
       "object_position": null,
       "order": null,
       "overflow": null,
       "padding": null,
       "right": null,
       "top": null,
       "visibility": null,
       "width": null
      }
     },
     "6c3bc6956f87470198dfcd39148a69bd": {
      "model_module": "@jupyter-widgets/base",
      "model_module_version": "2.0.0",
      "model_name": "LayoutModel",
      "state": {
       "_model_module": "@jupyter-widgets/base",
       "_model_module_version": "2.0.0",
       "_model_name": "LayoutModel",
       "_view_count": null,
       "_view_module": "@jupyter-widgets/base",
       "_view_module_version": "2.0.0",
       "_view_name": "LayoutView",
       "align_content": null,
       "align_items": null,
       "align_self": null,
       "border_bottom": null,
       "border_left": null,
       "border_right": null,
       "border_top": null,
       "bottom": null,
       "display": null,
       "flex": null,
       "flex_flow": null,
       "grid_area": null,
       "grid_auto_columns": null,
       "grid_auto_flow": null,
       "grid_auto_rows": null,
       "grid_column": null,
       "grid_gap": null,
       "grid_row": null,
       "grid_template_areas": null,
       "grid_template_columns": null,
       "grid_template_rows": null,
       "height": null,
       "justify_content": null,
       "justify_items": null,
       "left": null,
       "margin": null,
       "max_height": null,
       "max_width": null,
       "min_height": null,
       "min_width": null,
       "object_fit": null,
       "object_position": null,
       "order": null,
       "overflow": null,
       "padding": null,
       "right": null,
       "top": null,
       "visibility": null,
       "width": null
      }
     },
     "70f193cbbb8b43f7b51575fc47082449": {
      "model_module": "@jupyter-widgets/controls",
      "model_module_version": "2.0.0",
      "model_name": "FloatProgressModel",
      "state": {
       "_dom_classes": [],
       "_model_module": "@jupyter-widgets/controls",
       "_model_module_version": "2.0.0",
       "_model_name": "FloatProgressModel",
       "_view_count": null,
       "_view_module": "@jupyter-widgets/controls",
       "_view_module_version": "2.0.0",
       "_view_name": "ProgressView",
       "bar_style": "success",
       "description": "",
       "description_allow_html": false,
       "layout": "IPY_MODEL_1900c9a42c5d4ddcb91098f99eb0c1a2",
       "max": 160.0,
       "min": 0.0,
       "orientation": "horizontal",
       "style": "IPY_MODEL_8c157dc48d4947e4855b9ab9b55f80a8",
       "tabbable": null,
       "tooltip": null,
       "value": 160.0
      }
     },
     "8037f1e77d66435197e7410ce19d42a7": {
      "model_module": "@jupyter-widgets/controls",
      "model_module_version": "2.0.0",
      "model_name": "HTMLModel",
      "state": {
       "_dom_classes": [],
       "_model_module": "@jupyter-widgets/controls",
       "_model_module_version": "2.0.0",
       "_model_name": "HTMLModel",
       "_view_count": null,
       "_view_module": "@jupyter-widgets/controls",
       "_view_module_version": "2.0.0",
       "_view_name": "HTMLView",
       "description": "",
       "description_allow_html": false,
       "layout": "IPY_MODEL_501ed169f3514f7b876ded3db4ff9112",
       "placeholder": "​",
       "style": "IPY_MODEL_80e985cdbc06448384c15074a287343b",
       "tabbable": null,
       "tooltip": null,
       "value": " 346M/346M [00:01&lt;00:00, 245MB/s]"
      }
     },
     "80e985cdbc06448384c15074a287343b": {
      "model_module": "@jupyter-widgets/controls",
      "model_module_version": "2.0.0",
      "model_name": "HTMLStyleModel",
      "state": {
       "_model_module": "@jupyter-widgets/controls",
       "_model_module_version": "2.0.0",
       "_model_name": "HTMLStyleModel",
       "_view_count": null,
       "_view_module": "@jupyter-widgets/base",
       "_view_module_version": "2.0.0",
       "_view_name": "StyleView",
       "background": null,
       "description_width": "",
       "font_size": null,
       "text_color": null
      }
     },
     "8133a4f1498f49debd876065d8004a52": {
      "model_module": "@jupyter-widgets/base",
      "model_module_version": "2.0.0",
      "model_name": "LayoutModel",
      "state": {
       "_model_module": "@jupyter-widgets/base",
       "_model_module_version": "2.0.0",
       "_model_name": "LayoutModel",
       "_view_count": null,
       "_view_module": "@jupyter-widgets/base",
       "_view_module_version": "2.0.0",
       "_view_name": "LayoutView",
       "align_content": null,
       "align_items": null,
       "align_self": null,
       "border_bottom": null,
       "border_left": null,
       "border_right": null,
       "border_top": null,
       "bottom": null,
       "display": null,
       "flex": null,
       "flex_flow": null,
       "grid_area": null,
       "grid_auto_columns": null,
       "grid_auto_flow": null,
       "grid_auto_rows": null,
       "grid_column": null,
       "grid_gap": null,
       "grid_row": null,
       "grid_template_areas": null,
       "grid_template_columns": null,
       "grid_template_rows": null,
       "height": null,
       "justify_content": null,
       "justify_items": null,
       "left": null,
       "margin": null,
       "max_height": null,
       "max_width": null,
       "min_height": null,
       "min_width": null,
       "object_fit": null,
       "object_position": null,
       "order": null,
       "overflow": null,
       "padding": null,
       "right": null,
       "top": null,
       "visibility": null,
       "width": null
      }
     },
     "8680871895f8459db8ff50dc8e84a5f2": {
      "model_module": "@jupyter-widgets/controls",
      "model_module_version": "2.0.0",
      "model_name": "HTMLModel",
      "state": {
       "_dom_classes": [],
       "_model_module": "@jupyter-widgets/controls",
       "_model_module_version": "2.0.0",
       "_model_name": "HTMLModel",
       "_view_count": null,
       "_view_module": "@jupyter-widgets/controls",
       "_view_module_version": "2.0.0",
       "_view_name": "HTMLView",
       "description": "",
       "description_allow_html": false,
       "layout": "IPY_MODEL_feadc40951544861bb35112e763be896",
       "placeholder": "​",
       "style": "IPY_MODEL_ae93fa1efbf547058db7faa786695ad7",
       "tabbable": null,
       "tooltip": null,
       "value": "model.safetensors: 100%"
      }
     },
     "8c157dc48d4947e4855b9ab9b55f80a8": {
      "model_module": "@jupyter-widgets/controls",
      "model_module_version": "2.0.0",
      "model_name": "ProgressStyleModel",
      "state": {
       "_model_module": "@jupyter-widgets/controls",
       "_model_module_version": "2.0.0",
       "_model_name": "ProgressStyleModel",
       "_view_count": null,
       "_view_module": "@jupyter-widgets/base",
       "_view_module_version": "2.0.0",
       "_view_name": "StyleView",
       "bar_color": null,
       "description_width": ""
      }
     },
     "8d829a7a761041d5b2b96a8c4cff1fc3": {
      "model_module": "@jupyter-widgets/controls",
      "model_module_version": "2.0.0",
      "model_name": "HBoxModel",
      "state": {
       "_dom_classes": [],
       "_model_module": "@jupyter-widgets/controls",
       "_model_module_version": "2.0.0",
       "_model_name": "HBoxModel",
       "_view_count": null,
       "_view_module": "@jupyter-widgets/controls",
       "_view_module_version": "2.0.0",
       "_view_name": "HBoxView",
       "box_style": "",
       "children": [
        "IPY_MODEL_b671e44db8794e3f8ff5a4a851379234",
        "IPY_MODEL_d709c82cdfb4473ab34a0b51ffa62c83",
        "IPY_MODEL_e852ac14fb57461e86d1c795cdf131cb"
       ],
       "layout": "IPY_MODEL_e0e102a7980143cbbdbcc0295fcbeac2",
       "tabbable": null,
       "tooltip": null
      }
     },
     "972ec43a39054e86b460264617a61948": {
      "model_module": "@jupyter-widgets/controls",
      "model_module_version": "2.0.0",
      "model_name": "HTMLStyleModel",
      "state": {
       "_model_module": "@jupyter-widgets/controls",
       "_model_module_version": "2.0.0",
       "_model_name": "HTMLStyleModel",
       "_view_count": null,
       "_view_module": "@jupyter-widgets/base",
       "_view_module_version": "2.0.0",
       "_view_name": "StyleView",
       "background": null,
       "description_width": "",
       "font_size": null,
       "text_color": null
      }
     },
     "a20bfa2a496f417680517854335c1652": {
      "model_module": "@jupyter-widgets/controls",
      "model_module_version": "2.0.0",
      "model_name": "FloatProgressModel",
      "state": {
       "_dom_classes": [],
       "_model_module": "@jupyter-widgets/controls",
       "_model_module_version": "2.0.0",
       "_model_name": "FloatProgressModel",
       "_view_count": null,
       "_view_module": "@jupyter-widgets/controls",
       "_view_module_version": "2.0.0",
       "_view_name": "ProgressView",
       "bar_style": "success",
       "description": "",
       "description_allow_html": false,
       "layout": "IPY_MODEL_03ccdd3c463a438c8eb9e87f589a335d",
       "max": 345579424.0,
       "min": 0.0,
       "orientation": "horizontal",
       "style": "IPY_MODEL_e7f0c040d4cc4dc1afd07d881641bf7f",
       "tabbable": null,
       "tooltip": null,
       "value": 345579424.0
      }
     },
     "ae93fa1efbf547058db7faa786695ad7": {
      "model_module": "@jupyter-widgets/controls",
      "model_module_version": "2.0.0",
      "model_name": "HTMLStyleModel",
      "state": {
       "_model_module": "@jupyter-widgets/controls",
       "_model_module_version": "2.0.0",
       "_model_name": "HTMLStyleModel",
       "_view_count": null,
       "_view_module": "@jupyter-widgets/base",
       "_view_module_version": "2.0.0",
       "_view_name": "StyleView",
       "background": null,
       "description_width": "",
       "font_size": null,
       "text_color": null
      }
     },
     "af0732e37c48455a9c6fcfe3db967e1a": {
      "model_module": "@jupyter-widgets/controls",
      "model_module_version": "2.0.0",
      "model_name": "HTMLModel",
      "state": {
       "_dom_classes": [],
       "_model_module": "@jupyter-widgets/controls",
       "_model_module_version": "2.0.0",
       "_model_name": "HTMLModel",
       "_view_count": null,
       "_view_module": "@jupyter-widgets/controls",
       "_view_module_version": "2.0.0",
       "_view_name": "HTMLView",
       "description": "",
       "description_allow_html": false,
       "layout": "IPY_MODEL_6845bd80ece0475ba72b68d851c0aaa5",
       "placeholder": "​",
       "style": "IPY_MODEL_3890a4672b794556890553ee2f311b5a",
       "tabbable": null,
       "tooltip": null,
       "value": " 160/160 [00:00&lt;00:00, 15.3kB/s]"
      }
     },
     "b47e765ce91f410dafc085aae3bdcf4e": {
      "model_module": "@jupyter-widgets/controls",
      "model_module_version": "2.0.0",
      "model_name": "ProgressStyleModel",
      "state": {
       "_model_module": "@jupyter-widgets/controls",
       "_model_module_version": "2.0.0",
       "_model_name": "ProgressStyleModel",
       "_view_count": null,
       "_view_module": "@jupyter-widgets/base",
       "_view_module_version": "2.0.0",
       "_view_name": "StyleView",
       "bar_color": null,
       "description_width": ""
      }
     },
     "b671e44db8794e3f8ff5a4a851379234": {
      "model_module": "@jupyter-widgets/controls",
      "model_module_version": "2.0.0",
      "model_name": "HTMLModel",
      "state": {
       "_dom_classes": [],
       "_model_module": "@jupyter-widgets/controls",
       "_model_module_version": "2.0.0",
       "_model_name": "HTMLModel",
       "_view_count": null,
       "_view_module": "@jupyter-widgets/controls",
       "_view_module_version": "2.0.0",
       "_view_name": "HTMLView",
       "description": "",
       "description_allow_html": false,
       "layout": "IPY_MODEL_f35d80ed35e74703b51c08e4263a3f96",
       "placeholder": "​",
       "style": "IPY_MODEL_1cf80650dcca43dea315ba27a8e15657",
       "tabbable": null,
       "tooltip": null,
       "value": "config.json: 100%"
      }
     },
     "c77861a17f194012af334f88538495df": {
      "model_module": "@jupyter-widgets/controls",
      "model_module_version": "2.0.0",
      "model_name": "HBoxModel",
      "state": {
       "_dom_classes": [],
       "_model_module": "@jupyter-widgets/controls",
       "_model_module_version": "2.0.0",
       "_model_name": "HBoxModel",
       "_view_count": null,
       "_view_module": "@jupyter-widgets/controls",
       "_view_module_version": "2.0.0",
       "_view_name": "HBoxView",
       "box_style": "",
       "children": [
        "IPY_MODEL_8680871895f8459db8ff50dc8e84a5f2",
        "IPY_MODEL_a20bfa2a496f417680517854335c1652",
        "IPY_MODEL_8037f1e77d66435197e7410ce19d42a7"
       ],
       "layout": "IPY_MODEL_55ab61fcc19d46b4bb63903e75efb897",
       "tabbable": null,
       "tooltip": null
      }
     },
     "d709c82cdfb4473ab34a0b51ffa62c83": {
      "model_module": "@jupyter-widgets/controls",
      "model_module_version": "2.0.0",
      "model_name": "FloatProgressModel",
      "state": {
       "_dom_classes": [],
       "_model_module": "@jupyter-widgets/controls",
       "_model_module_version": "2.0.0",
       "_model_name": "FloatProgressModel",
       "_view_count": null,
       "_view_module": "@jupyter-widgets/controls",
       "_view_module_version": "2.0.0",
       "_view_name": "ProgressView",
       "bar_style": "success",
       "description": "",
       "description_allow_html": false,
       "layout": "IPY_MODEL_64ccb8c8d4e44e8a8d42c2d7d01f5e77",
       "max": 502.0,
       "min": 0.0,
       "orientation": "horizontal",
       "style": "IPY_MODEL_b47e765ce91f410dafc085aae3bdcf4e",
       "tabbable": null,
       "tooltip": null,
       "value": 502.0
      }
     },
     "e0e102a7980143cbbdbcc0295fcbeac2": {
      "model_module": "@jupyter-widgets/base",
      "model_module_version": "2.0.0",
      "model_name": "LayoutModel",
      "state": {
       "_model_module": "@jupyter-widgets/base",
       "_model_module_version": "2.0.0",
       "_model_name": "LayoutModel",
       "_view_count": null,
       "_view_module": "@jupyter-widgets/base",
       "_view_module_version": "2.0.0",
       "_view_name": "LayoutView",
       "align_content": null,
       "align_items": null,
       "align_self": null,
       "border_bottom": null,
       "border_left": null,
       "border_right": null,
       "border_top": null,
       "bottom": null,
       "display": null,
       "flex": null,
       "flex_flow": null,
       "grid_area": null,
       "grid_auto_columns": null,
       "grid_auto_flow": null,
       "grid_auto_rows": null,
       "grid_column": null,
       "grid_gap": null,
       "grid_row": null,
       "grid_template_areas": null,
       "grid_template_columns": null,
       "grid_template_rows": null,
       "height": null,
       "justify_content": null,
       "justify_items": null,
       "left": null,
       "margin": null,
       "max_height": null,
       "max_width": null,
       "min_height": null,
       "min_width": null,
       "object_fit": null,
       "object_position": null,
       "order": null,
       "overflow": null,
       "padding": null,
       "right": null,
       "top": null,
       "visibility": null,
       "width": null
      }
     },
     "e7f0c040d4cc4dc1afd07d881641bf7f": {
      "model_module": "@jupyter-widgets/controls",
      "model_module_version": "2.0.0",
      "model_name": "ProgressStyleModel",
      "state": {
       "_model_module": "@jupyter-widgets/controls",
       "_model_module_version": "2.0.0",
       "_model_name": "ProgressStyleModel",
       "_view_count": null,
       "_view_module": "@jupyter-widgets/base",
       "_view_module_version": "2.0.0",
       "_view_name": "StyleView",
       "bar_color": null,
       "description_width": ""
      }
     },
     "e852ac14fb57461e86d1c795cdf131cb": {
      "model_module": "@jupyter-widgets/controls",
      "model_module_version": "2.0.0",
      "model_name": "HTMLModel",
      "state": {
       "_dom_classes": [],
       "_model_module": "@jupyter-widgets/controls",
       "_model_module_version": "2.0.0",
       "_model_name": "HTMLModel",
       "_view_count": null,
       "_view_module": "@jupyter-widgets/controls",
       "_view_module_version": "2.0.0",
       "_view_name": "HTMLView",
       "description": "",
       "description_allow_html": false,
       "layout": "IPY_MODEL_3501b88e666e44f2950fb07f0e491252",
       "placeholder": "​",
       "style": "IPY_MODEL_972ec43a39054e86b460264617a61948",
       "tabbable": null,
       "tooltip": null,
       "value": " 502/502 [00:00&lt;00:00, 54.3kB/s]"
      }
     },
     "f35d80ed35e74703b51c08e4263a3f96": {
      "model_module": "@jupyter-widgets/base",
      "model_module_version": "2.0.0",
      "model_name": "LayoutModel",
      "state": {
       "_model_module": "@jupyter-widgets/base",
       "_model_module_version": "2.0.0",
       "_model_name": "LayoutModel",
       "_view_count": null,
       "_view_module": "@jupyter-widgets/base",
       "_view_module_version": "2.0.0",
       "_view_name": "LayoutView",
       "align_content": null,
       "align_items": null,
       "align_self": null,
       "border_bottom": null,
       "border_left": null,
       "border_right": null,
       "border_top": null,
       "bottom": null,
       "display": null,
       "flex": null,
       "flex_flow": null,
       "grid_area": null,
       "grid_auto_columns": null,
       "grid_auto_flow": null,
       "grid_auto_rows": null,
       "grid_column": null,
       "grid_gap": null,
       "grid_row": null,
       "grid_template_areas": null,
       "grid_template_columns": null,
       "grid_template_rows": null,
       "height": null,
       "justify_content": null,
       "justify_items": null,
       "left": null,
       "margin": null,
       "max_height": null,
       "max_width": null,
       "min_height": null,
       "min_width": null,
       "object_fit": null,
       "object_position": null,
       "order": null,
       "overflow": null,
       "padding": null,
       "right": null,
       "top": null,
       "visibility": null,
       "width": null
      }
     },
     "fd0fee8b6a234c86b8a2eebf7905b43d": {
      "model_module": "@jupyter-widgets/controls",
      "model_module_version": "2.0.0",
      "model_name": "HTMLModel",
      "state": {
       "_dom_classes": [],
       "_model_module": "@jupyter-widgets/controls",
       "_model_module_version": "2.0.0",
       "_model_name": "HTMLModel",
       "_view_count": null,
       "_view_module": "@jupyter-widgets/controls",
       "_view_module_version": "2.0.0",
       "_view_name": "HTMLView",
       "description": "",
       "description_allow_html": false,
       "layout": "IPY_MODEL_8133a4f1498f49debd876065d8004a52",
       "placeholder": "​",
       "style": "IPY_MODEL_579d857076b94227a81723650e46ff87",
       "tabbable": null,
       "tooltip": null,
       "value": "preprocessor_config.json: 100%"
      }
     },
     "feadc40951544861bb35112e763be896": {
      "model_module": "@jupyter-widgets/base",
      "model_module_version": "2.0.0",
      "model_name": "LayoutModel",
      "state": {
       "_model_module": "@jupyter-widgets/base",
       "_model_module_version": "2.0.0",
       "_model_name": "LayoutModel",
       "_view_count": null,
       "_view_module": "@jupyter-widgets/base",
       "_view_module_version": "2.0.0",
       "_view_name": "LayoutView",
       "align_content": null,
       "align_items": null,
       "align_self": null,
       "border_bottom": null,
       "border_left": null,
       "border_right": null,
       "border_top": null,
       "bottom": null,
       "display": null,
       "flex": null,
       "flex_flow": null,
       "grid_area": null,
       "grid_auto_columns": null,
       "grid_auto_flow": null,
       "grid_auto_rows": null,
       "grid_column": null,
       "grid_gap": null,
       "grid_row": null,
       "grid_template_areas": null,
       "grid_template_columns": null,
       "grid_template_rows": null,
       "height": null,
       "justify_content": null,
       "justify_items": null,
       "left": null,
       "margin": null,
       "max_height": null,
       "max_width": null,
       "min_height": null,
       "min_width": null,
       "object_fit": null,
       "object_position": null,
       "order": null,
       "overflow": null,
       "padding": null,
       "right": null,
       "top": null,
       "visibility": null,
       "width": null
      }
     }
    },
    "version_major": 2,
    "version_minor": 0
   }
  }
 },
 "nbformat": 4,
 "nbformat_minor": 5
}
