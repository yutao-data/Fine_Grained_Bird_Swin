{
 "cells": [
  {
   "cell_type": "code",
   "execution_count": 1,
   "id": "99338acc",
   "metadata": {
    "_cell_guid": "b1076dfc-b9ad-4769-8c92-a6c4dae69d19",
    "_uuid": "8f2839f25d086af736a60e9eeb907d3b93b6e0e5",
    "execution": {
     "iopub.execute_input": "2025-01-31T12:43:00.521479Z",
     "iopub.status.busy": "2025-01-31T12:43:00.521086Z",
     "iopub.status.idle": "2025-01-31T12:43:06.914877Z",
     "shell.execute_reply": "2025-01-31T12:43:06.913332Z"
    },
    "papermill": {
     "duration": 6.399417,
     "end_time": "2025-01-31T12:43:06.917091",
     "exception": false,
     "start_time": "2025-01-31T12:43:00.517674",
     "status": "completed"
    },
    "tags": []
   },
   "outputs": [],
   "source": [
    "! pip install icrawler --quiet"
   ]
  },
  {
   "cell_type": "code",
   "execution_count": 2,
   "id": "194fcfac",
   "metadata": {
    "execution": {
     "iopub.execute_input": "2025-01-31T12:43:06.923115Z",
     "iopub.status.busy": "2025-01-31T12:43:06.922728Z",
     "iopub.status.idle": "2025-01-31T12:43:07.488603Z",
     "shell.execute_reply": "2025-01-31T12:43:07.487400Z"
    },
    "papermill": {
     "duration": 0.571175,
     "end_time": "2025-01-31T12:43:07.490958",
     "exception": false,
     "start_time": "2025-01-31T12:43:06.919783",
     "status": "completed"
    },
    "tags": []
   },
   "outputs": [],
   "source": [
    "from icrawler.builtin import GoogleImageCrawler\n",
    "import os"
   ]
  },
  {
   "cell_type": "code",
   "execution_count": 3,
   "id": "3cde9ed5",
   "metadata": {
    "execution": {
     "iopub.execute_input": "2025-01-31T12:43:07.496702Z",
     "iopub.status.busy": "2025-01-31T12:43:07.496132Z",
     "iopub.status.idle": "2025-01-31T12:51:37.224716Z",
     "shell.execute_reply": "2025-01-31T12:51:37.223355Z"
    },
    "papermill": {
     "duration": 509.733292,
     "end_time": "2025-01-31T12:51:37.226574",
     "exception": false,
     "start_time": "2025-01-31T12:43:07.493282",
     "status": "completed"
    },
    "tags": []
   },
   "outputs": [
    {
     "name": "stdout",
     "output_type": "stream",
     "text": [
      "\n",
      " Downloading images for: American Crow ...\n"
     ]
    },
    {
     "name": "stderr",
     "output_type": "stream",
     "text": [
      "Exception in thread parser-001:\n",
      "Traceback (most recent call last):\n",
      "  File \"/usr/lib/python3.10/threading.py\", line 1016, in _bootstrap_inner\n",
      "    self.run()\n",
      "  File \"/usr/lib/python3.10/threading.py\", line 953, in run\n",
      "    self._target(*self._args, **self._kwargs)\n",
      "  File \"/usr/local/lib/python3.10/dist-packages/icrawler/parser.py\", line 94, in worker_exec\n",
      "    for task in self.parse(response, **kwargs):\n",
      "TypeError: 'NoneType' object is not iterable\n"
     ]
    },
    {
     "name": "stdout",
     "output_type": "stream",
     "text": [
      "Finished downloading 76 images for: American Crow\n",
      "\n",
      " Downloading images for: Black billed Cuckoo ...\n"
     ]
    },
    {
     "name": "stderr",
     "output_type": "stream",
     "text": [
      "Exception in thread parser-001:\n",
      "Traceback (most recent call last):\n",
      "  File \"/usr/lib/python3.10/threading.py\", line 1016, in _bootstrap_inner\n",
      "    self.run()\n",
      "  File \"/usr/lib/python3.10/threading.py\", line 953, in run\n",
      "    self._target(*self._args, **self._kwargs)\n",
      "  File \"/usr/local/lib/python3.10/dist-packages/icrawler/parser.py\", line 94, in worker_exec\n",
      "    for task in self.parse(response, **kwargs):\n",
      "TypeError: 'NoneType' object is not iterable\n"
     ]
    },
    {
     "name": "stdout",
     "output_type": "stream",
     "text": [
      "Finished downloading 1 images for: Black billed Cuckoo\n",
      "\n",
      " Downloading images for: Brant Cormorant ...\n"
     ]
    },
    {
     "name": "stderr",
     "output_type": "stream",
     "text": [
      "Exception in thread parser-001:\n",
      "Traceback (most recent call last):\n",
      "  File \"/usr/lib/python3.10/threading.py\", line 1016, in _bootstrap_inner\n",
      "    self.run()\n",
      "  File \"/usr/lib/python3.10/threading.py\", line 953, in run\n",
      "    self._target(*self._args, **self._kwargs)\n",
      "  File \"/usr/local/lib/python3.10/dist-packages/icrawler/parser.py\", line 94, in worker_exec\n",
      "    for task in self.parse(response, **kwargs):\n",
      "TypeError: 'NoneType' object is not iterable\n"
     ]
    },
    {
     "name": "stdout",
     "output_type": "stream",
     "text": [
      "Finished downloading 84 images for: Brant Cormorant\n",
      "\n",
      " Downloading images for: Brewer Blackbird ...\n"
     ]
    },
    {
     "name": "stderr",
     "output_type": "stream",
     "text": [
      "Exception in thread parser-001:\n",
      "Traceback (most recent call last):\n",
      "  File \"/usr/lib/python3.10/threading.py\", line 1016, in _bootstrap_inner\n",
      "    self.run()\n",
      "  File \"/usr/lib/python3.10/threading.py\", line 953, in run\n",
      "    self._target(*self._args, **self._kwargs)\n",
      "  File \"/usr/local/lib/python3.10/dist-packages/icrawler/parser.py\", line 94, in worker_exec\n",
      "    for task in self.parse(response, **kwargs):\n",
      "TypeError: 'NoneType' object is not iterable\n"
     ]
    },
    {
     "name": "stdout",
     "output_type": "stream",
     "text": [
      "Finished downloading 68 images for: Brewer Blackbird\n",
      "\n",
      " Downloading images for: Bronzed Cowbird ...\n"
     ]
    },
    {
     "name": "stderr",
     "output_type": "stream",
     "text": [
      "Exception in thread parser-001:\n",
      "Traceback (most recent call last):\n",
      "  File \"/usr/lib/python3.10/threading.py\", line 1016, in _bootstrap_inner\n",
      "    self.run()\n",
      "  File \"/usr/lib/python3.10/threading.py\", line 953, in run\n",
      "    self._target(*self._args, **self._kwargs)\n",
      "  File \"/usr/local/lib/python3.10/dist-packages/icrawler/parser.py\", line 94, in worker_exec\n",
      "    for task in self.parse(response, **kwargs):\n",
      "TypeError: 'NoneType' object is not iterable\n"
     ]
    },
    {
     "name": "stdout",
     "output_type": "stream",
     "text": [
      "Finished downloading 82 images for: Bronzed Cowbird\n",
      "\n",
      " Downloading images for: Brown Creeper ...\n"
     ]
    },
    {
     "name": "stderr",
     "output_type": "stream",
     "text": [
      "Exception in thread parser-001:\n",
      "Traceback (most recent call last):\n",
      "  File \"/usr/lib/python3.10/threading.py\", line 1016, in _bootstrap_inner\n",
      "    self.run()\n",
      "  File \"/usr/lib/python3.10/threading.py\", line 953, in run\n",
      "    self._target(*self._args, **self._kwargs)\n",
      "  File \"/usr/local/lib/python3.10/dist-packages/icrawler/parser.py\", line 94, in worker_exec\n",
      "    for task in self.parse(response, **kwargs):\n",
      "TypeError: 'NoneType' object is not iterable\n"
     ]
    },
    {
     "name": "stdout",
     "output_type": "stream",
     "text": [
      "Finished downloading 78 images for: Brown Creeper\n",
      "\n",
      " Downloading images for: Eastern Towhee ...\n"
     ]
    },
    {
     "name": "stderr",
     "output_type": "stream",
     "text": [
      "Exception in thread parser-001:\n",
      "Traceback (most recent call last):\n",
      "  File \"/usr/lib/python3.10/threading.py\", line 1016, in _bootstrap_inner\n",
      "    self.run()\n",
      "  File \"/usr/lib/python3.10/threading.py\", line 953, in run\n",
      "    self._target(*self._args, **self._kwargs)\n",
      "  File \"/usr/local/lib/python3.10/dist-packages/icrawler/parser.py\", line 94, in worker_exec\n",
      "    for task in self.parse(response, **kwargs):\n",
      "TypeError: 'NoneType' object is not iterable\n"
     ]
    },
    {
     "name": "stdout",
     "output_type": "stream",
     "text": [
      "Finished downloading 74 images for: Eastern Towhee\n",
      "\n",
      " Downloading images for: Fish Crow ...\n"
     ]
    },
    {
     "name": "stderr",
     "output_type": "stream",
     "text": [
      "Exception in thread parser-001:\n",
      "Traceback (most recent call last):\n",
      "  File \"/usr/lib/python3.10/threading.py\", line 1016, in _bootstrap_inner\n",
      "    self.run()\n",
      "  File \"/usr/lib/python3.10/threading.py\", line 953, in run\n",
      "    self._target(*self._args, **self._kwargs)\n",
      "  File \"/usr/local/lib/python3.10/dist-packages/icrawler/parser.py\", line 94, in worker_exec\n",
      "    for task in self.parse(response, **kwargs):\n",
      "TypeError: 'NoneType' object is not iterable\n"
     ]
    },
    {
     "name": "stdout",
     "output_type": "stream",
     "text": [
      "Finished downloading 70 images for: Fish Crow\n",
      "\n",
      " Downloading images for: Gray Catbird ...\n"
     ]
    },
    {
     "name": "stderr",
     "output_type": "stream",
     "text": [
      "Exception in thread parser-001:\n",
      "Traceback (most recent call last):\n",
      "  File \"/usr/lib/python3.10/threading.py\", line 1016, in _bootstrap_inner\n",
      "    self.run()\n",
      "  File \"/usr/lib/python3.10/threading.py\", line 953, in run\n",
      "    self._target(*self._args, **self._kwargs)\n",
      "  File \"/usr/local/lib/python3.10/dist-packages/icrawler/parser.py\", line 94, in worker_exec\n",
      "    for task in self.parse(response, **kwargs):\n",
      "TypeError: 'NoneType' object is not iterable\n"
     ]
    },
    {
     "name": "stdout",
     "output_type": "stream",
     "text": [
      "Finished downloading 80 images for: Gray Catbird\n",
      "\n",
      " Downloading images for: Gray crowned Rosy Finch ...\n"
     ]
    },
    {
     "name": "stderr",
     "output_type": "stream",
     "text": [
      "Exception in thread parser-001:\n",
      "Traceback (most recent call last):\n",
      "  File \"/usr/lib/python3.10/threading.py\", line 1016, in _bootstrap_inner\n",
      "    self.run()\n",
      "  File \"/usr/lib/python3.10/threading.py\", line 953, in run\n",
      "    self._target(*self._args, **self._kwargs)\n",
      "  File \"/usr/local/lib/python3.10/dist-packages/icrawler/parser.py\", line 94, in worker_exec\n",
      "    for task in self.parse(response, **kwargs):\n",
      "TypeError: 'NoneType' object is not iterable\n"
     ]
    },
    {
     "name": "stdout",
     "output_type": "stream",
     "text": [
      "Finished downloading 73 images for: Gray crowned Rosy Finch\n",
      "\n",
      " Downloading images for: Groove billed Ani ...\n"
     ]
    },
    {
     "name": "stderr",
     "output_type": "stream",
     "text": [
      "Exception in thread parser-001:\n",
      "Traceback (most recent call last):\n",
      "  File \"/usr/lib/python3.10/threading.py\", line 1016, in _bootstrap_inner\n",
      "    self.run()\n",
      "  File \"/usr/lib/python3.10/threading.py\", line 953, in run\n",
      "    self._target(*self._args, **self._kwargs)\n",
      "  File \"/usr/local/lib/python3.10/dist-packages/icrawler/parser.py\", line 94, in worker_exec\n",
      "    for task in self.parse(response, **kwargs):\n",
      "TypeError: 'NoneType' object is not iterable\n"
     ]
    },
    {
     "name": "stdout",
     "output_type": "stream",
     "text": [
      "Finished downloading 72 images for: Groove billed Ani\n",
      "\n",
      " Downloading images for: Indigo Bunting ...\n"
     ]
    },
    {
     "name": "stderr",
     "output_type": "stream",
     "text": [
      "Exception in thread parser-001:\n",
      "Traceback (most recent call last):\n",
      "  File \"/usr/lib/python3.10/threading.py\", line 1016, in _bootstrap_inner\n",
      "    self.run()\n",
      "  File \"/usr/lib/python3.10/threading.py\", line 953, in run\n",
      "    self._target(*self._args, **self._kwargs)\n",
      "  File \"/usr/local/lib/python3.10/dist-packages/icrawler/parser.py\", line 94, in worker_exec\n",
      "    for task in self.parse(response, **kwargs):\n",
      "TypeError: 'NoneType' object is not iterable\n"
     ]
    },
    {
     "name": "stdout",
     "output_type": "stream",
     "text": [
      "Finished downloading 76 images for: Indigo Bunting\n",
      "\n",
      " Downloading images for: Lazuli Bunting ...\n"
     ]
    },
    {
     "name": "stderr",
     "output_type": "stream",
     "text": [
      "Exception in thread parser-001:\n",
      "Traceback (most recent call last):\n",
      "  File \"/usr/lib/python3.10/threading.py\", line 1016, in _bootstrap_inner\n",
      "    self.run()\n",
      "  File \"/usr/lib/python3.10/threading.py\", line 953, in run\n",
      "    self._target(*self._args, **self._kwargs)\n",
      "  File \"/usr/local/lib/python3.10/dist-packages/icrawler/parser.py\", line 94, in worker_exec\n",
      "    for task in self.parse(response, **kwargs):\n",
      "TypeError: 'NoneType' object is not iterable\n"
     ]
    },
    {
     "name": "stdout",
     "output_type": "stream",
     "text": [
      "Finished downloading 68 images for: Lazuli Bunting\n",
      "\n",
      " Downloading images for: Painted Bunting ...\n"
     ]
    },
    {
     "name": "stderr",
     "output_type": "stream",
     "text": [
      "Exception in thread parser-001:\n",
      "Traceback (most recent call last):\n",
      "  File \"/usr/lib/python3.10/threading.py\", line 1016, in _bootstrap_inner\n",
      "    self.run()\n",
      "  File \"/usr/lib/python3.10/threading.py\", line 953, in run\n",
      "    self._target(*self._args, **self._kwargs)\n",
      "  File \"/usr/local/lib/python3.10/dist-packages/icrawler/parser.py\", line 94, in worker_exec\n",
      "    for task in self.parse(response, **kwargs):\n",
      "TypeError: 'NoneType' object is not iterable\n"
     ]
    },
    {
     "name": "stdout",
     "output_type": "stream",
     "text": [
      "Finished downloading 80 images for: Painted Bunting\n",
      "\n",
      " Downloading images for: Red winged Blackbird ...\n"
     ]
    },
    {
     "name": "stderr",
     "output_type": "stream",
     "text": [
      "Exception in thread parser-001:\n",
      "Traceback (most recent call last):\n",
      "  File \"/usr/lib/python3.10/threading.py\", line 1016, in _bootstrap_inner\n",
      "    self.run()\n",
      "  File \"/usr/lib/python3.10/threading.py\", line 953, in run\n",
      "    self._target(*self._args, **self._kwargs)\n",
      "  File \"/usr/local/lib/python3.10/dist-packages/icrawler/parser.py\", line 94, in worker_exec\n",
      "    for task in self.parse(response, **kwargs):\n",
      "TypeError: 'NoneType' object is not iterable\n"
     ]
    },
    {
     "name": "stdout",
     "output_type": "stream",
     "text": [
      "Finished downloading 78 images for: Red winged Blackbird\n",
      "\n",
      " Downloading images for: Rusty Blackbird ...\n"
     ]
    },
    {
     "name": "stderr",
     "output_type": "stream",
     "text": [
      "Exception in thread parser-001:\n",
      "Traceback (most recent call last):\n",
      "  File \"/usr/lib/python3.10/threading.py\", line 1016, in _bootstrap_inner\n",
      "    self.run()\n",
      "  File \"/usr/lib/python3.10/threading.py\", line 953, in run\n",
      "    self._target(*self._args, **self._kwargs)\n",
      "  File \"/usr/local/lib/python3.10/dist-packages/icrawler/parser.py\", line 94, in worker_exec\n",
      "    for task in self.parse(response, **kwargs):\n",
      "TypeError: 'NoneType' object is not iterable\n"
     ]
    },
    {
     "name": "stdout",
     "output_type": "stream",
     "text": [
      "Finished downloading 78 images for: Rusty Blackbird\n",
      "\n",
      " Downloading images for: Yellow billed Cuckoo ...\n"
     ]
    },
    {
     "name": "stderr",
     "output_type": "stream",
     "text": [
      "Exception in thread parser-001:\n",
      "Traceback (most recent call last):\n",
      "  File \"/usr/lib/python3.10/threading.py\", line 1016, in _bootstrap_inner\n",
      "    self.run()\n",
      "  File \"/usr/lib/python3.10/threading.py\", line 953, in run\n",
      "    self._target(*self._args, **self._kwargs)\n",
      "  File \"/usr/local/lib/python3.10/dist-packages/icrawler/parser.py\", line 94, in worker_exec\n",
      "    for task in self.parse(response, **kwargs):\n",
      "TypeError: 'NoneType' object is not iterable\n"
     ]
    },
    {
     "name": "stdout",
     "output_type": "stream",
     "text": [
      "Finished downloading 72 images for: Yellow billed Cuckoo\n",
      "\n",
      " Downloading images for: Yellow breasted Chat ...\n"
     ]
    },
    {
     "name": "stderr",
     "output_type": "stream",
     "text": [
      "Exception in thread parser-001:\n",
      "Traceback (most recent call last):\n",
      "  File \"/usr/lib/python3.10/threading.py\", line 1016, in _bootstrap_inner\n",
      "    self.run()\n",
      "  File \"/usr/lib/python3.10/threading.py\", line 953, in run\n",
      "    self._target(*self._args, **self._kwargs)\n",
      "  File \"/usr/local/lib/python3.10/dist-packages/icrawler/parser.py\", line 94, in worker_exec\n",
      "    for task in self.parse(response, **kwargs):\n",
      "TypeError: 'NoneType' object is not iterable\n"
     ]
    },
    {
     "name": "stdout",
     "output_type": "stream",
     "text": [
      "Finished downloading 65 images for: Yellow breasted Chat\n",
      "\n",
      " Downloading images for: Yellow headed Blackbird ...\n"
     ]
    },
    {
     "name": "stderr",
     "output_type": "stream",
     "text": [
      "Exception in thread parser-001:\n",
      "Traceback (most recent call last):\n",
      "  File \"/usr/lib/python3.10/threading.py\", line 1016, in _bootstrap_inner\n",
      "    self.run()\n",
      "  File \"/usr/lib/python3.10/threading.py\", line 953, in run\n",
      "    self._target(*self._args, **self._kwargs)\n",
      "  File \"/usr/local/lib/python3.10/dist-packages/icrawler/parser.py\", line 94, in worker_exec\n",
      "    for task in self.parse(response, **kwargs):\n",
      "TypeError: 'NoneType' object is not iterable\n"
     ]
    },
    {
     "name": "stdout",
     "output_type": "stream",
     "text": [
      "Finished downloading 0 images for: Yellow headed Blackbird\n",
      "\n",
      " Download Summary:\n",
      "🦜 American Crow: 76 images downloaded.\n",
      "🦜 Black billed Cuckoo: 1 images downloaded.\n",
      "🦜 Brant Cormorant: 84 images downloaded.\n",
      "🦜 Brewer Blackbird: 68 images downloaded.\n",
      "🦜 Bronzed Cowbird: 82 images downloaded.\n",
      "🦜 Brown Creeper: 78 images downloaded.\n",
      "🦜 Eastern Towhee: 74 images downloaded.\n",
      "🦜 Fish Crow: 70 images downloaded.\n",
      "🦜 Gray Catbird: 80 images downloaded.\n",
      "🦜 Gray crowned Rosy Finch: 73 images downloaded.\n",
      "🦜 Groove billed Ani: 72 images downloaded.\n",
      "🦜 Indigo Bunting: 76 images downloaded.\n",
      "🦜 Lazuli Bunting: 68 images downloaded.\n",
      "🦜 Painted Bunting: 80 images downloaded.\n",
      "🦜 Red winged Blackbird: 78 images downloaded.\n",
      "🦜 Rusty Blackbird: 78 images downloaded.\n",
      "🦜 Yellow billed Cuckoo: 72 images downloaded.\n",
      "🦜 Yellow breasted Chat: 65 images downloaded.\n",
      "🦜 Yellow headed Blackbird: 0 images downloaded.\n",
      "\n",
      " All images have been saved at: /kaggle/working/bird_images\n"
     ]
    }
   ],
   "source": [
    "# List of bird species to download images for\n",
    "bird_list = [\n",
    "    \"American Crow\",\n",
    "    \"Black billed Cuckoo\",\n",
    "    \"Brant Cormorant\",\n",
    "    \"Brewer Blackbird\",\n",
    "    \"Bronzed Cowbird\",\n",
    "    \"Brown Creeper\",\n",
    "    \"Eastern Towhee\",\n",
    "    \"Fish Crow\",\n",
    "    \"Gray Catbird\",\n",
    "    \"Gray crowned Rosy Finch\",\n",
    "    \"Groove billed Ani\",\n",
    "    \"Indigo Bunting\",\n",
    "    \"Lazuli Bunting\",\n",
    "    \"Painted Bunting\",\n",
    "    \"Red winged Blackbird\",\n",
    "    \"Rusty Blackbird\",\n",
    "    \"Yellow billed Cuckoo\",\n",
    "    \"Yellow breasted Chat\",\n",
    "    \"Yellow headed Blackbird\"\n",
    "]\n",
    "\n",
    "# Base directory for saving images\n",
    "base_dir = \"/kaggle/working/bird_images\"\n",
    "os.makedirs(base_dir, exist_ok=True)\n",
    "\n",
    "# Dictionary to store the count of downloaded images per species\n",
    "download_counts = {}\n",
    "\n",
    "# Loop through each bird species\n",
    "for bird in bird_list:\n",
    "    folder_name = bird.replace(\" \", \"_\")\n",
    "    save_dir = os.path.join(base_dir, folder_name)\n",
    "    os.makedirs(save_dir, exist_ok=True)\n",
    "\n",
    "    # Initialize the Google Image Crawler\n",
    "    google_crawler = GoogleImageCrawler(\n",
    "        storage={'root_dir': save_dir},\n",
    "        downloader_threads=2,  # Reduce thread count to minimize detection\n",
    "        parser_threads=1,\n",
    "        feeder_threads=1\n",
    "    )\n",
    "\n",
    "    # Set a custom User-Agent to avoid detection\n",
    "    google_crawler.session.headers.update({\n",
    "        \"User-Agent\": \"Mozilla/5.0 (Windows NT 10.0; Win64; x64) AppleWebKit/537.36 (KHTML, like Gecko) Chrome/91.0.4472.124 Safari/537.36\"\n",
    "    })\n",
    "\n",
    "    print(f\"\\n Downloading images for: {bird} ...\")\n",
    "\n",
    "    try:\n",
    "        google_crawler.crawl(\n",
    "            keyword=bird,\n",
    "            max_num=150,  # Number of images to download for each bird\n",
    "            file_idx_offset=1,\n",
    "            overwrite=False\n",
    "        )\n",
    "\n",
    "        # Rename downloaded files\n",
    "        image_files = os.listdir(save_dir)\n",
    "        for idx, file_name in enumerate(image_files, start=1):\n",
    "            file_extension = file_name.split(\".\")[-1]  # Get the file extension\n",
    "            new_name = f\"{folder_name}_{idx}.{file_extension}\"  # Generate new name\n",
    "            os.rename(\n",
    "                os.path.join(save_dir, file_name),\n",
    "                os.path.join(save_dir, new_name)\n",
    "            )\n",
    "\n",
    "        # Store the number of successfully downloaded images\n",
    "        download_counts[bird] = len(image_files)\n",
    "        print(f\"Finished downloading {download_counts[bird]} images for: {bird}\")\n",
    "\n",
    "    except Exception as e:\n",
    "        print(f\"❌ Error occurred while downloading images for '{bird}': {e}\")\n",
    "        download_counts[bird] = 0  # Mark as failed\n",
    "\n",
    "# Summary report\n",
    "print(\"\\n Download Summary:\")\n",
    "for bird, count in download_counts.items():\n",
    "    print(f\"🦜 {bird}: {count} images downloaded.\")\n",
    "\n",
    "print(f\"\\n All images have been saved at: {base_dir}\")"
   ]
  }
 ],
 "metadata": {
  "kaggle": {
   "accelerator": "none",
   "dataSources": [
    {
     "databundleVersionId": 10794348,
     "sourceId": 91120,
     "sourceType": "competition"
    }
   ],
   "dockerImageVersionId": 30839,
   "isGpuEnabled": false,
   "isInternetEnabled": true,
   "language": "python",
   "sourceType": "notebook"
  },
  "kernelspec": {
   "display_name": "Python 3",
   "language": "python",
   "name": "python3"
  },
  "language_info": {
   "codemirror_mode": {
    "name": "ipython",
    "version": 3
   },
   "file_extension": ".py",
   "mimetype": "text/x-python",
   "name": "python",
   "nbconvert_exporter": "python",
   "pygments_lexer": "ipython3",
   "version": "3.10.12"
  },
  "papermill": {
   "default_parameters": {},
   "duration": 520.305244,
   "end_time": "2025-01-31T12:51:37.851534",
   "environment_variables": {},
   "exception": null,
   "input_path": "__notebook__.ipynb",
   "output_path": "__notebook__.ipynb",
   "parameters": {},
   "start_time": "2025-01-31T12:42:57.546290",
   "version": "2.6.0"
  }
 },
 "nbformat": 4,
 "nbformat_minor": 5
}
