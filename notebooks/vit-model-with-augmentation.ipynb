{
 "cells": [
  {
   "cell_type": "markdown",
   "id": "04a62ead",
   "metadata": {
    "papermill": {
     "duration": 0.004734,
     "end_time": "2025-01-29T08:48:53.867202",
     "exception": false,
     "start_time": "2025-01-29T08:48:53.862468",
     "status": "completed"
    },
    "tags": []
   },
   "source": [
    "# Libraries"
   ]
  },
  {
   "cell_type": "code",
   "execution_count": 1,
   "id": "36e80124",
   "metadata": {
    "execution": {
     "iopub.execute_input": "2025-01-29T08:48:53.875965Z",
     "iopub.status.busy": "2025-01-29T08:48:53.875726Z",
     "iopub.status.idle": "2025-01-29T08:49:01.171985Z",
     "shell.execute_reply": "2025-01-29T08:49:01.170931Z"
    },
    "papermill": {
     "duration": 7.302596,
     "end_time": "2025-01-29T08:49:01.174001",
     "exception": false,
     "start_time": "2025-01-29T08:48:53.871405",
     "status": "completed"
    },
    "tags": []
   },
   "outputs": [],
   "source": [
    "! pip install transformers timm albumentations --quiet\n",
    "! pip install ipywidgets --quiet"
   ]
  },
  {
   "cell_type": "code",
   "execution_count": 2,
   "id": "d649f200",
   "metadata": {
    "execution": {
     "iopub.execute_input": "2025-01-29T08:49:01.183432Z",
     "iopub.status.busy": "2025-01-29T08:49:01.183173Z",
     "iopub.status.idle": "2025-01-29T08:49:22.827700Z",
     "shell.execute_reply": "2025-01-29T08:49:22.827046Z"
    },
    "papermill": {
     "duration": 21.650929,
     "end_time": "2025-01-29T08:49:22.829389",
     "exception": false,
     "start_time": "2025-01-29T08:49:01.178460",
     "status": "completed"
    },
    "tags": []
   },
   "outputs": [],
   "source": [
    "# Standard Libraries\n",
    "import os\n",
    "import random\n",
    "from collections import Counter\n",
    "\n",
    "# Numerical and Data Handling Libraries\n",
    "import numpy as np\n",
    "import pandas as pd\n",
    "\n",
    "# Image Processing Libraries\n",
    "import cv2\n",
    "from PIL import Image\n",
    "\n",
    "# Plotting and Visualization\n",
    "import matplotlib.pyplot as plt\n",
    "\n",
    "# PyTorch and Torchvision\n",
    "import torch\n",
    "from torch.utils.data import Dataset, DataLoader\n",
    "from torch.optim import AdamW\n",
    "from torchvision import transforms\n",
    "from torchvision.datasets import ImageFolder\n",
    "\n",
    "# Transformers for Vision Models\n",
    "from transformers import ViTConfig, ViTForImageClassification, ViTImageProcessor\n",
    "\n",
    "# Utility Libraries\n",
    "from tqdm import tqdm\n",
    "from sklearn.metrics import accuracy_score\n",
    "\n",
    "# jupyter nbextension enable --py widgetsnbextension\n",
    "from google.colab import output\n",
    "output.enable_custom_widget_manager()\n",
    "\n",
    "import shutil"
   ]
  },
  {
   "cell_type": "markdown",
   "id": "697c402e",
   "metadata": {
    "papermill": {
     "duration": 0.00381,
     "end_time": "2025-01-29T08:49:22.837673",
     "exception": false,
     "start_time": "2025-01-29T08:49:22.833863",
     "status": "completed"
    },
    "tags": []
   },
   "source": [
    "# Preprocessing & Augmentation"
   ]
  },
  {
   "cell_type": "code",
   "execution_count": 3,
   "id": "4580deaa",
   "metadata": {
    "execution": {
     "iopub.execute_input": "2025-01-29T08:49:22.846752Z",
     "iopub.status.busy": "2025-01-29T08:49:22.846277Z",
     "iopub.status.idle": "2025-01-29T08:49:35.246812Z",
     "shell.execute_reply": "2025-01-29T08:49:35.245534Z"
    },
    "papermill": {
     "duration": 12.406628,
     "end_time": "2025-01-29T08:49:35.248323",
     "exception": false,
     "start_time": "2025-01-29T08:49:22.841695",
     "status": "completed"
    },
    "tags": []
   },
   "outputs": [
    {
     "name": "stderr",
     "output_type": "stream",
     "text": [
      "Processing Classes: 100%|██████████| 20/20 [00:12<00:00,  1.62it/s]"
     ]
    },
    {
     "name": "stdout",
     "output_type": "stream",
     "text": [
      "Data preprocessing and augmentation complete. Files saved to: /kaggle/working/preprocessed_images\n"
     ]
    },
    {
     "name": "stderr",
     "output_type": "stream",
     "text": [
      "\n"
     ]
    }
   ],
   "source": [
    "# Data augmentation (rotation)\n",
    "train_dir = \"/kaggle/input/bdma-07-competition/BDMA7_project_files/train_images\"\n",
    "output_dir = \"/kaggle/working/preprocessed_images\"\n",
    "\n",
    "# Image processing parameters\n",
    "img_size = (128, 128)  # Resize dimensions\n",
    "rotation_angles = [-15, -10, -5, 5, 10, 15]  # Rotation angles\n",
    "\n",
    "# Create output directory\n",
    "if not os.path.exists(output_dir):\n",
    "    os.makedirs(output_dir)\n",
    "\n",
    "# Data augmentation and saving\n",
    "def preprocess_and_augment_images(input_dir, output_dir, img_size, angles):\n",
    "    \"\"\"\n",
    "    Perform preprocessing (resize) and augmentation (rotation) on images.\n",
    "    \"\"\"\n",
    "    for class_folder in tqdm(os.listdir(input_dir), desc=\"Processing Classes\"):\n",
    "        class_path = os.path.join(input_dir, class_folder)\n",
    "        if not os.path.isdir(class_path):\n",
    "            continue\n",
    "\n",
    "        # Create output directory for each class\n",
    "        class_output_path = os.path.join(output_dir, class_folder)\n",
    "        os.makedirs(class_output_path, exist_ok=True)\n",
    "\n",
    "        # Process each image\n",
    "        for img_file in os.listdir(class_path):\n",
    "            img_path = os.path.join(class_path, img_file)\n",
    "            img = cv2.imread(img_path)\n",
    "\n",
    "            if img is None:\n",
    "                print(f\"Warning: Unable to read image {img_path}\")\n",
    "                continue\n",
    "\n",
    "            # Resize the image\n",
    "            resized_img = cv2.resize(img, img_size)\n",
    "\n",
    "            # Save the resized original image\n",
    "            base_name = os.path.splitext(img_file)[0]\n",
    "            cv2.imwrite(os.path.join(class_output_path, f\"{base_name}_original.jpg\"), resized_img)\n",
    "\n",
    "            # Data augmentation (rotation)\n",
    "            for angle in angles:\n",
    "                # Calculate the rotation matrix\n",
    "                h, w = resized_img.shape[:2]\n",
    "                center = (w // 2, h // 2)\n",
    "                rotation_matrix = cv2.getRotationMatrix2D(center, angle, 1.0)\n",
    "\n",
    "                # Rotate the image\n",
    "                rotated_img = cv2.warpAffine(resized_img, rotation_matrix, (w, h))\n",
    "\n",
    "                # Save the augmented image\n",
    "                augmented_name = f\"{base_name}_rotated_{angle}.jpg\"\n",
    "                cv2.imwrite(os.path.join(class_output_path, augmented_name), rotated_img)\n",
    "\n",
    "# Execute preprocessing and augmentation\n",
    "preprocess_and_augment_images(train_dir, output_dir, img_size, rotation_angles)\n",
    "\n",
    "print(\"Data preprocessing and augmentation complete. Files saved to:\", output_dir)"
   ]
  },
  {
   "cell_type": "code",
   "execution_count": 4,
   "id": "465937ec",
   "metadata": {
    "execution": {
     "iopub.execute_input": "2025-01-29T08:49:35.260056Z",
     "iopub.status.busy": "2025-01-29T08:49:35.259722Z",
     "iopub.status.idle": "2025-01-29T08:49:39.447943Z",
     "shell.execute_reply": "2025-01-29T08:49:39.447208Z"
    },
    "papermill": {
     "duration": 4.195946,
     "end_time": "2025-01-29T08:49:39.449626",
     "exception": false,
     "start_time": "2025-01-29T08:49:35.253680",
     "status": "completed"
    },
    "tags": []
   },
   "outputs": [],
   "source": [
    "## Data augmentation (flip)\n",
    "def flip_image(image, flip_code):\n",
    "    return cv2.flip(image, flip_code)\n",
    "\n",
    "train_dir = \"/kaggle/working/preprocessed_images\"\n",
    "output_dir = \"/kaggle/working/preprocessed02_images\"\n",
    "# Define a list of flip codes\n",
    "# flip_codes = [0, 1, -1]\n",
    "flip_codes = [1]\n",
    "\n",
    "# Iterate through subdirectories (classes) in the input directory\n",
    "for root, dirs, files in os.walk(train_dir):\n",
    "    for dir_name in dirs:\n",
    "        input_class_dir = os.path.join(root, dir_name)\n",
    "        output_class_dir = os.path.join(output_dir, dir_name)\n",
    "        # Create the output directory if it doesn't exist\n",
    "        if not os.path.exists(output_class_dir):\n",
    "            os.makedirs(output_class_dir)\n",
    "        # Iterate through files in the class directory\n",
    "        for file in os.listdir(input_class_dir):\n",
    "            if file.endswith(\".jpg\"):\n",
    "                input_file_path = os.path.join(input_class_dir, file)\n",
    "                # Read the image\n",
    "                image = cv2.imread(input_file_path)\n",
    "                \n",
    "                # Copy the original image to the output directory\n",
    "                output_original_file_path = os.path.join(output_class_dir, file)\n",
    "                cv2.imwrite(output_original_file_path, image)\n",
    "                \n",
    "                # Generate flipped images for each flip operation\n",
    "                for flip_code in flip_codes:\n",
    "                    # Generate a new file name\n",
    "                    base_name = os.path.splitext(file)[0]\n",
    "                    output_file_name = f\"{base_name}_flipped_{flip_code}.jpg\"\n",
    "                    output_file_path = os.path.join(output_class_dir, output_file_name)\n",
    "                    # Perform the flip operation on the image\n",
    "                    flipped_image = flip_image(image, flip_code)\n",
    "                    cv2.imwrite(output_file_path, flipped_image)"
   ]
  },
  {
   "cell_type": "markdown",
   "id": "38de82a9",
   "metadata": {
    "papermill": {
     "duration": 0.004922,
     "end_time": "2025-01-29T08:49:39.459958",
     "exception": false,
     "start_time": "2025-01-29T08:49:39.455036",
     "status": "completed"
    },
    "tags": []
   },
   "source": [
    "# Vision Transformer Model"
   ]
  },
  {
   "cell_type": "code",
   "execution_count": 5,
   "id": "0e1ed925",
   "metadata": {
    "execution": {
     "iopub.execute_input": "2025-01-29T08:49:39.470778Z",
     "iopub.status.busy": "2025-01-29T08:49:39.470548Z",
     "iopub.status.idle": "2025-01-29T08:49:39.473516Z",
     "shell.execute_reply": "2025-01-29T08:49:39.472858Z"
    },
    "papermill": {
     "duration": 0.009775,
     "end_time": "2025-01-29T08:49:39.474723",
     "exception": false,
     "start_time": "2025-01-29T08:49:39.464948",
     "status": "completed"
    },
    "tags": []
   },
   "outputs": [],
   "source": [
    "train_dir = \"/kaggle/working//preprocessed02_images\"\n",
    "val_dir = \"/kaggle/input/bdma-07-competition/BDMA7_project_files/val_images\""
   ]
  },
  {
   "cell_type": "code",
   "execution_count": 6,
   "id": "b28aee6d",
   "metadata": {
    "execution": {
     "iopub.execute_input": "2025-01-29T08:49:39.485440Z",
     "iopub.status.busy": "2025-01-29T08:49:39.485231Z",
     "iopub.status.idle": "2025-01-29T08:49:42.771701Z",
     "shell.execute_reply": "2025-01-29T08:49:42.771037Z"
    },
    "papermill": {
     "duration": 3.293285,
     "end_time": "2025-01-29T08:49:42.773074",
     "exception": false,
     "start_time": "2025-01-29T08:49:39.479789",
     "status": "completed"
    },
    "tags": []
   },
   "outputs": [
    {
     "data": {
      "application/vnd.jupyter.widget-view+json": {
       "model_id": "3ccf947f46854449b47a54622c32d2e4",
       "version_major": 2,
       "version_minor": 0
      },
      "text/plain": [
       "preprocessor_config.json:   0%|          | 0.00/160 [00:00<?, ?B/s]"
      ]
     },
     "metadata": {
      "application/vnd.jupyter.widget-view+json": {
       "colab": {
        "custom_widget_manager": {
         "url": "https://ssl.gstatic.com/colaboratory-static/widgets/colab-cdn-widget-manager/2b70e893a8ba7c0f/manager.min.js"
        }
       }
      }
     },
     "output_type": "display_data"
    },
    {
     "data": {
      "application/vnd.jupyter.widget-view+json": {
       "model_id": "e6a1e188cbd947d09651a63786971ada",
       "version_major": 2,
       "version_minor": 0
      },
      "text/plain": [
       "config.json:   0%|          | 0.00/502 [00:00<?, ?B/s]"
      ]
     },
     "metadata": {
      "application/vnd.jupyter.widget-view+json": {
       "colab": {
        "custom_widget_manager": {
         "url": "https://ssl.gstatic.com/colaboratory-static/widgets/colab-cdn-widget-manager/2b70e893a8ba7c0f/manager.min.js"
        }
       }
      }
     },
     "output_type": "display_data"
    },
    {
     "data": {
      "application/vnd.jupyter.widget-view+json": {
       "model_id": "11cd9c90d1df4c6c886bbe4e275b3d20",
       "version_major": 2,
       "version_minor": 0
      },
      "text/plain": [
       "model.safetensors:   0%|          | 0.00/346M [00:00<?, ?B/s]"
      ]
     },
     "metadata": {
      "application/vnd.jupyter.widget-view+json": {
       "colab": {
        "custom_widget_manager": {
         "url": "https://ssl.gstatic.com/colaboratory-static/widgets/colab-cdn-widget-manager/2b70e893a8ba7c0f/manager.min.js"
        }
       }
      }
     },
     "output_type": "display_data"
    },
    {
     "name": "stderr",
     "output_type": "stream",
     "text": [
      "Some weights of ViTForImageClassification were not initialized from the model checkpoint at google/vit-base-patch16-224-in21k and are newly initialized: ['classifier.bias', 'classifier.weight']\n",
      "You should probably TRAIN this model on a down-stream task to be able to use it for predictions and inference.\n"
     ]
    }
   ],
   "source": [
    "model_name = \"google/vit-base-patch16-224-in21k\"  # 224x224 Input，16x16 Chunk\n",
    "# Change to ViT-Large\n",
    "# model_name = \"google/vit-large-patch16-224-in21k\"\n",
    "processor = ViTImageProcessor.from_pretrained(model_name)\n",
    "model = ViTForImageClassification.from_pretrained(\n",
    "    model_name,\n",
    "    num_labels=20,  # Number of Classes\n",
    "    ignore_mismatched_sizes=True  \n",
    ")"
   ]
  },
  {
   "cell_type": "markdown",
   "id": "35f5c2c0",
   "metadata": {
    "papermill": {
     "duration": 0.005383,
     "end_time": "2025-01-29T08:49:42.784469",
     "exception": false,
     "start_time": "2025-01-29T08:49:42.779086",
     "status": "completed"
    },
    "tags": []
   },
   "source": [
    "## Freeze feature layers of ViT"
   ]
  },
  {
   "cell_type": "code",
   "execution_count": 7,
   "id": "01d32827",
   "metadata": {
    "execution": {
     "iopub.execute_input": "2025-01-29T08:49:42.796315Z",
     "iopub.status.busy": "2025-01-29T08:49:42.796078Z",
     "iopub.status.idle": "2025-01-29T08:49:42.800107Z",
     "shell.execute_reply": "2025-01-29T08:49:42.799441Z"
    },
    "papermill": {
     "duration": 0.011361,
     "end_time": "2025-01-29T08:49:42.801301",
     "exception": false,
     "start_time": "2025-01-29T08:49:42.789940",
     "status": "completed"
    },
    "tags": []
   },
   "outputs": [],
   "source": [
    "# Freeze all feature layers of ViT (train only the classification head)\n",
    "for param in model.vit.parameters():\n",
    "    # param.requires_grad = False\n",
    "    param.requires_grad = True\n",
    "\n",
    "# Thaw the classification headers separately\n",
    "for param in model.classifier.parameters():\n",
    "    param.requires_grad = True"
   ]
  },
  {
   "cell_type": "markdown",
   "id": "656fd8fe",
   "metadata": {
    "papermill": {
     "duration": 0.005314,
     "end_time": "2025-01-29T08:49:42.812283",
     "exception": false,
     "start_time": "2025-01-29T08:49:42.806969",
     "status": "completed"
    },
    "tags": []
   },
   "source": [
    "## Set layer-wise learning rate"
   ]
  },
  {
   "cell_type": "code",
   "execution_count": 8,
   "id": "02da3efe",
   "metadata": {
    "execution": {
     "iopub.execute_input": "2025-01-29T08:49:42.823886Z",
     "iopub.status.busy": "2025-01-29T08:49:42.823681Z",
     "iopub.status.idle": "2025-01-29T08:49:42.827795Z",
     "shell.execute_reply": "2025-01-29T08:49:42.827178Z"
    },
    "papermill": {
     "duration": 0.011226,
     "end_time": "2025-01-29T08:49:42.828961",
     "exception": false,
     "start_time": "2025-01-29T08:49:42.817735",
     "status": "completed"
    },
    "tags": []
   },
   "outputs": [],
   "source": [
    "# Set layer-wise learning rate (feature layer learning rate is lower)\n",
    "optimizer = AdamW(\n",
    "    [\n",
    "        {\"params\": model.vit.parameters(), \"lr\": 1e-5},  # Feature extraction layer\n",
    "        {\"params\": model.classifier.parameters(), \"lr\": 3e-4}  # Classification Header\n",
    "    ],\n",
    "    weight_decay=0.01\n",
    ")"
   ]
  },
  {
   "cell_type": "code",
   "execution_count": 9,
   "id": "cf29c864",
   "metadata": {
    "execution": {
     "iopub.execute_input": "2025-01-29T08:49:42.840477Z",
     "iopub.status.busy": "2025-01-29T08:49:42.840275Z",
     "iopub.status.idle": "2025-01-29T08:49:42.851416Z",
     "shell.execute_reply": "2025-01-29T08:49:42.850681Z"
    },
    "papermill": {
     "duration": 0.018285,
     "end_time": "2025-01-29T08:49:42.852650",
     "exception": false,
     "start_time": "2025-01-29T08:49:42.834365",
     "status": "completed"
    },
    "tags": []
   },
   "outputs": [
    {
     "name": "stdout",
     "output_type": "stream",
     "text": [
      "5.527397297555581e-05\n",
      "0.0\n"
     ]
    }
   ],
   "source": [
    "# Verify that the classification layer is randomly initialized (correct state should be True)\n",
    "print(model.classifier.weight.mean().item())  # Should be close to 0 (normal distribution initialization)\n",
    "print(model.classifier.bias.mean().item())    # Should be close to 0"
   ]
  },
  {
   "cell_type": "markdown",
   "id": "c83b6bcc",
   "metadata": {
    "papermill": {
     "duration": 0.005437,
     "end_time": "2025-01-29T08:49:42.863659",
     "exception": false,
     "start_time": "2025-01-29T08:49:42.858222",
     "status": "completed"
    },
    "tags": []
   },
   "source": [
    "## Check Submission Classes Order"
   ]
  },
  {
   "cell_type": "code",
   "execution_count": 10,
   "id": "78738f32",
   "metadata": {
    "execution": {
     "iopub.execute_input": "2025-01-29T08:49:42.875725Z",
     "iopub.status.busy": "2025-01-29T08:49:42.875517Z",
     "iopub.status.idle": "2025-01-29T08:49:42.878752Z",
     "shell.execute_reply": "2025-01-29T08:49:42.878169Z"
    },
    "papermill": {
     "duration": 0.010551,
     "end_time": "2025-01-29T08:49:42.879927",
     "exception": false,
     "start_time": "2025-01-29T08:49:42.869376",
     "status": "completed"
    },
    "tags": []
   },
   "outputs": [],
   "source": [
    "submission_class_order = [\n",
    "    'Groove_billed_Ani',\n",
    "    'Red_winged_Blackbird',\n",
    "    'Rusty_Blackbird',\n",
    "    'Gray_Catbird',\n",
    "    'Brandt_Cormorant',\n",
    "    'Eastern_Towhee',\n",
    "    'Indigo_Bunting',\n",
    "    'Brewer_Blackbird',\n",
    "    'Painted_Bunting',\n",
    "    'Bobolink',\n",
    "    'Lazuli_Bunting',\n",
    "    'Yellow_headed_Blackbird',\n",
    "    'American_Crow',\n",
    "    'Fish_Crow',\n",
    "    'Brown_Creeper',\n",
    "    'Yellow_billed_Cuckoo',\n",
    "    'Yellow_breasted_Chat',\n",
    "    'Black_billed_Cuckoo',\n",
    "    'Gray_crowned_Rosy_Finch',\n",
    "    'Bronzed_Cowbird'\n",
    "]"
   ]
  },
  {
   "cell_type": "code",
   "execution_count": 11,
   "id": "6be1b56a",
   "metadata": {
    "execution": {
     "iopub.execute_input": "2025-01-29T08:49:42.891459Z",
     "iopub.status.busy": "2025-01-29T08:49:42.891261Z",
     "iopub.status.idle": "2025-01-29T08:49:43.147622Z",
     "shell.execute_reply": "2025-01-29T08:49:43.146757Z"
    },
    "papermill": {
     "duration": 0.263598,
     "end_time": "2025-01-29T08:49:43.148951",
     "exception": false,
     "start_time": "2025-01-29T08:49:42.885353",
     "status": "completed"
    },
    "tags": []
   },
   "outputs": [
    {
     "name": "stdout",
     "output_type": "stream",
     "text": [
      "Category order inconsistency detected, automatically correcting...\n",
      "Corrected category order： ['Groove_billed_Ani', 'Red_winged_Blackbird', 'Rusty_Blackbird', 'Gray_Catbird', 'Brandt_Cormorant', 'Eastern_Towhee', 'Indigo_Bunting', 'Brewer_Blackbird', 'Painted_Bunting', 'Bobolink', 'Lazuli_Bunting', 'Yellow_headed_Blackbird', 'American_Crow', 'Fish_Crow', 'Brown_Creeper', 'Yellow_billed_Cuckoo', 'Yellow_breasted_Chat', 'Black_billed_Cuckoo', 'Gray_crowned_Rosy_Finch', 'Bronzed_Cowbird']\n"
     ]
    }
   ],
   "source": [
    "device = torch.device(\"cuda\" if torch.cuda.is_available() else \"cpu\")\n",
    "\n",
    "class BirdDataset(Dataset):\n",
    "    def __init__(self, main_dir, transform=None):\n",
    "        self.dataset = ImageFolder(root=main_dir, transform=transform)\n",
    "        self.class_to_idx = self.dataset.class_to_idx\n",
    "        \n",
    "    def __len__(self):\n",
    "        return len(self.dataset)\n",
    "    \n",
    "    def __getitem__(self, idx):\n",
    "        image, label = self.dataset[idx]\n",
    "        return image, label\n",
    "\n",
    "train_transform = transforms.Compose([\n",
    "    transforms.Resize((256, 256)),\n",
    "    transforms.RandomCrop(224),\n",
    "    transforms.RandomHorizontalFlip(),\n",
    "    transforms.ColorJitter(brightness=0.2, contrast=0.2, saturation=0.2),\n",
    "    transforms.ToTensor(),\n",
    "    transforms.Normalize(mean=processor.image_mean, std=processor.image_std)\n",
    "])\n",
    "\n",
    "val_transform = transforms.Compose([\n",
    "    transforms.Resize((224, 224)),\n",
    "    transforms.ToTensor(),\n",
    "    transforms.Normalize(mean=processor.image_mean, std=processor.image_std)\n",
    "])\n",
    "\n",
    "train_dataset = BirdDataset(train_dir, transform=train_transform)\n",
    "val_dataset = BirdDataset(val_dir, transform=val_transform)\n",
    "\n",
    "def validate_class_order(train_class_order, submission_order):\n",
    "    \"\"\"Make sure the category names and order of both lists are exactly the same\"\"\"\n",
    "    if len(train_class_order) != len(submission_order):\n",
    "        raise ValueError(f\"The number of categories does not match! Training set: {len(train_class_order)}, Submission Requirements: {len(submission_order)}\")\n",
    "    \n",
    "    for train_cls, sub_cls in zip(train_class_order, submission_order):\n",
    "        if train_cls != sub_cls:\n",
    "            raise ValueError(f\"Inconsistent order: training set '{train_cls}' vs Submission Requirements '{sub_cls}'\")\n",
    "    return True\n",
    "\n",
    "train_class_order = sorted(train_dataset.class_to_idx.keys())\n",
    "\n",
    "try:\n",
    "    validate_class_order(train_class_order, submission_class_order)\n",
    "except ValueError as e:\n",
    "    print(\"Category order inconsistency detected, automatically correcting...\")\n",
    "    from torchvision.datasets import DatasetFolder\n",
    "    \n",
    "    class OrderedImageFolder(DatasetFolder):\n",
    "        \"\"\"Forces the data sets of categories to be loaded in a specified order\"\"\"\n",
    "        def __init__(self, root, class_order, transform=None):\n",
    "            self.class_order = class_order\n",
    "            super().__init__(\n",
    "                root,\n",
    "                loader=lambda x: Image.open(x).convert(\"RGB\"),\n",
    "                extensions=('jpg', 'jpeg', 'png'),\n",
    "                transform=transform,\n",
    "                target_transform=None\n",
    "            )\n",
    "            \n",
    "        def find_classes(self, directory):\n",
    "            classes = self.class_order \n",
    "            class_to_idx = {cls_name: i for i, cls_name in enumerate(classes)}\n",
    "            return classes, class_to_idx\n",
    "    \n",
    "    train_dataset = OrderedImageFolder(\n",
    "        train_dir, \n",
    "        class_order=submission_class_order,\n",
    "        transform=train_transform\n",
    "    )\n",
    "    val_dataset = OrderedImageFolder(\n",
    "        val_dir,\n",
    "        class_order=submission_class_order,\n",
    "        transform=val_transform\n",
    "    )\n",
    "    \n",
    "    print(\"Corrected category order：\", train_dataset.classes)\n",
    "    \n",
    "# Category index validation (ensuring consistency with submission format)\n",
    "assert sorted(train_dataset.class_to_idx.keys()) == sorted(submission_class_order), \"Category order mismatch！\""
   ]
  },
  {
   "cell_type": "markdown",
   "id": "181d3982",
   "metadata": {
    "papermill": {
     "duration": 0.005505,
     "end_time": "2025-01-29T08:49:43.160717",
     "exception": false,
     "start_time": "2025-01-29T08:49:43.155212",
     "status": "completed"
    },
    "tags": []
   },
   "source": [
    "## Model Train"
   ]
  },
  {
   "cell_type": "code",
   "execution_count": 12,
   "id": "3e3ca9f5",
   "metadata": {
    "execution": {
     "iopub.execute_input": "2025-01-29T08:49:43.172634Z",
     "iopub.status.busy": "2025-01-29T08:49:43.172390Z",
     "iopub.status.idle": "2025-01-29T09:43:43.126066Z",
     "shell.execute_reply": "2025-01-29T09:43:43.124980Z"
    },
    "papermill": {
     "duration": 3239.96154,
     "end_time": "2025-01-29T09:43:43.127777",
     "exception": false,
     "start_time": "2025-01-29T08:49:43.166237",
     "status": "completed"
    },
    "tags": []
   },
   "outputs": [
    {
     "name": "stdout",
     "output_type": "stream",
     "text": [
      "Epoch 01:\n",
      "Train Loss: 0.7256 | Acc: 0.9067\n",
      "Val Loss: 0.3551 | Acc: 0.9029\n",
      "\n",
      "Epoch 02:\n",
      "Train Loss: 0.0357 | Acc: 0.9982\n",
      "Val Loss: 0.3107 | Acc: 0.9126\n",
      "\n",
      "Epoch 03:\n",
      "Train Loss: 0.0085 | Acc: 1.0000\n",
      "Val Loss: 0.3213 | Acc: 0.9126\n",
      "\n",
      "Epoch 04:\n",
      "Train Loss: 0.0042 | Acc: 1.0000\n",
      "Val Loss: 0.3380 | Acc: 0.9126\n",
      "\n",
      "Epoch 05:\n",
      "Train Loss: 0.0049 | Acc: 0.9995\n",
      "Val Loss: 0.2533 | Acc: 0.9223\n",
      "\n",
      "Epoch 06:\n",
      "Train Loss: 0.0045 | Acc: 0.9992\n",
      "Val Loss: 0.2311 | Acc: 0.9126\n",
      "\n",
      "Epoch 07:\n",
      "Train Loss: 0.0021 | Acc: 0.9996\n",
      "Val Loss: 0.2238 | Acc: 0.9223\n",
      "\n",
      "Epoch 08:\n",
      "Train Loss: 0.0024 | Acc: 0.9994\n",
      "Val Loss: 0.2582 | Acc: 0.9029\n",
      "\n",
      "Epoch 09:\n",
      "Train Loss: 0.0006 | Acc: 1.0000\n",
      "Val Loss: 0.2743 | Acc: 0.9029\n",
      "\n",
      "Epoch 10:\n",
      "Train Loss: 0.0005 | Acc: 1.0000\n",
      "Val Loss: 0.2811 | Acc: 0.8932\n",
      "\n",
      "Epoch 11:\n",
      "Train Loss: 0.0004 | Acc: 1.0000\n",
      "Val Loss: 0.2786 | Acc: 0.9029\n",
      "\n",
      "Epoch 12:\n",
      "Train Loss: 0.0003 | Acc: 1.0000\n",
      "Val Loss: 0.2802 | Acc: 0.9029\n",
      "\n",
      "Early stopping triggered!\n"
     ]
    },
    {
     "data": {
      "image/png": "[encoded data removed]",
      "text/plain": [
       "<Figure size 1200x500 with 2 Axes>"
      ]
     },
     "metadata": {},
     "output_type": "display_data"
    }
   ],
   "source": [
    "train_loader = DataLoader(train_dataset, batch_size=32, shuffle=True, num_workers=2)\n",
    "val_loader = DataLoader(val_dataset, batch_size=64, shuffle=False, num_workers=2)\n",
    "\n",
    "criterion = torch.nn.CrossEntropyLoss()\n",
    "model = model.to(device)\n",
    "\n",
    "class EarlyStopper:\n",
    "    def __init__(self, patience=5, min_delta=0):\n",
    "        self.patience = patience\n",
    "        self.min_delta = min_delta\n",
    "        self.counter = 0\n",
    "        self.min_validation_loss = float('inf')\n",
    "\n",
    "    def early_stop(self, validation_loss):\n",
    "        if validation_loss < self.min_validation_loss:\n",
    "            self.min_validation_loss = validation_loss\n",
    "            self.counter = 0\n",
    "        elif validation_loss > (self.min_validation_loss + self.min_delta):\n",
    "            self.counter += 1\n",
    "            if self.counter >= self.patience:\n",
    "                return True\n",
    "        return False\n",
    "\n",
    "def train_epoch(model, loader, optimizer, scaler):\n",
    "    model.train()\n",
    "    total_loss = 0\n",
    "    correct = 0\n",
    "    \n",
    "    for images, labels in loader:\n",
    "        images = images.to(device)\n",
    "        labels = labels.to(device)\n",
    "        \n",
    "        optimizer.zero_grad()\n",
    "        \n",
    "        with torch.amp.autocast('cuda'):\n",
    "            outputs = model(images)\n",
    "            loss = criterion(outputs.logits, labels)\n",
    "        \n",
    "        scaler.scale(loss).backward()\n",
    "        scaler.step(optimizer)\n",
    "        scaler.update()\n",
    "        \n",
    "        total_loss += loss.item() * images.size(0)\n",
    "        preds = torch.argmax(outputs.logits, dim=1)\n",
    "        correct += (preds == labels).sum().item()\n",
    "    \n",
    "    avg_loss = total_loss / len(loader.dataset)\n",
    "    accuracy = correct / len(loader.dataset)\n",
    "    return avg_loss, accuracy\n",
    "\n",
    "def validate(model, loader):\n",
    "    model.eval()\n",
    "    total_loss = 0\n",
    "    correct = 0\n",
    "    \n",
    "    with torch.no_grad():\n",
    "        for images, labels in loader:\n",
    "            images = images.to(device)\n",
    "            labels = labels.to(device)\n",
    "            \n",
    "            outputs = model(images)\n",
    "            loss = criterion(outputs.logits, labels)\n",
    "            \n",
    "            total_loss += loss.item() * images.size(0)\n",
    "            preds = torch.argmax(outputs.logits, dim=1)\n",
    "            correct += (preds == labels).sum().item()\n",
    "    \n",
    "    avg_loss = total_loss / len(loader.dataset)\n",
    "    accuracy = correct / len(loader.dataset)\n",
    "    return avg_loss, accuracy\n",
    "\n",
    "scaler = torch.amp.GradScaler('cuda')\n",
    "early_stopper = EarlyStopper(patience=5, min_delta=0.001)\n",
    "history = {'train_loss': [], 'val_loss': [], 'train_acc': [], 'val_acc': []}\n",
    "\n",
    "for epoch in range(300):\n",
    "    train_loss, train_acc = train_epoch(model, train_loader, optimizer, scaler)\n",
    "    val_loss, val_acc = validate(model, val_loader)\n",
    "    \n",
    "    history['train_loss'].append(train_loss)\n",
    "    history['val_loss'].append(val_loss)\n",
    "    history['train_acc'].append(train_acc)\n",
    "    history['val_acc'].append(val_acc)\n",
    "    \n",
    "    print(f\"Epoch {epoch+1:02d}:\")\n",
    "    print(f\"Train Loss: {train_loss:.4f} | Acc: {train_acc:.4f}\")\n",
    "    print(f\"Val Loss: {val_loss:.4f} | Acc: {val_acc:.4f}\\n\")\n",
    "    \n",
    "    if early_stopper.early_stop(val_loss):\n",
    "        print(\"Early stopping triggered!\")\n",
    "        break\n",
    "\n",
    "plt.figure(figsize=(12, 5))\n",
    "plt.subplot(1, 2, 1)\n",
    "plt.plot(history['train_loss'], label='Train')\n",
    "plt.plot(history['val_loss'], label='Validation')\n",
    "plt.title('Loss Curve')\n",
    "plt.legend()\n",
    "\n",
    "plt.subplot(1, 2, 2)\n",
    "plt.plot(history['train_acc'], label='Train')\n",
    "plt.plot(history['val_acc'], label='Validation')\n",
    "plt.title('Accuracy Curve')\n",
    "plt.legend()\n",
    "plt.show()"
   ]
  },
  {
   "cell_type": "markdown",
   "id": "8c9d3ad9",
   "metadata": {
    "papermill": {
     "duration": 0.006754,
     "end_time": "2025-01-29T09:43:43.142082",
     "exception": false,
     "start_time": "2025-01-29T09:43:43.135328",
     "status": "completed"
    },
    "tags": []
   },
   "source": [
    "## Save Model"
   ]
  },
  {
   "cell_type": "code",
   "execution_count": 13,
   "id": "07d48a58",
   "metadata": {
    "execution": {
     "iopub.execute_input": "2025-01-29T09:43:43.157317Z",
     "iopub.status.busy": "2025-01-29T09:43:43.157036Z",
     "iopub.status.idle": "2025-01-29T09:43:45.169995Z",
     "shell.execute_reply": "2025-01-29T09:43:45.168942Z"
    },
    "papermill": {
     "duration": 2.022528,
     "end_time": "2025-01-29T09:43:45.171477",
     "exception": false,
     "start_time": "2025-01-29T09:43:43.148949",
     "status": "completed"
    },
    "tags": []
   },
   "outputs": [
    {
     "name": "stdout",
     "output_type": "stream",
     "text": [
      "Model Saved to：/kaggle/working/vit_model\n",
      "HuggingFace Format Saved\n"
     ]
    }
   ],
   "source": [
    "save_dir = \"/kaggle/working/vit_model\"\n",
    "os.makedirs(save_dir, exist_ok=True)\n",
    "\n",
    "torch.save(model.state_dict(), os.path.join(save_dir, \"vit_model_weights.pth\"))\n",
    "\n",
    "processor.save_pretrained(save_dir)\n",
    "\n",
    "class_info = {\n",
    "    \"class_order\": submission_class_order,\n",
    "    \"class_to_idx\": train_dataset.class_to_idx,\n",
    "    \"idx_to_class\": {v: k for k, v in train_dataset.class_to_idx.items()}\n",
    "}\n",
    "\n",
    "torch.save(class_info, os.path.join(save_dir, \"class_info.pth\"))\n",
    "\n",
    "train_config = {\n",
    "    \"epochs_trained\": len(history['train_loss']),\n",
    "    \"best_val_acc\": max(history['val_acc']),\n",
    "    \"optimizer_state\": optimizer.state_dict()\n",
    "}\n",
    "\n",
    "torch.save(train_config, os.path.join(save_dir, \"train_config.pth\"))\n",
    "\n",
    "print(f\"Model Saved to：{save_dir}\")\n",
    "\n",
    "# Second Hugging Face Format Save\n",
    "model.save_pretrained(save_dir)\n",
    "processor.save_pretrained(save_dir)\n",
    "\n",
    "with open(os.path.join(save_dir, \"class_info.txt\"), \"w\") as f:\n",
    "    f.write(\"\\n\".join(submission_class_order))\n",
    "\n",
    "print(\"HuggingFace Format Saved\")"
   ]
  },
  {
   "cell_type": "markdown",
   "id": "889874d0",
   "metadata": {
    "papermill": {
     "duration": 0.006892,
     "end_time": "2025-01-29T09:43:45.185849",
     "exception": false,
     "start_time": "2025-01-29T09:43:45.178957",
     "status": "completed"
    },
    "tags": []
   },
   "source": [
    "# Test and Generate Submission File"
   ]
  },
  {
   "cell_type": "code",
   "execution_count": 14,
   "id": "417aeda9",
   "metadata": {
    "execution": {
     "iopub.execute_input": "2025-01-29T09:43:45.201059Z",
     "iopub.status.busy": "2025-01-29T09:43:45.200732Z",
     "iopub.status.idle": "2025-01-29T09:43:50.547969Z",
     "shell.execute_reply": "2025-01-29T09:43:50.546706Z"
    },
    "papermill": {
     "duration": 5.35665,
     "end_time": "2025-01-29T09:43:50.549422",
     "exception": false,
     "start_time": "2025-01-29T09:43:45.192772",
     "status": "completed"
    },
    "tags": []
   },
   "outputs": [
    {
     "name": "stderr",
     "output_type": "stream",
     "text": [
      "<ipython-input-14-a2806d894222>:63: FutureWarning: You are using `torch.load` with `weights_only=False` (the current default value), which uses the default pickle module implicitly. It is possible to construct malicious pickle data which will execute arbitrary code during unpickling (See https://github.com/pytorch/pytorch/blob/main/SECURITY.md#untrusted-models for more details). In a future release, the default value for `weights_only` will be flipped to `True`. This limits the functions that could be executed during unpickling. Arbitrary objects will no longer be allowed to be loaded via this mode unless they are explicitly allowlisted by the user via `torch.serialization.add_safe_globals`. We recommend you start setting `weights_only=True` for any use case where you don't have full control of the loaded file. Please open an issue on GitHub for any issues related to this experimental feature.\n",
      "  torch.load(\n"
     ]
    },
    {
     "name": "stdout",
     "output_type": "stream",
     "text": [
      "Warning: The order of categories in the model configuration is inconsistent with the submission requirements, use the submission order to override\n",
      "\n",
      "Validation Results:\n",
      "Total Samples: 400\n",
      "Number of unique file names: 400\n",
      "Predicted category distribution:\n",
      "class_idx\n",
      "0     20\n",
      "1     16\n",
      "2     18\n",
      "3     20\n",
      "4     18\n",
      "5     19\n",
      "6     15\n",
      "7     19\n",
      "8     20\n",
      "9     19\n",
      "10    17\n",
      "11    19\n",
      "12    13\n",
      "13    33\n",
      "14    21\n",
      "15    27\n",
      "16    20\n",
      "17    16\n",
      "18    33\n",
      "19    17\n",
      "Name: count, dtype: int64\n",
      "\n",
      "Model Saved to: submission.csv\n"
     ]
    }
   ],
   "source": [
    "device = torch.device(\"cuda\" if torch.cuda.is_available() else \"cpu\")\n",
    "\n",
    "submission_class_order = [\n",
    "    'Groove_billed_Ani',\n",
    "    'Red_winged_Blackbird',\n",
    "    'Rusty_Blackbird',\n",
    "    'Gray_Catbird',\n",
    "    'Brandt_Cormorant',\n",
    "    'Eastern_Towhee',\n",
    "    'Indigo_Bunting',\n",
    "    'Brewer_Blackbird',\n",
    "    'Painted_Bunting',\n",
    "    'Bobolink',\n",
    "    'Lazuli_Bunting',\n",
    "    'Yellow_headed_Blackbird',\n",
    "    'American_Crow',\n",
    "    'Fish_Crow',\n",
    "    'Brown_Creeper',\n",
    "    'Yellow_billed_Cuckoo',\n",
    "    'Yellow_breasted_Chat',\n",
    "    'Black_billed_Cuckoo',\n",
    "    'Gray_crowned_Rosy_Finch',\n",
    "    'Bronzed_Cowbird'\n",
    "]\n",
    "\n",
    "processor = ViTImageProcessor.from_pretrained(\"google/vit-base-patch16-224-in21k\")\n",
    "val_transform = transforms.Compose([\n",
    "    transforms.Resize((224, 224)),\n",
    "    transforms.ToTensor(),\n",
    "    transforms.Normalize(mean=processor.image_mean, std=processor.image_std)\n",
    "])\n",
    "\n",
    "class CompetitionTestDataset(Dataset):\n",
    "    def __init__(self, test_dir, transform=None):\n",
    "        self.test_dir = test_dir\n",
    "        self.image_files = sorted(os.listdir(test_dir))  # 保持严格顺序\n",
    "        self.image_paths = [os.path.join(test_dir, f) for f in self.image_files]\n",
    "        self.transform = transform\n",
    "        \n",
    "    def __len__(self):\n",
    "        return len(self.image_paths)\n",
    "    \n",
    "    def __getitem__(self, idx):\n",
    "        image = Image.open(self.image_paths[idx]).convert('RGB')\n",
    "        if self.transform:\n",
    "            image = self.transform(image)\n",
    "        return image, os.path.basename(self.image_paths[idx])\n",
    "\n",
    "def load_trained_model(model_dir, class_order):\n",
    "    required_files = ['config.json', 'vit_model_weights.pth']\n",
    "    for f in required_files:\n",
    "        if not os.path.exists(os.path.join(model_dir, f)):\n",
    "            raise FileNotFoundError(f\"Loss Essential File: {f}\")\n",
    "\n",
    "    config = ViTConfig.from_pretrained(model_dir)\n",
    "    \n",
    "    if config.num_labels != len(class_order):\n",
    "        raise ValueError(f\"model classes({config.num_labels})submission requirement({len(class_order)})dismatch\")\n",
    "    \n",
    "    model = ViTForImageClassification(config).to(device)\n",
    "    \n",
    "    model.load_state_dict(\n",
    "        torch.load(\n",
    "            os.path.join(model_dir, \"vit_model_weights.pth\"),\n",
    "            map_location=device\n",
    "        )\n",
    "    )\n",
    "    \n",
    "    if config.id2label != {i: cls for i, cls in enumerate(class_order)}:\n",
    "        print(\"Warning: The order of categories in the model configuration is inconsistent with the submission requirements, use the submission order to override\")\n",
    "        config.id2label = {i: cls for i, cls in enumerate(class_order)}\n",
    "        config.label2id = {cls: i for i, cls in enumerate(class_order)}\n",
    "    \n",
    "    model.eval()\n",
    "    return model\n",
    "\n",
    "def generate_submission(test_dir, model_dir, output_csv=\"submission.csv\"):\n",
    "    test_dataset = CompetitionTestDataset(test_dir, transform=val_transform)\n",
    "    test_loader = DataLoader(test_dataset, batch_size=64, shuffle=False, num_workers=2)\n",
    "    \n",
    "    model = load_trained_model(model_dir, submission_class_order)\n",
    "    \n",
    "    filenames = []\n",
    "    predictions = []\n",
    "    \n",
    "    with torch.no_grad():\n",
    "        for images, paths in test_loader:\n",
    "            outputs = model(images.to(device))\n",
    "            batch_preds = torch.argmax(outputs.logits, dim=1).cpu().numpy()\n",
    "            \n",
    "            filenames.extend(paths)\n",
    "            predictions.extend(batch_preds.tolist())\n",
    "    \n",
    "    submission_df = pd.DataFrame({\n",
    "        'path': filenames,\n",
    "        'class_idx': predictions\n",
    "    })\n",
    "    \n",
    "    print(\"\\nValidation Results:\")\n",
    "    print(f\"Total Samples: {len(submission_df)}\")\n",
    "    print(f\"Number of unique file names: {submission_df['path'].nunique()}\")\n",
    "    print(f\"Predicted category distribution:\\n{submission_df['class_idx'].value_counts().sort_index()}\")\n",
    "    \n",
    "    submission_df.to_csv(output_csv, index=False)\n",
    "    print(f\"\\nModel Saved to: {output_csv}\")\n",
    "\n",
    "if __name__ == \"__main__\":\n",
    "    test_dir = \"/kaggle/input/bdma-07-competition/BDMA7_project_files/test_images/mistery_cat\"\n",
    "    model_dir = \"/kaggle/working/vit_model\" \n",
    "    \n",
    "    generate_submission(test_dir, model_dir)"
   ]
  },
  {
   "cell_type": "code",
   "execution_count": 15,
   "id": "da0df176",
   "metadata": {
    "execution": {
     "iopub.execute_input": "2025-01-29T09:43:50.565201Z",
     "iopub.status.busy": "2025-01-29T09:43:50.564895Z",
     "iopub.status.idle": "2025-01-29T09:43:51.128156Z",
     "shell.execute_reply": "2025-01-29T09:43:51.127474Z"
    },
    "papermill": {
     "duration": 0.572595,
     "end_time": "2025-01-29T09:43:51.129719",
     "exception": false,
     "start_time": "2025-01-29T09:43:50.557124",
     "status": "completed"
    },
    "tags": []
   },
   "outputs": [],
   "source": [
    "shutil.rmtree('/kaggle/working/preprocessed02_images', ignore_errors=True)\n",
    "shutil.rmtree('/kaggle/working/preprocessed_images', ignore_errors=True)"
   ]
  }
 ],
 "metadata": {
  "kaggle": {
   "accelerator": "gpu",
   "dataSources": [
    {
     "databundleVersionId": 10794348,
     "sourceId": 91120,
     "sourceType": "competition"
    }
   ],
   "dockerImageVersionId": 30839,
   "isGpuEnabled": true,
   "isInternetEnabled": true,
   "language": "python",
   "sourceType": "notebook"
  },
  "kernelspec": {
   "display_name": "Python 3",
   "language": "python",
   "name": "python3"
  },
  "language_info": {
   "codemirror_mode": {
    "name": "ipython",
    "version": 3
   },
   "file_extension": ".py",
   "mimetype": "text/x-python",
   "name": "python",
   "nbconvert_exporter": "python",
   "pygments_lexer": "ipython3",
   "version": "3.10.12"
  },
  "papermill": {
   "default_parameters": {},
   "duration": 3303.124129,
   "end_time": "2025-01-29T09:43:54.496753",
   "environment_variables": {},
   "exception": null,
   "input_path": "__notebook__.ipynb",
   "output_path": "__notebook__.ipynb",
   "parameters": {},
   "start_time": "2025-01-29T08:48:51.372624",
   "version": "2.6.0"
  },
  "widgets": {
   "application/vnd.jupyter.widget-state+json": {
    "state": {
     "029de4af776c47cea9ef6d2e57819eca": {
      "model_module": "@jupyter-widgets/base",
      "model_module_version": "2.0.0",
      "model_name": "LayoutModel",
      "state": {
       "_model_module": "@jupyter-widgets/base",
       "_model_module_version": "2.0.0",
       "_model_name": "LayoutModel",
       "_view_count": null,
       "_view_module": "@jupyter-widgets/base",
       "_view_module_version": "2.0.0",
       "_view_name": "LayoutView",
       "align_content": null,
       "align_items": null,
       "align_self": null,
       "border_bottom": null,
       "border_left": null,
       "border_right": null,
       "border_top": null,
       "bottom": null,
       "display": null,
       "flex": null,
       "flex_flow": null,
       "grid_area": null,
       "grid_auto_columns": null,
       "grid_auto_flow": null,
       "grid_auto_rows": null,
       "grid_column": null,
       "grid_gap": null,
       "grid_row": null,
       "grid_template_areas": null,
       "grid_template_columns": null,
       "grid_template_rows": null,
       "height": null,
       "justify_content": null,
       "justify_items": null,
       "left": null,
       "margin": null,
       "max_height": null,
       "max_width": null,
       "min_height": null,
       "min_width": null,
       "object_fit": null,
       "object_position": null,
       "order": null,
       "overflow": null,
       "padding": null,
       "right": null,
       "top": null,
       "visibility": null,
       "width": null
      }
     },
     "02fcd809ae3846a3941d5a04a102a6ca": {
      "model_module": "@jupyter-widgets/controls",
      "model_module_version": "2.0.0",
      "model_name": "HTMLStyleModel",
      "state": {
       "_model_module": "@jupyter-widgets/controls",
       "_model_module_version": "2.0.0",
       "_model_name": "HTMLStyleModel",
       "_view_count": null,
       "_view_module": "@jupyter-widgets/base",
       "_view_module_version": "2.0.0",
       "_view_name": "StyleView",
       "background": null,
       "description_width": "",
       "font_size": null,
       "text_color": null
      }
     },
     "0be82369890146489e6d577ad8ae2fe4": {
      "model_module": "@jupyter-widgets/controls",
      "model_module_version": "2.0.0",
      "model_name": "HTMLModel",
      "state": {
       "_dom_classes": [],
       "_model_module": "@jupyter-widgets/controls",
       "_model_module_version": "2.0.0",
       "_model_name": "HTMLModel",
       "_view_count": null,
       "_view_module": "@jupyter-widgets/controls",
       "_view_module_version": "2.0.0",
       "_view_name": "HTMLView",
       "description": "",
       "description_allow_html": false,
       "layout": "IPY_MODEL_da3b2e850f3a49d0be77b8def0024845",
       "placeholder": "​",
       "style": "IPY_MODEL_782d278aa9004e80958f6ff172b1f274",
       "tabbable": null,
       "tooltip": null,
       "value": "preprocessor_config.json: 100%"
      }
     },
     "0d776c78f86d49b0ba0f3056491772a8": {
      "model_module": "@jupyter-widgets/base",
      "model_module_version": "2.0.0",
      "model_name": "LayoutModel",
      "state": {
       "_model_module": "@jupyter-widgets/base",
       "_model_module_version": "2.0.0",
       "_model_name": "LayoutModel",
       "_view_count": null,
       "_view_module": "@jupyter-widgets/base",
       "_view_module_version": "2.0.0",
       "_view_name": "LayoutView",
       "align_content": null,
       "align_items": null,
       "align_self": null,
       "border_bottom": null,
       "border_left": null,
       "border_right": null,
       "border_top": null,
       "bottom": null,
       "display": null,
       "flex": null,
       "flex_flow": null,
       "grid_area": null,
       "grid_auto_columns": null,
       "grid_auto_flow": null,
       "grid_auto_rows": null,
       "grid_column": null,
       "grid_gap": null,
       "grid_row": null,
       "grid_template_areas": null,
       "grid_template_columns": null,
       "grid_template_rows": null,
       "height": null,
       "justify_content": null,
       "justify_items": null,
       "left": null,
       "margin": null,
       "max_height": null,
       "max_width": null,
       "min_height": null,
       "min_width": null,
       "object_fit": null,
       "object_position": null,
       "order": null,
       "overflow": null,
       "padding": null,
       "right": null,
       "top": null,
       "visibility": null,
       "width": null
      }
     },
     "11cd9c90d1df4c6c886bbe4e275b3d20": {
      "model_module": "@jupyter-widgets/controls",
      "model_module_version": "2.0.0",
      "model_name": "HBoxModel",
      "state": {
       "_dom_classes": [],
       "_model_module": "@jupyter-widgets/controls",
       "_model_module_version": "2.0.0",
       "_model_name": "HBoxModel",
       "_view_count": null,
       "_view_module": "@jupyter-widgets/controls",
       "_view_module_version": "2.0.0",
       "_view_name": "HBoxView",
       "box_style": "",
       "children": [
        "IPY_MODEL_8337ca97e1c946d5a4c69d4744d1e897",
        "IPY_MODEL_44c0f7285398410aa656285f945e4bd7",
        "IPY_MODEL_a040e81fd5c44fcf852251c2af221a7e"
       ],
       "layout": "IPY_MODEL_2c6e87a44014430bb3e91398f09c3b9e",
       "tabbable": null,
       "tooltip": null
      }
     },
     "1715757b95d049419816bf8dad4025f6": {
      "model_module": "@jupyter-widgets/base",
      "model_module_version": "2.0.0",
      "model_name": "LayoutModel",
      "state": {
       "_model_module": "@jupyter-widgets/base",
       "_model_module_version": "2.0.0",
       "_model_name": "LayoutModel",
       "_view_count": null,
       "_view_module": "@jupyter-widgets/base",
       "_view_module_version": "2.0.0",
       "_view_name": "LayoutView",
       "align_content": null,
       "align_items": null,
       "align_self": null,
       "border_bottom": null,
       "border_left": null,
       "border_right": null,
       "border_top": null,
       "bottom": null,
       "display": null,
       "flex": null,
       "flex_flow": null,
       "grid_area": null,
       "grid_auto_columns": null,
       "grid_auto_flow": null,
       "grid_auto_rows": null,
       "grid_column": null,
       "grid_gap": null,
       "grid_row": null,
       "grid_template_areas": null,
       "grid_template_columns": null,
       "grid_template_rows": null,
       "height": null,
       "justify_content": null,
       "justify_items": null,
       "left": null,
       "margin": null,
       "max_height": null,
       "max_width": null,
       "min_height": null,
       "min_width": null,
       "object_fit": null,
       "object_position": null,
       "order": null,
       "overflow": null,
       "padding": null,
       "right": null,
       "top": null,
       "visibility": null,
       "width": null
      }
     },
     "2c6e87a44014430bb3e91398f09c3b9e": {
      "model_module": "@jupyter-widgets/base",
      "model_module_version": "2.0.0",
      "model_name": "LayoutModel",
      "state": {
       "_model_module": "@jupyter-widgets/base",
       "_model_module_version": "2.0.0",
       "_model_name": "LayoutModel",
       "_view_count": null,
       "_view_module": "@jupyter-widgets/base",
       "_view_module_version": "2.0.0",
       "_view_name": "LayoutView",
       "align_content": null,
       "align_items": null,
       "align_self": null,
       "border_bottom": null,
       "border_left": null,
       "border_right": null,
       "border_top": null,
       "bottom": null,
       "display": null,
       "flex": null,
       "flex_flow": null,
       "grid_area": null,
       "grid_auto_columns": null,
       "grid_auto_flow": null,
       "grid_auto_rows": null,
       "grid_column": null,
       "grid_gap": null,
       "grid_row": null,
       "grid_template_areas": null,
       "grid_template_columns": null,
       "grid_template_rows": null,
       "height": null,
       "justify_content": null,
       "justify_items": null,
       "left": null,
       "margin": null,
       "max_height": null,
       "max_width": null,
       "min_height": null,
       "min_width": null,
       "object_fit": null,
       "object_position": null,
       "order": null,
       "overflow": null,
       "padding": null,
       "right": null,
       "top": null,
       "visibility": null,
       "width": null
      }
     },
     "3021eff2297044b99a39ca5bdc11af74": {
      "model_module": "@jupyter-widgets/controls",
      "model_module_version": "2.0.0",
      "model_name": "HTMLStyleModel",
      "state": {
       "_model_module": "@jupyter-widgets/controls",
       "_model_module_version": "2.0.0",
       "_model_name": "HTMLStyleModel",
       "_view_count": null,
       "_view_module": "@jupyter-widgets/base",
       "_view_module_version": "2.0.0",
       "_view_name": "StyleView",
       "background": null,
       "description_width": "",
       "font_size": null,
       "text_color": null
      }
     },
     "3ccf947f46854449b47a54622c32d2e4": {
      "model_module": "@jupyter-widgets/controls",
      "model_module_version": "2.0.0",
      "model_name": "HBoxModel",
      "state": {
       "_dom_classes": [],
       "_model_module": "@jupyter-widgets/controls",
       "_model_module_version": "2.0.0",
       "_model_name": "HBoxModel",
       "_view_count": null,
       "_view_module": "@jupyter-widgets/controls",
       "_view_module_version": "2.0.0",
       "_view_name": "HBoxView",
       "box_style": "",
       "children": [
        "IPY_MODEL_0be82369890146489e6d577ad8ae2fe4",
        "IPY_MODEL_88f444406abf4e1f90575236135ac34f",
        "IPY_MODEL_4fb2e8478cab4b02a884e30f5b3c2c04"
       ],
       "layout": "IPY_MODEL_1715757b95d049419816bf8dad4025f6",
       "tabbable": null,
       "tooltip": null
      }
     },
     "3ee428883a83446e99dddbba41d97e09": {
      "model_module": "@jupyter-widgets/base",
      "model_module_version": "2.0.0",
      "model_name": "LayoutModel",
      "state": {
       "_model_module": "@jupyter-widgets/base",
       "_model_module_version": "2.0.0",
       "_model_name": "LayoutModel",
       "_view_count": null,
       "_view_module": "@jupyter-widgets/base",
       "_view_module_version": "2.0.0",
       "_view_name": "LayoutView",
       "align_content": null,
       "align_items": null,
       "align_self": null,
       "border_bottom": null,
       "border_left": null,
       "border_right": null,
       "border_top": null,
       "bottom": null,
       "display": null,
       "flex": null,
       "flex_flow": null,
       "grid_area": null,
       "grid_auto_columns": null,
       "grid_auto_flow": null,
       "grid_auto_rows": null,
       "grid_column": null,
       "grid_gap": null,
       "grid_row": null,
       "grid_template_areas": null,
       "grid_template_columns": null,
       "grid_template_rows": null,
       "height": null,
       "justify_content": null,
       "justify_items": null,
       "left": null,
       "margin": null,
       "max_height": null,
       "max_width": null,
       "min_height": null,
       "min_width": null,
       "object_fit": null,
       "object_position": null,
       "order": null,
       "overflow": null,
       "padding": null,
       "right": null,
       "top": null,
       "visibility": null,
       "width": null
      }
     },
     "44c0f7285398410aa656285f945e4bd7": {
      "model_module": "@jupyter-widgets/controls",
      "model_module_version": "2.0.0",
      "model_name": "FloatProgressModel",
      "state": {
       "_dom_classes": [],
       "_model_module": "@jupyter-widgets/controls",
       "_model_module_version": "2.0.0",
       "_model_name": "FloatProgressModel",
       "_view_count": null,
       "_view_module": "@jupyter-widgets/controls",
       "_view_module_version": "2.0.0",
       "_view_name": "ProgressView",
       "bar_style": "success",
       "description": "",
       "description_allow_html": false,
       "layout": "IPY_MODEL_c8ce71cab31d49a69d0af67e3927ac4f",
       "max": 345579424.0,
       "min": 0.0,
       "orientation": "horizontal",
       "style": "IPY_MODEL_4d514849f7a14df38a10d3c71674a8f2",
       "tabbable": null,
       "tooltip": null,
       "value": 345579424.0
      }
     },
     "485ab0b1141540b8b71e3ff1587ce2b1": {
      "model_module": "@jupyter-widgets/base",
      "model_module_version": "2.0.0",
      "model_name": "LayoutModel",
      "state": {
       "_model_module": "@jupyter-widgets/base",
       "_model_module_version": "2.0.0",
       "_model_name": "LayoutModel",
       "_view_count": null,
       "_view_module": "@jupyter-widgets/base",
       "_view_module_version": "2.0.0",
       "_view_name": "LayoutView",
       "align_content": null,
       "align_items": null,
       "align_self": null,
       "border_bottom": null,
       "border_left": null,
       "border_right": null,
       "border_top": null,
       "bottom": null,
       "display": null,
       "flex": null,
       "flex_flow": null,
       "grid_area": null,
       "grid_auto_columns": null,
       "grid_auto_flow": null,
       "grid_auto_rows": null,
       "grid_column": null,
       "grid_gap": null,
       "grid_row": null,
       "grid_template_areas": null,
       "grid_template_columns": null,
       "grid_template_rows": null,
       "height": null,
       "justify_content": null,
       "justify_items": null,
       "left": null,
       "margin": null,
       "max_height": null,
       "max_width": null,
       "min_height": null,
       "min_width": null,
       "object_fit": null,
       "object_position": null,
       "order": null,
       "overflow": null,
       "padding": null,
       "right": null,
       "top": null,
       "visibility": null,
       "width": null
      }
     },
     "4d514849f7a14df38a10d3c71674a8f2": {
      "model_module": "@jupyter-widgets/controls",
      "model_module_version": "2.0.0",
      "model_name": "ProgressStyleModel",
      "state": {
       "_model_module": "@jupyter-widgets/controls",
       "_model_module_version": "2.0.0",
       "_model_name": "ProgressStyleModel",
       "_view_count": null,
       "_view_module": "@jupyter-widgets/base",
       "_view_module_version": "2.0.0",
       "_view_name": "StyleView",
       "bar_color": null,
       "description_width": ""
      }
     },
     "4fb2e8478cab4b02a884e30f5b3c2c04": {
      "model_module": "@jupyter-widgets/controls",
      "model_module_version": "2.0.0",
      "model_name": "HTMLModel",
      "state": {
       "_dom_classes": [],
       "_model_module": "@jupyter-widgets/controls",
       "_model_module_version": "2.0.0",
       "_model_name": "HTMLModel",
       "_view_count": null,
       "_view_module": "@jupyter-widgets/controls",
       "_view_module_version": "2.0.0",
       "_view_name": "HTMLView",
       "description": "",
       "description_allow_html": false,
       "layout": "IPY_MODEL_3ee428883a83446e99dddbba41d97e09",
       "placeholder": "​",
       "style": "IPY_MODEL_8fc67367867a4817b5f80498330d88b2",
       "tabbable": null,
       "tooltip": null,
       "value": " 160/160 [00:00&lt;00:00, 15.1kB/s]"
      }
     },
     "5ed5e7decc034809b727a2d5561602fa": {
      "model_module": "@jupyter-widgets/controls",
      "model_module_version": "2.0.0",
      "model_name": "ProgressStyleModel",
      "state": {
       "_model_module": "@jupyter-widgets/controls",
       "_model_module_version": "2.0.0",
       "_model_name": "ProgressStyleModel",
       "_view_count": null,
       "_view_module": "@jupyter-widgets/base",
       "_view_module_version": "2.0.0",
       "_view_name": "StyleView",
       "bar_color": null,
       "description_width": ""
      }
     },
     "682edbb2ca3b4d0ebe0c2976088f2516": {
      "model_module": "@jupyter-widgets/controls",
      "model_module_version": "2.0.0",
      "model_name": "HTMLStyleModel",
      "state": {
       "_model_module": "@jupyter-widgets/controls",
       "_model_module_version": "2.0.0",
       "_model_name": "HTMLStyleModel",
       "_view_count": null,
       "_view_module": "@jupyter-widgets/base",
       "_view_module_version": "2.0.0",
       "_view_name": "StyleView",
       "background": null,
       "description_width": "",
       "font_size": null,
       "text_color": null
      }
     },
     "782d278aa9004e80958f6ff172b1f274": {
      "model_module": "@jupyter-widgets/controls",
      "model_module_version": "2.0.0",
      "model_name": "HTMLStyleModel",
      "state": {
       "_model_module": "@jupyter-widgets/controls",
       "_model_module_version": "2.0.0",
       "_model_name": "HTMLStyleModel",
       "_view_count": null,
       "_view_module": "@jupyter-widgets/base",
       "_view_module_version": "2.0.0",
       "_view_name": "StyleView",
       "background": null,
       "description_width": "",
       "font_size": null,
       "text_color": null
      }
     },
     "7d1ba740d1a146969672a6ea00f6a798": {
      "model_module": "@jupyter-widgets/controls",
      "model_module_version": "2.0.0",
      "model_name": "HTMLModel",
      "state": {
       "_dom_classes": [],
       "_model_module": "@jupyter-widgets/controls",
       "_model_module_version": "2.0.0",
       "_model_name": "HTMLModel",
       "_view_count": null,
       "_view_module": "@jupyter-widgets/controls",
       "_view_module_version": "2.0.0",
       "_view_name": "HTMLView",
       "description": "",
       "description_allow_html": false,
       "layout": "IPY_MODEL_982f2a3dec8a4ef7a0baba8d6818c057",
       "placeholder": "​",
       "style": "IPY_MODEL_02fcd809ae3846a3941d5a04a102a6ca",
       "tabbable": null,
       "tooltip": null,
       "value": "config.json: 100%"
      }
     },
     "8337ca97e1c946d5a4c69d4744d1e897": {
      "model_module": "@jupyter-widgets/controls",
      "model_module_version": "2.0.0",
      "model_name": "HTMLModel",
      "state": {
       "_dom_classes": [],
       "_model_module": "@jupyter-widgets/controls",
       "_model_module_version": "2.0.0",
       "_model_name": "HTMLModel",
       "_view_count": null,
       "_view_module": "@jupyter-widgets/controls",
       "_view_module_version": "2.0.0",
       "_view_name": "HTMLView",
       "description": "",
       "description_allow_html": false,
       "layout": "IPY_MODEL_c2c5a9b793f446638b1ac538704717fe",
       "placeholder": "​",
       "style": "IPY_MODEL_3021eff2297044b99a39ca5bdc11af74",
       "tabbable": null,
       "tooltip": null,
       "value": "model.safetensors: 100%"
      }
     },
     "8684e0f266784b25ae14d46ef9018200": {
      "model_module": "@jupyter-widgets/controls",
      "model_module_version": "2.0.0",
      "model_name": "HTMLModel",
      "state": {
       "_dom_classes": [],
       "_model_module": "@jupyter-widgets/controls",
       "_model_module_version": "2.0.0",
       "_model_name": "HTMLModel",
       "_view_count": null,
       "_view_module": "@jupyter-widgets/controls",
       "_view_module_version": "2.0.0",
       "_view_name": "HTMLView",
       "description": "",
       "description_allow_html": false,
       "layout": "IPY_MODEL_485ab0b1141540b8b71e3ff1587ce2b1",
       "placeholder": "​",
       "style": "IPY_MODEL_a999b22391a44b82867ac614780080e3",
       "tabbable": null,
       "tooltip": null,
       "value": " 502/502 [00:00&lt;00:00, 50.3kB/s]"
      }
     },
     "88f444406abf4e1f90575236135ac34f": {
      "model_module": "@jupyter-widgets/controls",
      "model_module_version": "2.0.0",
      "model_name": "FloatProgressModel",
      "state": {
       "_dom_classes": [],
       "_model_module": "@jupyter-widgets/controls",
       "_model_module_version": "2.0.0",
       "_model_name": "FloatProgressModel",
       "_view_count": null,
       "_view_module": "@jupyter-widgets/controls",
       "_view_module_version": "2.0.0",
       "_view_name": "ProgressView",
       "bar_style": "success",
       "description": "",
       "description_allow_html": false,
       "layout": "IPY_MODEL_029de4af776c47cea9ef6d2e57819eca",
       "max": 160.0,
       "min": 0.0,
       "orientation": "horizontal",
       "style": "IPY_MODEL_f0056d5b2d4e457ba845ee7e97f3e368",
       "tabbable": null,
       "tooltip": null,
       "value": 160.0
      }
     },
     "8fc67367867a4817b5f80498330d88b2": {
      "model_module": "@jupyter-widgets/controls",
      "model_module_version": "2.0.0",
      "model_name": "HTMLStyleModel",
      "state": {
       "_model_module": "@jupyter-widgets/controls",
       "_model_module_version": "2.0.0",
       "_model_name": "HTMLStyleModel",
       "_view_count": null,
       "_view_module": "@jupyter-widgets/base",
       "_view_module_version": "2.0.0",
       "_view_name": "StyleView",
       "background": null,
       "description_width": "",
       "font_size": null,
       "text_color": null
      }
     },
     "982f2a3dec8a4ef7a0baba8d6818c057": {
      "model_module": "@jupyter-widgets/base",
      "model_module_version": "2.0.0",
      "model_name": "LayoutModel",
      "state": {
       "_model_module": "@jupyter-widgets/base",
       "_model_module_version": "2.0.0",
       "_model_name": "LayoutModel",
       "_view_count": null,
       "_view_module": "@jupyter-widgets/base",
       "_view_module_version": "2.0.0",
       "_view_name": "LayoutView",
       "align_content": null,
       "align_items": null,
       "align_self": null,
       "border_bottom": null,
       "border_left": null,
       "border_right": null,
       "border_top": null,
       "bottom": null,
       "display": null,
       "flex": null,
       "flex_flow": null,
       "grid_area": null,
       "grid_auto_columns": null,
       "grid_auto_flow": null,
       "grid_auto_rows": null,
       "grid_column": null,
       "grid_gap": null,
       "grid_row": null,
       "grid_template_areas": null,
       "grid_template_columns": null,
       "grid_template_rows": null,
       "height": null,
       "justify_content": null,
       "justify_items": null,
       "left": null,
       "margin": null,
       "max_height": null,
       "max_width": null,
       "min_height": null,
       "min_width": null,
       "object_fit": null,
       "object_position": null,
       "order": null,
       "overflow": null,
       "padding": null,
       "right": null,
       "top": null,
       "visibility": null,
       "width": null
      }
     },
     "a040e81fd5c44fcf852251c2af221a7e": {
      "model_module": "@jupyter-widgets/controls",
      "model_module_version": "2.0.0",
      "model_name": "HTMLModel",
      "state": {
       "_dom_classes": [],
       "_model_module": "@jupyter-widgets/controls",
       "_model_module_version": "2.0.0",
       "_model_name": "HTMLModel",
       "_view_count": null,
       "_view_module": "@jupyter-widgets/controls",
       "_view_module_version": "2.0.0",
       "_view_name": "HTMLView",
       "description": "",
       "description_allow_html": false,
       "layout": "IPY_MODEL_d16f520c54824c60b828815b2c0c9a6e",
       "placeholder": "​",
       "style": "IPY_MODEL_682edbb2ca3b4d0ebe0c2976088f2516",
       "tabbable": null,
       "tooltip": null,
       "value": " 346M/346M [00:01&lt;00:00, 247MB/s]"
      }
     },
     "a999b22391a44b82867ac614780080e3": {
      "model_module": "@jupyter-widgets/controls",
      "model_module_version": "2.0.0",
      "model_name": "HTMLStyleModel",
      "state": {
       "_model_module": "@jupyter-widgets/controls",
       "_model_module_version": "2.0.0",
       "_model_name": "HTMLStyleModel",
       "_view_count": null,
       "_view_module": "@jupyter-widgets/base",
       "_view_module_version": "2.0.0",
       "_view_name": "StyleView",
       "background": null,
       "description_width": "",
       "font_size": null,
       "text_color": null
      }
     },
     "c2c5a9b793f446638b1ac538704717fe": {
      "model_module": "@jupyter-widgets/base",
      "model_module_version": "2.0.0",
      "model_name": "LayoutModel",
      "state": {
       "_model_module": "@jupyter-widgets/base",
       "_model_module_version": "2.0.0",
       "_model_name": "LayoutModel",
       "_view_count": null,
       "_view_module": "@jupyter-widgets/base",
       "_view_module_version": "2.0.0",
       "_view_name": "LayoutView",
       "align_content": null,
       "align_items": null,
       "align_self": null,
       "border_bottom": null,
       "border_left": null,
       "border_right": null,
       "border_top": null,
       "bottom": null,
       "display": null,
       "flex": null,
       "flex_flow": null,
       "grid_area": null,
       "grid_auto_columns": null,
       "grid_auto_flow": null,
       "grid_auto_rows": null,
       "grid_column": null,
       "grid_gap": null,
       "grid_row": null,
       "grid_template_areas": null,
       "grid_template_columns": null,
       "grid_template_rows": null,
       "height": null,
       "justify_content": null,
       "justify_items": null,
       "left": null,
       "margin": null,
       "max_height": null,
       "max_width": null,
       "min_height": null,
       "min_width": null,
       "object_fit": null,
       "object_position": null,
       "order": null,
       "overflow": null,
       "padding": null,
       "right": null,
       "top": null,
       "visibility": null,
       "width": null
      }
     },
     "c8ce71cab31d49a69d0af67e3927ac4f": {
      "model_module": "@jupyter-widgets/base",
      "model_module_version": "2.0.0",
      "model_name": "LayoutModel",
      "state": {
       "_model_module": "@jupyter-widgets/base",
       "_model_module_version": "2.0.0",
       "_model_name": "LayoutModel",
       "_view_count": null,
       "_view_module": "@jupyter-widgets/base",
       "_view_module_version": "2.0.0",
       "_view_name": "LayoutView",
       "align_content": null,
       "align_items": null,
       "align_self": null,
       "border_bottom": null,
       "border_left": null,
       "border_right": null,
       "border_top": null,
       "bottom": null,
       "display": null,
       "flex": null,
       "flex_flow": null,
       "grid_area": null,
       "grid_auto_columns": null,
       "grid_auto_flow": null,
       "grid_auto_rows": null,
       "grid_column": null,
       "grid_gap": null,
       "grid_row": null,
       "grid_template_areas": null,
       "grid_template_columns": null,
       "grid_template_rows": null,
       "height": null,
       "justify_content": null,
       "justify_items": null,
       "left": null,
       "margin": null,
       "max_height": null,
       "max_width": null,
       "min_height": null,
       "min_width": null,
       "object_fit": null,
       "object_position": null,
       "order": null,
       "overflow": null,
       "padding": null,
       "right": null,
       "top": null,
       "visibility": null,
       "width": null
      }
     },
     "d16f520c54824c60b828815b2c0c9a6e": {
      "model_module": "@jupyter-widgets/base",
      "model_module_version": "2.0.0",
      "model_name": "LayoutModel",
      "state": {
       "_model_module": "@jupyter-widgets/base",
       "_model_module_version": "2.0.0",
       "_model_name": "LayoutModel",
       "_view_count": null,
       "_view_module": "@jupyter-widgets/base",
       "_view_module_version": "2.0.0",
       "_view_name": "LayoutView",
       "align_content": null,
       "align_items": null,
       "align_self": null,
       "border_bottom": null,
       "border_left": null,
       "border_right": null,
       "border_top": null,
       "bottom": null,
       "display": null,
       "flex": null,
       "flex_flow": null,
       "grid_area": null,
       "grid_auto_columns": null,
       "grid_auto_flow": null,
       "grid_auto_rows": null,
       "grid_column": null,
       "grid_gap": null,
       "grid_row": null,
       "grid_template_areas": null,
       "grid_template_columns": null,
       "grid_template_rows": null,
       "height": null,
       "justify_content": null,
       "justify_items": null,
       "left": null,
       "margin": null,
       "max_height": null,
       "max_width": null,
       "min_height": null,
       "min_width": null,
       "object_fit": null,
       "object_position": null,
       "order": null,
       "overflow": null,
       "padding": null,
       "right": null,
       "top": null,
       "visibility": null,
       "width": null
      }
     },
     "d188fcbf408c4f7481e6dd3f5e7931d0": {
      "model_module": "@jupyter-widgets/controls",
      "model_module_version": "2.0.0",
      "model_name": "FloatProgressModel",
      "state": {
       "_dom_classes": [],
       "_model_module": "@jupyter-widgets/controls",
       "_model_module_version": "2.0.0",
       "_model_name": "FloatProgressModel",
       "_view_count": null,
       "_view_module": "@jupyter-widgets/controls",
       "_view_module_version": "2.0.0",
       "_view_name": "ProgressView",
       "bar_style": "success",
       "description": "",
       "description_allow_html": false,
       "layout": "IPY_MODEL_d7a60c24f85043d9b7e4458d4fcfe3e2",
       "max": 502.0,
       "min": 0.0,
       "orientation": "horizontal",
       "style": "IPY_MODEL_5ed5e7decc034809b727a2d5561602fa",
       "tabbable": null,
       "tooltip": null,
       "value": 502.0
      }
     },
     "d7a60c24f85043d9b7e4458d4fcfe3e2": {
      "model_module": "@jupyter-widgets/base",
      "model_module_version": "2.0.0",
      "model_name": "LayoutModel",
      "state": {
       "_model_module": "@jupyter-widgets/base",
       "_model_module_version": "2.0.0",
       "_model_name": "LayoutModel",
       "_view_count": null,
       "_view_module": "@jupyter-widgets/base",
       "_view_module_version": "2.0.0",
       "_view_name": "LayoutView",
       "align_content": null,
       "align_items": null,
       "align_self": null,
       "border_bottom": null,
       "border_left": null,
       "border_right": null,
       "border_top": null,
       "bottom": null,
       "display": null,
       "flex": null,
       "flex_flow": null,
       "grid_area": null,
       "grid_auto_columns": null,
       "grid_auto_flow": null,
       "grid_auto_rows": null,
       "grid_column": null,
       "grid_gap": null,
       "grid_row": null,
       "grid_template_areas": null,
       "grid_template_columns": null,
       "grid_template_rows": null,
       "height": null,
       "justify_content": null,
       "justify_items": null,
       "left": null,
       "margin": null,
       "max_height": null,
       "max_width": null,
       "min_height": null,
       "min_width": null,
       "object_fit": null,
       "object_position": null,
       "order": null,
       "overflow": null,
       "padding": null,
       "right": null,
       "top": null,
       "visibility": null,
       "width": null
      }
     },
     "da3b2e850f3a49d0be77b8def0024845": {
      "model_module": "@jupyter-widgets/base",
      "model_module_version": "2.0.0",
      "model_name": "LayoutModel",
      "state": {
       "_model_module": "@jupyter-widgets/base",
       "_model_module_version": "2.0.0",
       "_model_name": "LayoutModel",
       "_view_count": null,
       "_view_module": "@jupyter-widgets/base",
       "_view_module_version": "2.0.0",
       "_view_name": "LayoutView",
       "align_content": null,
       "align_items": null,
       "align_self": null,
       "border_bottom": null,
       "border_left": null,
       "border_right": null,
       "border_top": null,
       "bottom": null,
       "display": null,
       "flex": null,
       "flex_flow": null,
       "grid_area": null,
       "grid_auto_columns": null,
       "grid_auto_flow": null,
       "grid_auto_rows": null,
       "grid_column": null,
       "grid_gap": null,
       "grid_row": null,
       "grid_template_areas": null,
       "grid_template_columns": null,
       "grid_template_rows": null,
       "height": null,
       "justify_content": null,
       "justify_items": null,
       "left": null,
       "margin": null,
       "max_height": null,
       "max_width": null,
       "min_height": null,
       "min_width": null,
       "object_fit": null,
       "object_position": null,
       "order": null,
       "overflow": null,
       "padding": null,
       "right": null,
       "top": null,
       "visibility": null,
       "width": null
      }
     },
     "e6a1e188cbd947d09651a63786971ada": {
      "model_module": "@jupyter-widgets/controls",
      "model_module_version": "2.0.0",
      "model_name": "HBoxModel",
      "state": {
       "_dom_classes": [],
       "_model_module": "@jupyter-widgets/controls",
       "_model_module_version": "2.0.0",
       "_model_name": "HBoxModel",
       "_view_count": null,
       "_view_module": "@jupyter-widgets/controls",
       "_view_module_version": "2.0.0",
       "_view_name": "HBoxView",
       "box_style": "",
       "children": [
        "IPY_MODEL_7d1ba740d1a146969672a6ea00f6a798",
        "IPY_MODEL_d188fcbf408c4f7481e6dd3f5e7931d0",
        "IPY_MODEL_8684e0f266784b25ae14d46ef9018200"
       ],
       "layout": "IPY_MODEL_0d776c78f86d49b0ba0f3056491772a8",
       "tabbable": null,
       "tooltip": null
      }
     },
     "f0056d5b2d4e457ba845ee7e97f3e368": {
      "model_module": "@jupyter-widgets/controls",
      "model_module_version": "2.0.0",
      "model_name": "ProgressStyleModel",
      "state": {
       "_model_module": "@jupyter-widgets/controls",
       "_model_module_version": "2.0.0",
       "_model_name": "ProgressStyleModel",
       "_view_count": null,
       "_view_module": "@jupyter-widgets/base",
       "_view_module_version": "2.0.0",
       "_view_name": "StyleView",
       "bar_color": null,
       "description_width": ""
      }
     }
    },
    "version_major": 2,
    "version_minor": 0
   }
  }
 },
 "nbformat": 4,
 "nbformat_minor": 5
}
